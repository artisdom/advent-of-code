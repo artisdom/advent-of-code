{
 "cells": [
  {
   "cell_type": "code",
   "execution_count": 1,
   "metadata": {
    "collapsed": false
   },
   "outputs": [],
   "source": [
    "def sublist_sum(sublist, s):\n",
    "    head, *tail = sublist\n",
    "    if head > s:\n",
    "        return\n",
    "    elif head == s:\n",
    "        yield [head]\n",
    "    if tail:\n",
    "        for sl in sublist_sum(tail, s-head):\n",
    "            yield [head] + sl\n",
    "        yield from sublist_sum(tail, s)"
   ]
  },
  {
   "cell_type": "code",
   "execution_count": 2,
   "metadata": {
    "collapsed": false
   },
   "outputs": [],
   "source": [
    "puzzle = list(sorted(map(int, '''43\n",
    "3\n",
    "4\n",
    "10\n",
    "21\n",
    "44\n",
    "4\n",
    "6\n",
    "47\n",
    "41\n",
    "34\n",
    "17\n",
    "17\n",
    "44\n",
    "36\n",
    "31\n",
    "46\n",
    "9\n",
    "27\n",
    "38'''.split())))"
   ]
  },
  {
   "cell_type": "code",
   "execution_count": 3,
   "metadata": {
    "collapsed": false
   },
   "outputs": [
    {
     "data": {
      "text/plain": [
       "1638"
      ]
     },
     "execution_count": 3,
     "metadata": {},
     "output_type": "execute_result"
    }
   ],
   "source": [
    "possibilities = list(sublist_sum(puzzle, 150))\n",
    "len(possibilities)"
   ]
  },
  {
   "cell_type": "code",
   "execution_count": 4,
   "metadata": {
    "collapsed": false
   },
   "outputs": [
    {
     "data": {
      "text/plain": [
       "17"
      ]
     },
     "execution_count": 4,
     "metadata": {},
     "output_type": "execute_result"
    }
   ],
   "source": [
    "sorted_possibilities = sorted(possibilities, key=lambda e: len(e))\n",
    "len([poss for poss in sorted_possibilities if len(poss) == len(sorted_possibilities[0])])"
   ]
  }
 ],
 "metadata": {
  "kernelspec": {
   "display_name": "Python 3",
   "language": "python",
   "name": "python3"
  },
  "language_info": {
   "codemirror_mode": {
    "name": "ipython",
    "version": 3
   },
   "file_extension": ".py",
   "mimetype": "text/x-python",
   "name": "python",
   "nbconvert_exporter": "python",
   "pygments_lexer": "ipython3",
   "version": "3.5.0"
  }
 },
 "nbformat": 4,
 "nbformat_minor": 0
}
