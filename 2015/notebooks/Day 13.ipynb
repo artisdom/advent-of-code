{
 "cells": [
  {
   "cell_type": "code",
   "execution_count": 1,
   "metadata": {
    "collapsed": true
   },
   "outputs": [],
   "source": [
    "puzzle = '''Alice would lose 57 happiness units by sitting next to Bob.\n",
    "Alice would lose 62 happiness units by sitting next to Carol.\n",
    "Alice would lose 75 happiness units by sitting next to David.\n",
    "Alice would gain 71 happiness units by sitting next to Eric.\n",
    "Alice would lose 22 happiness units by sitting next to Frank.\n",
    "Alice would lose 23 happiness units by sitting next to George.\n",
    "Alice would lose 76 happiness units by sitting next to Mallory.\n",
    "Bob would lose 14 happiness units by sitting next to Alice.\n",
    "Bob would gain 48 happiness units by sitting next to Carol.\n",
    "Bob would gain 89 happiness units by sitting next to David.\n",
    "Bob would gain 86 happiness units by sitting next to Eric.\n",
    "Bob would lose 2 happiness units by sitting next to Frank.\n",
    "Bob would gain 27 happiness units by sitting next to George.\n",
    "Bob would gain 19 happiness units by sitting next to Mallory.\n",
    "Carol would gain 37 happiness units by sitting next to Alice.\n",
    "Carol would gain 45 happiness units by sitting next to Bob.\n",
    "Carol would gain 24 happiness units by sitting next to David.\n",
    "Carol would gain 5 happiness units by sitting next to Eric.\n",
    "Carol would lose 68 happiness units by sitting next to Frank.\n",
    "Carol would lose 25 happiness units by sitting next to George.\n",
    "Carol would gain 30 happiness units by sitting next to Mallory.\n",
    "David would lose 51 happiness units by sitting next to Alice.\n",
    "David would gain 34 happiness units by sitting next to Bob.\n",
    "David would gain 99 happiness units by sitting next to Carol.\n",
    "David would gain 91 happiness units by sitting next to Eric.\n",
    "David would lose 38 happiness units by sitting next to Frank.\n",
    "David would gain 60 happiness units by sitting next to George.\n",
    "David would lose 63 happiness units by sitting next to Mallory.\n",
    "Eric would gain 23 happiness units by sitting next to Alice.\n",
    "Eric would lose 69 happiness units by sitting next to Bob.\n",
    "Eric would lose 33 happiness units by sitting next to Carol.\n",
    "Eric would lose 47 happiness units by sitting next to David.\n",
    "Eric would gain 75 happiness units by sitting next to Frank.\n",
    "Eric would gain 82 happiness units by sitting next to George.\n",
    "Eric would gain 13 happiness units by sitting next to Mallory.\n",
    "Frank would gain 77 happiness units by sitting next to Alice.\n",
    "Frank would gain 27 happiness units by sitting next to Bob.\n",
    "Frank would lose 87 happiness units by sitting next to Carol.\n",
    "Frank would gain 74 happiness units by sitting next to David.\n",
    "Frank would lose 41 happiness units by sitting next to Eric.\n",
    "Frank would lose 99 happiness units by sitting next to George.\n",
    "Frank would gain 26 happiness units by sitting next to Mallory.\n",
    "George would lose 63 happiness units by sitting next to Alice.\n",
    "George would lose 51 happiness units by sitting next to Bob.\n",
    "George would lose 60 happiness units by sitting next to Carol.\n",
    "George would gain 30 happiness units by sitting next to David.\n",
    "George would lose 100 happiness units by sitting next to Eric.\n",
    "George would lose 63 happiness units by sitting next to Frank.\n",
    "George would gain 57 happiness units by sitting next to Mallory.\n",
    "Mallory would lose 71 happiness units by sitting next to Alice.\n",
    "Mallory would lose 28 happiness units by sitting next to Bob.\n",
    "Mallory would lose 10 happiness units by sitting next to Carol.\n",
    "Mallory would gain 44 happiness units by sitting next to David.\n",
    "Mallory would gain 22 happiness units by sitting next to Eric.\n",
    "Mallory would gain 79 happiness units by sitting next to Frank.\n",
    "Mallory would lose 16 happiness units by sitting next to George.\n",
    "'''"
   ]
  },
  {
   "cell_type": "code",
   "execution_count": 5,
   "metadata": {
    "collapsed": false
   },
   "outputs": [],
   "source": [
    "import re\n",
    "matcher = re.compile(r'(?P<name>[A-Za-z]+?) would (?P<sign>gain|lose) (?P<value>\\d+) happiness units by sitting next to (?P<neighbour>[A-Za-z]+?)\\.')\n",
    "family = {}\n",
    "signs = {'gain': 1, 'lose': -1}\n",
    "for line in puzzle.splitlines():\n",
    "    matches = matcher.search(line).groupdict()\n",
    "    name, sign, value, neighbour = matches['name'], signs[matches['sign']], int(matches['value']), matches['neighbour']\n",
    "    family.setdefault(name, {})[neighbour] = sign*value"
   ]
  },
  {
   "cell_type": "code",
   "execution_count": 17,
   "metadata": {
    "collapsed": false
   },
   "outputs": [
    {
     "name": "stdout",
     "output_type": "stream",
     "text": [
      "618\n"
     ]
    }
   ],
   "source": [
    "import itertools\n",
    "members = set(family.keys())\n",
    "costs = {}\n",
    "for perm in itertools.permutations(members, 2):\n",
    "    a, b = perm\n",
    "    costs[perm] = family[a][b] + family[b][a]\n",
    "\n",
    "arrangements = {}\n",
    "for perm in itertools.permutations(members):\n",
    "    # Remove reverse duplicates with http://stackoverflow.com/questions/960557/how-to-generate-permutations-of-a-list-without-reverse-duplicates-in-python-us\n",
    "    if perm[0] < perm[1]:\n",
    "        left = (perm[-1],) + perm[:-1]\n",
    "        neighbours = zip(left, perm)\n",
    "        arrangements[perm] = sum(costs[arr] for arr in neighbours)\n",
    "max(arrangements.values())\n"
   ]
  },
  {
   "cell_type": "code",
   "execution_count": 19,
   "metadata": {
    "collapsed": false
   },
   "outputs": [],
   "source": [
    "others = set(family.keys())\n",
    "me = 'I'\n",
    "family[me] = {}\n",
    "for member in others:\n",
    "    family[member][me] = 0\n",
    "    family[me][member] = 0"
   ]
  },
  {
   "cell_type": "code",
   "execution_count": 20,
   "metadata": {
    "collapsed": false
   },
   "outputs": [
    {
     "data": {
      "text/plain": [
       "601"
      ]
     },
     "execution_count": 20,
     "metadata": {},
     "output_type": "execute_result"
    }
   ],
   "source": [
    "import itertools\n",
    "members = set(family.keys())\n",
    "costs = {}\n",
    "for perm in itertools.permutations(members, 2):\n",
    "    a, b = perm\n",
    "    costs[perm] = family[a][b] + family[b][a]\n",
    "\n",
    "arrangements = {}\n",
    "for perm in itertools.permutations(members):\n",
    "    # Remove reverse duplicates with http://stackoverflow.com/questions/960557/how-to-generate-permutations-of-a-list-without-reverse-duplicates-in-python-us\n",
    "    if perm[0] < perm[1]:\n",
    "        left = (perm[-1],) + perm[:-1]\n",
    "        neighbours = zip(left, perm)\n",
    "        arrangements[perm] = sum(costs[arr] for arr in neighbours)\n",
    "max(arrangements.values())\n"
   ]
  }
 ],
 "metadata": {
  "kernelspec": {
   "display_name": "Python 3",
   "language": "python",
   "name": "python3"
  },
  "language_info": {
   "codemirror_mode": {
    "name": "ipython",
    "version": 3
   },
   "file_extension": ".py",
   "mimetype": "text/x-python",
   "name": "python",
   "nbconvert_exporter": "python",
   "pygments_lexer": "ipython3",
   "version": "3.5.0"
  }
 },
 "nbformat": 4,
 "nbformat_minor": 0
}
