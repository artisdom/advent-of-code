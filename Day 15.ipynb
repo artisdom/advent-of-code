{
 "cells": [
  {
   "cell_type": "code",
   "execution_count": 1,
   "metadata": {
    "collapsed": false
   },
   "outputs": [],
   "source": [
    "def possibilities():\n",
    "    for a in range(101):\n",
    "        for b in range(101-a):\n",
    "            for c in range(101-(a+b)):\n",
    "                for d in range(101-(a+b+c)):\n",
    "                    if (a+b+c+d) == 100:\n",
    "                        yield (a,b,c,d)"
   ]
  },
  {
   "cell_type": "code",
   "execution_count": 2,
   "metadata": {
    "collapsed": true
   },
   "outputs": [],
   "source": [
    "import re\n",
    "structure = re.compile(r'(?P<ingredient>\\D+?): capacity (?P<capacity>\\-?\\d+?), durability (?P<durability>\\-?\\d+?), flavor (?P<flavor>\\-?\\d+?), texture (?P<texture>\\-?\\d+?), calories (?P<calories>\\-?\\d+?)')"
   ]
  },
  {
   "cell_type": "code",
   "execution_count": 3,
   "metadata": {
    "collapsed": false
   },
   "outputs": [],
   "source": [
    "puzzle = '''Sprinkles: capacity 2, durability 0, flavor -2, texture 0, calories 3\n",
    "Butterscotch: capacity 0, durability 5, flavor -3, texture 0, calories 3\n",
    "Chocolate: capacity 0, durability 0, flavor 5, texture -1, calories 8\n",
    "Candy: capacity 0, durability -1, flavor 0, texture 5, calories 8\n",
    "'''\n",
    "ingredients = {}\n",
    "for line in puzzle.splitlines():\n",
    "    match = structure.match(line).groupdict()\n",
    "    for value in ('capacity', 'durability', 'flavor', 'texture', 'calories'):\n",
    "        match[value] = int(match[value])\n",
    "    ingredients[match['ingredient']] = match"
   ]
  },
  {
   "cell_type": "code",
   "execution_count": 4,
   "metadata": {
    "collapsed": true
   },
   "outputs": [],
   "source": [
    "scores = {}\n",
    "def score(ratios):\n",
    "    sprinkles, butterscotch, chocolate, candy = ratios\n",
    "    capacity = sum([\n",
    "            sprinkles*ingredients['Sprinkles']['capacity'],\n",
    "            butterscotch*ingredients['Butterscotch']['capacity'],\n",
    "            chocolate*ingredients['Chocolate']['capacity'],\n",
    "            candy*ingredients['Candy']['capacity'],\n",
    "    ])\n",
    "    if capacity <= 0:\n",
    "        return 0\n",
    "    durability = sum([\n",
    "            sprinkles*ingredients['Sprinkles']['durability'],\n",
    "            butterscotch*ingredients['Butterscotch']['durability'],\n",
    "            chocolate*ingredients['Chocolate']['durability'],\n",
    "            candy*ingredients['Candy']['durability'],\n",
    "    ])\n",
    "    if durability <= 0:\n",
    "        return 0\n",
    "    flavor = sum([\n",
    "            sprinkles*ingredients['Sprinkles']['flavor'],\n",
    "            butterscotch*ingredients['Butterscotch']['flavor'],\n",
    "            chocolate*ingredients['Chocolate']['flavor'],\n",
    "            candy*ingredients['Candy']['flavor'],\n",
    "    ])\n",
    "    if flavor <= 0:\n",
    "        return 0\n",
    "    texture = sum([\n",
    "            sprinkles*ingredients['Sprinkles']['texture'],\n",
    "            butterscotch*ingredients['Butterscotch']['texture'],\n",
    "            chocolate*ingredients['Chocolate']['texture'],\n",
    "            candy*ingredients['Candy']['texture'],\n",
    "    ])\n",
    "    if texture <= 0:\n",
    "        return 0\n",
    "    return (capacity*durability*flavor*texture)"
   ]
  },
  {
   "cell_type": "code",
   "execution_count": 5,
   "metadata": {
    "collapsed": true
   },
   "outputs": [],
   "source": [
    "for p in possibilities():\n",
    "    scores[p] = score(p)"
   ]
  },
  {
   "cell_type": "code",
   "execution_count": 6,
   "metadata": {
    "collapsed": false
   },
   "outputs": [
    {
     "data": {
      "text/plain": [
       "21367368"
      ]
     },
     "execution_count": 6,
     "metadata": {},
     "output_type": "execute_result"
    }
   ],
   "source": [
    "max(scores.values())"
   ]
  },
  {
   "cell_type": "code",
   "execution_count": 7,
   "metadata": {
    "collapsed": true
   },
   "outputs": [],
   "source": [
    "def calorie_possibilities():\n",
    "    for a in range(101):\n",
    "        for b in range(101-a):\n",
    "            for c in range(101-(a+b)):\n",
    "                for d in range(101-(a+b+c)):\n",
    "                    if (a+b+c+d) == 100:\n",
    "                        sprinkles_calories = ingredients['Sprinkles']['calories']\n",
    "                        butterscotch_calories = ingredients['Butterscotch']['calories']\n",
    "                        chocolate_calories = ingredients['Chocolate']['calories']\n",
    "                        candy_calories = ingredients['Candy']['calories']\n",
    "                        if sum([a*sprinkles_calories, b*butterscotch_calories, c*chocolate_calories, d*candy_calories]) == 500:\n",
    "                            yield (a,b,c,d)"
   ]
  },
  {
   "cell_type": "code",
   "execution_count": 8,
   "metadata": {
    "collapsed": false
   },
   "outputs": [
    {
     "data": {
      "text/plain": [
       "1766400"
      ]
     },
     "execution_count": 8,
     "metadata": {},
     "output_type": "execute_result"
    }
   ],
   "source": [
    "calorie_scores = {}\n",
    "for p in calorie_possibilities():\n",
    "    calorie_scores[p] = score(p)\n",
    "max(calorie_scores.values())"
   ]
  }
 ],
 "metadata": {
  "kernelspec": {
   "display_name": "Python 3",
   "language": "python",
   "name": "python3"
  },
  "language_info": {
   "codemirror_mode": {
    "name": "ipython",
    "version": 3
   },
   "file_extension": ".py",
   "mimetype": "text/x-python",
   "name": "python",
   "nbconvert_exporter": "python",
   "pygments_lexer": "ipython3",
   "version": "3.5.0"
  }
 },
 "nbformat": 4,
 "nbformat_minor": 0
}
