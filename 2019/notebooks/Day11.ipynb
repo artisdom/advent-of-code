{
 "cells": [
  {
   "cell_type": "code",
   "execution_count": 1,
   "metadata": {},
   "outputs": [],
   "source": [
    "import AdventOfCode\n",
    "import AdventOfCode.Intcode"
   ]
  },
  {
   "cell_type": "code",
   "execution_count": 2,
   "metadata": {},
   "outputs": [],
   "source": [
    "input <- dayString 11"
   ]
  },
  {
   "cell_type": "code",
   "execution_count": 3,
   "metadata": {},
   "outputs": [],
   "source": [
    "startState = new (parse input)"
   ]
  },
  {
   "cell_type": "code",
   "execution_count": 4,
   "metadata": {},
   "outputs": [],
   "source": [
    "produceOutput program input output index = let\n",
    "    (program', input', output', index') = step program input output index\n",
    "    in if output' /= output || index == index'\n",
    "        then (program', output', index')\n",
    "        else produceOutput program' input' output' index'"
   ]
  },
  {
   "cell_type": "code",
   "execution_count": 5,
   "metadata": {},
   "outputs": [],
   "source": [
    "data Direction = L | U | R | D deriving (Show, Eq, Ord, Enum)"
   ]
  },
  {
   "cell_type": "code",
   "execution_count": 6,
   "metadata": {},
   "outputs": [],
   "source": [
    "turnLeft :: Direction -> Direction\n",
    "turnLeft d = toEnum $ (fromEnum d-1) `mod` 4\n",
    "\n",
    "turnRight :: Direction -> Direction\n",
    "turnRight d = toEnum $ (fromEnum d + 1) `mod` 4"
   ]
  },
  {
   "cell_type": "code",
   "execution_count": 7,
   "metadata": {},
   "outputs": [],
   "source": [
    "import qualified Data.Map.Strict as Map"
   ]
  },
  {
   "cell_type": "code",
   "execution_count": 8,
   "metadata": {},
   "outputs": [],
   "source": [
    "import Control.Monad.State.Strict"
   ]
  },
  {
   "cell_type": "code",
   "execution_count": 9,
   "metadata": {},
   "outputs": [],
   "source": [
    "forward :: (Int, Int) -> Direction -> (Int, Int)\n",
    "forward (x,y) direction = case direction of\n",
    "    L -> (x-1,y)\n",
    "    U -> (x,y+1)\n",
    "    R -> (x+1,y)\n",
    "    D -> (x,y-1)"
   ]
  },
  {
   "cell_type": "code",
   "execution_count": 10,
   "metadata": {},
   "outputs": [],
   "source": [
    "data Colour = Black | White deriving (Eq, Show, Ord, Enum)\n",
    "\n",
    "move coord direction visited program index = let\n",
    "    input = Map.findWithDefault Black coord visited\n",
    "    (program', output', index') = produceOutput program [fromEnum input] [] index\n",
    "    in if null output'\n",
    "        then visited\n",
    "        else let\n",
    "            [colour] = output'\n",
    "            visited' = Map.insert coord (toEnum colour :: Colour) visited\n",
    "            (program'', [turn], index'') = produceOutput program' [] [] index'\n",
    "            direction' = case turn of\n",
    "                0 -> turnLeft direction\n",
    "                1 -> turnRight direction\n",
    "            in move (forward coord direction') direction' visited' program'' index''"
   ]
  },
  {
   "cell_type": "code",
   "execution_count": 11,
   "metadata": {},
   "outputs": [],
   "source": [
    "visited = move (0,0) U Map.empty startState 0"
   ]
  },
  {
   "cell_type": "code",
   "execution_count": 12,
   "metadata": {},
   "outputs": [
    {
     "data": {
      "text/plain": [
       "1930"
      ]
     },
     "metadata": {},
     "output_type": "display_data"
    }
   ],
   "source": [
    "Map.size visited"
   ]
  },
  {
   "cell_type": "code",
   "execution_count": 13,
   "metadata": {},
   "outputs": [],
   "source": [
    "visited' = move (0,0) U (Map.fromList [((0,0), White)]) startState 0"
   ]
  },
  {
   "cell_type": "code",
   "execution_count": 14,
   "metadata": {},
   "outputs": [],
   "source": [
    "visitedList = Map.toList visited'"
   ]
  },
  {
   "cell_type": "code",
   "execution_count": 15,
   "metadata": {},
   "outputs": [],
   "source": [
    "ys = [l | i <- [-5,-4,-3,-2,-1,0], let l = filter (\\((x,y),c) -> y == i) visitedList]"
   ]
  },
  {
   "cell_type": "code",
   "execution_count": 16,
   "metadata": {},
   "outputs": [],
   "source": [
    "withIndices = map (map (\\((x,_),c) -> (x,c))) ys"
   ]
  },
  {
   "cell_type": "code",
   "execution_count": 17,
   "metadata": {},
   "outputs": [],
   "source": [
    "import qualified Data.Vector as V"
   ]
  },
  {
   "cell_type": "code",
   "execution_count": 18,
   "metadata": {},
   "outputs": [],
   "source": [
    "allBlack = V.replicate 43 Black"
   ]
  },
  {
   "cell_type": "code",
   "execution_count": 19,
   "metadata": {},
   "outputs": [],
   "source": [
    "filled = map (allBlack V.//) withIndices"
   ]
  },
  {
   "cell_type": "code",
   "execution_count": 20,
   "metadata": {},
   "outputs": [
    {
     "data": {
      "text/html": [
       "<style>/* Styles used for the Hoogle display in the pager */\n",
       ".hoogle-doc {\n",
       "display: block;\n",
       "padding-bottom: 1.3em;\n",
       "padding-left: 0.4em;\n",
       "}\n",
       ".hoogle-code {\n",
       "display: block;\n",
       "font-family: monospace;\n",
       "white-space: pre;\n",
       "}\n",
       ".hoogle-text {\n",
       "display: block;\n",
       "}\n",
       ".hoogle-name {\n",
       "color: green;\n",
       "font-weight: bold;\n",
       "}\n",
       ".hoogle-head {\n",
       "font-weight: bold;\n",
       "}\n",
       ".hoogle-sub {\n",
       "display: block;\n",
       "margin-left: 0.4em;\n",
       "}\n",
       ".hoogle-package {\n",
       "font-weight: bold;\n",
       "font-style: italic;\n",
       "}\n",
       ".hoogle-module {\n",
       "font-weight: bold;\n",
       "}\n",
       ".hoogle-class {\n",
       "font-weight: bold;\n",
       "}\n",
       ".get-type {\n",
       "color: green;\n",
       "font-weight: bold;\n",
       "font-family: monospace;\n",
       "display: block;\n",
       "white-space: pre-wrap;\n",
       "}\n",
       ".show-type {\n",
       "color: green;\n",
       "font-weight: bold;\n",
       "font-family: monospace;\n",
       "margin-left: 1em;\n",
       "}\n",
       ".mono {\n",
       "font-family: monospace;\n",
       "display: block;\n",
       "}\n",
       ".err-msg {\n",
       "color: red;\n",
       "font-style: italic;\n",
       "font-family: monospace;\n",
       "white-space: pre;\n",
       "display: block;\n",
       "}\n",
       "#unshowable {\n",
       "color: red;\n",
       "font-weight: bold;\n",
       "}\n",
       ".err-msg.in.collapse {\n",
       "padding-top: 0.7em;\n",
       "}\n",
       ".highlight-code {\n",
       "white-space: pre;\n",
       "font-family: monospace;\n",
       "}\n",
       ".suggestion-warning { \n",
       "font-weight: bold;\n",
       "color: rgb(200, 130, 0);\n",
       "}\n",
       ".suggestion-error { \n",
       "font-weight: bold;\n",
       "color: red;\n",
       "}\n",
       ".suggestion-name {\n",
       "font-weight: bold;\n",
       "}\n",
       "</style><div class=\"suggestion-name\" style=\"clear:both;\">Use lambda-case</div><div class=\"suggestion-row\" style=\"float: left;\"><div class=\"suggestion-warning\">Found:</div><div class=\"highlight-code\" id=\"haskell\">\\ c ->\n",
       "  case c of\n",
       "      Black -> ' '\n",
       "      White -> '#'</div></div><div class=\"suggestion-row\" style=\"float: left;\"><div class=\"suggestion-warning\">Why Not:</div><div class=\"highlight-code\" id=\"haskell\">\\case\n",
       "    Black -> ' '\n",
       "    White -> '#'</div></div>"
      ],
      "text/plain": [
       "Line 1: Use lambda-case\n",
       "Found:\n",
       "\\ c ->\n",
       "  case c of\n",
       "      Black -> ' '\n",
       "      White -> '#'\n",
       "Why not:\n",
       "\\case\n",
       "    Black -> ' '\n",
       "    White -> '#'"
      ]
     },
     "metadata": {},
     "output_type": "display_data"
    },
    {
     "data": {
      "text/plain": [
       "\" ###  #### #  # #  # ####  ##  #### #  #   \"\n",
       "\" #  # #    # #  #  # #    #  #    # #  #   \"\n",
       "\" #  # ###  ##   #### ###  #      #  #  #   \"\n",
       "\" ###  #    # #  #  # #    #     #   #  #   \"\n",
       "\" #    #    # #  #  # #    #  # #    #  #   \"\n",
       "\" #    #    #  # #  # ####  ##  ####  ##    \""
      ]
     },
     "metadata": {},
     "output_type": "display_data"
    }
   ],
   "source": [
    "rendered = flip map filled $ \\row -> flip V.map row $ \\c -> case c of\n",
    "    Black -> ' '\n",
    "    White -> '#'\n",
    "\n",
    "mapM_ print (reverse rendered)"
   ]
  }
 ],
 "metadata": {
  "kernelspec": {
   "display_name": "Haskell",
   "language": "haskell",
   "name": "haskell"
  },
  "language_info": {
   "codemirror_mode": "ihaskell",
   "file_extension": ".hs",
   "name": "haskell",
   "pygments_lexer": "Haskell",
   "version": "8.6.5"
  }
 },
 "nbformat": 4,
 "nbformat_minor": 2
}
