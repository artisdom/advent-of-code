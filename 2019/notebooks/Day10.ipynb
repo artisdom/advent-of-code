{
 "cells": [
  {
   "cell_type": "code",
   "execution_count": 1,
   "metadata": {},
   "outputs": [],
   "source": [
    "import AdventOfCode"
   ]
  },
  {
   "cell_type": "code",
   "execution_count": 2,
   "metadata": {},
   "outputs": [],
   "source": [
    "input <- dayLinesString 10"
   ]
  },
  {
   "cell_type": "code",
   "execution_count": 3,
   "metadata": {},
   "outputs": [],
   "source": [
    "rawCoords = zip [0..] $ map (zip [0..]) input"
   ]
  },
  {
   "cell_type": "code",
   "execution_count": 4,
   "metadata": {},
   "outputs": [],
   "source": [
    "import qualified Data.Map.Strict as Map\n",
    "import qualified Data.Set as Set\n",
    "import Data.Ratio\n",
    "\n",
    "coordsList :: [String] -> [(Int,Int)]\n",
    "coordsList raw = let\n",
    "    rawCoords = zip [0..] $ map (zip [0..]) raw\n",
    "    coords = filter (\\(c,a) -> a == '#') $ concatMap (\\(y,xs) -> map (\\(x,c) -> ((x,y), c)) xs) rawCoords\n",
    "    in map fst coords\n",
    "\n",
    "coordsSet = Set.fromList . coordsList"
   ]
  },
  {
   "cell_type": "code",
   "execution_count": 5,
   "metadata": {},
   "outputs": [],
   "source": [
    "angle :: (Int, Int) -> (Int, Int) -> Double\n",
    "angle (x1,y1) (x2,y2) = atan2 (fromIntegral (y2 - y1)) (fromIntegral (x2 - x1))"
   ]
  },
  {
   "cell_type": "code",
   "execution_count": 6,
   "metadata": {},
   "outputs": [
    {
     "data": {
      "text/plain": [
       "221"
      ]
     },
     "metadata": {},
     "output_type": "display_data"
    }
   ],
   "source": [
    "angles :: (Int, Int) -> Set.Set (Int, Int) -> Set.Set Double\n",
    "angles coord coords = let\n",
    "    coords' = Set.delete coord coords\n",
    "    results = Set.map (angle coord) coords'\n",
    "    in results\n",
    "\n",
    "asteroidsSet = coordsSet input\n",
    "\n",
    "allAngles = Set.map (\\a -> length $ angles a asteroidsSet) asteroidsSet\n",
    "Set.findMax allAngles"
   ]
  },
  {
   "cell_type": "code",
   "execution_count": 7,
   "metadata": {},
   "outputs": [],
   "source": [
    "import Data.List\n",
    "import Data.Function\n",
    "\n",
    "angles' :: (Int, Int) -> [(Int, Int)] -> [Double]\n",
    "angles' coord coords = let\n",
    "    coords' = coords \\\\ [coord]\n",
    "    results = map (angle coord) coords'\n",
    "    in results\n",
    "\n",
    "asteroidsList = coordsList input\n",
    "\n",
    "allAngles' = map (\\a -> (a, angles a asteroidsSet)) asteroidsList\n",
    "\n",
    "bestAsteroid = fst $ maximumBy (compare `on` (length . snd)) allAngles'"
   ]
  },
  {
   "cell_type": "code",
   "execution_count": 8,
   "metadata": {},
   "outputs": [],
   "source": [
    "degrees x = x/pi*180\n",
    "\n",
    "rotation x = case x + 90 of\n",
    "    x'\n",
    "        | x' < 0 -> 360 + x'\n",
    "        | otherwise -> x'"
   ]
  },
  {
   "cell_type": "code",
   "execution_count": 9,
   "metadata": {},
   "outputs": [],
   "source": [
    "angles'' :: (Int, Int) -> [(Int, Int)] -> [(Double,(Int,Int))]\n",
    "angles'' coord coords = let\n",
    "    coords' = coords \\\\ [coord]\n",
    "    results = zip (map (rotation . degrees . angle coord) coords') coords'\n",
    "    in results\n",
    "\n",
    "grouped = groupBy ((==) `on` fst) . sortOn fst $ angles'' bestAsteroid asteroidsList"
   ]
  },
  {
   "cell_type": "code",
   "execution_count": 10,
   "metadata": {},
   "outputs": [
    {
     "data": {
      "text/plain": [
       "806"
      ]
     },
     "metadata": {},
     "output_type": "display_data"
    }
   ],
   "source": [
    "distance :: (Int, Int) -> (Int, Int) -> Double\n",
    "distance (x1,y1) (x2,y2) = sqrt $ fromIntegral (x2-x1)^2 + fromIntegral (y2-y1)^2\n",
    "\n",
    "queued = map (\\((a,c):cs) -> (a, sortOn (distance bestAsteroid) (c:map snd cs))) grouped\n",
    "\n",
    "(\\(x,y) -> x*100+y) $ head $ snd $ queued !! 199"
   ]
  }
 ],
 "metadata": {
  "kernelspec": {
   "display_name": "Haskell",
   "language": "haskell",
   "name": "haskell"
  },
  "language_info": {
   "codemirror_mode": "ihaskell",
   "file_extension": ".hs",
   "name": "haskell",
   "pygments_lexer": "Haskell",
   "version": "8.6.5"
  }
 },
 "nbformat": 4,
 "nbformat_minor": 2
}
