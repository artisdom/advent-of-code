{
 "cells": [
  {
   "cell_type": "code",
   "execution_count": 1,
   "metadata": {},
   "outputs": [],
   "source": [
    "import AdventOfCode\n",
    "import qualified Data.Vector as V"
   ]
  },
  {
   "cell_type": "code",
   "execution_count": 2,
   "metadata": {},
   "outputs": [],
   "source": [
    "input <- dayString 7\n",
    "\n",
    "instructions = read (\"[\" ++ input ++ \"]\") :: [Int]"
   ]
  },
  {
   "cell_type": "code",
   "execution_count": 3,
   "metadata": {},
   "outputs": [],
   "source": [
    "data Opcode = Opcode\n",
    "    { opcodeCode  :: Int\n",
    "    , opcodeMode1 :: Bool\n",
    "    , opcodeMode2 :: Bool\n",
    "    , opcodeMode3 :: Bool\n",
    "    } deriving (Eq, Show)"
   ]
  },
  {
   "cell_type": "code",
   "execution_count": 4,
   "metadata": {},
   "outputs": [],
   "source": [
    "parseCode :: Int -> Opcode\n",
    "parseCode i = let\n",
    "    m3   = i `div` 10000\n",
    "    m2   = (i - m3*10000) `div` 1000\n",
    "    m1   = (i - m3*10000 - m2*1000) `div` 100\n",
    "    code = i `rem` 100\n",
    "    in Opcode code (m1==1) (m2==1) (m3==1)"
   ]
  },
  {
   "cell_type": "code",
   "execution_count": 5,
   "metadata": {},
   "outputs": [
    {
     "data": {
      "text/html": [
       "<style>/* Styles used for the Hoogle display in the pager */\n",
       ".hoogle-doc {\n",
       "display: block;\n",
       "padding-bottom: 1.3em;\n",
       "padding-left: 0.4em;\n",
       "}\n",
       ".hoogle-code {\n",
       "display: block;\n",
       "font-family: monospace;\n",
       "white-space: pre;\n",
       "}\n",
       ".hoogle-text {\n",
       "display: block;\n",
       "}\n",
       ".hoogle-name {\n",
       "color: green;\n",
       "font-weight: bold;\n",
       "}\n",
       ".hoogle-head {\n",
       "font-weight: bold;\n",
       "}\n",
       ".hoogle-sub {\n",
       "display: block;\n",
       "margin-left: 0.4em;\n",
       "}\n",
       ".hoogle-package {\n",
       "font-weight: bold;\n",
       "font-style: italic;\n",
       "}\n",
       ".hoogle-module {\n",
       "font-weight: bold;\n",
       "}\n",
       ".hoogle-class {\n",
       "font-weight: bold;\n",
       "}\n",
       ".get-type {\n",
       "color: green;\n",
       "font-weight: bold;\n",
       "font-family: monospace;\n",
       "display: block;\n",
       "white-space: pre-wrap;\n",
       "}\n",
       ".show-type {\n",
       "color: green;\n",
       "font-weight: bold;\n",
       "font-family: monospace;\n",
       "margin-left: 1em;\n",
       "}\n",
       ".mono {\n",
       "font-family: monospace;\n",
       "display: block;\n",
       "}\n",
       ".err-msg {\n",
       "color: red;\n",
       "font-style: italic;\n",
       "font-family: monospace;\n",
       "white-space: pre;\n",
       "display: block;\n",
       "}\n",
       "#unshowable {\n",
       "color: red;\n",
       "font-weight: bold;\n",
       "}\n",
       ".err-msg.in.collapse {\n",
       "padding-top: 0.7em;\n",
       "}\n",
       ".highlight-code {\n",
       "white-space: pre;\n",
       "font-family: monospace;\n",
       "}\n",
       ".suggestion-warning { \n",
       "font-weight: bold;\n",
       "color: rgb(200, 130, 0);\n",
       "}\n",
       ".suggestion-error { \n",
       "font-weight: bold;\n",
       "color: red;\n",
       "}\n",
       ".suggestion-name {\n",
       "font-weight: bold;\n",
       "}\n",
       "</style><div class=\"suggestion-name\" style=\"clear:both;\">Reduce duplication</div><div class=\"suggestion-row\" style=\"float: left;\"><div class=\"suggestion-warning\">Found:</div><div class=\"highlight-code\" id=\"haskell\">a = if opcodeMode1 opcode then program V.! (index + 1) else\n",
       "      program V.! (program V.! (index + 1))\n",
       "b = if opcodeMode2 opcode then program V.! (index + 2) else\n",
       "      program V.! (program V.! (index + 2))\n",
       "o = program V.! (index + 3)\n",
       "</div></div><div class=\"suggestion-row\" style=\"float: left;\"><div class=\"suggestion-warning\">Why Not:</div><div class=\"highlight-code\" id=\"haskell\">Combine with -:12:13</div></div><div class=\"suggestion-name\" style=\"clear:both;\">Reduce duplication</div><div class=\"suggestion-row\" style=\"float: left;\"><div class=\"suggestion-warning\">Found:</div><div class=\"highlight-code\" id=\"haskell\">a = if opcodeMode1 opcode then program V.! (index + 1) else\n",
       "      program V.! (program V.! (index + 1))\n",
       "b = if opcodeMode2 opcode then program V.! (index + 2) else\n",
       "      program V.! (program V.! (index + 2))\n",
       "o = program V.! (index + 3)\n",
       "</div></div><div class=\"suggestion-row\" style=\"float: left;\"><div class=\"suggestion-warning\">Why Not:</div><div class=\"highlight-code\" id=\"haskell\">Combine with -:36:13</div></div><div class=\"suggestion-name\" style=\"clear:both;\">Reduce duplication</div><div class=\"suggestion-row\" style=\"float: left;\"><div class=\"suggestion-warning\">Found:</div><div class=\"highlight-code\" id=\"haskell\">a = if opcodeMode1 opcode then program V.! (index + 1) else\n",
       "      program V.! (program V.! (index + 1))\n",
       "b = if opcodeMode2 opcode then program V.! (index + 2) else\n",
       "      program V.! (program V.! (index + 2))\n",
       "o = program V.! (index + 3)\n",
       "</div></div><div class=\"suggestion-row\" style=\"float: left;\"><div class=\"suggestion-warning\">Why Not:</div><div class=\"highlight-code\" id=\"haskell\">Combine with -:41:13</div></div>"
      ],
      "text/plain": [
       "Line 6: Reduce duplication\n",
       "Found:\n",
       "a = if opcodeMode1 opcode then program V.! (index + 1) else\n",
       "      program V.! (program V.! (index + 1))\n",
       "b = if opcodeMode2 opcode then program V.! (index + 2) else\n",
       "      program V.! (program V.! (index + 2))\n",
       "o = program V.! (index + 3)\n",
       "\n",
       "Why not:\n",
       "Combine with -:12:13Line 6: Reduce duplication\n",
       "Found:\n",
       "a = if opcodeMode1 opcode then program V.! (index + 1) else\n",
       "      program V.! (program V.! (index + 1))\n",
       "b = if opcodeMode2 opcode then program V.! (index + 2) else\n",
       "      program V.! (program V.! (index + 2))\n",
       "o = program V.! (index + 3)\n",
       "\n",
       "Why not:\n",
       "Combine with -:36:13Line 6: Reduce duplication\n",
       "Found:\n",
       "a = if opcodeMode1 opcode then program V.! (index + 1) else\n",
       "      program V.! (program V.! (index + 1))\n",
       "b = if opcodeMode2 opcode then program V.! (index + 2) else\n",
       "      program V.! (program V.! (index + 2))\n",
       "o = program V.! (index + 3)\n",
       "\n",
       "Why not:\n",
       "Combine with -:41:13"
      ]
     },
     "metadata": {},
     "output_type": "display_data"
    }
   ],
   "source": [
    "step :: V.Vector Int -> [Int] -> [Int] -> Int -> (V.Vector Int, [Int], [Int], Int)\n",
    "step program input output index = do\n",
    "    let opcode = parseCode (program V.! index)\n",
    "    case opcodeCode opcode of\n",
    "        1 -> let\n",
    "            a = if opcodeMode1 opcode then program V.! (index+1) else program V.! (program V.! (index+1))\n",
    "            b = if opcodeMode2 opcode then program V.! (index+2) else program V.! (program V.! (index+2))\n",
    "            o = program V.! (index+3)\n",
    "            p = program V.// [(o,a+b)]\n",
    "            in (p, input, output, index+4)\n",
    "        2 -> let\n",
    "            a = if opcodeMode1 opcode then program V.! (index+1) else program V.! (program V.! (index+1))\n",
    "            b = if opcodeMode2 opcode then program V.! (index+2) else program V.! (program V.! (index+2))\n",
    "            o = program V.! (index+3)\n",
    "            p = program V.// [(o,a*b)]\n",
    "            in (p, input, output, index+4)\n",
    "        3 -> let\n",
    "            v = head input\n",
    "            input' = tail input\n",
    "            o = program V.! (index+1)\n",
    "            p = program V.// [(o, v)]\n",
    "            in (p, input', output, index+2)\n",
    "        4 -> let\n",
    "            a = if opcodeMode1 opcode then program V.! (index+1) else program V.! (program V.! (index+1))\n",
    "            output' = a:output\n",
    "            in (program, input, output', index+2)\n",
    "        5 -> let\n",
    "            a = if opcodeMode1 opcode then program V.! (index+1) else program V.! (program V.! (index+1))\n",
    "            b = if opcodeMode2 opcode then program V.! (index+2) else program V.! (program V.! (index+2))\n",
    "            in if a/=0 then (program, input, output, b) else (program, input, output, index+3)\n",
    "        6 -> let\n",
    "            a = if opcodeMode1 opcode then program V.! (index+1) else program V.! (program V.! (index+1))\n",
    "            b = if opcodeMode2 opcode then program V.! (index+2) else program V.! (program V.! (index+2))\n",
    "            in if a==0 then (program, input, output, b) else (program, input, output, index+3)\n",
    "        7 -> let\n",
    "            a = if opcodeMode1 opcode then program V.! (index+1) else program V.! (program V.! (index+1))\n",
    "            b = if opcodeMode2 opcode then program V.! (index+2) else program V.! (program V.! (index+2))\n",
    "            o = program V.! (index+3)\n",
    "            in if a < b then (program V.// [(o,1)], input, output, index+4) else (program V.// [(o, 0)], input, output, index+4)\n",
    "        8 -> let\n",
    "            a = if opcodeMode1 opcode then program V.! (index+1) else program V.! (program V.! (index+1))\n",
    "            b = if opcodeMode2 opcode then program V.! (index+2) else program V.! (program V.! (index+2))\n",
    "            o = program V.! (index+3)\n",
    "            in if a == b then (program V.// [(o,1)], input, output, index+4) else (program V.// [(o, 0)], input, output, index+4)\n",
    "        99 -> (program, input, output, index)"
   ]
  },
  {
   "cell_type": "code",
   "execution_count": 6,
   "metadata": {},
   "outputs": [],
   "source": [
    "loop program input output index = let\n",
    "    (program', input', output', index') = step program input output index\n",
    "    in if index == index' then (program', output', index) else loop program' input' output' index'"
   ]
  },
  {
   "cell_type": "code",
   "execution_count": 7,
   "metadata": {},
   "outputs": [],
   "source": [
    "run input = let (_, o, _) = loop (V.fromList instructions) input [] 0 in o"
   ]
  },
  {
   "cell_type": "code",
   "execution_count": 8,
   "metadata": {},
   "outputs": [],
   "source": [
    "import Data.List\n",
    "import Data.Function.Memoize\n",
    "import Data.Function"
   ]
  },
  {
   "cell_type": "code",
   "execution_count": 9,
   "metadata": {},
   "outputs": [],
   "source": [
    "run' = memoize run"
   ]
  },
  {
   "cell_type": "code",
   "execution_count": 10,
   "metadata": {},
   "outputs": [],
   "source": [
    "chain = foldl' (\\value n -> run' (n:value))"
   ]
  },
  {
   "cell_type": "code",
   "execution_count": 11,
   "metadata": {},
   "outputs": [
    {
     "data": {
      "text/plain": [
       "(75228,[0,3,4,2,1])"
      ]
     },
     "metadata": {},
     "output_type": "display_data"
    }
   ],
   "source": [
    "maximumBy (compare `on` fst) $ map (\\p -> (head $ chain [0] p, p)) $ permutations [0..4]"
   ]
  },
  {
   "cell_type": "code",
   "execution_count": 12,
   "metadata": {},
   "outputs": [],
   "source": [
    "-- import Debug.Trace\n",
    "\n",
    "traceShow = flip const\n",
    "\n",
    "loop' program input output index = let\n",
    "    (program', input', output', index') = step program input output index\n",
    "    in if output' /= output\n",
    "        then Right (program', output', index')\n",
    "        else if index == index'\n",
    "            then Left (head output')\n",
    "            else loop' program' input' output' index'\n",
    "\n",
    "starting [s1, s2, s3, s4, s5] [(p1, i1), (p2, i2), (p3, i3), (p4, i4), (p5, i5)] start =\n",
    "    case loop' p1 [s1, start] [] i1 of\n",
    "        Left{} -> start\n",
    "        r1@(Right (p1', [o1], i1')) -> traceShow r1 $ case loop' p2 [s2, o1] [] i2 of\n",
    "            Left{} -> start\n",
    "            r2@(Right (p2', [o2], i2')) -> traceShow r2 $ case loop' p3 [s3, o2] [] i3 of\n",
    "                Left{} -> start\n",
    "                r3@(Right (p3', [o3], i3')) -> traceShow r3 $ case loop' p4 [s4, o3] [] i4 of\n",
    "                    Left{} -> start\n",
    "                    r4@(Right (p4', [o4], i4')) -> traceShow r4 $ case loop' p5 [s5, o4] [] i5 of\n",
    "                        Left{} -> start\n",
    "                        r5@(Right (p5', [o5], i5')) -> traceShow r5 $ feedback [(p1',i1'), (p2',i2'), (p3',i3'), (p4',i4'), (p5',i5')] o5\n",
    "\n",
    "feedback [(p1, i1), (p2, i2), (p3, i3), (p4, i4), (p5, i5)] start =\n",
    "    case loop' p1 [start] [] i1 of\n",
    "        Left{} -> start\n",
    "        r1@(Right (p1', [o1], i1')) -> traceShow r1 $ case loop' p2 [o1] [] i2 of\n",
    "            Left{} -> start\n",
    "            r2@(Right (p2', [o2], i2')) -> traceShow r2 $ case loop' p3 [o2] [] i3 of\n",
    "                Left{} -> start\n",
    "                r3@(Right (p3', [o3], i3')) -> traceShow r3 $ case loop' p4 [o3] [] i4 of\n",
    "                    Left{} -> start\n",
    "                    r4@(Right (p4', [o4], i4')) -> traceShow r4 $ case loop' p5 [o4] [] i5 of\n",
    "                        Left{} -> start\n",
    "                        r5@(Right (p5', [o5], i5')) -> traceShow r5 $ feedback [(p1',i1'), (p2',i2'), (p3',i3'), (p4',i4'), (p5',i5')] o5"
   ]
  },
  {
   "cell_type": "code",
   "execution_count": 13,
   "metadata": {},
   "outputs": [],
   "source": [
    "initialise p ss = starting ss (replicate 5 (p,0)) 0"
   ]
  },
  {
   "cell_type": "code",
   "execution_count": 14,
   "metadata": {},
   "outputs": [
    {
     "data": {
      "text/html": [
       "<style>/* Styles used for the Hoogle display in the pager */\n",
       ".hoogle-doc {\n",
       "display: block;\n",
       "padding-bottom: 1.3em;\n",
       "padding-left: 0.4em;\n",
       "}\n",
       ".hoogle-code {\n",
       "display: block;\n",
       "font-family: monospace;\n",
       "white-space: pre;\n",
       "}\n",
       ".hoogle-text {\n",
       "display: block;\n",
       "}\n",
       ".hoogle-name {\n",
       "color: green;\n",
       "font-weight: bold;\n",
       "}\n",
       ".hoogle-head {\n",
       "font-weight: bold;\n",
       "}\n",
       ".hoogle-sub {\n",
       "display: block;\n",
       "margin-left: 0.4em;\n",
       "}\n",
       ".hoogle-package {\n",
       "font-weight: bold;\n",
       "font-style: italic;\n",
       "}\n",
       ".hoogle-module {\n",
       "font-weight: bold;\n",
       "}\n",
       ".hoogle-class {\n",
       "font-weight: bold;\n",
       "}\n",
       ".get-type {\n",
       "color: green;\n",
       "font-weight: bold;\n",
       "font-family: monospace;\n",
       "display: block;\n",
       "white-space: pre-wrap;\n",
       "}\n",
       ".show-type {\n",
       "color: green;\n",
       "font-weight: bold;\n",
       "font-family: monospace;\n",
       "margin-left: 1em;\n",
       "}\n",
       ".mono {\n",
       "font-family: monospace;\n",
       "display: block;\n",
       "}\n",
       ".err-msg {\n",
       "color: red;\n",
       "font-style: italic;\n",
       "font-family: monospace;\n",
       "white-space: pre;\n",
       "display: block;\n",
       "}\n",
       "#unshowable {\n",
       "color: red;\n",
       "font-weight: bold;\n",
       "}\n",
       ".err-msg.in.collapse {\n",
       "padding-top: 0.7em;\n",
       "}\n",
       ".highlight-code {\n",
       "white-space: pre;\n",
       "font-family: monospace;\n",
       "}\n",
       ".suggestion-warning { \n",
       "font-weight: bold;\n",
       "color: rgb(200, 130, 0);\n",
       "}\n",
       ".suggestion-error { \n",
       "font-weight: bold;\n",
       "color: red;\n",
       "}\n",
       ".suggestion-name {\n",
       "font-weight: bold;\n",
       "}\n",
       "</style><div class=\"suggestion-name\" style=\"clear:both;\">Redundant bracket</div><div class=\"suggestion-row\" style=\"float: left;\"><div class=\"suggestion-warning\">Found:</div><div class=\"highlight-code\" id=\"haskell\">(V.fromList\n",
       "   [3, 26, 1001, 26, -4, 26, 3, 27, 1002, 27, 2, 27, 1, 27, 26, 27, 4,\n",
       "    27, 1001, 28, -1, 28, 1005, 28, 6, 99, 0, 0, 5])</div></div><div class=\"suggestion-row\" style=\"float: left;\"><div class=\"suggestion-warning\">Why Not:</div><div class=\"highlight-code\" id=\"haskell\">V.fromList\n",
       "  [3, 26, 1001, 26, -4, 26, 3, 27, 1002, 27, 2, 27, 1, 27, 26, 27, 4,\n",
       "   27, 1001, 28, -1, 28, 1005, 28, 6, 99, 0, 0, 5]</div></div>"
      ],
      "text/plain": [
       "Line 1: Redundant bracket\n",
       "Found:\n",
       "(V.fromList\n",
       "   [3, 26, 1001, 26, -4, 26, 3, 27, 1002, 27, 2, 27, 1, 27, 26, 27, 4,\n",
       "    27, 1001, 28, -1, 28, 1005, 28, 6, 99, 0, 0, 5])\n",
       "Why not:\n",
       "V.fromList\n",
       "  [3, 26, 1001, 26, -4, 26, 3, 27, 1002, 27, 2, 27, 1, 27, 26, 27, 4,\n",
       "   27, 1001, 28, -1, 28, 1005, 28, 6, 99, 0, 0, 5]"
      ]
     },
     "metadata": {},
     "output_type": "display_data"
    }
   ],
   "source": [
    "p =(V.fromList [3,26,1001,26,-4,26,3,27,1002,27,2,27,1,27,26,27,4,27,1001,28,-1,28,1005,28,6,99,0,0,5])"
   ]
  },
  {
   "cell_type": "code",
   "execution_count": 17,
   "metadata": {},
   "outputs": [
    {
     "data": {
      "text/plain": [
       "79846026"
      ]
     },
     "metadata": {},
     "output_type": "display_data"
    }
   ],
   "source": [
    "maximum $ map (initialise (V.fromList instructions)) $ permutations [5..9]"
   ]
  }
 ],
 "metadata": {
  "kernelspec": {
   "display_name": "Haskell",
   "language": "haskell",
   "name": "haskell"
  },
  "language_info": {
   "codemirror_mode": "ihaskell",
   "file_extension": ".hs",
   "name": "haskell",
   "pygments_lexer": "Haskell",
   "version": "8.6.5"
  }
 },
 "nbformat": 4,
 "nbformat_minor": 2
}
