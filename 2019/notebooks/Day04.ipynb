{
 "cells": [
  {
   "cell_type": "code",
   "execution_count": 1,
   "metadata": {},
   "outputs": [],
   "source": [
    "input = \"307237-769058\""
   ]
  },
  {
   "cell_type": "code",
   "execution_count": 2,
   "metadata": {},
   "outputs": [],
   "source": [
    "import Data.List\n",
    "\n",
    "charToInt :: Char -> Int\n",
    "charToInt n = read [n]\n",
    "\n",
    "toDigits n = map charToInt (show n)\n",
    "\n",
    "nonDecreasing n = let\n",
    "    digits = toDigits n\n",
    "    diffs = zipWith subtract digits (tail digits)\n",
    "    in all (>=0) diffs\n",
    "\n",
    "doubled n = length (group (toDigits n)) < length (toDigits n)"
   ]
  },
  {
   "cell_type": "code",
   "execution_count": 3,
   "metadata": {},
   "outputs": [
    {
     "data": {
      "text/plain": [
       "889"
      ]
     },
     "metadata": {},
     "output_type": "display_data"
    }
   ],
   "source": [
    "length $ filter (\\n -> nonDecreasing n && doubled n) [307237..769058]"
   ]
  },
  {
   "cell_type": "code",
   "execution_count": 4,
   "metadata": {},
   "outputs": [
    {
     "data": {
      "text/plain": [
       "589"
      ]
     },
     "metadata": {},
     "output_type": "display_data"
    }
   ],
   "source": [
    "twoAtMost n = let\n",
    "    repeats = map length $ group $ toDigits n\n",
    "    in elem 2 repeats\n",
    "\n",
    "length $ filter (\\n -> nonDecreasing n && doubled n && twoAtMost n) [307237..769058]"
   ]
  }
 ],
 "metadata": {
  "kernelspec": {
   "display_name": "Haskell",
   "language": "haskell",
   "name": "haskell"
  },
  "language_info": {
   "codemirror_mode": "ihaskell",
   "file_extension": ".hs",
   "name": "haskell",
   "pygments_lexer": "Haskell",
   "version": "8.6.5"
  }
 },
 "nbformat": 4,
 "nbformat_minor": 2
}
