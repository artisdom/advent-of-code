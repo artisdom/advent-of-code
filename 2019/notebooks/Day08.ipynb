{
 "cells": [
  {
   "cell_type": "code",
   "execution_count": 1,
   "metadata": {},
   "outputs": [],
   "source": [
    "import AdventOfCode"
   ]
  },
  {
   "cell_type": "code",
   "execution_count": 2,
   "metadata": {},
   "outputs": [],
   "source": [
    "input <- dayString 8"
   ]
  },
  {
   "cell_type": "code",
   "execution_count": 3,
   "metadata": {},
   "outputs": [],
   "source": [
    "import Data.List.Split"
   ]
  },
  {
   "cell_type": "code",
   "execution_count": 4,
   "metadata": {},
   "outputs": [],
   "source": [
    "separated = chunksOf (25*6) input"
   ]
  },
  {
   "cell_type": "code",
   "execution_count": 5,
   "metadata": {},
   "outputs": [
    {
     "data": {
      "text/plain": [
       "1485"
      ]
     },
     "metadata": {},
     "output_type": "display_data"
    }
   ],
   "source": [
    "import Data.List\n",
    "import Data.Function\n",
    "\n",
    "\n",
    "minimumLayer = minimumBy (compare `on` (length . filter (=='0'))) separated\n",
    "\n",
    "length (filter (=='1') minimumLayer) * length (filter (=='2') minimumLayer)"
   ]
  },
  {
   "cell_type": "code",
   "execution_count": 6,
   "metadata": {},
   "outputs": [
    {
     "data": {
      "text/plain": [
       "\"0110\""
      ]
     },
     "metadata": {},
     "output_type": "display_data"
    }
   ],
   "source": [
    "layer :: Char -> Char -> Char\n",
    "layer '2' c = c\n",
    "layer '1' c = '1'\n",
    "layer '0' c = '0'\n",
    "\n",
    "sample = chunksOf 4 \"0222112222120000\"\n",
    "foldl' (zipWith layer) \"2222\" sample"
   ]
  },
  {
   "cell_type": "code",
   "execution_count": 7,
   "metadata": {},
   "outputs": [],
   "source": [
    "layered = foldl' (zipWith layer) (replicate (25*6) '2') separated"
   ]
  },
  {
   "cell_type": "code",
   "execution_count": 8,
   "metadata": {},
   "outputs": [
    {
     "data": {
      "text/plain": [
       "\"###  #     ##  #  # #### \"\n",
       "\"#  # #    #  # # #  #    \"\n",
       "\"#  # #    #  # ##   ###  \"\n",
       "\"###  #    #### # #  #    \"\n",
       "\"# #  #    #  # # #  #    \"\n",
       "\"#  # #### #  # #  # #    \""
      ]
     },
     "metadata": {},
     "output_type": "display_data"
    }
   ],
   "source": [
    "display '0' = ' '\n",
    "display '1' = '#'\n",
    "\n",
    "mapM_ (print . map display) $ chunksOf 25 layered"
   ]
  }
 ],
 "metadata": {
  "kernelspec": {
   "display_name": "Haskell",
   "language": "haskell",
   "name": "haskell"
  },
  "language_info": {
   "codemirror_mode": "ihaskell",
   "file_extension": ".hs",
   "name": "haskell",
   "pygments_lexer": "Haskell",
   "version": "8.6.5"
  }
 },
 "nbformat": 4,
 "nbformat_minor": 2
}
