{
 "cells": [
  {
   "cell_type": "code",
   "execution_count": 1,
   "metadata": {},
   "outputs": [],
   "source": [
    "import AdventOfCode"
   ]
  },
  {
   "cell_type": "code",
   "execution_count": 2,
   "metadata": {},
   "outputs": [],
   "source": [
    "data Direction = U | D | L | R deriving (Eq, Show, Ord)"
   ]
  },
  {
   "cell_type": "code",
   "execution_count": 3,
   "metadata": {},
   "outputs": [],
   "source": [
    "input <- dayLines 3"
   ]
  },
  {
   "cell_type": "code",
   "execution_count": 4,
   "metadata": {},
   "outputs": [],
   "source": [
    "import qualified Data.Attoparsec.ByteString.Char8 as A\n",
    "import qualified Data.Attoparsec.Combinator as A"
   ]
  },
  {
   "cell_type": "code",
   "execution_count": 5,
   "metadata": {},
   "outputs": [
    {
     "data": {
      "text/html": [
       "<style>/* Styles used for the Hoogle display in the pager */\n",
       ".hoogle-doc {\n",
       "display: block;\n",
       "padding-bottom: 1.3em;\n",
       "padding-left: 0.4em;\n",
       "}\n",
       ".hoogle-code {\n",
       "display: block;\n",
       "font-family: monospace;\n",
       "white-space: pre;\n",
       "}\n",
       ".hoogle-text {\n",
       "display: block;\n",
       "}\n",
       ".hoogle-name {\n",
       "color: green;\n",
       "font-weight: bold;\n",
       "}\n",
       ".hoogle-head {\n",
       "font-weight: bold;\n",
       "}\n",
       ".hoogle-sub {\n",
       "display: block;\n",
       "margin-left: 0.4em;\n",
       "}\n",
       ".hoogle-package {\n",
       "font-weight: bold;\n",
       "font-style: italic;\n",
       "}\n",
       ".hoogle-module {\n",
       "font-weight: bold;\n",
       "}\n",
       ".hoogle-class {\n",
       "font-weight: bold;\n",
       "}\n",
       ".get-type {\n",
       "color: green;\n",
       "font-weight: bold;\n",
       "font-family: monospace;\n",
       "display: block;\n",
       "white-space: pre-wrap;\n",
       "}\n",
       ".show-type {\n",
       "color: green;\n",
       "font-weight: bold;\n",
       "font-family: monospace;\n",
       "margin-left: 1em;\n",
       "}\n",
       ".mono {\n",
       "font-family: monospace;\n",
       "display: block;\n",
       "}\n",
       ".err-msg {\n",
       "color: red;\n",
       "font-style: italic;\n",
       "font-family: monospace;\n",
       "white-space: pre;\n",
       "display: block;\n",
       "}\n",
       "#unshowable {\n",
       "color: red;\n",
       "font-weight: bold;\n",
       "}\n",
       ".err-msg.in.collapse {\n",
       "padding-top: 0.7em;\n",
       "}\n",
       ".highlight-code {\n",
       "white-space: pre;\n",
       "font-family: monospace;\n",
       "}\n",
       ".suggestion-warning { \n",
       "font-weight: bold;\n",
       "color: rgb(200, 130, 0);\n",
       "}\n",
       ".suggestion-error { \n",
       "font-weight: bold;\n",
       "color: red;\n",
       "}\n",
       ".suggestion-name {\n",
       "font-weight: bold;\n",
       "}\n",
       "</style><div class=\"suggestion-name\" style=\"clear:both;\">Use $></div><div class=\"suggestion-row\" style=\"float: left;\"><div class=\"suggestion-warning\">Found:</div><div class=\"highlight-code\" id=\"haskell\">A.char 'L' *> pure L</div></div><div class=\"suggestion-row\" style=\"float: left;\"><div class=\"suggestion-warning\">Why Not:</div><div class=\"highlight-code\" id=\"haskell\">A.char 'L' Data.Functor.\\$> L</div></div><div class=\"suggestion-name\" style=\"clear:both;\">Use $></div><div class=\"suggestion-row\" style=\"float: left;\"><div class=\"suggestion-warning\">Found:</div><div class=\"highlight-code\" id=\"haskell\">A.char 'D' *> pure D</div></div><div class=\"suggestion-row\" style=\"float: left;\"><div class=\"suggestion-warning\">Why Not:</div><div class=\"highlight-code\" id=\"haskell\">A.char 'D' Data.Functor.\\$> D</div></div><div class=\"suggestion-name\" style=\"clear:both;\">Use $></div><div class=\"suggestion-row\" style=\"float: left;\"><div class=\"suggestion-warning\">Found:</div><div class=\"highlight-code\" id=\"haskell\">A.char 'R' *> pure R</div></div><div class=\"suggestion-row\" style=\"float: left;\"><div class=\"suggestion-warning\">Why Not:</div><div class=\"highlight-code\" id=\"haskell\">A.char 'R' Data.Functor.\\$> R</div></div><div class=\"suggestion-name\" style=\"clear:both;\">Use $></div><div class=\"suggestion-row\" style=\"float: left;\"><div class=\"suggestion-warning\">Found:</div><div class=\"highlight-code\" id=\"haskell\">A.char 'U' *> pure U</div></div><div class=\"suggestion-row\" style=\"float: left;\"><div class=\"suggestion-warning\">Why Not:</div><div class=\"highlight-code\" id=\"haskell\">A.char 'U' Data.Functor.\\$> U</div></div>"
      ],
      "text/plain": [
       "Line 2: Use $>\n",
       "Found:\n",
       "A.char 'L' *> pure L\n",
       "Why not:\n",
       "A.char 'L' Data.Functor.$> LLine 2: Use $>\n",
       "Found:\n",
       "A.char 'D' *> pure D\n",
       "Why not:\n",
       "A.char 'D' Data.Functor.$> DLine 2: Use $>\n",
       "Found:\n",
       "A.char 'R' *> pure R\n",
       "Why not:\n",
       "A.char 'R' Data.Functor.$> RLine 2: Use $>\n",
       "Found:\n",
       "A.char 'U' *> pure U\n",
       "Why not:\n",
       "A.char 'U' Data.Functor.$> U"
      ]
     },
     "metadata": {},
     "output_type": "display_data"
    }
   ],
   "source": [
    "dirnum = do\n",
    "    dir <- A.choice [A.char 'L' *> pure L, A.char 'D' *> pure D, A.char 'R' *> pure R, A.char 'U' *> pure U]\n",
    "    num <- A.decimal\n",
    "    pure (dir, num)\n",
    "\n",
    "directions = parsed (A.sepBy' dirnum (A.char ','))"
   ]
  },
  {
   "cell_type": "code",
   "execution_count": 6,
   "metadata": {},
   "outputs": [],
   "source": [
    "import qualified Data.Set as S\n",
    "\n",
    "run :: (Int, Int) -> (Direction, Int) -> ([(Int, Int)], (Int, Int))\n",
    "run (x,y) (d, n) = case d of\n",
    "    R -> let\n",
    "        xs = [1..n]\n",
    "        cs = map (\\m -> (x+m, y)) xs\n",
    "        in (cs, (x+n,y))\n",
    "    L -> let\n",
    "        xs = [1..n]\n",
    "        cs = map (\\m -> (x-m, y)) xs\n",
    "        in (cs, (x-n,y))\n",
    "    U -> let\n",
    "        ys = [1..n]\n",
    "        cs = map (\\m -> (x,y+m)) ys\n",
    "        in (cs, (x,y+n))\n",
    "    D -> let\n",
    "        ys = [1..n]\n",
    "        cs = map (\\m -> (x,y-m)) ys\n",
    "        in (cs, (x,y-n))"
   ]
  },
  {
   "cell_type": "code",
   "execution_count": 7,
   "metadata": {},
   "outputs": [],
   "source": [
    "import Data.List (foldl')\n",
    "\n",
    "execute dirs = S.fromList $ fst $ foldl' (\\(points, point) dn -> let (ps, pt) = run point dn in (points++ps,pt)) ([],(0,0)) dirs"
   ]
  },
  {
   "cell_type": "code",
   "execution_count": 8,
   "metadata": {},
   "outputs": [],
   "source": [
    "line1 = execute $ directions (head input)\n",
    "line2 = execute $ directions (head $ tail input)"
   ]
  },
  {
   "cell_type": "code",
   "execution_count": 9,
   "metadata": {},
   "outputs": [
    {
     "data": {
      "text/plain": [
       "(258,0)"
      ]
     },
     "metadata": {},
     "output_type": "display_data"
    }
   ],
   "source": [
    "S.findMin $ S.intersection line1 line2"
   ]
  },
  {
   "cell_type": "code",
   "execution_count": 10,
   "metadata": {},
   "outputs": [],
   "source": [
    "import qualified Data.Map.Strict as M\n",
    "\n",
    "run' :: ((Int, Int), Int) -> (Direction, Int) -> ([((Int, Int), Int)], ((Int, Int), Int))\n",
    "run' ((x,y),l) (d, n) = case d of\n",
    "    R -> let\n",
    "        xs = [1..n]\n",
    "        cs = map (\\m -> ((x+m, y), l+m)) xs\n",
    "        in (cs, last cs)\n",
    "    L -> let\n",
    "        xs = [1..n]\n",
    "        cs = map (\\m -> ((x-m, y), l+m)) xs\n",
    "        in (cs, last cs)\n",
    "    U -> let\n",
    "        ys = [1..n]\n",
    "        cs = map (\\m -> ((x,y+m), l+m)) ys\n",
    "        in (cs, last cs)\n",
    "    D -> let\n",
    "        ys = [1..n]\n",
    "        cs = map (\\m -> ((x,y-m), l+m)) ys\n",
    "        in (cs, last cs)\n",
    "\n",
    "execute' dirs = M.fromList $ fst $ foldl' (\\(points, point) dn -> let (ps, pt) = run' point dn in (points++ps,pt)) ([],((0,0),0)) dirs"
   ]
  },
  {
   "cell_type": "code",
   "execution_count": 11,
   "metadata": {},
   "outputs": [
    {
     "data": {
      "text/plain": [
       "12304"
      ]
     },
     "metadata": {},
     "output_type": "display_data"
    }
   ],
   "source": [
    "line1' = execute' $ directions (head input)\n",
    "line2' = execute' $ directions (head $ tail input)\n",
    "\n",
    "S.findMin $ S.map (\\match -> line1' M.! match + line2' M.! match) $ S.intersection (M.keysSet line1') (M.keysSet line2')"
   ]
  }
 ],
 "metadata": {
  "kernelspec": {
   "display_name": "Haskell",
   "language": "haskell",
   "name": "haskell"
  },
  "language_info": {
   "codemirror_mode": "ihaskell",
   "file_extension": ".hs",
   "name": "haskell",
   "pygments_lexer": "Haskell",
   "version": "8.6.5"
  }
 },
 "nbformat": 4,
 "nbformat_minor": 2
}
