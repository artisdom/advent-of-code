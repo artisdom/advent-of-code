{
 "cells": [
  {
   "cell_type": "code",
   "execution_count": 1,
   "metadata": {},
   "outputs": [],
   "source": [
    "import AdventOfCode\n",
    "import qualified Data.Vector as V\n",
    "import qualified Data.IntMap.Strict as I"
   ]
  },
  {
   "cell_type": "code",
   "execution_count": 2,
   "metadata": {},
   "outputs": [],
   "source": [
    "input <- dayString 9\n",
    "\n",
    "instructions = read (\"[\" ++ input ++ \"]\") :: [Int]"
   ]
  },
  {
   "cell_type": "code",
   "execution_count": 3,
   "metadata": {},
   "outputs": [],
   "source": [
    "data Mode = Position | Immediate | Relative deriving (Eq, Show, Enum)\n",
    "\n",
    "data Opcode = Opcode\n",
    "    { opcodeCode  :: Int\n",
    "    , opcodeMode1 :: Mode\n",
    "    , opcodeMode2 :: Mode\n",
    "    , opcodeMode3 :: Mode\n",
    "    } deriving (Eq, Show)\n",
    "\n",
    "data ProgramState = ProgramState\n",
    "    { programStateProgram      :: V.Vector Int\n",
    "    , programStateMemory       :: I.IntMap Int\n",
    "    , programStateRelativeBase :: Int\n",
    "    } deriving (Eq, Show)"
   ]
  },
  {
   "cell_type": "code",
   "execution_count": 4,
   "metadata": {},
   "outputs": [],
   "source": [
    "parseCode :: Int -> Opcode\n",
    "parseCode i = let\n",
    "    m3   = i `div` 10000\n",
    "    m2   = (i - m3*10000) `div` 1000\n",
    "    m1   = (i - m3*10000 - m2*1000) `div` 100\n",
    "    code = i `rem` 100\n",
    "    in Opcode code (toEnum m1) (toEnum m2) (toEnum m3)"
   ]
  },
  {
   "cell_type": "code",
   "execution_count": 5,
   "metadata": {},
   "outputs": [],
   "source": [
    "access :: ProgramState -> Int -> Int\n",
    "access (ProgramState program memory _) index = if index >= V.length program\n",
    "    then I.findWithDefault 0 index memory\n",
    "    else program V.! index\n",
    "\n",
    "update :: ProgramState -> Int -> Int -> ProgramState\n",
    "update ps@(ProgramState program memory _) index value = if index >= V.length program\n",
    "    then ps{ programStateMemory = I.insert index value memory }\n",
    "    else ps{ programStateProgram = program V.// [(index,value)] }\n",
    "\n",
    "address :: Mode -> ProgramState -> Int -> Int\n",
    "address Position  programState index = programState `access` (programState `access` index)\n",
    "address Immediate programState index = programState `access` index\n",
    "address Relative  programState index = programState `access` (index + programStateRelativeBase programState)"
   ]
  },
  {
   "cell_type": "code",
   "execution_count": 6,
   "metadata": {},
   "outputs": [],
   "source": [
    "step :: ProgramState -> [Int] -> [Int] -> Int -> (ProgramState, [Int], [Int], Int)\n",
    "step programState input output index = do\n",
    "    let opcode = parseCode (programState `access` index)\n",
    "        a = address (opcodeMode1 opcode) programState (index+1)\n",
    "        b = address (opcodeMode2 opcode) programState (index+2)\n",
    "        o = programState `access` (index+3)\n",
    "    case opcodeCode opcode of\n",
    "        1 -> let\n",
    "            p = update programState o (a+b)\n",
    "            in (p, input, output, index+4)\n",
    "        2 -> let\n",
    "            p = update programState o (a*b)\n",
    "            in (p, input, output, index+4)\n",
    "        3 -> let\n",
    "            (v:input') = input\n",
    "            o = programState `access` (index+1)\n",
    "            p = update programState o v\n",
    "            in (p, input', output, index+2)\n",
    "        4 -> let\n",
    "            output' = output ++ [a]\n",
    "            in (programState, input, output', index+2)\n",
    "        5 -> if a/=0\n",
    "            then (programState, input, output, b)\n",
    "            else (programState, input, output, index+3)\n",
    "        6 -> if a==0\n",
    "            then (programState, input, output, b)\n",
    "            else (programState, input, output, index+3)\n",
    "        7 -> if a < b\n",
    "            then (update programState o 1, input, output, index+4)\n",
    "            else (update programState o 0, input, output, index+4)\n",
    "        8 -> if a == b\n",
    "            then (update programState o 1, input, output, index+4)\n",
    "            else (update programState o 0, input, output, index+4)\n",
    "        9 -> let\n",
    "            relativeBase' = programStateRelativeBase programState + a\n",
    "            p = programState { programStateRelativeBase = relativeBase' }\n",
    "            in (p, input, output, index+2)\n",
    "        99 -> (programState, input, output, index)"
   ]
  },
  {
   "cell_type": "code",
   "execution_count": 7,
   "metadata": {},
   "outputs": [],
   "source": [
    "loop program input output index = let\n",
    "    (program', input', output', index') = step program input output index\n",
    "    in if index == index'\n",
    "        then (program', output', index')\n",
    "        else loop program' input' output' index'"
   ]
  },
  {
   "cell_type": "code",
   "execution_count": 8,
   "metadata": {},
   "outputs": [],
   "source": [
    "parse s = read (\"[\" ++ s ++ \"]\") :: [Int]\n",
    "string = \"1102,34915192,34915192,7,4,7,99,0\"\n",
    "\n",
    "new program = ProgramState (V.fromList program) I.empty 0"
   ]
  },
  {
   "cell_type": "code",
   "execution_count": 9,
   "metadata": {},
   "outputs": [
    {
     "data": {
      "text/plain": [
       "(ProgramState {programStateProgram = [1102,34915192,34915192,7,4,7,99,1219070632396864], programStateMemory = fromList [], programStateRelativeBase = 0},[1219070632396864],6)"
      ]
     },
     "metadata": {},
     "output_type": "display_data"
    }
   ],
   "source": [
    "loop (new (parse string)) [] [] 0"
   ]
  }
 ],
 "metadata": {
  "kernelspec": {
   "display_name": "Haskell",
   "language": "haskell",
   "name": "haskell"
  },
  "language_info": {
   "codemirror_mode": "ihaskell",
   "file_extension": ".hs",
   "name": "haskell",
   "pygments_lexer": "Haskell",
   "version": "8.6.5"
  }
 },
 "nbformat": 4,
 "nbformat_minor": 2
}
