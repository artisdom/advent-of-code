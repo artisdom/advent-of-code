{
 "cells": [
  {
   "cell_type": "code",
   "execution_count": 1,
   "metadata": {
    "collapsed": true
   },
   "outputs": [],
   "source": [
    "numbers = {}\n",
    "numbers[(1,1)] = 20151125"
   ]
  },
  {
   "cell_type": "code",
   "execution_count": 10,
   "metadata": {
    "collapsed": true
   },
   "outputs": [],
   "source": [
    "def value(indices):\n",
    "    if indices in numbers:\n",
    "        return numbers[indices]\n",
    "    r, c = indices\n",
    "    if c==1:\n",
    "        r_, c_ = 1, r-1\n",
    "    else:\n",
    "        r_, c_ = r+1, c-1\n",
    "    previous = value((r_, c_))\n",
    "    computed = (previous*252533)%33554393\n",
    "    numbers[(r,c)] = computed\n",
    "    return computed"
   ]
  },
  {
   "cell_type": "code",
   "execution_count": 21,
   "metadata": {
    "collapsed": false
   },
   "outputs": [],
   "source": [
    "for i in range(1,10000):\n",
    "    r, c = i, 1\n",
    "    while c <= i:\n",
    "        value((r, c))\n",
    "        r, c = r-1, c+1"
   ]
  },
  {
   "cell_type": "code",
   "execution_count": 24,
   "metadata": {
    "collapsed": false
   },
   "outputs": [
    {
     "data": {
      "text/plain": [
       "9132360"
      ]
     },
     "execution_count": 24,
     "metadata": {},
     "output_type": "execute_result"
    }
   ],
   "source": [
    "value((2981,3075))"
   ]
  }
 ],
 "metadata": {
  "kernelspec": {
   "display_name": "Python 3",
   "language": "python",
   "name": "python3"
  },
  "language_info": {
   "codemirror_mode": {
    "name": "ipython",
    "version": 3
   },
   "file_extension": ".py",
   "mimetype": "text/x-python",
   "name": "python",
   "nbconvert_exporter": "python",
   "pygments_lexer": "ipython3",
   "version": "3.5.0"
  }
 },
 "nbformat": 4,
 "nbformat_minor": 0
}
