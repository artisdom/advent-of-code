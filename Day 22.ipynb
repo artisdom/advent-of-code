{
 "cells": [
  {
   "cell_type": "code",
   "execution_count": null,
   "metadata": {
    "collapsed": true
   },
   "outputs": [],
   "source": [
    "# Solution adapted from https://gist.github.com/latkin/45d8e009f471b4b5d609"
   ]
  },
  {
   "cell_type": "code",
   "execution_count": 14,
   "metadata": {
    "collapsed": false
   },
   "outputs": [],
   "source": [
    "class Spell:\n",
    "    def __init__(self, name, cost, damage, heal, armor, mana, duration):\n",
    "        self.name = name\n",
    "        self.cost = cost\n",
    "        self.damage = damage\n",
    "        self.heal = heal\n",
    "        self.armor = armor\n",
    "        self.mana = mana\n",
    "        self.duration = duration\n",
    "    def clone(self):\n",
    "        return type(self)(name=self.name, cost=self.cost, damage=self.damage, heal=self.heal,\n",
    "                          armor=self.armor, mana=self.mana, duration=self.duration)\n",
    "    def __eq__(self, other):\n",
    "        return other.name == self.name\n",
    "    def __repr__(self):\n",
    "        return self.name+\" \"+str(self.duration)\n",
    "\n",
    "MagicMissile = Spell(\"MagicMissile\", cost=53,  damage=4, heal=0, armor=0, mana=0,   duration=1)\n",
    "Drain        = Spell(\"Drain\",        cost=73,  damage=2, heal=2, armor=0, mana=0,   duration=1)\n",
    "Shield       = Spell(\"Shield\",       cost=113, damage=0, heal=0, armor=7, mana=0,   duration=6)\n",
    "Poison       = Spell(\"Poison\",       cost=173, damage=3, heal=0, armor=0, mana=0,   duration=6)\n",
    "Recharge     = Spell(\"Recharge\",     cost=229, damage=0, heal=0, armor=0, mana=101, duration=5)\n",
    "\n",
    "all_spells = [MagicMissile, Drain, Shield, Poison, Recharge]"
   ]
  },
  {
   "cell_type": "code",
   "execution_count": 43,
   "metadata": {
    "collapsed": false
   },
   "outputs": [
    {
     "name": "stdout",
     "output_type": "stream",
     "text": [
      "1269\n",
      "1309\n"
     ]
    }
   ],
   "source": [
    "def play(part, my_turn, best, spent, player, boss):\n",
    "    hp, mana, spells = player\n",
    "    boss_hp, boss_damage = boss\n",
    "    if spent >= best:\n",
    "        return best\n",
    "    if part == 2 and my_turn and hp == 1:\n",
    "        return best\n",
    "    mana = sum(map(lambda s: s.mana, spells)) + mana\n",
    "    damage = sum(map(lambda s: s.damage, spells))\n",
    "    armor = sum(map(lambda s: s.armor, spells))\n",
    "    boss_hp = boss_hp - damage\n",
    "    if boss_hp <= 0:\n",
    "        return spent\n",
    "    new_spells = []\n",
    "    for spell in map(lambda s: s.clone(), spells):\n",
    "        spell.duration -= 1\n",
    "        if spell.duration > 0:\n",
    "            new_spells.append(spell)\n",
    "    spells = new_spells\n",
    "    if my_turn:\n",
    "        if part == 2:\n",
    "            hp -= 1\n",
    "        new_best = best\n",
    "        buyable_spells = filter(\n",
    "            lambda s: s.cost <= mana and s not in spells, [spell.clone() for spell in all_spells])\n",
    "        for spell in buyable_spells:\n",
    "            if spell.duration == 1:\n",
    "                extra_damage_, heal_, spells_ = spell.damage, spell.heal, spells\n",
    "            else:\n",
    "                extra_damage_, heal_, spells_ = 0, 0, spells+[spell]\n",
    "            spent_ = spent+spell.cost\n",
    "            mana_ = mana - spell.cost\n",
    "            hp_ = hp + heal_\n",
    "            boss_hp_ = boss_hp - extra_damage_\n",
    "            if boss_hp_ <= 0:\n",
    "                new_best = min(new_best, spent_)\n",
    "            else:\n",
    "                new_best = min(new_best, play(part, False, new_best, spent_, (hp_, mana_, spells_), (boss_hp_, boss_damage)))\n",
    "        return new_best\n",
    "    else:\n",
    "        damage = max(boss_damage-armor, 1)\n",
    "        hp = hp - damage\n",
    "        if hp <= 0:\n",
    "            return best\n",
    "        else:\n",
    "            return play(part, True, best, spent, (hp, mana, spells), (boss_hp, boss_damage))\n",
    "\n",
    "print(play(1, True, 9999, 0, (50, 500, []), (58, 9)))\n",
    "print(play(2, True, 9999, 0, (50, 500, []), (58, 9)))"
   ]
  },
  {
   "cell_type": "code",
   "execution_count": 2,
   "metadata": {
    "collapsed": true
   },
   "outputs": [],
   "source": []
  },
  {
   "cell_type": "code",
   "execution_count": null,
   "metadata": {
    "collapsed": true
   },
   "outputs": [],
   "source": []
  }
 ],
 "metadata": {
  "kernelspec": {
   "display_name": "Python 3",
   "language": "python",
   "name": "python3"
  },
  "language_info": {
   "codemirror_mode": {
    "name": "ipython",
    "version": 3
   },
   "file_extension": ".py",
   "mimetype": "text/x-python",
   "name": "python",
   "nbconvert_exporter": "python",
   "pygments_lexer": "ipython3",
   "version": "3.5.0"
  }
 },
 "nbformat": 4,
 "nbformat_minor": 0
}
