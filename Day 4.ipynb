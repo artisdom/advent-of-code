{
 "cells": [
  {
   "cell_type": "code",
   "execution_count": 1,
   "metadata": {
    "collapsed": false
   },
   "outputs": [],
   "source": [
    "import hashlib\n",
    "m = hashlib.md5()\n",
    "m.update('bgvyzdsv'.encode())"
   ]
  },
  {
   "cell_type": "code",
   "execution_count": 2,
   "metadata": {
    "collapsed": false
   },
   "outputs": [
    {
     "name": "stdout",
     "output_type": "stream",
     "text": [
      "254575 000004b30d481662b9cb0c105f6549b2\n"
     ]
    }
   ],
   "source": [
    "for i in range(1000000):\n",
    "    m_ = m.copy()\n",
    "    m_.update(str(i).encode())\n",
    "    if (m_.hexdigest()[:5]=='00000'):\n",
    "        print(i,m_.hexdigest())"
   ]
  },
  {
   "cell_type": "code",
   "execution_count": 3,
   "metadata": {
    "collapsed": false
   },
   "outputs": [
    {
     "name": "stdout",
     "output_type": "stream",
     "text": [
      "1038736 000000b1b64bf5eb55aad89986126953\n"
     ]
    }
   ],
   "source": [
    "for i in range(10000000):\n",
    "    m_ = m.copy()\n",
    "    m_.update(str(i).encode())\n",
    "    if (m_.hexdigest()[:6]=='000000'):\n",
    "        print(i,m_.hexdigest())"
   ]
  }
 ],
 "metadata": {
  "kernelspec": {
   "display_name": "Python 3",
   "language": "python",
   "name": "python3"
  },
  "language_info": {
   "codemirror_mode": {
    "name": "ipython",
    "version": 3
   },
   "file_extension": ".py",
   "mimetype": "text/x-python",
   "name": "python",
   "nbconvert_exporter": "python",
   "pygments_lexer": "ipython3",
   "version": "3.5.0"
  }
 },
 "nbformat": 4,
 "nbformat_minor": 0
}
