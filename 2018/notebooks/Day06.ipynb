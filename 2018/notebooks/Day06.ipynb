{
 "cells": [
  {
   "cell_type": "code",
   "execution_count": 1,
   "metadata": {},
   "outputs": [],
   "source": [
    "import AdventOfCode"
   ]
  },
  {
   "cell_type": "code",
   "execution_count": 2,
   "metadata": {},
   "outputs": [],
   "source": [
    "{-# LANGUAGE OverloadedStrings #-}\n",
    "\n",
    "input <- dayLines 6"
   ]
  },
  {
   "cell_type": "code",
   "execution_count": 8,
   "metadata": {},
   "outputs": [],
   "source": [
    "import qualified Data.Attoparsec.Char8 as C\n",
    "\n",
    "parseLine = do\n",
    "    x <- C.decimal\n",
    "    C.string \", \"\n",
    "    y <- C.decimal\n",
    "    pure (x, y)\n",
    "\n",
    "parsedInput = map (parsed parseLine) input"
   ]
  },
  {
   "cell_type": "code",
   "execution_count": 23,
   "metadata": {},
   "outputs": [
    {
     "data": {
      "text/plain": [
       "5"
      ]
     },
     "metadata": {},
     "output_type": "display_data"
    }
   ],
   "source": [
    "minX = minimum (map fst parsedInput)\n",
    "maxX = maximum (map fst parsedInput)\n",
    "minY = minimum (map snd parsedInput)\n",
    "maxY = maximum (map snd parsedInput)\n",
    "\n",
    "manhattanDistance (a,b) (x,y) = abs (x - a) + abs (y - b)\n",
    "\n",
    "manhattanDistance (3,4) (1,1)"
   ]
  },
  {
   "cell_type": "code",
   "execution_count": 24,
   "metadata": {},
   "outputs": [],
   "source": [
    "import Data.List\n",
    "\n",
    "type Point = (Int, Int)\n",
    "\n",
    "closestTo :: [Point] -> Point -> Maybe Point\n",
    "closestTo ps p = let\n",
    "    dists = map (manhattanDistance p) ps\n",
    "    zipped = zip ps dists\n",
    "    sorted = sortOn snd zipped\n",
    "    [(p1,d1), (p2,d2)] = take 2 sorted\n",
    "    in if d1 < d2 then Just p1 else Nothing\n",
    "\n",
    "range = [(x,y) | x <- [minX..maxX], y <- [minY..maxY]]\n",
    "closest = map (closestTo parsedInput) range"
   ]
  },
  {
   "cell_type": "code",
   "execution_count": 27,
   "metadata": {},
   "outputs": [],
   "source": [
    "counts = freqs closest"
   ]
  },
  {
   "cell_type": "code",
   "execution_count": 28,
   "metadata": {},
   "outputs": [],
   "source": [
    "outside\n",
    "    =  [(minX-1, y) | y <- [minY..maxY]]\n",
    "    ++ [(x, minY-1) | x <- [minX..maxX]]\n",
    "    ++ [(maxX+1, y) | y <- [minY..maxY]]\n",
    "    ++ [(x, maxY+1) | x <- [minX..maxX]]\n",
    "\n",
    "infinities = ordNub $ map (closestTo parsedInput) outside"
   ]
  },
  {
   "cell_type": "code",
   "execution_count": 34,
   "metadata": {},
   "outputs": [
    {
     "data": {
      "text/plain": [
       "3620"
      ]
     },
     "metadata": {},
     "output_type": "display_data"
    }
   ],
   "source": [
    "import qualified Data.Map.Strict as Map\n",
    "import Data.Function (on)\n",
    "\n",
    "finites = foldl' (flip Map.delete) counts infinities\n",
    "\n",
    "snd $ maximumBy (compare `on` snd) $ Map.toList finites"
   ]
  },
  {
   "cell_type": "code",
   "execution_count": 38,
   "metadata": {},
   "outputs": [
    {
     "data": {
      "text/html": [
       "<style>/* Styles used for the Hoogle display in the pager */\n",
       ".hoogle-doc {\n",
       "display: block;\n",
       "padding-bottom: 1.3em;\n",
       "padding-left: 0.4em;\n",
       "}\n",
       ".hoogle-code {\n",
       "display: block;\n",
       "font-family: monospace;\n",
       "white-space: pre;\n",
       "}\n",
       ".hoogle-text {\n",
       "display: block;\n",
       "}\n",
       ".hoogle-name {\n",
       "color: green;\n",
       "font-weight: bold;\n",
       "}\n",
       ".hoogle-head {\n",
       "font-weight: bold;\n",
       "}\n",
       ".hoogle-sub {\n",
       "display: block;\n",
       "margin-left: 0.4em;\n",
       "}\n",
       ".hoogle-package {\n",
       "font-weight: bold;\n",
       "font-style: italic;\n",
       "}\n",
       ".hoogle-module {\n",
       "font-weight: bold;\n",
       "}\n",
       ".hoogle-class {\n",
       "font-weight: bold;\n",
       "}\n",
       ".get-type {\n",
       "color: green;\n",
       "font-weight: bold;\n",
       "font-family: monospace;\n",
       "display: block;\n",
       "white-space: pre-wrap;\n",
       "}\n",
       ".show-type {\n",
       "color: green;\n",
       "font-weight: bold;\n",
       "font-family: monospace;\n",
       "margin-left: 1em;\n",
       "}\n",
       ".mono {\n",
       "font-family: monospace;\n",
       "display: block;\n",
       "}\n",
       ".err-msg {\n",
       "color: red;\n",
       "font-style: italic;\n",
       "font-family: monospace;\n",
       "white-space: pre;\n",
       "display: block;\n",
       "}\n",
       "#unshowable {\n",
       "color: red;\n",
       "font-weight: bold;\n",
       "}\n",
       ".err-msg.in.collapse {\n",
       "padding-top: 0.7em;\n",
       "}\n",
       ".highlight-code {\n",
       "white-space: pre;\n",
       "font-family: monospace;\n",
       "}\n",
       ".suggestion-warning { \n",
       "font-weight: bold;\n",
       "color: rgb(200, 130, 0);\n",
       "}\n",
       ".suggestion-error { \n",
       "font-weight: bold;\n",
       "color: red;\n",
       "}\n",
       ".suggestion-name {\n",
       "font-weight: bold;\n",
       "}\n",
       "</style><div class=\"suggestion-name\" style=\"clear:both;\">Use section</div><div class=\"suggestion-row\" style=\"float: left;\"><div class=\"suggestion-warning\">Found:</div><div class=\"highlight-code\" id=\"haskell\">(flip totalDistance parsedInput)</div></div><div class=\"suggestion-row\" style=\"float: left;\"><div class=\"suggestion-warning\">Why Not:</div><div class=\"highlight-code\" id=\"haskell\">(`totalDistance` parsedInput)</div></div>"
      ],
      "text/plain": [
       "Line 1: Use section\n",
       "Found:\n",
       "(flip totalDistance parsedInput)\n",
       "Why not:\n",
       "(`totalDistance` parsedInput)"
      ]
     },
     "metadata": {},
     "output_type": "display_data"
    },
    {
     "data": {
      "text/plain": [
       "39930"
      ]
     },
     "metadata": {},
     "output_type": "display_data"
    }
   ],
   "source": [
    "totalDistance :: Point -> [Point] -> Int\n",
    "totalDistance p ps = sum $ map (flip manhattanDistance p) ps\n",
    "\n",
    "length $ filter (<10000) $ map (flip totalDistance parsedInput) [(x,y) | x <- [minX..maxX], y <- [minY..maxY]]"
   ]
  }
 ],
 "metadata": {
  "kernelspec": {
   "display_name": "Haskell",
   "language": "haskell",
   "name": "haskell"
  },
  "language_info": {
   "codemirror_mode": "ihaskell",
   "file_extension": ".hs",
   "name": "haskell",
   "pygments_lexer": "Haskell",
   "version": "8.4.4"
  }
 },
 "nbformat": 4,
 "nbformat_minor": 2
}
