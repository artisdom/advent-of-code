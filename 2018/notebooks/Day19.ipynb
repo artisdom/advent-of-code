{
 "cells": [
  {
   "cell_type": "code",
   "execution_count": 1,
   "metadata": {},
   "outputs": [],
   "source": [
    "import AdventOfCode"
   ]
  },
  {
   "cell_type": "code",
   "execution_count": 2,
   "metadata": {},
   "outputs": [],
   "source": [
    "import qualified Data.Vector as V"
   ]
  },
  {
   "cell_type": "code",
   "execution_count": 3,
   "metadata": {},
   "outputs": [],
   "source": [
    "input <- dayLines 19"
   ]
  },
  {
   "cell_type": "code",
   "execution_count": 4,
   "metadata": {},
   "outputs": [],
   "source": [
    "import Data.Bits\n",
    "\n",
    "addr, addi :: V.Vector Int -> V.Vector Int -> V.Vector Int\n",
    "\n",
    "oprr op rs is = let\n",
    "    opA = rs V.! (is V.! 0)\n",
    "    opB = rs V.! (is V.! 1)\n",
    "    rsC = op opA opB\n",
    "    in rs V.// [(is V.! 2, rsC)]\n",
    "\n",
    "opri op rs is = let\n",
    "    opA = rs V.! (is V.! 0)\n",
    "    opB = (is V.! 1)\n",
    "    rsC = op opA opB\n",
    "    in rs V.// [(is V.! 2, rsC)]\n",
    "\n",
    "opir op rs is = let\n",
    "    opA = (is V.! 0)\n",
    "    opB = rs V.! (is V.! 1)\n",
    "    rsC = op opA opB\n",
    "    in rs V.// [(is V.! 2, rsC)]\n",
    "\n",
    "fromBool False = 0\n",
    "fromBool True = 1\n",
    "\n",
    "(addr, addi) = (oprr (+), opri (+))\n",
    "(mulr, muli) = (oprr (*), opri (*))\n",
    "(banr, bani) = (oprr (fromIntegral .: (.&.)), opri (.&.))\n",
    "(borr, bori) = (oprr (fromIntegral .: (.|.)), opri (.|.))\n",
    "(setr, seti) = (oprr const, opir const)\n",
    "(gtrr, gtri, gtir) = (oprr (fromBool .: (>)), opri (fromBool .: (>)), opir (fromBool .: (>)))\n",
    "(eqrr, eqri, eqir) = (oprr (fromBool .: (==)), opri (fromBool .: (==)), opir (fromBool .: (==)))"
   ]
  },
  {
   "cell_type": "code",
   "execution_count": 5,
   "metadata": {},
   "outputs": [],
   "source": [
    "{-# LANGUAGE OverloadedStrings #-}\n",
    "\n",
    "import qualified Data.Attoparsec.ByteString.Char8 as C\n",
    "import Data.Functor (($>))\n",
    "\n",
    "parseInstr :: C.Parser (String, V.Vector Int -> V.Vector Int -> V.Vector Int)\n",
    "parseInstr = C.choice\n",
    "    [ \"addr\" $> (\"addr\",addr)\n",
    "    , \"addi\" $> (\"addi\",addi)\n",
    "    , \"mulr\" $> (\"mulr\",mulr)\n",
    "    , \"muli\" $> (\"muli\",muli)\n",
    "    , \"banr\" $> (\"banr\",banr)\n",
    "    , \"bani\" $> (\"bani\",bani)\n",
    "    , \"borr\" $> (\"borr\",borr)\n",
    "    , \"bori\" $> (\"bori\",bori)\n",
    "    , \"setr\" $> (\"setr\",setr)\n",
    "    , \"seti\" $> (\"seti\",seti)\n",
    "    , \"gtrr\" $> (\"gtrr\",gtrr)\n",
    "    , \"gtri\" $> (\"gtri\",gtri)\n",
    "    , \"gtir\" $> (\"gtir\",gtir)\n",
    "    , \"eqrr\" $> (\"eqrr\",eqrr)\n",
    "    , \"eqri\" $> (\"eqri\",eqri)\n",
    "    , \"eqir\" $> (\"eqir\",eqir)\n",
    "    ]"
   ]
  },
  {
   "cell_type": "code",
   "execution_count": 10,
   "metadata": {},
   "outputs": [],
   "source": [
    "parseLine :: C.Parser ((V.Vector Int -> V.Vector Int -> V.Vector Int), String, V.Vector Int)\n",
    "parseLine = do\n",
    "    (name,instr) <- parseInstr\n",
    "    C.skipSpace\n",
    "    a <- C.decimal\n",
    "    C.skipSpace\n",
    "    b <- C.decimal\n",
    "    C.skipSpace\n",
    "    c <- C.decimal\n",
    "    pure (instr, name, V.fromList [a,b,c])"
   ]
  },
  {
   "cell_type": "code",
   "execution_count": 11,
   "metadata": {},
   "outputs": [
    {
     "data": {
      "text/html": [
       "<style>/* Styles used for the Hoogle display in the pager */\n",
       ".hoogle-doc {\n",
       "display: block;\n",
       "padding-bottom: 1.3em;\n",
       "padding-left: 0.4em;\n",
       "}\n",
       ".hoogle-code {\n",
       "display: block;\n",
       "font-family: monospace;\n",
       "white-space: pre;\n",
       "}\n",
       ".hoogle-text {\n",
       "display: block;\n",
       "}\n",
       ".hoogle-name {\n",
       "color: green;\n",
       "font-weight: bold;\n",
       "}\n",
       ".hoogle-head {\n",
       "font-weight: bold;\n",
       "}\n",
       ".hoogle-sub {\n",
       "display: block;\n",
       "margin-left: 0.4em;\n",
       "}\n",
       ".hoogle-package {\n",
       "font-weight: bold;\n",
       "font-style: italic;\n",
       "}\n",
       ".hoogle-module {\n",
       "font-weight: bold;\n",
       "}\n",
       ".hoogle-class {\n",
       "font-weight: bold;\n",
       "}\n",
       ".get-type {\n",
       "color: green;\n",
       "font-weight: bold;\n",
       "font-family: monospace;\n",
       "display: block;\n",
       "white-space: pre-wrap;\n",
       "}\n",
       ".show-type {\n",
       "color: green;\n",
       "font-weight: bold;\n",
       "font-family: monospace;\n",
       "margin-left: 1em;\n",
       "}\n",
       ".mono {\n",
       "font-family: monospace;\n",
       "display: block;\n",
       "}\n",
       ".err-msg {\n",
       "color: red;\n",
       "font-style: italic;\n",
       "font-family: monospace;\n",
       "white-space: pre;\n",
       "display: block;\n",
       "}\n",
       "#unshowable {\n",
       "color: red;\n",
       "font-weight: bold;\n",
       "}\n",
       ".err-msg.in.collapse {\n",
       "padding-top: 0.7em;\n",
       "}\n",
       ".highlight-code {\n",
       "white-space: pre;\n",
       "font-family: monospace;\n",
       "}\n",
       ".suggestion-warning { \n",
       "font-weight: bold;\n",
       "color: rgb(200, 130, 0);\n",
       "}\n",
       ".suggestion-error { \n",
       "font-weight: bold;\n",
       "color: red;\n",
       "}\n",
       ".suggestion-name {\n",
       "font-weight: bold;\n",
       "}\n",
       "</style><span class='get-type'>instructions :: Vector (Vector Int -> Vector Int -> Vector Int, String, Vector Int)</span>"
      ],
      "text/plain": [
       "instructions :: Vector (Vector Int -> Vector Int -> Vector Int, String, Vector Int)"
      ]
     },
     "metadata": {},
     "output_type": "display_data"
    }
   ],
   "source": [
    "instructions = V.fromList $ map (parsed parseLine) $ drop 1 input\n",
    ":t instructions"
   ]
  },
  {
   "cell_type": "code",
   "execution_count": 12,
   "metadata": {},
   "outputs": [
    {
     "data": {
      "text/plain": [
       "[2106,1,954,257,955,955]"
      ]
     },
     "metadata": {},
     "output_type": "display_data"
    }
   ],
   "source": [
    "import Debug.Trace\n",
    "\n",
    "loop rs instrs = let\n",
    "    ip = (rs V.! 3)\n",
    "    in if ip < 0 || ip > V.length instrs\n",
    "        then rs\n",
    "        else let\n",
    "            (instr,name,is) = instrs V.! ip\n",
    "            rs' = traceShow (name,is) $ instr rs is\n",
    "            ip' = rs' V.! 3\n",
    "            rs'' = rs' V.// [(3,ip'+1)]\n",
    "            in loop rs'' instrs\n",
    "\n",
    "rs = V.fromList $ replicate 6 0\n",
    "loop rs instructions"
   ]
  },
  {
   "cell_type": "code",
   "execution_count": 9,
   "metadata": {},
   "outputs": [],
   "source": [
    "-- loop (V.fromList [1, 0, 0, 0, 0, 0]) instructions"
   ]
  }
 ],
 "metadata": {
  "kernelspec": {
   "display_name": "Haskell",
   "language": "haskell",
   "name": "haskell"
  },
  "language_info": {
   "codemirror_mode": "ihaskell",
   "file_extension": ".hs",
   "name": "haskell",
   "pygments_lexer": "Haskell",
   "version": "8.4.4"
  }
 },
 "nbformat": 4,
 "nbformat_minor": 2
}
