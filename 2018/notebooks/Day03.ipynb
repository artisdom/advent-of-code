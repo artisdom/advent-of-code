{
 "cells": [
  {
   "cell_type": "code",
   "execution_count": 1,
   "metadata": {},
   "outputs": [],
   "source": [
    "import AdventOfCode"
   ]
  },
  {
   "cell_type": "code",
   "execution_count": 2,
   "metadata": {},
   "outputs": [],
   "source": [
    "input <- dayLines 3"
   ]
  },
  {
   "cell_type": "code",
   "execution_count": 3,
   "metadata": {},
   "outputs": [],
   "source": [
    "import qualified Data.Attoparsec.ByteString as A\n",
    "import qualified Data.Attoparsec.ByteString.Char8 as A\n",
    "import Data.ByteString (ByteString)\n",
    "\n",
    "data Claim = Claim\n",
    "    { claimNo\n",
    "    , claimLeft\n",
    "    , claimTop\n",
    "    , claimWide\n",
    "    , claimTall :: Int\n",
    "    } deriving (Eq, Show, Ord)\n",
    "\n",
    "parseClaim = do\n",
    "    no <- A.char '#' *> A.decimal\n",
    "    left <- A.space *> A.char '@' *> A.space *> A.decimal\n",
    "    top <- A.char ',' *> A.decimal\n",
    "    wide <- A.char ':' *> A.space *> A.decimal\n",
    "    tall <- A.char 'x' *> A.decimal\n",
    "    pure $ Claim no left top wide tall"
   ]
  },
  {
   "cell_type": "code",
   "execution_count": 4,
   "metadata": {},
   "outputs": [],
   "source": [
    "claims = map (parsed parseClaim) input"
   ]
  },
  {
   "cell_type": "code",
   "execution_count": 5,
   "metadata": {},
   "outputs": [],
   "source": [
    "row = [1..1000]\n",
    "\n",
    "fabric = map (\\i -> map (+(i*1000)) row) [0..1000]\n",
    "\n",
    "inchIds (Claim _ left top wide tall) = let\n",
    "    fromTop = drop top fabric\n",
    "    fromLeft = map (drop left) fromTop\n",
    "    height = take tall fromLeft\n",
    "    width = map (take wide) height\n",
    "    in concat width\n",
    "\n",
    "allInchIds = map inchIds claims"
   ]
  },
  {
   "cell_type": "code",
   "execution_count": 6,
   "metadata": {},
   "outputs": [],
   "source": [
    "import qualified Data.Map.Strict as Map\n",
    "import Data.List (foldl')\n",
    "\n",
    "claimedInches = concat allInchIds\n",
    "\n",
    "occurrences = foldl' (\\m i -> Map.insertWith (+) i 1 m) Map.empty claimedInches"
   ]
  },
  {
   "cell_type": "code",
   "execution_count": 7,
   "metadata": {},
   "outputs": [
    {
     "data": {
      "text/plain": [
       "104712"
      ]
     },
     "metadata": {},
     "output_type": "display_data"
    }
   ],
   "source": [
    "length $ Map.keys $ Map.filter (>1) occurrences"
   ]
  },
  {
   "cell_type": "code",
   "execution_count": 8,
   "metadata": {},
   "outputs": [],
   "source": [
    "import qualified Data.Set as S\n",
    "\n",
    "claimMap = Map.fromList $ zip claims (map S.fromList allInchIds)"
   ]
  },
  {
   "cell_type": "code",
   "execution_count": 9,
   "metadata": {},
   "outputs": [
    {
     "data": {
      "text/plain": [
       "fromList [(Claim {claimNo = 840, claimLeft = 163, claimTop = 836, claimWide = 21, claimTall = 12},fromList [1])]"
      ]
     },
     "metadata": {},
     "output_type": "display_data"
    }
   ],
   "source": [
    "occs = Map.map (S.map ((Map.!) occurrences)) claimMap\n",
    "\n",
    "Map.filter (\\v -> v == S.singleton 1) occs"
   ]
  }
 ],
 "metadata": {
  "kernelspec": {
   "display_name": "Haskell",
   "language": "haskell",
   "name": "haskell"
  },
  "language_info": {
   "codemirror_mode": "ihaskell",
   "file_extension": ".hs",
   "name": "haskell",
   "pygments_lexer": "Haskell",
   "version": "8.4.4"
  }
 },
 "nbformat": 4,
 "nbformat_minor": 2
}
