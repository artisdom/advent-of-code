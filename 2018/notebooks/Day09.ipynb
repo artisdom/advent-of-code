{
 "cells": [
  {
   "cell_type": "code",
   "execution_count": null,
   "metadata": {},
   "outputs": [],
   "source": [
    "import AdventOfCode"
   ]
  },
  {
   "cell_type": "code",
   "execution_count": null,
   "metadata": {},
   "outputs": [],
   "source": [
    "input <- dayString 9"
   ]
  },
  {
   "cell_type": "code",
   "execution_count": null,
   "metadata": {},
   "outputs": [],
   "source": [
    "import Text.Read (readMaybe)\n",
    "import Data.Maybe (mapMaybe, catMaybes)\n",
    "\n",
    "[playing, final] = mapMaybe (readMaybe :: String -> Maybe Int) $ words input"
   ]
  },
  {
   "cell_type": "code",
   "execution_count": null,
   "metadata": {},
   "outputs": [],
   "source": [
    "import qualified Data.Sequence as S\n",
    "\n",
    "import qualified Data.Map.Strict as Map"
   ]
  },
  {
   "cell_type": "code",
   "execution_count": null,
   "metadata": {},
   "outputs": [],
   "source": [
    "data GameState\n",
    "    = GameState\n",
    "    { placedMarbles :: S.Seq Int\n",
    "    , remainingMarbles :: [Int]\n",
    "    , currentIndex :: Int\n",
    "    , currentPlayer :: Int\n",
    "    , players :: Map.Map Int Int\n",
    "    , totalPlayers :: Int\n",
    "    } deriving (Eq, Show)"
   ]
  },
  {
   "cell_type": "code",
   "execution_count": null,
   "metadata": {},
   "outputs": [],
   "source": [
    "example = GameState (S.fromList [0]) [1..25] 0 0 (Map.fromList $ zip [0..9] (repeat 0)) 9"
   ]
  },
  {
   "cell_type": "code",
   "execution_count": null,
   "metadata": {},
   "outputs": [],
   "source": [
    "example"
   ]
  },
  {
   "cell_type": "code",
   "execution_count": null,
   "metadata": {},
   "outputs": [],
   "source": [
    "play :: GameState -> GameState\n",
    "play gs = let\n",
    "    nextPlayer = (currentPlayer gs + 1) `mod` (totalPlayers gs)\n",
    "    nextMarble:remaining = remainingMarbles gs\n",
    "    (placed, newIndex, score) = place nextMarble (currentIndex gs) (placedMarbles gs)\n",
    "    players' = Map.adjust (+score) nextPlayer (players gs)\n",
    "    in GameState placed remaining newIndex nextPlayer players' (totalPlayers gs)\n",
    "\n",
    "computeIndex :: S.Seq a -> Int -> Int\n",
    "computeIndex s i = if i < 0 then i + S.length s else i\n",
    "\n",
    "\n",
    "place :: Int -> Int -> S.Seq Int -> (S.Seq Int, Int, Int)\n",
    "place marble currentIndex placed\n",
    "    | marble `mod` 23 == 0 = let\n",
    "        dropIndex = computeIndex placed (currentIndex - 7)\n",
    "        remove = S.index placed dropIndex\n",
    "        placed' = S.deleteAt dropIndex placed\n",
    "        in (placed', dropIndex `mod` S.length placed', remove `seq` remove + marble)\n",
    "    | otherwise = let\n",
    "        newIndex = (currentIndex + 2) `mod` S.length placed\n",
    "        placed' = S.insertAt newIndex marble placed\n",
    "        in (placed', newIndex, 0)"
   ]
  },
  {
   "cell_type": "code",
   "execution_count": null,
   "metadata": {},
   "outputs": [],
   "source": [
    "import Data.Foldable (toList)\n",
    "\n",
    "last $ take 26 $ iterate play example"
   ]
  },
  {
   "cell_type": "code",
   "execution_count": null,
   "metadata": {},
   "outputs": [],
   "source": [
    "import Data.List\n",
    "import Data.Function (on)\n",
    "\n",
    "initGame p f = GameState (S.fromList [0]) [1..f] 0 0 (Map.fromList $ zip [0..p] (repeat 0)) p\n",
    "\n",
    "loop g = if (remainingMarbles g == []) then maximumBy (compare `on` snd) (Map.toList (players g)) else loop (play g)"
   ]
  },
  {
   "cell_type": "code",
   "execution_count": null,
   "metadata": {},
   "outputs": [],
   "source": [
    "loop example\n",
    "loop (initGame 10 1618)\n",
    "loop (initGame 13 7999)"
   ]
  },
  {
   "cell_type": "code",
   "execution_count": null,
   "metadata": {},
   "outputs": [],
   "source": [
    "loop $ initGame playing final"
   ]
  },
  {
   "cell_type": "code",
   "execution_count": null,
   "metadata": {},
   "outputs": [],
   "source": [
    "loop $ initGame playing (final*100)"
   ]
  }
 ],
 "metadata": {
  "kernelspec": {
   "display_name": "Haskell",
   "language": "haskell",
   "name": "haskell"
  },
  "language_info": {
   "codemirror_mode": "ihaskell",
   "file_extension": ".hs",
   "name": "haskell",
   "pygments_lexer": "Haskell",
   "version": "8.4.4"
  }
 },
 "nbformat": 4,
 "nbformat_minor": 2
}
