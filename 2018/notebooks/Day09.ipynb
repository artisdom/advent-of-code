{
 "cells": [
  {
   "cell_type": "code",
   "execution_count": 1,
   "metadata": {},
   "outputs": [],
   "source": [
    "import AdventOfCode"
   ]
  },
  {
   "cell_type": "code",
   "execution_count": 2,
   "metadata": {},
   "outputs": [],
   "source": [
    "input <- dayString 9"
   ]
  },
  {
   "cell_type": "code",
   "execution_count": 3,
   "metadata": {},
   "outputs": [],
   "source": [
    "import Text.Read (readMaybe)\n",
    "import Data.Maybe (mapMaybe, catMaybes)\n",
    "\n",
    "[playing, final] = mapMaybe (readMaybe :: String -> Maybe Int) $ words input"
   ]
  },
  {
   "cell_type": "code",
   "execution_count": 4,
   "metadata": {},
   "outputs": [],
   "source": [
    "import qualified Data.IntMap.Strict as Map"
   ]
  },
  {
   "cell_type": "code",
   "execution_count": 5,
   "metadata": {},
   "outputs": [
    {
     "data": {
      "text/plain": [
       "Zipper {zipperLeft = [2,1], zipperFocus = 3, zipperRight = []}"
      ]
     },
     "metadata": {},
     "output_type": "display_data"
    },
    {
     "data": {
      "text/plain": [
       "Zipper {zipperLeft = [], zipperFocus = 1, zipperRight = [2,3]}"
      ]
     },
     "metadata": {},
     "output_type": "display_data"
    },
    {
     "data": {
      "text/plain": [
       "Zipper {zipperLeft = [], zipperFocus = 2, zipperRight = [3]}"
      ]
     },
     "metadata": {},
     "output_type": "display_data"
    }
   ],
   "source": [
    "data Zipper a = Zipper\n",
    "    { zipperLeft  :: [a]\n",
    "    , zipperFocus :: a\n",
    "    , zipperRight :: [a]\n",
    "    } deriving (Eq, Show)\n",
    "\n",
    "moveLeft  (Zipper [] c r) = let\n",
    "    (c':l) = reverse (c:r)\n",
    "    in Zipper l c' []\n",
    "moveLeft  (Zipper (x:xs) c r) = Zipper xs    x (c:r)\n",
    "\n",
    "moveRight (Zipper l c []) = let\n",
    "    (c':r) = reverse (c:l)\n",
    "    in Zipper [] c' r\n",
    "moveRight (Zipper l c (x:xs)) = Zipper (c:l) x xs\n",
    "\n",
    "insertAt e (Zipper l c r) = Zipper l e (c:r)\n",
    "\n",
    "deleteAt (Zipper l c r) = case r of\n",
    "    [] -> case reverse l of\n",
    "        [] -> error \"empty Zipper\"\n",
    "        (x:xs) -> Zipper [] x xs\n",
    "    (x:xs) -> Zipper l x xs\n",
    "\n",
    "fromList (x:xs) = Zipper [] x xs\n",
    "\n",
    "moveLeft $ Zipper [] 1 [2,3]\n",
    "moveRight $ Zipper [2,1] 3 []\n",
    "deleteAt $ Zipper [] 1 [2,3]"
   ]
  },
  {
   "cell_type": "code",
   "execution_count": 6,
   "metadata": {},
   "outputs": [],
   "source": [
    "data GameState\n",
    "    = GameState\n",
    "    { placedMarbles :: Zipper Int\n",
    "    , currentMarble :: Int\n",
    "    , currentPlayer :: Int\n",
    "    , players :: Map.IntMap Int\n",
    "    , totalPlayers :: Int\n",
    "    } deriving (Eq, Show)"
   ]
  },
  {
   "cell_type": "code",
   "execution_count": 7,
   "metadata": {},
   "outputs": [],
   "source": [
    "play :: GameState -> GameState\n",
    "play gs = let\n",
    "    nextPlayer = (currentPlayer gs + 1) `mod` (totalPlayers gs)\n",
    "    current = currentMarble gs\n",
    "    (placed, score) = place current (placedMarbles gs)\n",
    "    players' = Map.adjust (+score) nextPlayer (players gs)\n",
    "    in GameState placed (current+1) nextPlayer players' (totalPlayers gs)\n",
    "\n",
    "moveLeftN 1 z = moveLeft z\n",
    "moveLeftN n z = moveLeftN (n-1) (moveLeft z)\n",
    "\n",
    "moveRightN 1 z = moveRight z\n",
    "moveRightN n z = moveRightN (n-1) (moveRight z)\n",
    "\n",
    "place :: Int -> Zipper Int -> (Zipper Int, Int)\n",
    "place marble placed\n",
    "    | marble `mod` 23 == 0 = let\n",
    "        moved = moveLeftN 7 placed\n",
    "        remove = zipperFocus moved\n",
    "        placed' = deleteAt moved\n",
    "        in (placed', remove + marble)\n",
    "    | otherwise = let\n",
    "        placed' = insertAt marble (moveRightN 2 placed)\n",
    "        in (placed', 0)"
   ]
  },
  {
   "cell_type": "code",
   "execution_count": 8,
   "metadata": {},
   "outputs": [],
   "source": [
    "toList (Zipper l c r) = reverse l ++ (c:r)"
   ]
  },
  {
   "cell_type": "code",
   "execution_count": 9,
   "metadata": {},
   "outputs": [],
   "source": [
    "import Data.List\n",
    "import Data.Function (on)\n",
    "\n",
    "initGame p f = GameState (fromList [0]) 1 0 (Map.fromList $ zip [0..p] (repeat 0)) p\n",
    "\n",
    "loop g f = if (currentMarble g > f) then maximumBy (compare `on` snd) (Map.toList (players g)) else loop (play g) f"
   ]
  },
  {
   "cell_type": "code",
   "execution_count": 10,
   "metadata": {},
   "outputs": [
    {
     "data": {
      "text/plain": [
       "(5,32)"
      ]
     },
     "metadata": {},
     "output_type": "display_data"
    },
    {
     "data": {
      "text/plain": [
       "(0,8317)"
      ]
     },
     "metadata": {},
     "output_type": "display_data"
    },
    {
     "data": {
      "text/plain": [
       "(12,146373)"
      ]
     },
     "metadata": {},
     "output_type": "display_data"
    }
   ],
   "source": [
    "loop (initGame 9 25) 25\n",
    "loop (initGame 10 1618) 1618\n",
    "loop (initGame 13 7999) 7999"
   ]
  },
  {
   "cell_type": "code",
   "execution_count": 11,
   "metadata": {},
   "outputs": [
    {
     "data": {
      "text/plain": [
       "(326,393229)"
      ]
     },
     "metadata": {},
     "output_type": "display_data"
    }
   ],
   "source": [
    "loop (initGame playing final) final"
   ]
  },
  {
   "cell_type": "code",
   "execution_count": 12,
   "metadata": {},
   "outputs": [
    {
     "data": {
      "text/plain": [
       "(191,3273405195)"
      ]
     },
     "metadata": {},
     "output_type": "display_data"
    }
   ],
   "source": [
    "loop (initGame playing (final*100)) (final*100)"
   ]
  }
 ],
 "metadata": {
  "kernelspec": {
   "display_name": "Haskell",
   "language": "haskell",
   "name": "haskell"
  },
  "language_info": {
   "codemirror_mode": "ihaskell",
   "file_extension": ".hs",
   "name": "haskell",
   "pygments_lexer": "Haskell",
   "version": "8.4.4"
  }
 },
 "nbformat": 4,
 "nbformat_minor": 2
}
