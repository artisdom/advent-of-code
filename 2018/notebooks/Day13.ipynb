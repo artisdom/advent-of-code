{
 "cells": [
  {
   "cell_type": "code",
   "execution_count": 1,
   "metadata": {},
   "outputs": [],
   "source": [
    "import AdventOfCode\n",
    "import qualified Data.Vector as V"
   ]
  },
  {
   "cell_type": "code",
   "execution_count": 2,
   "metadata": {},
   "outputs": [],
   "source": [
    "input <- V.fromList . map V.fromList <$> dayLinesString 13\n",
    "\n",
    "getPos grid (x,y) = (grid V.! y) V.! x"
   ]
  },
  {
   "cell_type": "code",
   "execution_count": 3,
   "metadata": {},
   "outputs": [],
   "source": [
    "data Turn = LeftTurn | StraightAhead | RightTurn deriving (Eq, Show)\n",
    "data Heading = U | D | L | R deriving (Eq, Show)\n",
    "data Cart = Cart\n",
    "    { cartPos :: (Int, Int)\n",
    "    , cartHeading :: Heading\n",
    "    , cartTurn :: Turn\n",
    "    } deriving (Eq, Show)\n",
    "\n",
    "parseHeading c = case c of\n",
    "    '^' -> U\n",
    "    'v' -> D\n",
    "    '<' -> L\n",
    "    '>' -> R\n",
    "\n",
    "carts = [Cart (x,y) (parseHeading c) LeftTurn | x <- [0..(length (V.head input))-1], y <- [0..(length input)-1], let c = getPos input (x,y), c `elem` \"^v<>\" ]"
   ]
  },
  {
   "cell_type": "code",
   "execution_count": 4,
   "metadata": {},
   "outputs": [],
   "source": [
    "underlyingTrack c = case c of\n",
    "    '^' -> '|'\n",
    "    'v' -> '|'\n",
    "    '<' -> '-'\n",
    "    '>' -> '-'\n",
    "    _ -> c\n",
    "\n",
    "grid = V.map (V.map underlyingTrack) input"
   ]
  },
  {
   "cell_type": "code",
   "execution_count": 5,
   "metadata": {},
   "outputs": [],
   "source": [
    "move cart@(Cart (x,y) heading turn) = case heading of\n",
    "    U -> updateCart cart { cartPos = (x,y-1) }\n",
    "    D -> updateCart cart { cartPos = (x,y+1) }\n",
    "    L -> updateCart cart { cartPos = (x-1,y) }\n",
    "    R -> updateCart cart { cartPos = (x+1,y) }\n",
    "\n",
    "updateCart cart@(Cart pos heading turn) gr = case (getPos gr pos) of\n",
    "    '|' -> cart\n",
    "    '-' -> cart\n",
    "    '/' -> case heading of\n",
    "        U -> cart { cartHeading = R }\n",
    "        L -> cart { cartHeading = D }\n",
    "        D -> cart { cartHeading = L }\n",
    "        R -> cart { cartHeading = U }\n",
    "    '\\\\' -> case heading of\n",
    "        R -> cart { cartHeading = D }\n",
    "        U -> cart { cartHeading = L }\n",
    "        D -> cart { cartHeading = R }\n",
    "        L -> cart { cartHeading = U }\n",
    "    '+' -> makeTurn cart\n",
    "  \n",
    "makeTurn (Cart pos heading turn) = case heading of\n",
    "    L -> case turn of\n",
    "        LeftTurn -> Cart pos D StraightAhead\n",
    "        StraightAhead -> Cart pos L RightTurn\n",
    "        RightTurn -> Cart pos U LeftTurn\n",
    "    R -> case turn of\n",
    "        LeftTurn -> Cart pos U StraightAhead\n",
    "        StraightAhead -> Cart pos R RightTurn\n",
    "        RightTurn -> Cart pos D LeftTurn\n",
    "    U -> case turn of\n",
    "        LeftTurn -> Cart pos L StraightAhead\n",
    "        StraightAhead -> Cart pos U RightTurn\n",
    "        RightTurn -> Cart pos R LeftTurn\n",
    "    D -> case turn of\n",
    "        LeftTurn -> Cart pos R StraightAhead\n",
    "        StraightAhead -> Cart pos D RightTurn\n",
    "        RightTurn -> Cart pos L LeftTurn"
   ]
  },
  {
   "cell_type": "code",
   "execution_count": 6,
   "metadata": {},
   "outputs": [
    {
     "data": {
      "text/plain": [
       "Left (83,106)"
      ]
     },
     "metadata": {},
     "output_type": "display_data"
    }
   ],
   "source": [
    "import Data.List\n",
    "import qualified Data.Set as Set\n",
    "\n",
    "findDuplicate :: Ord a => [a] -> Set.Set a -> Either a (Set.Set a)\n",
    "findDuplicate []     set = Right set\n",
    "findDuplicate (a:as) set = if Set.member a set\n",
    "    then Left a\n",
    "    else findDuplicate as (Set.insert a set)\n",
    "\n",
    "step (c:cs) grid acc = let\n",
    "    c' = move c grid\n",
    "    in (cs, (c':acc))\n",
    "\n",
    "loop cs gr acc = let\n",
    "    (cs',acc') = step cs gr acc\n",
    "    summed = cs' ++ acc'\n",
    "    ps = map cartPos summed\n",
    "    in case cs' of\n",
    "        [] -> if length (ordNub ps) < length summed then summed else loop summed gr [] \n",
    "        _ -> if length (ordNub ps) < length summed then summed else loop cs' gr acc'\n",
    "    \n",
    "\n",
    "flip findDuplicate Set.empty $ map cartPos $ loop carts grid []"
   ]
  },
  {
   "cell_type": "code",
   "execution_count": 7,
   "metadata": {},
   "outputs": [],
   "source": [
    "loop' cs gr acc = let\n",
    "    (cs',acc') = step cs gr acc\n",
    "    summed = cs' ++ acc'\n",
    "    ps = map cartPos summed\n",
    "    in case summed of\n",
    "        [x] -> x\n",
    "        _ -> case findDuplicate ps Set.empty of\n",
    "            Left c -> let\n",
    "                cs'' = filter (\\cart -> cartPos cart /= c) cs'\n",
    "                acc'' = filter (\\cart -> cartPos cart /= c) acc'\n",
    "                summed' = cs'' ++ acc''\n",
    "                in if length summed' == 1 then head summed' else loop' (cs''++acc'') gr []\n",
    "            Right{} -> loop' summed gr []"
   ]
  },
  {
   "cell_type": "code",
   "execution_count": 8,
   "metadata": {},
   "outputs": [
    {
     "data": {
      "text/plain": [
       "Cart {cartPos = (132,26), cartHeading = R, cartTurn = LeftTurn}"
      ]
     },
     "metadata": {},
     "output_type": "display_data"
    }
   ],
   "source": [
    "loop' carts grid []"
   ]
  }
 ],
 "metadata": {
  "kernelspec": {
   "display_name": "Haskell",
   "language": "haskell",
   "name": "haskell"
  },
  "language_info": {
   "codemirror_mode": "ihaskell",
   "file_extension": ".hs",
   "name": "haskell",
   "pygments_lexer": "Haskell",
   "version": "8.4.4"
  }
 },
 "nbformat": 4,
 "nbformat_minor": 2
}
