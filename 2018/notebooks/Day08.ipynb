{
 "cells": [
  {
   "cell_type": "code",
   "execution_count": 1,
   "metadata": {},
   "outputs": [],
   "source": [
    "import AdventOfCode"
   ]
  },
  {
   "cell_type": "code",
   "execution_count": 2,
   "metadata": {},
   "outputs": [],
   "source": [
    "[input] <- dayLinesString 8"
   ]
  },
  {
   "cell_type": "code",
   "execution_count": 5,
   "metadata": {},
   "outputs": [],
   "source": [
    "parsed :: [Int]\n",
    "parsed = map read $ words input"
   ]
  },
  {
   "cell_type": "code",
   "execution_count": 19,
   "metadata": {},
   "outputs": [],
   "source": [
    "data Tree = Leaf [Int] | Tree [Tree] [Int] deriving (Eq, Show)\n",
    "\n",
    "node :: [Int] -> (Tree, [Int])\n",
    "node (0:e:ls) = (Leaf (take e ls), drop e ls)\n",
    "node (n:e:ls) = let\n",
    "    (children, ls') = getNodes n ls []\n",
    "    in (Tree children (take e ls'), drop e ls')\n",
    "\n",
    "getNodes :: Int -> [Int] -> [Tree] -> ([Tree], [Int])\n",
    "getNodes 0 ls acc = (acc, ls)\n",
    "getNodes n ls acc = let\n",
    "    (t, ls') = node ls\n",
    "    in getNodes (n-1) ls' (acc++[t])\n",
    "\n",
    "tree = fst $ node parsed"
   ]
  },
  {
   "cell_type": "code",
   "execution_count": 22,
   "metadata": {},
   "outputs": [
    {
     "data": {
      "text/plain": [
       "46096"
      ]
     },
     "metadata": {},
     "output_type": "display_data"
    }
   ],
   "source": [
    "sumMetadata (Leaf es) = sum es\n",
    "sumMetadata (Tree ts es) = sum (map sumMetadata ts) + sum es\n",
    "\n",
    "sumMetadata tree"
   ]
  },
  {
   "cell_type": "code",
   "execution_count": 24,
   "metadata": {},
   "outputs": [],
   "source": [
    "import Data.Maybe\n",
    "\n",
    "getIndex :: [Tree] -> Int -> Maybe Tree\n",
    "getIndex ts 0 = Nothing\n",
    "getIndex ts i\n",
    "    | i > length ts = Nothing\n",
    "    | otherwise = Just $ ts !! (i-1)\n",
    "\n",
    "computeValue (Leaf es) = sum es\n",
    "computeValue (Tree ts is) = sum $ map (maybe 0 computeValue . getIndex ts) is"
   ]
  },
  {
   "cell_type": "code",
   "execution_count": 25,
   "metadata": {},
   "outputs": [
    {
     "data": {
      "text/plain": [
       "24820"
      ]
     },
     "metadata": {},
     "output_type": "display_data"
    }
   ],
   "source": [
    "computeValue tree"
   ]
  }
 ],
 "metadata": {
  "kernelspec": {
   "display_name": "Haskell",
   "language": "haskell",
   "name": "haskell"
  },
  "language_info": {
   "codemirror_mode": "ihaskell",
   "file_extension": ".hs",
   "name": "haskell",
   "pygments_lexer": "Haskell",
   "version": "8.4.4"
  }
 },
 "nbformat": 4,
 "nbformat_minor": 2
}
