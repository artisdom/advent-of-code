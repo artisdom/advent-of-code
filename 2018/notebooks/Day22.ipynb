{
 "cells": [
  {
   "cell_type": "code",
   "execution_count": 1,
   "metadata": {},
   "outputs": [],
   "source": [
    "import AdventOfCode"
   ]
  },
  {
   "cell_type": "code",
   "execution_count": 2,
   "metadata": {},
   "outputs": [],
   "source": [
    "input <- day 22"
   ]
  },
  {
   "cell_type": "code",
   "execution_count": 3,
   "metadata": {},
   "outputs": [],
   "source": [
    "{-# LANGUAGE OverloadedStrings #-}\n",
    "\n",
    "import qualified Data.Attoparsec.ByteString.Char8 as A\n",
    "\n",
    "parseInput = do\n",
    "    depth <- \"depth: \" *> A.decimal <* A.endOfLine\n",
    "    target <- \"target: \" *> ((,) <$> A.decimal <*> (\",\" *> A.decimal))\n",
    "    pure (depth, target)\n",
    "\n",
    "(depth, target) = parsed parseInput input"
   ]
  },
  {
   "cell_type": "code",
   "execution_count": 4,
   "metadata": {},
   "outputs": [],
   "source": [
    "import Data.Function.Memoize\n",
    "\n",
    "geologicIndex :: (Int, Int) -> Int\n",
    "geologicIndex = memoize $ \\c -> case c of\n",
    "    (0,0) -> 0\n",
    "    t | t == target -> 0\n",
    "    (x,0) -> x*16807\n",
    "    (0,y) -> y*48271\n",
    "    (x,y) -> erosionLevel (x-1,y) * erosionLevel (x,y-1)\n",
    "    \n",
    "erosionLevel = memoize $ \\c -> (geologicIndex c + depth) `mod` 20183\n",
    "\n",
    "riskLevel = memoize $ \\c -> erosionLevel c `mod` 3 "
   ]
  },
  {
   "cell_type": "code",
   "execution_count": 5,
   "metadata": {},
   "outputs": [
    {
     "data": {
      "text/plain": [
       "11359"
      ]
     },
     "metadata": {},
     "output_type": "display_data"
    }
   ],
   "source": [
    "import Data.List\n",
    "\n",
    "sum $ map riskLevel [(x,y) | let (maxX,maxY) = target, x <- [0..maxX], y <- [0..maxY]]"
   ]
  }
 ],
 "metadata": {
  "kernelspec": {
   "display_name": "Haskell",
   "language": "haskell",
   "name": "haskell"
  },
  "language_info": {
   "codemirror_mode": "ihaskell",
   "file_extension": ".hs",
   "name": "haskell",
   "pygments_lexer": "Haskell",
   "version": "8.4.4"
  }
 },
 "nbformat": 4,
 "nbformat_minor": 2
}
