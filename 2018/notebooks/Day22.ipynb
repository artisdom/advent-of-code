{
 "cells": [
  {
   "cell_type": "code",
   "execution_count": 1,
   "metadata": {},
   "outputs": [],
   "source": [
    "import AdventOfCode"
   ]
  },
  {
   "cell_type": "code",
   "execution_count": 2,
   "metadata": {},
   "outputs": [],
   "source": [
    "input <- day 22"
   ]
  },
  {
   "cell_type": "code",
   "execution_count": 3,
   "metadata": {},
   "outputs": [],
   "source": [
    "{-# LANGUAGE OverloadedStrings #-}\n",
    "\n",
    "import qualified Data.Attoparsec.ByteString.Char8 as A\n",
    "\n",
    "parseInput = do\n",
    "    depth <- \"depth: \" *> A.decimal <* A.endOfLine\n",
    "    target <- \"target: \" *> ((,) <$> A.decimal <*> (\",\" *> A.decimal))\n",
    "    pure (depth, target)\n",
    "\n",
    "(depth, target) = parsed parseInput input"
   ]
  },
  {
   "cell_type": "code",
   "execution_count": 4,
   "metadata": {},
   "outputs": [],
   "source": [
    "import Data.Function.Memoize\n",
    "\n",
    "geologicIndex :: (Int, Int) -> Int\n",
    "geologicIndex = memoize $ \\c -> case c of\n",
    "    (0,0) -> 0\n",
    "    t | t == target -> 0\n",
    "    (x,0) -> x*16807\n",
    "    (0,y) -> y*48271\n",
    "    (x,y) -> erosionLevel (x-1,y) * erosionLevel (x,y-1)\n",
    "    \n",
    "erosionLevel = memoize $ \\c -> (geologicIndex c + depth) `mod` 20183\n",
    "\n",
    "riskLevel = memoize $ \\c -> erosionLevel c `mod` 3 "
   ]
  },
  {
   "cell_type": "code",
   "execution_count": 5,
   "metadata": {},
   "outputs": [
    {
     "data": {
      "text/plain": [
       "11359"
      ]
     },
     "metadata": {},
     "output_type": "display_data"
    }
   ],
   "source": [
    "import Data.List\n",
    "\n",
    "sum $ map riskLevel [(x,y) | let (maxX,maxY) = target, x <- [0..maxX], y <- [0..maxY]]"
   ]
  },
  {
   "cell_type": "code",
   "execution_count": 6,
   "metadata": {},
   "outputs": [],
   "source": [
    "import qualified Data.Set as Set\n",
    "\n",
    "data Equipment = Torch | ClimbingGear | Neither deriving (Eq, Show, Ord)\n",
    "\n",
    "data CaveState\n",
    "    = CaveState\n",
    "    { minutesSoFar :: Int\n",
    "    , current :: (Int, Int)\n",
    "    , equipped :: Equipment\n",
    "    } deriving (Eq, Show, Ord)\n",
    "\n",
    "data Measure a = Measure { measure :: Int, value :: a } deriving (Eq, Show, Ord)\n",
    "\n",
    "distanceFrom (x,y) (a,b) = abs (x-a) + abs (y-b)\n",
    "\n",
    "changeEquipment :: CaveState -> CaveState\n",
    "changeEquipment cs@(CaveState mins curr equip) = case riskLevel curr of\n",
    "    0 -> case equip of\n",
    "        ClimbingGear -> CaveState (mins+7) curr Torch\n",
    "        Torch -> CaveState (mins+7) curr ClimbingGear\n",
    "    1 -> case equip of\n",
    "        ClimbingGear -> CaveState (mins+7) curr Neither\n",
    "        Neither -> CaveState (mins+7) curr ClimbingGear\n",
    "    2 -> case equip of\n",
    "        Neither -> CaveState (mins+7) curr Torch\n",
    "        Torch -> CaveState (mins+7) curr Neither\n",
    "\n",
    "moves :: CaveState -> [CaveState]\n",
    "moves cs@(CaveState mins c@(x,y) equip) = let\n",
    "    possible = filter (\\(a,b) -> a >= 0 && a < 21 && b >= 0) $ [(x-1,y), (x+1,y), (x,y-1), (x,y+1)]\n",
    "    in (changeEquipment cs):(map (transition cs) possible)\n",
    "\n",
    "transition :: CaveState -> (Int, Int) -> CaveState\n",
    "transition cs@(CaveState mins curr equip) coord = case riskLevel coord of\n",
    "    0 -> case equip of\n",
    "        c | c `elem` [ClimbingGear, Torch] -> CaveState (mins+1) coord equip\n",
    "        _ -> transition (changeEquipment cs) coord\n",
    "    1 -> case equip of\n",
    "        c | c `elem` [ClimbingGear, Neither] -> CaveState (mins+1) coord equip\n",
    "        _ -> transition (changeEquipment cs) coord\n",
    "    2 -> case equip of\n",
    "        c | c `elem` [Neither, Torch] -> CaveState (mins+1) coord equip\n",
    "        _ -> transition (changeEquipment cs) coord"
   ]
  },
  {
   "cell_type": "code",
   "execution_count": 7,
   "metadata": {},
   "outputs": [],
   "source": [
    "import Debug.Trace\n",
    "\n",
    "toMeasure :: CaveState -> Measure CaveState\n",
    "toMeasure cs@(CaveState m c t) = Measure (distanceFrom target c + (m * 2 `div` 3) - (if t == Torch then 7 else 0)) cs\n",
    "\n",
    "improvement :: Set.Set CaveState -> CaveState -> Bool\n",
    "improvement already (CaveState mins curr equip) = let\n",
    "    similar = Set.filter (\\(CaveState m c s) -> m <= mins && curr == c && s == equip) already\n",
    "    in Set.null similar\n",
    "\n",
    "search :: (CaveState -> Measure CaveState) -> Set.Set CaveState -> Set.Set (Measure CaveState) -> CaveState -> CaveState\n",
    "search meas visited frontier state\n",
    "    | current state == target && equipped state == Torch = state\n",
    "    | otherwise = let\n",
    "        visited' = Set.insert state visited\n",
    "        possible = map meas $ filter (improvement visited') $ moves state\n",
    "        ((Measure _ next), frontier') = Set.deleteFindMin $ Set.union frontier (Set.fromList possible)\n",
    "        in search meas visited' frontier' (traceShowId next)"
   ]
  },
  {
   "cell_type": "code",
   "execution_count": 8,
   "metadata": {},
   "outputs": [
    {
     "data": {
      "text/plain": [
       "CaveState {minutesSoFar = 1027, current = (15,700), equipped = Torch}"
      ]
     },
     "metadata": {},
     "output_type": "display_data"
    }
   ],
   "source": [
    "search toMeasure Set.empty Set.empty (CaveState 0 (0,0) Torch)"
   ]
  }
 ],
 "metadata": {
  "kernelspec": {
   "display_name": "Haskell",
   "language": "haskell",
   "name": "haskell"
  },
  "language_info": {
   "codemirror_mode": "ihaskell",
   "file_extension": ".hs",
   "name": "haskell",
   "pygments_lexer": "Haskell",
   "version": "8.4.4"
  }
 },
 "nbformat": 4,
 "nbformat_minor": 2
}
