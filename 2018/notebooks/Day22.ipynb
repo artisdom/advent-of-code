{
 "cells": [
  {
   "cell_type": "code",
   "execution_count": 1,
   "metadata": {},
   "outputs": [],
   "source": [
    "import AdventOfCode"
   ]
  },
  {
   "cell_type": "code",
   "execution_count": 2,
   "metadata": {},
   "outputs": [],
   "source": [
    "input <- day 22"
   ]
  },
  {
   "cell_type": "code",
   "execution_count": 3,
   "metadata": {},
   "outputs": [],
   "source": [
    "{-# LANGUAGE OverloadedStrings #-}\n",
    "\n",
    "import qualified Data.Attoparsec.ByteString.Char8 as A\n",
    "\n",
    "parseInput = do\n",
    "    depth <- \"depth: \" *> A.decimal <* A.endOfLine\n",
    "    target <- \"target: \" *> ((,) <$> A.decimal <*> (\",\" *> A.decimal))\n",
    "    pure (depth, target)\n",
    "\n",
    "(depth, target) = parsed parseInput input"
   ]
  },
  {
   "cell_type": "code",
   "execution_count": 4,
   "metadata": {},
   "outputs": [],
   "source": [
    "import Data.Function.Memoize\n",
    "\n",
    "geologicIndex :: (Int, Int) -> Int\n",
    "geologicIndex = memoize $ \\c -> case c of\n",
    "    (0,0) -> 0\n",
    "    t | t == target -> 0\n",
    "    (x,0) -> x*16807\n",
    "    (0,y) -> y*48271\n",
    "    (x,y) -> erosionLevel (x-1,y) * erosionLevel (x,y-1)\n",
    "    \n",
    "erosionLevel = memoize $ \\c -> (geologicIndex c + depth) `mod` 20183\n",
    "\n",
    "riskLevel = memoize $ \\c -> erosionLevel c `mod` 3 "
   ]
  },
  {
   "cell_type": "code",
   "execution_count": 5,
   "metadata": {},
   "outputs": [
    {
     "data": {
      "text/plain": [
       "11359"
      ]
     },
     "metadata": {},
     "output_type": "display_data"
    }
   ],
   "source": [
    "import Data.List\n",
    "\n",
    "sum $ map riskLevel [(x,y) | let (maxX,maxY) = target, x <- [0..maxX], y <- [0..maxY]]"
   ]
  },
  {
   "cell_type": "code",
   "execution_count": 6,
   "metadata": {},
   "outputs": [],
   "source": [
    "import qualified Data.Set as Set\n",
    "import qualified Data.Map.Strict as Map\n",
    "\n",
    "data Equipment = Torch | ClimbingGear | Neither deriving (Eq, Show, Ord)\n",
    "\n",
    "data CaveState\n",
    "    = CaveState\n",
    "    { current :: (Int, Int)\n",
    "    , equipped :: Equipment\n",
    "    } deriving (Eq, Show, Ord)\n",
    "\n",
    "data Measure a = Measure { measure :: Int, value :: a } deriving (Eq, Show, Ord)\n",
    "\n",
    "distanceFrom (x,y) (a,b) = abs (x-a) + abs (y-b)\n",
    "\n",
    "changeEquipment :: CaveState -> Int -> (CaveState, Int)\n",
    "changeEquipment cs@(CaveState curr equip) mins = case riskLevel curr of\n",
    "    0 -> case equip of\n",
    "        ClimbingGear -> (CaveState curr Torch, mins+7)\n",
    "        Torch -> (CaveState curr ClimbingGear, mins+7)\n",
    "    1 -> case equip of\n",
    "        ClimbingGear -> (CaveState curr Neither, mins+7)\n",
    "        Neither -> (CaveState curr ClimbingGear, mins+7)\n",
    "    2 -> case equip of\n",
    "        Neither -> (CaveState curr Torch, mins+7)\n",
    "        Torch -> (CaveState curr Neither, mins+7)\n",
    "\n",
    "moves :: CaveState -> Int -> [(CaveState, Int)]\n",
    "moves cs@(CaveState c@(x,y) equip) mins = let\n",
    "    possible = filter (\\(a,b) -> a >= 0 && a < 50 && b >= 0) $ [(x-1,y), (x+1,y), (x,y-1), (x,y+1)]\n",
    "    in (map (transition cs mins) possible)\n",
    "\n",
    "transition :: CaveState -> Int -> (Int, Int) -> (CaveState, Int)\n",
    "transition cs@(CaveState curr equip) mins coord = case (riskLevel coord, equip) of\n",
    "    (0, c) | c `elem` [ClimbingGear, Torch] -> (CaveState coord equip, mins+1)\n",
    "    (1, c) | c `elem` [ClimbingGear, Neither] -> (CaveState coord equip, mins+1)\n",
    "    (2, c) | c `elem` [Neither, Torch] -> (CaveState coord equip, mins+1)\n",
    "    _ -> let\n",
    "        (cs', mins') = changeEquipment cs mins\n",
    "        in transition cs' mins' coord"
   ]
  },
  {
   "cell_type": "code",
   "execution_count": 7,
   "metadata": {},
   "outputs": [],
   "source": [
    "heuristic :: CaveState -> Int\n",
    "heuristic (CaveState coord tool) = distanceFrom target coord + (if tool == Torch then 0 else 7)\n",
    "\n",
    "prioritise :: (CaveState, Int) -> Measure (CaveState, Int)\n",
    "prioritise c@(cs, cost) = Measure (cost + heuristic cs) c\n",
    "\n",
    "search :: Map.Map CaveState Int -> Set.Set (Measure (CaveState, Int)) -> (CaveState, Int)\n",
    "search seen frontier = case value (Set.findMin frontier) of\n",
    "    final@((CaveState t Torch), c) | t == target -> final\n",
    "    (cs, c)\n",
    "        | Map.member cs seen && c >= (seen Map.! cs) -> search seen (Set.deleteMin frontier)\n",
    "        | otherwise -> let\n",
    "            seen' = Map.insert cs c seen\n",
    "            frontier' = Set.deleteMin frontier\n",
    "            neighbours = moves cs c\n",
    "            in search seen' (Set.union frontier' (Set.fromList $ map prioritise neighbours))"
   ]
  },
  {
   "cell_type": "code",
   "execution_count": 8,
   "metadata": {},
   "outputs": [
    {
     "data": {
      "text/plain": [
       "(CaveState {current = (15,700), equipped = Torch},976)"
      ]
     },
     "metadata": {},
     "output_type": "display_data"
    }
   ],
   "source": [
    "start = (CaveState (0,0) Torch, 0)\n",
    "\n",
    "search Map.empty $ Set.singleton (prioritise start)"
   ]
  }
 ],
 "metadata": {
  "kernelspec": {
   "display_name": "Haskell",
   "language": "haskell",
   "name": "haskell"
  },
  "language_info": {
   "codemirror_mode": "ihaskell",
   "file_extension": ".hs",
   "name": "haskell",
   "pygments_lexer": "Haskell",
   "version": "8.4.4"
  }
 },
 "nbformat": 4,
 "nbformat_minor": 2
}
