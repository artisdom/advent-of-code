{
 "cells": [
  {
   "cell_type": "code",
   "execution_count": 1,
   "metadata": {},
   "outputs": [],
   "source": [
    "import AdventOfCode"
   ]
  },
  {
   "cell_type": "code",
   "execution_count": 2,
   "metadata": {},
   "outputs": [],
   "source": [
    "{-# LANGUAGE ScopedTypeVariables #-}\n",
    "\n",
    "input :: Int <- read <$> dayString 11"
   ]
  },
  {
   "cell_type": "code",
   "execution_count": 3,
   "metadata": {},
   "outputs": [],
   "source": [
    "genGrid x y = [(a,b) | a <- [x..x+2], b <- [y..y+2]]"
   ]
  },
  {
   "cell_type": "code",
   "execution_count": 4,
   "metadata": {},
   "outputs": [
    {
     "data": {
      "text/plain": [
       "[(1,1),(1,2),(1,3),(2,1),(2,2),(2,3),(3,1),(3,2),(3,3)]"
      ]
     },
     "metadata": {},
     "output_type": "display_data"
    }
   ],
   "source": [
    "genGrid 1 1"
   ]
  },
  {
   "cell_type": "code",
   "execution_count": 5,
   "metadata": {},
   "outputs": [
    {
     "data": {
      "text/plain": [
       "0"
      ]
     },
     "metadata": {},
     "output_type": "display_data"
    },
    {
     "data": {
      "text/plain": [
       "2"
      ]
     },
     "metadata": {},
     "output_type": "display_data"
    },
    {
     "data": {
      "text/plain": [
       "3"
      ]
     },
     "metadata": {},
     "output_type": "display_data"
    }
   ],
   "source": [
    "takeHundreds :: Int -> Int\n",
    "takeHundreds n = let\n",
    "    str = reverse $ show n\n",
    "    dropped = drop 2 str\n",
    "    in case dropped of\n",
    "        [] -> 0\n",
    "        (x:_) -> read (x:[])\n",
    "\n",
    "takeHundreds 12\n",
    "takeHundreds 234\n",
    "takeHundreds 12345\n",
    "\n",
    "powerLevel' serial (x,y) = let\n",
    "    rackId = x+10\n",
    "    initial = rackId*y\n",
    "    increased = initial + serial\n",
    "    multiplied = increased * rackId\n",
    "    keepHundreds = takeHundreds multiplied\n",
    "    final = keepHundreds - 5\n",
    "    in final\n",
    "\n",
    "powerLevel = powerLevel' input"
   ]
  },
  {
   "cell_type": "code",
   "execution_count": 6,
   "metadata": {},
   "outputs": [
    {
     "data": {
      "text/plain": [
       "[(233,36),(233,37),(233,38),(234,36),(234,37),(234,38),(235,36),(235,37),(235,38)]"
      ]
     },
     "metadata": {},
     "output_type": "display_data"
    }
   ],
   "source": [
    "import Data.List\n",
    "import Data.Function (on)\n",
    "\n",
    "sum' = foldl' (+) 0\n",
    "\n",
    "sumGrid = sum . map powerLevel\n",
    "\n",
    "maxCoord = maximumBy (compare `on` sumGrid)\n",
    "\n",
    "maxCoord [genGrid x y | x <- [1..298], y <- [1..298]]"
   ]
  },
  {
   "cell_type": "code",
   "execution_count": 7,
   "metadata": {},
   "outputs": [
    {
     "data": {
      "text/plain": [
       "[(2,3),(2,4),(2,5),(2,6),(2,7),(3,3),(3,4),(3,5),(3,6),(3,7),(4,3),(4,4),(4,5),(4,6),(4,7),(5,3),(5,4),(5,5),(5,6),(5,7),(6,3),(6,4),(6,5),(6,6),(6,7)]"
      ]
     },
     "metadata": {},
     "output_type": "display_data"
    }
   ],
   "source": [
    "import Debug.Trace\n",
    "import System.TimeIt\n",
    "\n",
    "genGrid' x y z = [(a,b) | a <- [x..x+(z-1)], b <- [y..y+(z-1)]]\n",
    "\n",
    "genGrid' 2 3 5\n",
    "\n",
    "-- grids = [(\\grid -> (maximum grid, traceShowId z)) (map sumGrid [genGrid' x y z | x <- [1..(301-z)], y <- [1..(301-z)]]) | z <- [1..300]]\n",
    "\n",
    "sumGenGrid x y z = sum [ powerLevel (a,b) | a <- [x..x+(z-1)], b <- [y..y+(z-1)]]\n",
    "\n",
    "allOfLength z' = [[(a,b) | a <- [x..x+(z'-1)], b <- [y..y+(z'-1)]] | x <- [1..(301-z')], y <- [1..(301-z')]]\n",
    "\n",
    "-- zip [1..300] $ map (\\x -> traceShow x $ maximum . map sumGrid $ allOfLength x) [1..300]"
   ]
  },
  {
   "cell_type": "code",
   "execution_count": 8,
   "metadata": {},
   "outputs": [
    {
     "data": {
      "text/plain": [
       "90000"
      ]
     },
     "metadata": {},
     "output_type": "display_data"
    }
   ],
   "source": [
    "import qualified Data.Map.Strict as Map\n",
    "\n",
    "coords = [(x,y) | x <- [1..300], y <- [1..300]]\n",
    "\n",
    "levels = Map.fromList $ zip coords $ map powerLevel coords\n",
    "\n",
    "Map.size levels\n",
    "\n",
    "maxCoord = maximumBy (compare `on` (sum . map (levels Map.!)))"
   ]
  },
  {
   "cell_type": "code",
   "execution_count": 9,
   "metadata": {},
   "outputs": [
    {
     "data": {
      "text/plain": [
       "[(231,107),(231,108),(231,109),(231,110),(231,111),(231,112),(231,113),(231,114),(231,115),(231,116),(231,117),(231,118),(231,119),(231,120),(232,107),(232,108),(232,109),(232,110),(232,111),(232,112),(232,113),(232,114),(232,115),(232,116),(232,117),(232,118),(232,119),(232,120),(233,107),(233,108),(233,109),(233,110),(233,111),(233,112),(233,113),(233,114),(233,115),(233,116),(233,117),(233,118),(233,119),(233,120),(234,107),(234,108),(234,109),(234,110),(234,111),(234,112),(234,113),(234,114),(234,115),(234,116),(234,117),(234,118),(234,119),(234,120),(235,107),(235,108),(235,109),(235,110),(235,111),(235,112),(235,113),(235,114),(235,115),(235,116),(235,117),(235,118),(235,119),(235,120),(236,107),(236,108),(236,109),(236,110),(236,111),(236,112),(236,113),(236,114),(236,115),(236,116),(236,117),(236,118),(236,119),(236,120),(237,107),(237,108),(237,109),(237,110),(237,111),(237,112),(237,113),(237,114),(237,115),(237,116),(237,117),(237,118),(237,119),(237,120),(238,107),(238,108),(238,109),(238,110),(238,111),(238,112),(238,113),(238,114),(238,115),(238,116),(238,117),(238,118),(238,119),(238,120),(239,107),(239,108),(239,109),(239,110),(239,111),(239,112),(239,113),(239,114),(239,115),(239,116),(239,117),(239,118),(239,119),(239,120),(240,107),(240,108),(240,109),(240,110),(240,111),(240,112),(240,113),(240,114),(240,115),(240,116),(240,117),(240,118),(240,119),(240,120),(241,107),(241,108),(241,109),(241,110),(241,111),(241,112),(241,113),(241,114),(241,115),(241,116),(241,117),(241,118),(241,119),(241,120),(242,107),(242,108),(242,109),(242,110),(242,111),(242,112),(242,113),(242,114),(242,115),(242,116),(242,117),(242,118),(242,119),(242,120),(243,107),(243,108),(243,109),(243,110),(243,111),(243,112),(243,113),(243,114),(243,115),(243,116),(243,117),(243,118),(243,119),(243,120),(244,107),(244,108),(244,109),(244,110),(244,111),(244,112),(244,113),(244,114),(244,115),(244,116),(244,117),(244,118),(244,119),(244,120)]"
      ]
     },
     "metadata": {},
     "output_type": "display_data"
    }
   ],
   "source": [
    "-- zip [1..300] $ map (\\x -> traceShow x $ maximum . map (sum . map (levels Map.!)) $ allOfLength x) [1..300]\n",
    "\n",
    "maxCoord (allOfLength 14)"
   ]
  }
 ],
 "metadata": {
  "kernelspec": {
   "display_name": "Haskell",
   "language": "haskell",
   "name": "haskell"
  },
  "language_info": {
   "codemirror_mode": "ihaskell",
   "file_extension": ".hs",
   "name": "haskell",
   "pygments_lexer": "Haskell",
   "version": "8.4.4"
  }
 },
 "nbformat": 4,
 "nbformat_minor": 2
}
