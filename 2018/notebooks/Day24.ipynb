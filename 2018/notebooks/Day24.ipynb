{
 "cells": [
  {
   "cell_type": "code",
   "execution_count": 1,
   "metadata": {},
   "outputs": [],
   "source": [
    "import AdventOfCode"
   ]
  },
  {
   "cell_type": "code",
   "execution_count": 2,
   "metadata": {},
   "outputs": [],
   "source": [
    "{-# LANGUAGE OverloadedStrings #-}\n",
    "import qualified Data.Attoparsec.ByteString.Char8 as A\n",
    "import qualified Data.Attoparsec.Combinator as A"
   ]
  },
  {
   "cell_type": "code",
   "execution_count": 3,
   "metadata": {},
   "outputs": [],
   "source": [
    "data Damage\n",
    "    = Cold\n",
    "    | Fire\n",
    "    | Slashing\n",
    "    | Bludgeoning\n",
    "    | Radiation\n",
    "    deriving (Eq, Show)\n",
    "\n",
    "data Units\n",
    "    = Units\n",
    "    { unitsNo :: Int\n",
    "    , unitsHitPoints :: Int\n",
    "    , unitsWeakTo :: Maybe [Damage]\n",
    "    , unitsImmuneTo :: Maybe [Damage]\n",
    "    , unitsAttackType :: Damage\n",
    "    , unitsAttackPoints :: Int\n",
    "    , unitsInitiative :: Int\n",
    "    } deriving (Eq, Show)\n",
    "\n",
    "t = \"1959 units each with 7875 hit points (weak to cold; immune to slashing, bludgeoning) with an attack that does 38 radiation damage at initiative 20\"\n",
    "\n",
    "import Data.Functor (($>))\n",
    "\n",
    "parseDamage = A.choice\n",
    "    [ A.string \"cold\" $> Cold\n",
    "    , \"fire\" $> Fire\n",
    "    , \"slashing\" $> Slashing\n",
    "    , \"bludgeoning\" $> Bludgeoning\n",
    "    , \"radiation\" $> Radiation\n",
    "    ]\n",
    "\n",
    "parseDamageTypes = parseDamage `A.sepBy1'` (A.string \", \")\n",
    "    \n",
    "parseUnits = do\n",
    "    no <- A.decimal\n",
    "    A.string \" units each with \"\n",
    "    hp <- A.decimal\n",
    "    A.string \" hit points \"\n",
    "    (weakTo, immuneTo) <- A.choice\n",
    "        [ do\n",
    "            A.string \"(\"\n",
    "            wTo <- A.option Nothing $ fmap Just $ \"weak to \" *> parseDamageTypes\n",
    "            iTo <- A.option Nothing $ fmap Just $ \"; immune to \" *> parseDamageTypes\n",
    "            A.string \") \"\n",
    "            pure (wTo, iTo)\n",
    "        , do\n",
    "            A.string \"(\"\n",
    "            iTo <- A.option Nothing $ fmap Just $ \"immune to \" *> parseDamageTypes\n",
    "            wTo <- A.option Nothing $ fmap Just $ \"; weak to \" *> parseDamageTypes\n",
    "            A.string \") \"\n",
    "            pure (wTo, iTo)\n",
    "        , pure (Nothing, Nothing)\n",
    "        ]\n",
    "    A.string \"with an attack that does \"\n",
    "    ap <- A.decimal\n",
    "    A.string \" \"\n",
    "    at <- parseDamage\n",
    "    A.string \" damage at initiative \"\n",
    "    initiative <- A.decimal\n",
    "    pure $ Units no hp weakTo immuneTo at ap initiative"
   ]
  },
  {
   "cell_type": "code",
   "execution_count": 4,
   "metadata": {},
   "outputs": [],
   "source": [
    "import qualified Data.ByteString as BS\n",
    "\n",
    "input <- dayLines 24\n",
    "\n",
    "immune = drop 1 $ takeWhile (\\c -> BS.length c > 0) input\n",
    "infection = drop 2 $ dropWhile (\\c -> BS.length c > 0) input\n",
    "\n",
    "\n",
    "immuneUnits = map (parsed parseUnits) immune\n",
    "infectionUnits = map (parsed parseUnits) infection"
   ]
  }
 ],
 "metadata": {
  "kernelspec": {
   "display_name": "Haskell",
   "language": "haskell",
   "name": "haskell"
  },
  "language_info": {
   "codemirror_mode": "ihaskell",
   "file_extension": ".hs",
   "name": "haskell",
   "pygments_lexer": "Haskell",
   "version": "8.4.4"
  }
 },
 "nbformat": 4,
 "nbformat_minor": 2
}
