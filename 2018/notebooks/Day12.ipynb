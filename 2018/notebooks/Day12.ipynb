{
 "cells": [
  {
   "cell_type": "code",
   "execution_count": 2,
   "metadata": {},
   "outputs": [],
   "source": [
    "import AdventOfCode"
   ]
  },
  {
   "cell_type": "code",
   "execution_count": 3,
   "metadata": {},
   "outputs": [],
   "source": [
    "{-# LANGUAGE OverloadedStrings #-}\n",
    "\n",
    "input <- dayLines 12"
   ]
  },
  {
   "cell_type": "code",
   "execution_count": 4,
   "metadata": {},
   "outputs": [
    {
     "data": {
      "text/plain": [
       "\".##..#.#..##..##..##...#####.#.....#..#..##.###.#.####......#.......#..###.#.#.##.#.#.###...##.###.#\""
      ]
     },
     "metadata": {},
     "output_type": "display_data"
    }
   ],
   "source": [
    "import qualified Data.Attoparsec.ByteString.Char8 as C\n",
    "import qualified Data.ByteString.UTF8 as U\n",
    "import qualified Data.ByteString as BS\n",
    "\n",
    "parseInitial = \"initial state: \" *> C.takeTill (==' ')\n",
    "parseRule = (,) <$> C.take 5 <*> (\" => \" *> C.anyChar)\n",
    "\n",
    "initial = U.toString $ parsed parseInitial (head input)\n",
    "rules = map ((\\(r,c) -> (U.toString r, c)) . parsed parseRule) $ drop 2 input\n",
    "initial"
   ]
  },
  {
   "cell_type": "code",
   "execution_count": 5,
   "metadata": {},
   "outputs": [
    {
     "data": {
      "text/plain": [
       "fromList [(\"#####\",'#'),(\"####.\",'.'),(\"###.#\",'#'),(\"###..\",'.'),(\"##.##\",'#'),(\"##.#.\",'#'),(\"##..#\",'.'),(\"##...\",'#'),(\"#.###\",'#'),(\"#.##.\",'.'),(\"#.#.#\",'#'),(\"#.#..\",'.'),(\"#..##\",'#'),(\"#..#.\",'#'),(\"#...#\",'#'),(\"#....\",'.'),(\".####\",'.'),(\".###.\",'#'),(\".##.#\",'#'),(\".##..\",'.'),(\".#.##\",'.'),(\".#.#.\",'.'),(\".#..#\",'.'),(\".#...\",'#'),(\"..###\",'.'),(\"..##.\",'#'),(\"..#.#\",'.'),(\"..#..\",'#'),(\"...##\",'.'),(\"...#.\",'#'),(\"....#\",'.'),(\".....\",'.')]"
      ]
     },
     "metadata": {},
     "output_type": "display_data"
    }
   ],
   "source": [
    "import qualified Data.Map.Strict as Map\n",
    "import Data.List\n",
    "\n",
    "rulesMap = Map.fromList rules\n",
    "rulesMap"
   ]
  },
  {
   "cell_type": "code",
   "execution_count": 6,
   "metadata": {},
   "outputs": [
    {
     "data": {
      "text/plain": [
       "(-1,\"....##..#.#..##..##..##...#####.#.....#..#..##.###.#.####......#.......#..###.#.#.##.#.#.###...##.###.#....\")"
      ]
     },
     "metadata": {},
     "output_type": "display_data"
    },
    {
     "data": {
      "text/plain": [
       "(-1,\"..#..#....##..##..##.##...#.##.#...##.##.#########.#...#....###.....##.#.####.#..###.#.##.##.#######.#.\")"
      ]
     },
     "metadata": {},
     "output_type": "display_data"
    },
    {
     "data": {
      "text/plain": [
       "(-1,[\"....#\",\"...##\",\"..##.\",\".##..\",\"##..#\",\"#..#.\",\"..#.#\",\".#.#.\",\"#.#..\",\".#..#\",\"#..##\",\"..##.\",\".##..\",\"##..#\",\"#..##\",\"..##.\",\".##..\",\"##..#\",\"#..##\",\"..##.\",\".##..\",\"##...\",\"#...#\",\"...##\",\"..###\",\".####\",\"#####\",\"####.\",\"###.#\",\"##.#.\",\"#.#..\",\".#...\",\"#....\",\".....\",\"....#\",\"...#.\",\"..#..\",\".#..#\",\"#..#.\",\"..#..\",\".#..#\",\"#..##\",\"..##.\",\".##.#\",\"##.##\",\"#.###\",\".###.\",\"###.#\",\"##.#.\",\"#.#.#\",\".#.##\",\"#.###\",\".####\",\"####.\",\"###..\",\"##...\",\"#....\",\".....\",\".....\",\"....#\",\"...#.\",\"..#..\",\".#...\",\"#....\",\".....\",\".....\",\".....\",\"....#\",\"...#.\",\"..#..\",\".#..#\",\"#..##\",\"..###\",\".###.\",\"###.#\",\"##.#.\",\"#.#.#\",\".#.#.\",\"#.#.#\",\".#.##\",\"#.##.\",\".##.#\",\"##.#.\",\"#.#.#\",\".#.#.\",\"#.#.#\",\".#.##\",\"#.###\",\".###.\",\"###..\",\"##...\",\"#...#\",\"...##\",\"..##.\",\".##.#\",\"##.##\",\"#.###\",\".###.\",\"###.#\",\"##.#.\",\"#.#..\",\".#...\",\"#....\"])"
      ]
     },
     "metadata": {},
     "output_type": "display_data"
    }
   ],
   "source": [
    "format (ix, pots) = let\n",
    "    empties = takeWhile (=='.') pots\n",
    "    ix' = ix + length empties\n",
    "    strippedStart = dropWhile (=='.') pots\n",
    "    strippedEnd = dropWhileEnd (=='.') strippedStart\n",
    "    in (ix'-2, \"....\" ++ strippedEnd ++ \"....\")\n",
    "\n",
    "\n",
    "format (0, initial)\n",
    "\n",
    "fives :: (Int, String) -> (Int, String)\n",
    "fives str = map (rulesMap Map.!) <$> filter (\\l -> length l == 5) <$> map (take 5) <$> tails <$> format str\n",
    "\n",
    "fives (0, initial)\n",
    "\n",
    "loop = iterate fives\n",
    "\n",
    "filter (\\l -> length l == 5) . map (take 5) . tails <$> format (0, initial)"
   ]
  },
  {
   "cell_type": "code",
   "execution_count": 7,
   "metadata": {},
   "outputs": [
    {
     "data": {
      "text/plain": [
       "3738"
      ]
     },
     "metadata": {},
     "output_type": "display_data"
    }
   ],
   "source": [
    "(ix, pots) = last $ take 21 $ loop (0, initial)\n",
    "sum $ map fst $ filter (\\p -> snd p == '#') $ zip [ix..] pots"
   ]
  },
  {
   "cell_type": "code",
   "execution_count": 8,
   "metadata": {},
   "outputs": [],
   "source": [
    "import Data.Maybe\n",
    "\n",
    "testInitial = \"#..#.#..##......###...###\"\n",
    "\n",
    "testMap = Map.fromList $\n",
    "    [ (\"...##\" , '#')\n",
    "    , (\"..#..\" , '#')\n",
    "    , (\".#...\" , '#')\n",
    "    , (\".#.#.\" , '#')\n",
    "    , (\".#.##\" , '#')\n",
    "    , (\".##..\" , '#')\n",
    "    , (\".####\" , '#')\n",
    "    , (\"#.#.#\" , '#')\n",
    "    , (\"#.###\" , '#')\n",
    "    , (\"##.#.\" , '#')\n",
    "    , (\"##.##\" , '#')\n",
    "    , (\"###..\" , '#')\n",
    "    , (\"###.#\" , '#')\n",
    "    , (\"####.\" , '#')\n",
    "    ]\n",
    "\n",
    "testFives str = map (fromMaybe '.' . flip Map.lookup testMap) <$> filter (\\l -> length l == 5) <$> map (take 5) <$> tails <$> format str\n"
   ]
  },
  {
   "cell_type": "code",
   "execution_count": 9,
   "metadata": {},
   "outputs": [
    {
     "data": {
      "text/plain": [
       "(0,\"#..#.#..##......###...###\")\n",
       "(-2,\"..#...#....#.....#..#..#..#..\")\n",
       "(-2,\"..##..##...##....#..#..#..##.\")\n",
       "(-2,\".#.#...#..#.#....#..#..#...#..\")\n",
       "(-3,\"...#.#..#...#.#...#..#..##..##.\")\n",
       "(-2,\"...#...##...#.#..#..#...#...#..\")\n",
       "(-1,\"..##.#.#....#...#..##..##..##.\")\n",
       "(-1,\".#..###.#...##..#...#...#...#..\")\n",
       "(-2,\"..#....##.#.#.#..##..##..##..##.\")\n",
       "(-2,\"..##..#..#####....#...#...#...#..\")\n",
       "(-2,\".#.#..#...#.##....##..##..##..##.\")\n",
       "(-3,\"...#...##...#.#...#.#...#...#...#..\")\n",
       "(-2,\"..##.#.#....#.#...#.#..##..##..##.\")\n",
       "(-2,\".#..###.#....#.#...#....#...#...#..\")\n",
       "(-3,\"..#....##.#....#.#..##...##..##..##.\")\n",
       "(-3,\"..##..#..#.#....#....#..#.#...#...#..\")\n",
       "(-3,\".#.#..#...#.#...##...#...#.#..##..##.\")\n",
       "(-4,\"...#...##...#.#.#.#...##...#....#...#..\")\n",
       "(-3,\"..##.#.#....#####.#.#.#...##...##..##.\")\n",
       "(-3,\".#..###.#..#.#.#######.#.#.#..#.#...#..\")\n",
       "(-4,\"..#....##....#####...#######....#.#..##.\")"
      ]
     },
     "metadata": {},
     "output_type": "display_data"
    },
    {
     "data": {
      "text/plain": [
       "325"
      ]
     },
     "metadata": {},
     "output_type": "display_data"
    }
   ],
   "source": [
    "mapM_ print $ take 21 $ iterate testFives (0, testInitial)\n",
    "sum $ map fst $ filter (\\p -> snd p == '#') $ (\\(ix,pots) -> zip [ix..] pots) $ last $ take 21 $ iterate testFives (0, testInitial)"
   ]
  },
  {
   "cell_type": "code",
   "execution_count": 10,
   "metadata": {},
   "outputs": [
    {
     "data": {
      "text/plain": [
       "3738"
      ]
     },
     "metadata": {},
     "output_type": "display_data"
    }
   ],
   "source": [
    "{-# LANGUAGE BangPatterns #-}\n",
    "import Debug.Trace\n",
    "\n",
    "perform 0 !str = str\n",
    "perform n (!ix, !str) = perform (n-1) $ (if n `mod` 100000 == 0 then traceShow n else id) fives (ix, str)\n",
    "\n",
    "sum $ map fst $ filter (\\p -> snd p == '#') $ (\\(ix,pots) -> zip [ix..] pots) $ perform 20 (0, initial)"
   ]
  },
  {
   "cell_type": "code",
   "execution_count": 15,
   "metadata": {},
   "outputs": [
    {
     "data": {
      "text/plain": [
       "3900000002467"
      ]
     },
     "metadata": {},
     "output_type": "display_data"
    }
   ],
   "source": [
    "-- It repeats but the index increments on each iteration\n",
    "\n",
    "(gen,(start, str)) = last $ zip [0..] $ take 126 $ iterate fives (0, initial)\n",
    "\n",
    "sum $ map fst $ filter (\\p -> snd p == '#') $ zip [((50000000000 - gen) + start)..] str\n",
    "\n"
   ]
  },
  {
   "cell_type": "code",
   "execution_count": null,
   "metadata": {},
   "outputs": [],
   "source": []
  }
 ],
 "metadata": {
  "kernelspec": {
   "display_name": "Haskell",
   "language": "haskell",
   "name": "haskell"
  },
  "language_info": {
   "codemirror_mode": "ihaskell",
   "file_extension": ".hs",
   "name": "haskell",
   "pygments_lexer": "Haskell",
   "version": "8.4.4"
  }
 },
 "nbformat": 4,
 "nbformat_minor": 2
}
