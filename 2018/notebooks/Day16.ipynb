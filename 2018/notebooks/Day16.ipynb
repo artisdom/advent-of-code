{
 "cells": [
  {
   "cell_type": "code",
   "execution_count": 1,
   "metadata": {},
   "outputs": [],
   "source": [
    "import AdventOfCode"
   ]
  },
  {
   "cell_type": "code",
   "execution_count": 2,
   "metadata": {},
   "outputs": [],
   "source": [
    "input <- day 16"
   ]
  },
  {
   "cell_type": "code",
   "execution_count": 3,
   "metadata": {},
   "outputs": [],
   "source": [
    "{-# LANGUAGE OverloadedStrings #-}\n",
    "\n",
    "import qualified Data.Attoparsec.ByteString.Char8 as C\n",
    "import qualified Data.ByteString as B\n",
    "import qualified Data.ByteString.Char8 as BC\n",
    "import qualified Data.Vector as V\n",
    "\n",
    "parseRegisters :: C.Parser (V.Vector Int)\n",
    "parseRegisters = do\n",
    "    C.string \"[\"\n",
    "    a <- C.decimal\n",
    "    C.string \", \"\n",
    "    b <- C.decimal\n",
    "    C.string \", \"\n",
    "    c <- C.decimal\n",
    "    C.string \", \"\n",
    "    d <- C.decimal\n",
    "    C.string \"]\"\n",
    "    pure $ V.fromList [a, b, c, d]\n",
    "\n",
    "(part1, part2) = BC.breakSubstring \"\\n\\n\\n\" input"
   ]
  },
  {
   "cell_type": "code",
   "execution_count": 4,
   "metadata": {},
   "outputs": [],
   "source": [
    "parseInstr :: C.Parser (V.Vector Int)\n",
    "parseInstr = do\n",
    "    a <- C.decimal\n",
    "    C.skipSpace\n",
    "    b <- C.decimal\n",
    "    C.skipSpace\n",
    "    c <- C.decimal\n",
    "    C.skipSpace\n",
    "    d <- C.decimal\n",
    "    C.skipSpace\n",
    "    pure $ V.fromList [a,b,c,d]\n",
    "\n",
    "parseSample = do\n",
    "    before <- \"Before:\" *> C.skipSpace *> parseRegisters\n",
    "    C.skipSpace\n",
    "    instr <- parseInstr\n",
    "    C.skipSpace\n",
    "    after <- \"After:\" *> C.skipSpace *> parseRegisters\n",
    "    C.skipSpace\n",
    "    pure (before, instr, after)\n",
    "    \n",
    "samples = parsed (C.many' parseSample) part1"
   ]
  },
  {
   "cell_type": "code",
   "execution_count": 5,
   "metadata": {},
   "outputs": [],
   "source": [
    "import Data.Bits\n",
    "\n",
    "addr, addi :: V.Vector Int -> V.Vector Int -> V.Vector Int\n",
    "\n",
    "oprr op rs is = let\n",
    "    opA = rs V.! (is V.! 1)\n",
    "    opB = rs V.! (is V.! 2)\n",
    "    rsC = op opA opB\n",
    "    in rs V.// [(is V.! 3, rsC)]\n",
    "\n",
    "opri op rs is = let\n",
    "    opA = rs V.! (is V.! 1)\n",
    "    opB = (is V.! 2)\n",
    "    rsC = op opA opB\n",
    "    in rs V.// [(is V.! 3, rsC)]\n",
    "\n",
    "opir op rs is = let\n",
    "    opA = (is V.! 1)\n",
    "    opB = rs V.! (is V.! 2)\n",
    "    rsC = op opA opB\n",
    "    in rs V.// [(is V.! 3, rsC)]\n",
    "\n",
    "fromBool False = 0\n",
    "fromBool True = 1\n",
    "\n",
    "(addr, addi) = (oprr (+), opri (+))\n",
    "(mulr, muli) = (oprr (*), opri (*))\n",
    "(banr, bani) = (oprr (fromIntegral .: (.&.)), opri (.&.))\n",
    "(borr, bori) = (oprr (fromIntegral .: (.|.)), opri (.|.))\n",
    "(setr, seti) = (oprr const, opir const)\n",
    "(gtrr, gtri, gtir) = (oprr (fromBool .: (>)), opri (fromBool .: (>)), opir (fromBool .: (>)))\n",
    "(eqrr, eqri, eqir) = (oprr (fromBool .: (==)), opri (fromBool .: (==)), opir (fromBool .: (==)))"
   ]
  },
  {
   "cell_type": "code",
   "execution_count": 6,
   "metadata": {},
   "outputs": [
    {
     "data": {
      "text/plain": [
       "612"
      ]
     },
     "metadata": {},
     "output_type": "display_data"
    }
   ],
   "source": [
    "matches (rs,is,as) instr = (instr rs is) == as\n",
    "\n",
    "instrs = [addr, addi, mulr, muli, banr, bani, borr, bori, setr, seti, gtrr, gtri, gtir, eqrr, eqri, eqir]\n",
    "\n",
    "matchCount = [length (filter id (map (matches m) instrs)) | m <- samples]\n",
    "\n",
    "length $ filter (>=3) matchCount"
   ]
  },
  {
   "cell_type": "code",
   "execution_count": 7,
   "metadata": {},
   "outputs": [],
   "source": [
    "import Control.Applicative\n",
    "\n",
    "matchInstrs = [map (matches m) instrs | m <- samples]\n",
    "\n",
    "zipped = zip (map (\\(b,i,a) -> V.head i) samples) matchInstrs\n",
    "\n",
    "fours = filter (\\z -> fst z == 4) zipped"
   ]
  },
  {
   "cell_type": "code",
   "execution_count": 8,
   "metadata": {},
   "outputs": [],
   "source": [
    "table = map (\\i -> foldr1 (\\(n, ms) (_, ms') -> (n, zipWith (&&) ms ms')) $ filter (\\z -> fst z == i) zipped) [0..15]"
   ]
  },
  {
   "cell_type": "code",
   "execution_count": 9,
   "metadata": {},
   "outputs": [],
   "source": [
    "import Data.List\n",
    "\n",
    "table' = map (\\(i, ms) -> (i, V.fromList (map fromBool ms))) table\n",
    "\n",
    "solve :: [(Int, V.Vector Int)] -> [(Int, Maybe Int)] -> [(Int, Maybe Int)]\n",
    "solve []         found = found\n",
    "solve candidates found = let\n",
    "    (narrowed, multiple) = partition (\\(_, ms) -> sum ms == 1) candidates\n",
    "    indices = map (\\(i, ms) -> (i, V.elemIndex 1 ms)) narrowed\n",
    "    toRemove = map (\\(_, Just i) -> (i, 0)) indices\n",
    "    multiple' = map (\\(i, v) -> (i,v V.// toRemove)) multiple\n",
    "    found' = indices ++ found\n",
    "    in solve multiple' found'\n",
    "\n",
    "solved = solve table' []"
   ]
  },
  {
   "cell_type": "code",
   "execution_count": 10,
   "metadata": {},
   "outputs": [],
   "source": [
    "import qualified Data.Map.Strict as Map\n",
    "\n",
    "instrMap = Map.fromList $ map (\\(i, Just ix) -> (i, instrs !! ix )) solved"
   ]
  },
  {
   "cell_type": "code",
   "execution_count": 11,
   "metadata": {},
   "outputs": [],
   "source": [
    "program = parsed (C.many' (C.skipSpace *> parseInstr)) part2\n",
    "\n",
    "step rs is = let\n",
    "    instr = instrMap Map.! V.head is\n",
    "    in instr rs is"
   ]
  },
  {
   "cell_type": "code",
   "execution_count": 12,
   "metadata": {},
   "outputs": [
    {
     "data": {
      "text/plain": [
       "[485,3,6,485]"
      ]
     },
     "metadata": {},
     "output_type": "display_data"
    }
   ],
   "source": [
    "foldl' step (V.fromList [0,0,0,0]) program"
   ]
  }
 ],
 "metadata": {
  "kernelspec": {
   "display_name": "Haskell",
   "language": "haskell",
   "name": "haskell"
  },
  "language_info": {
   "codemirror_mode": "ihaskell",
   "file_extension": ".hs",
   "name": "haskell",
   "pygments_lexer": "Haskell",
   "version": "8.4.4"
  }
 },
 "nbformat": 4,
 "nbformat_minor": 2
}
