{
 "cells": [
  {
   "cell_type": "code",
   "execution_count": 1,
   "metadata": {},
   "outputs": [],
   "source": [
    "import AdventOfCode"
   ]
  },
  {
   "cell_type": "code",
   "execution_count": 2,
   "metadata": {},
   "outputs": [],
   "source": [
    "input <- dayLines 25"
   ]
  },
  {
   "cell_type": "code",
   "execution_count": 3,
   "metadata": {},
   "outputs": [],
   "source": [
    "{-# LANGUAGE OverloadedStrings #-}\n",
    "\n",
    "import qualified Data.Attoparsec.ByteString.Char8 as A\n",
    "\n",
    "parseLine = do\n",
    "    a <- A.signed A.decimal\n",
    "    A.string \",\"\n",
    "    b <- A.signed A.decimal\n",
    "    A.string \",\"\n",
    "    c <- A.signed A.decimal\n",
    "    A.string \",\"\n",
    "    d <- A.signed A.decimal\n",
    "    return (a,b,c,d)\n",
    "\n",
    "points = map (parsed parseLine) input"
   ]
  },
  {
   "cell_type": "code",
   "execution_count": 4,
   "metadata": {},
   "outputs": [],
   "source": [
    "import Data.List\n",
    "import qualified Data.Map.Strict as Map\n",
    "import qualified Data.Set as Set\n",
    "\n",
    "distance (a1,b1,c1,d1) (a2,b2,c2,d2) = abs (a1-a2) + abs (b1-b2) + abs (c1-c2) + abs (d1-d2)\n",
    "\n",
    "near p q = distance p q <= 3\n",
    "\n",
    "\n",
    "initial = Map.fromList $ map (\\p -> (p, Set.fromList $ filter (\\q -> near p q && p /= q) points)) points"
   ]
  },
  {
   "cell_type": "code",
   "execution_count": 5,
   "metadata": {},
   "outputs": [],
   "source": [
    "type GroupingMap = Map.Map (Int, Int, Int, Int) (Set.Set (Int, Int, Int, Int))\n",
    "\n",
    "collect :: GroupingMap -> (Maybe ((Int,Int,Int,Int), Set.Set (Int, Int, Int, Int)), GroupingMap)\n",
    "collect grouping | Map.null grouping = (Nothing, grouping)\n",
    "collect grouping = let\n",
    "    ((repr, close), rest) = Map.deleteFindMin grouping\n",
    "    close' = Set.delete repr close\n",
    "    nearby = Map.restrictKeys rest close'\n",
    "    in case nearby of\n",
    "        _ | Map.null nearby -> (Just (repr, close'), rest)\n",
    "          | otherwise -> let\n",
    "              elems = Map.elems nearby\n",
    "              new = Set.unions (close':elems)\n",
    "              other = Map.withoutKeys rest (Map.keysSet nearby)\n",
    "              grouping' = Map.insert repr new other\n",
    "              in collect grouping'"
   ]
  },
  {
   "cell_type": "code",
   "execution_count": 6,
   "metadata": {},
   "outputs": [
    {
     "data": {
      "text/plain": [
       "396"
      ]
     },
     "metadata": {},
     "output_type": "display_data"
    }
   ],
   "source": [
    "loop gs = case collect gs of\n",
    "    (Nothing, _) -> []\n",
    "    (Just (p,ps), rest) -> (p,ps):loop rest\n",
    "\n",
    "length $ loop initial"
   ]
  }
 ],
 "metadata": {
  "kernelspec": {
   "display_name": "Haskell",
   "language": "haskell",
   "name": "haskell"
  },
  "language_info": {
   "codemirror_mode": "ihaskell",
   "file_extension": ".hs",
   "name": "haskell",
   "pygments_lexer": "Haskell",
   "version": "8.4.4"
  }
 },
 "nbformat": 4,
 "nbformat_minor": 2
}
