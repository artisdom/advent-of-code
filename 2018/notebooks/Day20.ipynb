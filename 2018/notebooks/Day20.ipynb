{
 "cells": [
  {
   "cell_type": "code",
   "execution_count": 1,
   "metadata": {},
   "outputs": [],
   "source": [
    "import AdventOfCode"
   ]
  },
  {
   "cell_type": "code",
   "execution_count": 2,
   "metadata": {},
   "outputs": [],
   "source": [
    "input <- dayString 20"
   ]
  },
  {
   "cell_type": "code",
   "execution_count": 3,
   "metadata": {},
   "outputs": [],
   "source": [
    "data Path a = Path [Segment a]\n",
    "    deriving (Eq, Show)\n",
    "\n",
    "data Segment a\n",
    "    = Leaf a\n",
    "    | Node [Path a]\n",
    "    deriving (Eq, Show)"
   ]
  },
  {
   "cell_type": "code",
   "execution_count": 4,
   "metadata": {},
   "outputs": [
    {
     "data": {
      "text/plain": [
       "(Path [Leaf \"NSW\",Node [Path [Leaf \"EE\"],Path [Leaf \"NN\"],Path []],Leaf \"S\"],\"\")"
      ]
     },
     "metadata": {},
     "output_type": "display_data"
    }
   ],
   "source": [
    "{-# LANGUAGE ScopedTypeVariables #-}\n",
    "import Data.List\n",
    "\n",
    "parseLeaf str = let\n",
    "    (t, rest) = span (`elem` \"NEWS\") str\n",
    "    in (Leaf t, rest)\n",
    "\n",
    "parseNode acc ('(':str) = let\n",
    "    (t, rest) = parsePath [] str\n",
    "    in parseNode (acc++[t]) rest\n",
    "parseNode acc ('|':str) = let\n",
    "    (t, rest) = parsePath [] str\n",
    "    in parseNode (acc++[t]) rest\n",
    "parseNode acc (')':str) = (Node acc, str)\n",
    "\n",
    "parsePath :: [Segment String] -> String -> (Path String, String)\n",
    "parsePath acc []  = (Path acc, [])\n",
    "parsePath acc str@(x:xs) = case x of\n",
    "    '(' -> let\n",
    "        (group, str') = parseNode [] str\n",
    "        in parsePath (acc++[group]) str'\n",
    "    '|' -> (Path acc, str)\n",
    "    ')' -> (Path acc, str)\n",
    "    _ -> let\n",
    "        (chunk, str') = parseLeaf str\n",
    "        in parsePath (acc++[chunk]) str'\n",
    "\n",
    "parsePath [] \"NSW(EE|NN|)S\""
   ]
  },
  {
   "cell_type": "code",
   "execution_count": 5,
   "metadata": {},
   "outputs": [],
   "source": [
    "trimmed = init $ tail input\n",
    "processed = fst $ parsePath [] trimmed"
   ]
  },
  {
   "cell_type": "code",
   "execution_count": 6,
   "metadata": {},
   "outputs": [
    {
     "data": {
      "text/plain": [
       "3958"
      ]
     },
     "metadata": {},
     "output_type": "display_data"
    }
   ],
   "source": [
    "maxPath (Path ts) = sum $ map maxSegment ts\n",
    "maxSegment (Leaf str) = length str\n",
    "maxSegment (Node rs) = let\n",
    "    subpaths = map maxPath rs\n",
    "    in if 0 `elem` subpaths then 0 else maximum subpaths\n",
    "\n",
    "maxPath processed"
   ]
  },
  {
   "cell_type": "code",
   "execution_count": 7,
   "metadata": {},
   "outputs": [],
   "source": [
    "{-# LANGUAGE BangPatterns #-}\n",
    "\n",
    "import qualified Data.Map.Strict as Map\n",
    "\n",
    "move :: (Int, Int) -> Char -> (Int, Int)\n",
    "move (x,y) c = case c of\n",
    "    'N' -> (x, y+1)\n",
    "    'W' -> (x-1, y)\n",
    "    'E' -> (x+1, y)\n",
    "    'S' -> (x, y-1)\n",
    "    \n",
    "visitString\n",
    "    :: (Map.Map (Int, Int) Int)\n",
    "    -> (Int, Int)\n",
    "    -> Int\n",
    "    -> String\n",
    "    -> (Map.Map (Int, Int) Int, (Int, Int), Int)\n",
    "visitString rooms curPos doorCount str = case str of\n",
    "    [] -> (rooms, curPos, doorCount)\n",
    "    _ -> update rooms curPos doorCount str\n",
    "    where\n",
    "        update rs pos count s = case s of\n",
    "            [] -> (rs, pos, count)\n",
    "            x:xs -> let\n",
    "                pos' = move pos x\n",
    "                count' = count + 1\n",
    "                !rs' = Map.insertWith min pos' count' rs\n",
    "                in update rs' pos' count' xs"
   ]
  },
  {
   "cell_type": "code",
   "execution_count": 8,
   "metadata": {},
   "outputs": [],
   "source": [
    "visitGraph :: Path String -> [(Int, Int)] -> (Int, Int) -> Map.Map (Int, Int) Int -> Int -> ([(Int, Int)], (Int, Int), Map.Map (Int, Int) Int, Int)\n",
    "visitGraph (Path []) posStack curPos rooms doorCount =\n",
    "    (posStack, curPos, rooms, doorCount)\n",
    "visitGraph (Path (Leaf str:ps)) posStack curPos rooms doorCount =\n",
    "    let (rooms', curPos', doorCount') = visitString rooms curPos doorCount str\n",
    "    in visitGraph (Path ps) posStack curPos' rooms' doorCount'\n",
    "visitGraph (Path (Node ns:ps)) posStack curPos rooms doorCount =\n",
    "    let (curPos':posStack', rooms') = visitNode (curPos:posStack) rooms doorCount ns\n",
    "    in visitGraph (Path ps) posStack' curPos' rooms' doorCount\n",
    "    \n",
    "visitNode :: [(Int, Int)] -> Map.Map (Int, Int) Int -> Int -> [Path String] -> ([(Int, Int)], Map.Map (Int, Int) Int)\n",
    "visitNode         posStack rooms  _         [] = (posStack, rooms)\n",
    "visitNode (curPos:posStack) rooms doorCount (x:xs) = let\n",
    "    (posStack', curPos', rooms', doorCount') = visitGraph x posStack curPos rooms doorCount\n",
    "    in visitNode (curPos:posStack) rooms' doorCount xs\n",
    "\n",
    "visited = visitGraph processed [] (0,0) Map.empty 0"
   ]
  },
  {
   "cell_type": "code",
   "execution_count": 9,
   "metadata": {},
   "outputs": [
    {
     "data": {
      "text/plain": [
       "8566"
      ]
     },
     "metadata": {},
     "output_type": "display_data"
    }
   ],
   "source": [
    "(_, _, rooms, _) = visited\n",
    "\n",
    "length $ filter (>=1000) $ Map.elems rooms"
   ]
  }
 ],
 "metadata": {
  "kernelspec": {
   "display_name": "Haskell",
   "language": "haskell",
   "name": "haskell"
  },
  "language_info": {
   "codemirror_mode": "ihaskell",
   "file_extension": ".hs",
   "name": "haskell",
   "pygments_lexer": "Haskell",
   "version": "8.4.4"
  }
 },
 "nbformat": 4,
 "nbformat_minor": 2
}
