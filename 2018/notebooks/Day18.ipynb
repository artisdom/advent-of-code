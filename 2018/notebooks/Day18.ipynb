{
 "cells": [
  {
   "cell_type": "code",
   "execution_count": 1,
   "metadata": {},
   "outputs": [],
   "source": [
    "import AdventOfCode"
   ]
  },
  {
   "cell_type": "code",
   "execution_count": 2,
   "metadata": {},
   "outputs": [],
   "source": [
    "import qualified Data.Vector as V\n",
    "\n",
    "input <- V.fromList . map V.fromList <$> dayLinesString 18"
   ]
  },
  {
   "cell_type": "code",
   "execution_count": 3,
   "metadata": {},
   "outputs": [],
   "source": [
    "getPos grid (x,y) = (grid V.! y) V.! x\n",
    "neighbours grid (x,y) = let\n",
    "    potential = [(x-1, y-1), (x, y-1), (x+1, y-1),\n",
    "                 (x-1, y),             (x+1, y),\n",
    "                 (x-1, y+1), (x, y+1), (x+1, y+1)]\n",
    "    filtered = filter (\\(x,y) -> x >= 0 && x < length (V.head grid) && y >= 0 && y < length grid) potential\n",
    "    in map (getPos grid) filtered"
   ]
  },
  {
   "cell_type": "code",
   "execution_count": 4,
   "metadata": {},
   "outputs": [],
   "source": [
    "transition grid (x,y) = let\n",
    "    current = getPos grid (x,y)\n",
    "    surround = neighbours grid (x,y)\n",
    "    in case current of\n",
    "        '.' -> if count '|' surround >= 3 then '|' else '.'\n",
    "        '|' -> if count '#' surround >= 3 then '#' else '|'\n",
    "        '#' -> if count '#' surround > 0 && count '|' surround > 0 then '#' else '.'\n",
    "    where count c s = length $ filter (==c) s"
   ]
  },
  {
   "cell_type": "code",
   "execution_count": 5,
   "metadata": {},
   "outputs": [],
   "source": [
    "step :: V.Vector (V.Vector Char) -> V.Vector (V.Vector Char)\n",
    "step grid = let\n",
    "    xs = [0..(length (V.head grid))-1]\n",
    "    ys = [0..(length grid)-1]\n",
    "    in V.fromList $ map (V.fromList . (\\y -> map (\\x -> transition grid (x,y)) xs)) ys"
   ]
  },
  {
   "cell_type": "code",
   "execution_count": 6,
   "metadata": {},
   "outputs": [],
   "source": [
    "result = iterate step input !! 10"
   ]
  },
  {
   "cell_type": "code",
   "execution_count": 7,
   "metadata": {},
   "outputs": [
    {
     "data": {
      "text/plain": [
       "531417"
      ]
     },
     "metadata": {},
     "output_type": "display_data"
    }
   ],
   "source": [
    "wooded = sum . V.map (length . V.filter (=='|'))\n",
    "yards = sum . V.map (length . V.filter (=='#'))\n",
    "\n",
    "yards result * wooded result"
   ]
  },
  {
   "cell_type": "code",
   "execution_count": 8,
   "metadata": {},
   "outputs": [],
   "source": [
    "import qualified Data.Set as Set\n",
    "\n",
    "findDuplicate :: Ord a => [a] -> Set.Set a -> Either (a, Set.Set a) (Set.Set a)\n",
    "findDuplicate []     set = Right set\n",
    "findDuplicate (a:as) set = if Set.member a set\n",
    "    then Left (a, set)\n",
    "    else findDuplicate as (Set.insert a set)"
   ]
  },
  {
   "cell_type": "code",
   "execution_count": 9,
   "metadata": {},
   "outputs": [],
   "source": [
    "Left dup = findDuplicate (iterate step input) Set.empty"
   ]
  },
  {
   "cell_type": "code",
   "execution_count": 10,
   "metadata": {},
   "outputs": [],
   "source": [
    "firstRepeat = Set.size $ snd dup"
   ]
  },
  {
   "cell_type": "code",
   "execution_count": 11,
   "metadata": {},
   "outputs": [],
   "source": [
    "Left dup' = findDuplicate (iterate step (fst dup)) Set.empty\n",
    "cycleLength = Set.size $ snd dup'"
   ]
  },
  {
   "cell_type": "code",
   "execution_count": 12,
   "metadata": {},
   "outputs": [
    {
     "data": {
      "text/plain": [
       "205296"
      ]
     },
     "metadata": {},
     "output_type": "display_data"
    }
   ],
   "source": [
    "result' = iterate step (fst dup) !! ((1000000000-firstRepeat) `mod` cycleLength)\n",
    "\n",
    "yards result' * wooded result'"
   ]
  }
 ],
 "metadata": {
  "kernelspec": {
   "display_name": "Haskell",
   "language": "haskell",
   "name": "haskell"
  },
  "language_info": {
   "codemirror_mode": "ihaskell",
   "file_extension": ".hs",
   "name": "haskell",
   "pygments_lexer": "Haskell",
   "version": "8.4.4"
  }
 },
 "nbformat": 4,
 "nbformat_minor": 2
}
