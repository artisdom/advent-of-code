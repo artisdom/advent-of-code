{
 "cells": [
  {
   "cell_type": "code",
   "execution_count": 1,
   "metadata": {},
   "outputs": [],
   "source": [
    "import AdventOfCode"
   ]
  },
  {
   "cell_type": "code",
   "execution_count": 2,
   "metadata": {},
   "outputs": [],
   "source": [
    "input <- dayLines 23"
   ]
  },
  {
   "cell_type": "code",
   "execution_count": 3,
   "metadata": {},
   "outputs": [],
   "source": [
    "{-# LANGUAGE OverloadedStrings #-}\n",
    "\n",
    "import qualified Data.Attoparsec.ByteString.Char8 as A\n",
    "import Data.Int\n",
    "\n",
    "data Nanobot\n",
    "    = Nanobot\n",
    "    { position :: (Integer, Integer, Integer)\n",
    "    , radius :: Integer\n",
    "    } deriving (Eq, Show)\n",
    "\n",
    "parseLine = do\n",
    "    A.string \"pos=<\"\n",
    "    x <- A.signed A.decimal\n",
    "    A.string \",\"\n",
    "    y <- A.signed A.decimal\n",
    "    A.string \",\"\n",
    "    z <- A.signed A.decimal\n",
    "    A.string \">, r=\"\n",
    "    r <- A.decimal\n",
    "    pure $ Nanobot (x,y,z) r"
   ]
  },
  {
   "cell_type": "code",
   "execution_count": 4,
   "metadata": {},
   "outputs": [],
   "source": [
    "distance (x,y,z) (a,b,c) = abs (x-a) + abs (y-b) + abs (z-c)\n",
    "\n",
    "\n",
    "nanobots = map (parsed parseLine) input"
   ]
  },
  {
   "cell_type": "code",
   "execution_count": 5,
   "metadata": {},
   "outputs": [],
   "source": [
    "import Data.List\n",
    "import Data.Function (on)\n",
    "\n",
    "Nanobot pos rad = maximumBy (compare `on` radius) nanobots"
   ]
  },
  {
   "cell_type": "code",
   "execution_count": 6,
   "metadata": {},
   "outputs": [
    {
     "data": {
      "text/plain": [
       "408"
      ]
     },
     "metadata": {},
     "output_type": "display_data"
    }
   ],
   "source": [
    "length $ filter (\\(Nanobot p _) -> distance pos p <= rad) nanobots"
   ]
  },
  {
   "cell_type": "code",
   "execution_count": 7,
   "metadata": {},
   "outputs": [],
   "source": [
    "import Data.SBV"
   ]
  },
  {
   "cell_type": "code",
   "execution_count": 8,
   "metadata": {},
   "outputs": [],
   "source": [
    "sAbs :: SInteger -> SInteger\n",
    "sAbs a = ite (a .> 0) a (negate a)\n",
    "\n",
    "sDistance :: (SInteger, SInteger, SInteger) -> (SInteger, SInteger, SInteger) -> SInteger\n",
    "sDistance (x,y,z) (a,b,c) = sAbs (x-a) + sAbs (y-b) + sAbs (z-c)\n",
    "\n",
    "sInRange :: (SInteger, SInteger, SInteger) -> Nanobot -> SBool\n",
    "sInRange c (Nanobot (x,y,z) r) = sDistance c (literal x, literal y, literal z) .<= literal r\n",
    "\n",
    "countInRange :: (SInteger, SInteger, SInteger) -> [Nanobot] -> SInteger\n",
    "countInRange coord = sum . map (oneIf . sInRange coord)"
   ]
  },
  {
   "cell_type": "code",
   "execution_count": 9,
   "metadata": {},
   "outputs": [
    {
     "data": {
      "text/plain": [
       "Optimal model:\n",
       "  x                    =  22198541 :: Integer\n",
       "  y                    =  47809208 :: Integer\n",
       "  z                    =  51159819 :: Integer\n",
       "  goal                 =       977 :: Integer\n",
       "  distance from origin = 121167568 :: Integer"
      ]
     },
     "metadata": {},
     "output_type": "display_data"
    }
   ],
   "source": [
    "optimize Lexicographic $ do\n",
    "    [x,y,z] <- sIntegers [\"x\", \"y\", \"z\"]\n",
    "    maximize \"goal\" $ countInRange (x,y,z) nanobots\n",
    "    minimize \"distance from origin\" $ sDistance (x,y,z) (literal 0, literal 0, literal 0)"
   ]
  }
 ],
 "metadata": {
  "kernelspec": {
   "display_name": "Haskell",
   "language": "haskell",
   "name": "haskell"
  },
  "language_info": {
   "codemirror_mode": "ihaskell",
   "file_extension": ".hs",
   "name": "haskell",
   "pygments_lexer": "Haskell",
   "version": "8.4.4"
  }
 },
 "nbformat": 4,
 "nbformat_minor": 2
}
