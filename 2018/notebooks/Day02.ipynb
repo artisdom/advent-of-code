{
 "cells": [
  {
   "cell_type": "code",
   "execution_count": 1,
   "metadata": {},
   "outputs": [],
   "source": [
    "import AdventOfCode"
   ]
  },
  {
   "cell_type": "code",
   "execution_count": 2,
   "metadata": {},
   "outputs": [],
   "source": [
    "ids <- dayLinesString 2"
   ]
  },
  {
   "cell_type": "code",
   "execution_count": 3,
   "metadata": {},
   "outputs": [
    {
     "data": {
      "text/plain": [
       "8610"
      ]
     },
     "metadata": {},
     "output_type": "display_data"
    }
   ],
   "source": [
    "import Data.List\n",
    "\n",
    "count = map length . group . sort\n",
    "\n",
    "counts = map count ids\n",
    "\n",
    "threes = length $ filter (elem 3) counts\n",
    "twos = length $ filter (elem 2) counts\n",
    "\n",
    "threes * twos"
   ]
  },
  {
   "cell_type": "code",
   "execution_count": 4,
   "metadata": {},
   "outputs": [],
   "source": [
    "hammingDistance s1 s2 = length $ filter (uncurry (/=)) $ zip s1 s2"
   ]
  },
  {
   "cell_type": "code",
   "execution_count": 5,
   "metadata": {},
   "outputs": [
    {
     "data": {
      "text/plain": [
       "\"iosnxmfkpabcjpdywvrtahluy\""
      ]
     },
     "metadata": {},
     "output_type": "display_data"
    }
   ],
   "source": [
    "subs = init $ tails ids\n",
    "\n",
    "prune s ss = filter (\\x -> hammingDistance s x == 1) ss\n",
    "\n",
    "filtered = map (\\(x:xs) -> let pruned = prune x xs in if (length pruned > 0) then (x:pruned) else []) subs\n",
    "\n",
    "[a,b]:[] = filter (\\ls -> not (null ls)) filtered\n",
    "\n",
    "map fst $ filter (uncurry (==)) $ zip a b"
   ]
  }
 ],
 "metadata": {
  "kernelspec": {
   "display_name": "Haskell",
   "language": "haskell",
   "name": "haskell"
  },
  "language_info": {
   "codemirror_mode": "ihaskell",
   "file_extension": ".hs",
   "name": "haskell",
   "pygments_lexer": "Haskell",
   "version": "8.4.4"
  }
 },
 "nbformat": 4,
 "nbformat_minor": 2
}
