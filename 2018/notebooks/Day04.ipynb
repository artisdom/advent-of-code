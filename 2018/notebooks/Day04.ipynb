{
 "cells": [
  {
   "cell_type": "code",
   "execution_count": 1,
   "metadata": {},
   "outputs": [],
   "source": [
    "import AdventOfCode"
   ]
  },
  {
   "cell_type": "code",
   "execution_count": 2,
   "metadata": {},
   "outputs": [],
   "source": [
    "input <- dayLines 4"
   ]
  },
  {
   "cell_type": "code",
   "execution_count": 3,
   "metadata": {},
   "outputs": [
    {
     "data": {
      "text/plain": [
       "\"[1518-09-17 23:48] Guard #1307 begins shift\""
      ]
     },
     "metadata": {},
     "output_type": "display_data"
    }
   ],
   "source": [
    "import qualified Data.Attoparsec.ByteString as A\n",
    "import qualified Data.Attoparsec.ByteString.Char8 as C\n",
    "\n",
    "head input"
   ]
  },
  {
   "cell_type": "code",
   "execution_count": 5,
   "metadata": {},
   "outputs": [],
   "source": [
    "import Data.List\n",
    "\n",
    "sortedInput = sort input"
   ]
  },
  {
   "cell_type": "code",
   "execution_count": 18,
   "metadata": {},
   "outputs": [
    {
     "data": {
      "text/plain": [
       "Timestamp {year = 1518, month = 2, day = 3, hour = 0, minute = 2}"
      ]
     },
     "metadata": {},
     "output_type": "display_data"
    }
   ],
   "source": [
    "{-# LANGUAGE OverloadedStrings #-}\n",
    "\n",
    "import Control.Applicative ((<|>))\n",
    "\n",
    "\n",
    "data Event\n",
    "    = Guard Int\n",
    "    | FallsAsleep\n",
    "    | WakesUp\n",
    "    deriving (Eq, Show)\n",
    "\n",
    "data Timestamp = Timestamp\n",
    "    { year\n",
    "    , month\n",
    "    , day\n",
    "    , hour\n",
    "    , minute :: Int\n",
    "    } deriving (Eq, Show)\n",
    "\n",
    "data Line = Line Timestamp Event deriving (Eq, Show)\n",
    "\n",
    "parseTimestamp = do\n",
    "    C.char '['\n",
    "    y <- C.decimal\n",
    "    C.char '-'\n",
    "    m <- C.decimal\n",
    "    C.char '-'\n",
    "    d <- C.decimal\n",
    "    C.space\n",
    "    h <- C.decimal\n",
    "    C.char ':'\n",
    "    m <- C.decimal\n",
    "    C.char ']'\n",
    "    pure $ Timestamp y m d h m\n",
    "\n",
    "parseChange = do\n",
    "    A.string \"Guard #\"\n",
    "    no <- C.decimal\n",
    "    A.string \" begins shift\"\n",
    "    pure $ Guard no \n",
    "\n",
    "parseEvent = parseChange <|> (A.string \"falls asleep\" *> pure FallsAsleep) <|> (A.string \"wakes up\" *> pure WakesUp)\n",
    "\n",
    "parseLine = (,) <$> (parseTimestamp <* \" \") <*> parseEvent\n",
    "\n",
    "parsed parseTimestamp \"[1518-03-03 00:02]\"\n",
    "\n",
    "parsedInput = map (parsed parseLine) sortedInput"
   ]
  },
  {
   "cell_type": "code",
   "execution_count": 28,
   "metadata": {},
   "outputs": [],
   "source": [
    "import qualified Data.Map.Strict as Map\n",
    "\n",
    "data GuardState\n",
    "    = GuardState\n",
    "    { currentGuard\n",
    "    , fellAsleep :: Int\n",
    "    } deriving (Eq, Show)\n",
    "\n",
    "processInput :: (GuardState, Map.Map Int [Int]) -> (Timestamp,Event) -> (GuardState, Map.Map Int [Int])\n",
    "processInput (gs, mp) (ts,event) = case event of\n",
    "    Guard i -> (gs { currentGuard = i }, mp)\n",
    "    FallsAsleep -> (gs { fellAsleep = minute ts }, mp)\n",
    "    WakesUp -> (gs, Map.insertWith (++) (currentGuard gs) [fellAsleep gs..(minute ts - 1)] mp)\n",
    "\n",
    "state = foldl' processInput (GuardState 0 0,Map.empty) parsedInput"
   ]
  },
  {
   "cell_type": "code",
   "execution_count": 34,
   "metadata": {},
   "outputs": [
    {
     "data": {
      "text/plain": [
       "3209"
      ]
     },
     "metadata": {},
     "output_type": "display_data"
    },
    {
     "data": {
      "text/plain": [
       "32"
      ]
     },
     "metadata": {},
     "output_type": "display_data"
    },
    {
     "data": {
      "text/plain": [
       "102688"
      ]
     },
     "metadata": {},
     "output_type": "display_data"
    }
   ],
   "source": [
    "import Data.Ord (comparing)\n",
    "import Data.Function (on)\n",
    "\n",
    "stateList = Map.toList $ snd state\n",
    "\n",
    "sleepiest = maximumBy (compare `on` (length . snd) ) stateList\n",
    "\n",
    "freqs :: Ord a => [a] -> Map.Map a Int\n",
    "freqs as = foldl' (\\m a -> Map.insertWith (+) a 1 m) Map.empty as\n",
    "\n",
    "fst sleepiest \n",
    "fst $ maximumBy (compare `on` snd) $ Map.toList $ freqs $ snd sleepiest\n",
    "\n",
    "3209*32"
   ]
  },
  {
   "cell_type": "code",
   "execution_count": 41,
   "metadata": {},
   "outputs": [
    {
     "data": {
      "text/plain": [
       "(1459,(39,18))"
      ]
     },
     "metadata": {},
     "output_type": "display_data"
    },
    {
     "data": {
      "text/plain": [
       "56901"
      ]
     },
     "metadata": {},
     "output_type": "display_data"
    }
   ],
   "source": [
    "sleepFreqs = Map.map (maximumBy (compare `on` snd) . Map.toList . freqs) $ snd state\n",
    "maximumBy (compare `on` (snd . snd) ) $ Map.toList sleepFreqs\n",
    "1459 * 39"
   ]
  }
 ],
 "metadata": {
  "kernelspec": {
   "display_name": "Haskell",
   "language": "haskell",
   "name": "haskell"
  },
  "language_info": {
   "codemirror_mode": "ihaskell",
   "file_extension": ".hs",
   "name": "haskell",
   "pygments_lexer": "Haskell",
   "version": "8.4.4"
  }
 },
 "nbformat": 4,
 "nbformat_minor": 2
}
