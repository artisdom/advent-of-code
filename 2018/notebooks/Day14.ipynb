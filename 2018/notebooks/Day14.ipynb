{
 "cells": [
  {
   "cell_type": "code",
   "execution_count": null,
   "metadata": {},
   "outputs": [],
   "source": [
    "import AdventOfCode"
   ]
  },
  {
   "cell_type": "code",
   "execution_count": null,
   "metadata": {},
   "outputs": [],
   "source": [
    "import qualified Data.Sequence as Seq\n",
    "\n",
    "input = 293801\n",
    "\n",
    "seed = Seq.fromList [3, 7]\n",
    "e1 = 0\n",
    "e2 = 1"
   ]
  },
  {
   "cell_type": "code",
   "execution_count": null,
   "metadata": {},
   "outputs": [],
   "source": [
    "round board (e1,e2) = let\n",
    "    e1c = Seq.index board e1\n",
    "    e2c = Seq.index board e2\n",
    "    next = show $ e1c + e2c\n",
    "    digits = Seq.fromList $ map (\\c -> read [c] :: Int) next\n",
    "    board' = board Seq.>< digits\n",
    "    e1' = (e1 + e1c + 1) `mod` Seq.length board'\n",
    "    e2' = (e2 + e2c + 1) `mod` Seq.length board'\n",
    "    in (board', (e1', e2'))"
   ]
  },
  {
   "cell_type": "code",
   "execution_count": null,
   "metadata": {},
   "outputs": [],
   "source": [
    "Seq.take 10 $ Seq.drop input $ fst $ (!!input) $ iterate (uncurry round) (seed, (0,1))"
   ]
  },
  {
   "cell_type": "code",
   "execution_count": null,
   "metadata": {},
   "outputs": [],
   "source": [
    "needle = map (\\c -> read [c] :: Int) $ show input"
   ]
  },
  {
   "cell_type": "code",
   "execution_count": null,
   "metadata": {},
   "outputs": [],
   "source": [
    "import qualified Data.Vector.Unboxed as V\n",
    "\n",
    "{-\n",
    "streamEq [] xs = []\n",
    "streamEq xs [] = []\n",
    "streamEq xxs@(x:xs) yys@(y:ys) = case compare x y of\n",
    "    LT -> streamEq xs yys\n",
    "    EQ -> x:(streamEq xs ys)\n",
    "    GT -> streamEq xxs ys\n",
    "-}\n",
    "\n",
    "prune input []     remaining = V.head remaining\n",
    "prune input (c:cs) remaining = let\n",
    "    filtered = V.filter (\\i -> input V.! i == c) (V.map (+1) remaining)\n",
    "    in prune input cs filtered"
   ]
  },
  {
   "cell_type": "code",
   "execution_count": null,
   "metadata": {},
   "outputs": [],
   "source": [
    "import qualified Data.Foldable as Foldable\n",
    "\n",
    "haystack = V.fromList $ Foldable.toList $ fst $ (!!4000000) $ iterate (uncurry round) (seed, (0,1))"
   ]
  },
  {
   "cell_type": "code",
   "execution_count": null,
   "metadata": {},
   "outputs": [],
   "source": [
    "-- prune haystack [9,3,8,0,1] $ V.elemIndices 2 haystack"
   ]
  }
 ],
 "metadata": {
  "kernelspec": {
   "display_name": "Haskell",
   "language": "haskell",
   "name": "haskell"
  },
  "language_info": {
   "codemirror_mode": "ihaskell",
   "file_extension": ".hs",
   "name": "haskell",
   "pygments_lexer": "Haskell",
   "version": "8.4.4"
  }
 },
 "nbformat": 4,
 "nbformat_minor": 2
}
