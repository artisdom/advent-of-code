{
 "cells": [
  {
   "cell_type": "code",
   "execution_count": 1,
   "metadata": {},
   "outputs": [],
   "source": [
    "import AdventOfCode"
   ]
  },
  {
   "cell_type": "code",
   "execution_count": 2,
   "metadata": {},
   "outputs": [],
   "source": [
    "import qualified Data.Sequence as Seq\n",
    "\n",
    "input = 293801\n",
    "\n",
    "seed = Seq.fromList [3, 7]\n",
    "e1 = 0\n",
    "e2 = 1"
   ]
  },
  {
   "cell_type": "code",
   "execution_count": 3,
   "metadata": {},
   "outputs": [],
   "source": [
    "round board (e1,e2) = let\n",
    "    e1c = Seq.index board e1\n",
    "    e2c = Seq.index board e2\n",
    "    next = show $ e1c + e2c\n",
    "    digits = Seq.fromList $ map (\\c -> read [c] :: Int) next\n",
    "    board' = board Seq.>< digits\n",
    "    e1' = (e1 + e1c + 1) `mod` Seq.length board'\n",
    "    e2' = (e2 + e2c + 1) `mod` Seq.length board'\n",
    "    in (board', (e1', e2'))"
   ]
  },
  {
   "cell_type": "code",
   "execution_count": 4,
   "metadata": {},
   "outputs": [
    {
     "data": {
      "text/plain": [
       "fromList [3,1,4,7,5,7,4,1,0,7]"
      ]
     },
     "metadata": {},
     "output_type": "display_data"
    }
   ],
   "source": [
    "Seq.take 10 $ Seq.drop input $ fst $ (!!input) $ iterate (uncurry round) (seed, (0,1))"
   ]
  },
  {
   "cell_type": "code",
   "execution_count": 5,
   "metadata": {},
   "outputs": [],
   "source": [
    "needle = map (\\c -> read [c] :: Int) $ show input"
   ]
  },
  {
   "cell_type": "code",
   "execution_count": 6,
   "metadata": {},
   "outputs": [],
   "source": [
    "round' board (e1,e2) candidates found = let\n",
    "    e1c = Seq.index board e1\n",
    "    e2c = Seq.index board e2\n",
    "    next = show $ e1c + e2c\n",
    "    digits = Seq.fromList $ map (\\c -> read [c] :: Int) next\n",
    "    board' = board Seq.>< digits\n",
    "    e1' = (e1 + e1c + 1) `mod` Seq.length board'\n",
    "    e2' = (e2 + e2c + 1) `mod` Seq.length board'\n",
    "    in case length candidates of\n",
    "        1 -> if Seq.index digits 0 == head candidates\n",
    "            then board Seq.>< Seq.fromList candidates\n",
    "            else round' board' (e1', e2') (reverse found ++ candidates) []\n",
    "        6 -> if Seq.index digits (length digits - 1) == head candidates\n",
    "            then round' board' (e1', e2') (tail candidates) [head candidates]\n",
    "            else round' board' (e1', e2') candidates []\n",
    "        _ -> if Seq.index digits 0 == head candidates\n",
    "            then round' board' (e1', e2') (tail candidates) (head candidates:found)\n",
    "            else round' board' (e1', e2') (reverse found ++ candidates) []"
   ]
  },
  {
   "cell_type": "code",
   "execution_count": 7,
   "metadata": {},
   "outputs": [
    {
     "data": {
      "text/plain": [
       "20280190"
      ]
     },
     "metadata": {},
     "output_type": "display_data"
    }
   ],
   "source": [
    "length (round' seed (0,1) needle []) - 6"
   ]
  }
 ],
 "metadata": {
  "kernelspec": {
   "display_name": "Haskell",
   "language": "haskell",
   "name": "haskell"
  },
  "language_info": {
   "codemirror_mode": "ihaskell",
   "file_extension": ".hs",
   "name": "haskell",
   "pygments_lexer": "Haskell",
   "version": "8.4.4"
  }
 },
 "nbformat": 4,
 "nbformat_minor": 2
}
