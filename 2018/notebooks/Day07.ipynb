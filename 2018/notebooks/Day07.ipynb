{
 "cells": [
  {
   "cell_type": "code",
   "execution_count": 1,
   "metadata": {},
   "outputs": [],
   "source": [
    "{-# LANGUAGE OverloadedStrings #-}\n",
    "\n",
    "import AdventOfCode"
   ]
  },
  {
   "cell_type": "code",
   "execution_count": 2,
   "metadata": {},
   "outputs": [],
   "source": [
    "import qualified Data.Attoparsec.ByteString.Char8 as C\n",
    "\n",
    "parseLine = do\n",
    "    C.string \"Step \"\n",
    "    x <- C.anyChar\n",
    "    C.string \" must be finished before step \"\n",
    "    y <- C.anyChar\n",
    "    C.string \" can begin.\"\n",
    "    pure (x,y)\n",
    "\n",
    "input <- dayLines 7\n",
    "\n",
    "pairs = map (parsed parseLine) input"
   ]
  },
  {
   "cell_type": "code",
   "execution_count": 3,
   "metadata": {},
   "outputs": [
    {
     "data": {
      "text/plain": [
       "\"GKPTSLUXBIJMNCADFOVHEWYQRZ\""
      ]
     },
     "metadata": {},
     "output_type": "display_data"
    }
   ],
   "source": [
    "import qualified Data.Set as Set\n",
    "\n",
    "import qualified Data.Map.Strict as Map\n",
    "import Data.List (foldl')\n",
    "\n",
    "import Data.Tuple (swap)\n",
    "import Data.List\n",
    "\n",
    "swapped = map swap pairs\n",
    "\n",
    "graph = foldl' (\\m (k,v) -> Map.insertWith (++) k v m) Map.empty $ map (\\(k,v) -> (k,[v])) swapped\n",
    "\n",
    "initial = foldl' (\\m c -> if Map.member c m then m else Map.insert c [] m) graph ['A'..'Z']\n",
    "\n",
    "iter :: Map.Map Char String -> String -> String -> String\n",
    "iter graph execute output\n",
    "    | Map.null graph = output\n",
    "    | otherwise = let\n",
    "        (ready, blocked) = Map.partition (==[]) graph\n",
    "        candidates = Map.keys ready\n",
    "        (x:execute') = sort (candidates ++ execute)\n",
    "        output' = x:output\n",
    "        graph' = Map.map (delete x) blocked\n",
    "        in iter graph' execute' output'\n",
    "\n",
    "reverse $ iter initial [] []"
   ]
  },
  {
   "cell_type": "code",
   "execution_count": 4,
   "metadata": {},
   "outputs": [
    {
     "data": {
      "text/plain": [
       "920"
      ]
     },
     "metadata": {},
     "output_type": "display_data"
    }
   ],
   "source": [
    "mapping = Map.fromList $ zip ['A'..'Z'] [1..26]\n",
    "\n",
    "taskTime c = 60 + (mapping Map.! c)\n",
    "\n",
    "data Task = Task Char Int deriving (Eq, Show)\n",
    "\n",
    "type Workers = [Maybe Task]\n",
    "\n",
    "work :: Task -> Task\n",
    "work t@(Task _ 0) = t\n",
    "work (Task c n) = Task c (n-1)\n",
    "\n",
    "assignWork :: Workers -> String -> (Workers, String)\n",
    "assignWork [] ts = ([], ts)\n",
    "assignWork ws [] = (ws,[])\n",
    "assignWork (w@(Just _):ws) ts = let\n",
    "    (ws',ts') = assignWork ws ts\n",
    "    in (w:ws',ts')\n",
    "assignWork (Nothing:ws) (t:ts) = let\n",
    "    (ws',ts') = assignWork ws ts\n",
    "    in ((Just (Task t (taskTime t))):ws',ts')\n",
    "\n",
    "finished (Just (Task _ 0)) = True\n",
    "finished _ = False\n",
    "\n",
    "unTask (Task t 0) = t\n",
    "\n",
    "debrief (Just (Task _ 0)) = Nothing\n",
    "debrief t = t\n",
    "\n",
    "iter' :: Map.Map Char String -> String -> Workers -> Int -> Int\n",
    "iter' graph tasks workers elapsed\n",
    "    | Map.null graph && workers == [Nothing, Nothing, Nothing, Nothing, Nothing] = elapsed\n",
    "    | otherwise = let\n",
    "        (ready, blocked) = Map.partition (==[]) graph\n",
    "        candidates = Map.keys ready\n",
    "        (workers', tasks') = assignWork workers $ sort (candidates ++ tasks)\n",
    "        workers'' = map (fmap work) workers'\n",
    "        Just done = fmap (map unTask) $ sequenceA $ filter finished workers''\n",
    "        workers''' = map debrief workers''\n",
    "        graph' = Map.map (\\\\ done) blocked\n",
    "        elapsed' = elapsed + 1\n",
    "        in iter' graph' tasks' workers''' elapsed'\n",
    "\n",
    "iter' initial [] [Nothing, Nothing, Nothing, Nothing, Nothing] 0"
   ]
  }
 ],
 "metadata": {
  "kernelspec": {
   "display_name": "Haskell",
   "language": "haskell",
   "name": "haskell"
  },
  "language_info": {
   "codemirror_mode": "ihaskell",
   "file_extension": ".hs",
   "name": "haskell",
   "pygments_lexer": "Haskell",
   "version": "8.4.4"
  }
 },
 "nbformat": 4,
 "nbformat_minor": 2
}
