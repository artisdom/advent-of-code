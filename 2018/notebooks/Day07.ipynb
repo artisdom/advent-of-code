{
 "cells": [
  {
   "cell_type": "code",
   "execution_count": 1,
   "metadata": {},
   "outputs": [],
   "source": [
    "{-# LANGUAGE OverloadedStrings #-}\n",
    "\n",
    "import AdventOfCode"
   ]
  },
  {
   "cell_type": "code",
   "execution_count": 2,
   "metadata": {},
   "outputs": [],
   "source": [
    "import qualified Data.Attoparsec.ByteString.Char8 as C\n",
    "\n",
    "parseLine = do\n",
    "    C.string \"Step \"\n",
    "    x <- C.anyChar\n",
    "    C.string \" must be finished before step \"\n",
    "    y <- C.anyChar\n",
    "    C.string \" can begin.\"\n",
    "    pure (x,y)\n",
    "\n",
    "input <- dayLines 7\n",
    "\n",
    "\n",
    "pairs = map (parsed parseLine) input"
   ]
  },
  {
   "cell_type": "code",
   "execution_count": 3,
   "metadata": {},
   "outputs": [
    {
     "data": {
      "text/plain": [
       "fromList \"GKPT\""
      ]
     },
     "metadata": {},
     "output_type": "display_data"
    }
   ],
   "source": [
    "import qualified Data.Set as Set\n",
    "\n",
    "(parents, children) = unzip pairs\n",
    "\n",
    "Set.difference (Set.fromList parents) (Set.fromList children)"
   ]
  },
  {
   "cell_type": "code",
   "execution_count": 4,
   "metadata": {},
   "outputs": [],
   "source": [
    "import qualified Data.Map.Strict as Map\n",
    "import Data.List (foldl')\n",
    "import qualified Data.Graph as G\n",
    "\n",
    "singletons = map (\\(k,v) -> (k,[v])) pairs\n",
    "\n",
    "graph = foldl' (\\m (k,v) -> Map.insertWith (++) k v m) Map.empty singletons"
   ]
  },
  {
   "cell_type": "code",
   "execution_count": 5,
   "metadata": {},
   "outputs": [],
   "source": [
    "mapping = Map.fromList $ zip ['A'..'Z'] [1..26]\n",
    "invmapping = Map.fromList $ zip [1..26] ['A'..'Z']\n",
    "\n",
    "edges = map (\\(k,v) -> (mapping Map.! k, mapping Map.! v)) pairs\n",
    "\n",
    "-- map (invmapping Map.!) $ G.topSort $ G.buildG (1,26) edges\n"
   ]
  },
  {
   "cell_type": "code",
   "execution_count": 6,
   "metadata": {},
   "outputs": [],
   "source": [
    "import Data.Tuple (swap)\n",
    "import Data.List\n",
    "\n",
    "swapped = map swap pairs\n",
    "\n",
    "graphR = foldl' (\\m (k,v) -> Map.insertWith (++) k v m) Map.empty $ map (\\(k,v) -> (k,[v])) swapped\n",
    "\n",
    "initial = foldl' (\\m c -> if Map.member c m then m else Map.insert c [] m) graphR ['A'..'Z']\n",
    "\n",
    "iter :: Map.Map Char String -> String -> String -> (Map.Map Char String, String, String)\n",
    "iter graph execute output\n",
    "    | Map.null graph = (graph, execute, output)\n",
    "    | otherwise = let\n",
    "        (ready, blocked) = Map.partition (==[]) graph\n",
    "        candidates = Map.keys ready\n",
    "        (x:execute') = sort (candidates ++ execute)\n",
    "        output' = x:output\n",
    "        graph' = Map.map (delete x) blocked\n",
    "        in iter graph' execute' output'"
   ]
  },
  {
   "cell_type": "code",
   "execution_count": 7,
   "metadata": {},
   "outputs": [
    {
     "data": {
      "text/plain": [
       "\"GKPTSLUXBIJMNCADFOVHEWYQRZ\""
      ]
     },
     "metadata": {},
     "output_type": "display_data"
    }
   ],
   "source": [
    "(_,_,redro) = iter initial [] []\n",
    "reverse redro"
   ]
  },
  {
   "cell_type": "code",
   "execution_count": 8,
   "metadata": {},
   "outputs": [
    {
     "data": {
      "text/plain": [
       "Task 'C' 19"
      ]
     },
     "metadata": {},
     "output_type": "display_data"
    },
    {
     "data": {
      "text/plain": [
       "([Just (Task 'A' 61),Just (Task 'B' 62),Just (Task 'C' 63),Just (Task 'E' 65),Nothing],\"\")"
      ]
     },
     "metadata": {},
     "output_type": "display_data"
    }
   ],
   "source": [
    "taskTime c = 60 + (mapping Map.! c)\n",
    "\n",
    "data Task = Task Char Int deriving (Eq, Show)\n",
    "\n",
    "type Workers = [Maybe Task]\n",
    "\n",
    "work :: Task -> Task\n",
    "work t@(Task _ 0) = t\n",
    "work (Task c n) = Task c (n-1)\n",
    "\n",
    "work (Task 'C' 20)\n",
    "\n",
    "assignWork :: Workers -> String -> (Workers, String)\n",
    "assignWork [] ts = ([], ts)\n",
    "assignWork ws [] = (ws,[])\n",
    "assignWork (w@(Just _):ws) ts = let\n",
    "    (ws',ts') = assignWork ws ts\n",
    "    in (w:ws',ts')\n",
    "assignWork (Nothing:ws) (t:ts) = let\n",
    "    (ws',ts') = assignWork ws ts\n",
    "    in ((Just (Task t (taskTime t))):ws',ts')\n",
    "    \n",
    "assignWork [Nothing, Nothing, Nothing, Nothing, Nothing] \"ABCE\""
   ]
  },
  {
   "cell_type": "code",
   "execution_count": 15,
   "metadata": {},
   "outputs": [
    {
     "data": {
      "text/plain": [
       "(fromList [],\"\",\"GKPTSXBLIJNUDCMFVAHOEWYQRZ\",[Nothing,Nothing,Nothing,Nothing,Nothing],920)"
      ]
     },
     "metadata": {},
     "output_type": "display_data"
    }
   ],
   "source": [
    "import Debug.Trace\n",
    "\n",
    "finished (Just (Task _ 0)) = True\n",
    "finished _ = False\n",
    "\n",
    "unTask (Task t 0) = t\n",
    "\n",
    "debrief (Just (Task _ 0)) = Nothing\n",
    "debrief t = t\n",
    "\n",
    "iter' :: Map.Map Char String -> String -> String -> Workers -> Int -> (Map.Map Char String, String, String, Workers, Int)\n",
    "iter' graph tasks completed workers elapsed\n",
    "    | graph == Map.empty && workers == [Nothing, Nothing, Nothing, Nothing, Nothing] = (graph, tasks, completed, workers, elapsed)\n",
    "    | otherwise = let\n",
    "        (ready, blocked) = Map.partition (==[]) graph\n",
    "        candidates = Map.keys ready\n",
    "        (workers', tasks') = assignWork workers $ sort (candidates ++ tasks)\n",
    "        workers'' = map (fmap work) workers'\n",
    "        Just done = fmap (map unTask) $ sequenceA $ filter finished workers''\n",
    "        workers''' = map debrief workers''\n",
    "        graph' = traceShow workers''' $ Map.map (\\\\ done) blocked\n",
    "        elapsed' = elapsed + 1\n",
    "        in iter' graph' tasks' (completed ++ done) workers''' elapsed'\n",
    "\n",
    "iter' initial [] \"\" [Nothing, Nothing, Nothing, Nothing, Nothing] 0"
   ]
  }
 ],
 "metadata": {
  "kernelspec": {
   "display_name": "Haskell",
   "language": "haskell",
   "name": "haskell"
  },
  "language_info": {
   "codemirror_mode": "ihaskell",
   "file_extension": ".hs",
   "name": "haskell",
   "pygments_lexer": "Haskell",
   "version": "8.4.4"
  }
 },
 "nbformat": 4,
 "nbformat_minor": 2
}
