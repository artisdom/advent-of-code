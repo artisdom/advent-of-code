{
 "cells": [
  {
   "cell_type": "code",
   "execution_count": 1,
   "metadata": {},
   "outputs": [],
   "source": [
    "import AdventOfCode"
   ]
  },
  {
   "cell_type": "code",
   "execution_count": 2,
   "metadata": {},
   "outputs": [],
   "source": [
    "input <- dayLines 17"
   ]
  },
  {
   "cell_type": "code",
   "execution_count": 3,
   "metadata": {},
   "outputs": [],
   "source": [
    "{-# LANGUAGE OverloadedStrings #-}\n",
    "\n",
    "import qualified Data.Attoparsec.ByteString.Char8 as C\n",
    "\n",
    "parseXY = do\n",
    "    C.string \"x=\"\n",
    "    x <- C.decimal\n",
    "    C.string \", y=\"\n",
    "    yl <- C.decimal\n",
    "    C.string \"..\"\n",
    "    yr <- C.decimal\n",
    "    pure [(x,y) | y <- [yl..yr]]\n",
    "\n",
    "parseYX = do\n",
    "    C.string \"y=\"\n",
    "    y <- C.decimal\n",
    "    C.string \", x=\"\n",
    "    xl <- C.decimal\n",
    "    C.string \"..\"\n",
    "    xr <- C.decimal\n",
    "    pure [(x,y) | x <- [xl..xr]]\n",
    "\n",
    "import Control.Applicative\n",
    "\n",
    "parseLine = parseXY <|> parseYX\n",
    "\n",
    "points = concatMap (parsed parseLine) input"
   ]
  },
  {
   "cell_type": "code",
   "execution_count": 4,
   "metadata": {},
   "outputs": [
    {
     "data": {
      "text/plain": [
       "594"
      ]
     },
     "metadata": {},
     "output_type": "display_data"
    },
    {
     "data": {
      "text/plain": [
       "1801"
      ]
     },
     "metadata": {},
     "output_type": "display_data"
    },
    {
     "data": {
      "text/plain": [
       "23894"
      ]
     },
     "metadata": {},
     "output_type": "display_data"
    }
   ],
   "source": [
    "import Data.Function (on)\n",
    "import Data.List\n",
    "\n",
    "maxX = fst $ maximumBy (compare `on` fst) points\n",
    "maxY = snd $ maximumBy (compare `on` snd) points\n",
    "\n",
    "\n",
    "maxX\n",
    "maxY\n",
    "length points"
   ]
  },
  {
   "cell_type": "code",
   "execution_count": 13,
   "metadata": {},
   "outputs": [
    {
     "data": {
      "text/plain": [
       "314"
      ]
     },
     "metadata": {},
     "output_type": "display_data"
    },
    {
     "data": {
      "text/plain": [
       "3"
      ]
     },
     "metadata": {},
     "output_type": "display_data"
    }
   ],
   "source": [
    "minX = fst $ minimumBy (compare `on` fst) points\n",
    "minY = snd $ minimumBy (compare `on` snd) points\n",
    "minX\n",
    "minY"
   ]
  },
  {
   "cell_type": "code",
   "execution_count": 6,
   "metadata": {},
   "outputs": [],
   "source": [
    "import qualified Data.Set as S\n",
    "import qualified Data.Vector as V\n",
    "\n",
    "pointSet = S.fromList points\n",
    "\n",
    "row = V.replicate (maxX+1) ' '\n",
    "tiles = V.replicate (maxY+1) row\n",
    "\n",
    "rowSet y rowLen pSet = [(x, '#') | x <- [0..(rowLen-1)], S.member (x,y) pSet]"
   ]
  },
  {
   "cell_type": "code",
   "execution_count": 7,
   "metadata": {},
   "outputs": [
    {
     "data": {
      "text/plain": [
       "[(314,'#'),(315,'#'),(316,'#'),(317,'#'),(318,'#'),(319,'#'),(320,'#'),(321,'#'),(322,'#'),(323,'#'),(324,'#'),(325,'#'),(326,'#'),(327,'#'),(328,'#'),(329,'#'),(330,'#')]"
      ]
     },
     "metadata": {},
     "output_type": "display_data"
    }
   ],
   "source": [
    "rowSet 1801 594 pointSet\n",
    "\n",
    "process grid pSet n | n >= V.length grid = grid\n",
    "process grid pSet n = let\n",
    "   pts = rowSet n (V.length (V.head grid)) pSet\n",
    "   row' = (grid V.! n) V.// pts\n",
    "   grid' = grid V.// [(n, row')]\n",
    "   in process grid' pSet (n+1)"
   ]
  },
  {
   "cell_type": "code",
   "execution_count": 8,
   "metadata": {},
   "outputs": [],
   "source": [
    "processed = process tiles pointSet 0"
   ]
  },
  {
   "cell_type": "code",
   "execution_count": 9,
   "metadata": {},
   "outputs": [],
   "source": [
    "undergroundMap = unlines $ V.toList $ fmap V.toList processed"
   ]
  },
  {
   "cell_type": "code",
   "execution_count": 12,
   "metadata": {},
   "outputs": [
    {
     "data": {
      "text/plain": []
     },
     "metadata": {},
     "output_type": "display_data"
    }
   ],
   "source": [
    "writeFile \"map.txt\" undergroundMap"
   ]
  },
  {
   "cell_type": "code",
   "execution_count": null,
   "metadata": {},
   "outputs": [],
   "source": []
  }
 ],
 "metadata": {
  "kernelspec": {
   "display_name": "Haskell",
   "language": "haskell",
   "name": "haskell"
  },
  "language_info": {
   "codemirror_mode": "ihaskell",
   "file_extension": ".hs",
   "name": "haskell",
   "pygments_lexer": "Haskell",
   "version": "8.4.4"
  }
 },
 "nbformat": 4,
 "nbformat_minor": 2
}
