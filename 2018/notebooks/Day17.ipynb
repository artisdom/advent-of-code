{
 "cells": [
  {
   "cell_type": "code",
   "execution_count": 1,
   "metadata": {},
   "outputs": [],
   "source": [
    "import AdventOfCode\n",
    "import Debug.Trace"
   ]
  },
  {
   "cell_type": "code",
   "execution_count": 2,
   "metadata": {},
   "outputs": [],
   "source": [
    "input <- dayLines 17"
   ]
  },
  {
   "cell_type": "code",
   "execution_count": 3,
   "metadata": {},
   "outputs": [],
   "source": [
    "{-# LANGUAGE OverloadedStrings #-}\n",
    "\n",
    "import qualified Data.Attoparsec.ByteString.Char8 as C\n",
    "\n",
    "parseXY = do\n",
    "    C.string \"x=\"\n",
    "    x <- C.decimal\n",
    "    C.string \", y=\"\n",
    "    yl <- C.decimal\n",
    "    C.string \"..\"\n",
    "    yr <- C.decimal\n",
    "    pure [(x,y) | y <- [yl..yr]]\n",
    "\n",
    "parseYX = do\n",
    "    C.string \"y=\"\n",
    "    y <- C.decimal\n",
    "    C.string \", x=\"\n",
    "    xl <- C.decimal\n",
    "    C.string \"..\"\n",
    "    xr <- C.decimal\n",
    "    pure [(x,y) | x <- [xl..xr]]\n",
    "\n",
    "import Control.Applicative\n",
    "\n",
    "parseLine = parseXY <|> parseYX\n",
    "\n",
    "points = concatMap (parsed parseLine) input"
   ]
  },
  {
   "cell_type": "code",
   "execution_count": 4,
   "metadata": {},
   "outputs": [
    {
     "data": {
      "text/plain": [
       "594"
      ]
     },
     "metadata": {},
     "output_type": "display_data"
    },
    {
     "data": {
      "text/plain": [
       "1801"
      ]
     },
     "metadata": {},
     "output_type": "display_data"
    },
    {
     "data": {
      "text/plain": [
       "23894"
      ]
     },
     "metadata": {},
     "output_type": "display_data"
    }
   ],
   "source": [
    "import Data.Function (on)\n",
    "import Data.List\n",
    "\n",
    "maxX = fst $ maximumBy (compare `on` fst) points\n",
    "maxY = snd $ maximumBy (compare `on` snd) points\n",
    "\n",
    "\n",
    "maxX\n",
    "maxY\n",
    "length points"
   ]
  },
  {
   "cell_type": "code",
   "execution_count": 5,
   "metadata": {},
   "outputs": [
    {
     "data": {
      "text/plain": [
       "314"
      ]
     },
     "metadata": {},
     "output_type": "display_data"
    },
    {
     "data": {
      "text/plain": [
       "3"
      ]
     },
     "metadata": {},
     "output_type": "display_data"
    }
   ],
   "source": [
    "minX = fst $ minimumBy (compare `on` fst) points\n",
    "minY = snd $ minimumBy (compare `on` snd) points\n",
    "minX\n",
    "minY"
   ]
  },
  {
   "cell_type": "code",
   "execution_count": 6,
   "metadata": {},
   "outputs": [],
   "source": [
    "import qualified Data.Map.Strict as Map\n",
    "\n",
    "data Tile = Water | Clay deriving (Eq, Show)\n",
    "\n",
    "pointMap = Map.fromList $ zip points (repeat Clay)"
   ]
  },
  {
   "cell_type": "code",
   "execution_count": 7,
   "metadata": {},
   "outputs": [],
   "source": [
    "fall :: Map.Map (Int, Int) Tile -> (Int, Int) -> Int -> (Map.Map (Int, Int) Tile, (Int, Int))\n",
    "fall pMap (x,y) maxy | y > maxy = (pMap, (x,y))\n",
    "fall pMap (x,y) maxy = case Map.lookup (x,y) pMap of\n",
    "    Nothing -> let\n",
    "        pMap' = Map.insert (x,y) Water pMap\n",
    "        in fall pMap' (x,y+1) maxy\n",
    "    Just _ -> (pMap, (x,y))\n",
    "    Just Water -> let\n",
    "        (spreadL, coordL) = spread L pMap    (x-1,y-1) (x,y-2) maxy\n",
    "        (spreadR, coordR) = spread R spreadL (x+1,y-1) (x,y-2) maxy\n",
    "        in (spreadR, coordR)\n",
    "    Just Clay -> let\n",
    "        (spreadL, coordL) = spread L pMap    (x-1,y-1) (x,y-2) maxy\n",
    "        (spreadR, coordR) = spread R spreadL (x+1,y-1) (x,y-2) maxy\n",
    "        in (spreadR, coordR)\n",
    "\n",
    "data Direction = L | R deriving (Eq, Show)\n",
    "\n",
    "spread direction pMap (x,y) parent maxy | x < 0 = error \"negative x value\"\n",
    "spread L pMap (x,y) parent@(pX, pY) maxy = case Map.lookup (x, y) pMap of -- the tile to be occupied\n",
    "    Nothing -> case Map.lookup (x, y+1) pMap of -- the tile beneath the tile to be occupied\n",
    "        Just _ -> let\n",
    "            pMap' = Map.insert (x, y) Water pMap\n",
    "            in spread L pMap' (x-1, y) parent maxy\n",
    "        Nothing -> let\n",
    "            pMap' = Map.insert (x, y) Water pMap\n",
    "            in fall pMap' (x-1, y) maxy\n",
    "    Just Clay -> fall pMap parent maxy\n",
    "    Just Water -> (pMap, parent)\n",
    "spread R pMap (x,y) parent@(pX, pY) maxy = case Map.lookup (x, y) pMap of -- the tile to be occupied\n",
    "    Nothing -> case Map.lookup (x, y+1) pMap of -- the tile beneath the tile to be occupied\n",
    "        Just _ -> let\n",
    "            pMap' = Map.insert (x, y) Water pMap\n",
    "            in spread R pMap' (x+1, y) parent maxy\n",
    "        Nothing -> let\n",
    "            pMap' = Map.insert (x, y) Water pMap\n",
    "            in fall pMap' (x+1, y) maxy\n",
    "    Just Clay -> fall pMap parent maxy\n",
    "    Just Water -> (pMap, parent)"
   ]
  },
  {
   "cell_type": "code",
   "execution_count": 8,
   "metadata": {},
   "outputs": [],
   "source": [
    "import qualified Data.Set as S\n",
    "import qualified Data.Vector as V\n",
    "\n",
    "pointSet = S.fromList points\n",
    "\n",
    "row = V.replicate (maxX+1) ' '\n",
    "tiles = V.replicate (maxY+1) row\n",
    "\n",
    "display t = case t of\n",
    "    Water -> 'w'\n",
    "    Clay -> '#'\n",
    "\n",
    "rowSet y rowLen pMap = [(x, display t) | x <- [0..(rowLen-1)], Map.member (x,y) pMap, let t = pMap Map.! (x,y)]"
   ]
  },
  {
   "cell_type": "code",
   "execution_count": 9,
   "metadata": {},
   "outputs": [],
   "source": [
    "process grid pMap n | n >= V.length grid = grid\n",
    "process grid pMap n = let\n",
    "   pts = rowSet n (V.length (V.head grid)) pMap\n",
    "   row' = (grid V.! n) V.// pts\n",
    "   grid' = grid V.// [(n, row')]\n",
    "   in process grid' pMap (n+1)"
   ]
  },
  {
   "cell_type": "code",
   "execution_count": 10,
   "metadata": {},
   "outputs": [
    {
     "data": {
      "text/plain": [
       "(500,20)"
      ]
     },
     "metadata": {},
     "output_type": "display_data"
    }
   ],
   "source": [
    "(step1, coord1) = fall pointMap (500,minY) maxY\n",
    "coord1\n",
    "processed = process tiles step1 0"
   ]
  },
  {
   "cell_type": "code",
   "execution_count": 11,
   "metadata": {},
   "outputs": [],
   "source": [
    "undergroundMap = unlines $ V.toList $ fmap (intersperse ',' . V.toList) processed "
   ]
  },
  {
   "cell_type": "code",
   "execution_count": 12,
   "metadata": {},
   "outputs": [
    {
     "data": {
      "text/plain": []
     },
     "metadata": {},
     "output_type": "display_data"
    }
   ],
   "source": [
    "writeFile \"map.txt\" undergroundMap"
   ]
  },
  {
   "cell_type": "code",
   "execution_count": 13,
   "metadata": {},
   "outputs": [],
   "source": [
    "handFilled <- readFile \"map.csv\"\n",
    "still = filter (== '~') handFilled\n",
    "flow = filter (== '|') handFilled"
   ]
  },
  {
   "cell_type": "code",
   "execution_count": 14,
   "metadata": {},
   "outputs": [
    {
     "data": {
      "text/plain": [
       "36790"
      ]
     },
     "metadata": {},
     "output_type": "display_data"
    },
    {
     "data": {
      "text/plain": [
       "30765"
      ]
     },
     "metadata": {},
     "output_type": "display_data"
    }
   ],
   "source": [
    "length $ still <> flow\n",
    "length   still"
   ]
  }
 ],
 "metadata": {
  "kernelspec": {
   "display_name": "Haskell",
   "language": "haskell",
   "name": "haskell"
  },
  "language_info": {
   "codemirror_mode": "ihaskell",
   "file_extension": ".hs",
   "name": "haskell",
   "pygments_lexer": "Haskell",
   "version": "8.4.4"
  }
 },
 "nbformat": 4,
 "nbformat_minor": 2
}
