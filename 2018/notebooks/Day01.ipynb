{
 "cells": [
  {
   "cell_type": "code",
   "execution_count": 1,
   "metadata": {},
   "outputs": [],
   "source": [
    "file <- lines <$> readFile \"../input/day1.txt\""
   ]
  },
  {
   "cell_type": "code",
   "execution_count": 2,
   "metadata": {},
   "outputs": [
    {
     "data": {
      "text/plain": [
       "533"
      ]
     },
     "metadata": {},
     "output_type": "display_data"
    }
   ],
   "source": [
    "readI :: String -> Int\n",
    "readI ('+':xs) = read xs\n",
    "readI      xs  = read xs\n",
    "\n",
    "sum $ map readI file"
   ]
  },
  {
   "cell_type": "code",
   "execution_count": 3,
   "metadata": {},
   "outputs": [],
   "source": [
    "frequencies = scanl (+) 0 (cycle (map readI file))"
   ]
  },
  {
   "cell_type": "code",
   "execution_count": 4,
   "metadata": {},
   "outputs": [
    {
     "data": {
      "text/plain": [
       "Left 73272"
      ]
     },
     "metadata": {},
     "output_type": "display_data"
    }
   ],
   "source": [
    "import qualified Data.Set as Set\n",
    "\n",
    "findDuplicates :: Ord a => [a] -> Set.Set a -> Either a (Set.Set a)\n",
    "findDuplicates []     set = Right set\n",
    "findDuplicates (a:as) set = if Set.member a set\n",
    "    then Left a\n",
    "    else findDuplicates as (Set.insert a set)\n",
    "\n",
    "findDuplicates frequencies Set.empty"
   ]
  }
 ],
 "metadata": {
  "kernelspec": {
   "display_name": "Haskell",
   "language": "haskell",
   "name": "haskell"
  },
  "language_info": {
   "codemirror_mode": "ihaskell",
   "file_extension": ".hs",
   "name": "haskell",
   "pygments_lexer": "Haskell",
   "version": "8.4.4"
  }
 },
 "nbformat": 4,
 "nbformat_minor": 2
}
