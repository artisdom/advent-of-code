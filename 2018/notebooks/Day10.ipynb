{
 "cells": [
  {
   "cell_type": "code",
   "execution_count": 1,
   "metadata": {},
   "outputs": [],
   "source": [
    "import AdventOfCode"
   ]
  },
  {
   "cell_type": "code",
   "execution_count": 2,
   "metadata": {},
   "outputs": [],
   "source": [
    "input <- dayLines 10"
   ]
  },
  {
   "cell_type": "code",
   "execution_count": 3,
   "metadata": {},
   "outputs": [],
   "source": [
    "{-# LANGUAGE OverloadedStrings #-}\n",
    "\n",
    "import Data.ByteString (ByteString)\n",
    "import qualified Data.Attoparsec.ByteString.Char8 as C\n",
    "\n",
    "ex = \"position=< 41465, -51440> velocity=<-4,  5>\" :: ByteString\n",
    "\n",
    "parseCoord = (,) <$> (\"<\" *> (C.skipSpace *> C.signed C.decimal)) <*> (\",\" *> (C.skipSpace *> C.signed C.decimal) <* \">\")\n",
    "\n",
    "parseLine = (,) <$> (\"position=\" *> parseCoord <* C.skipSpace) <*> (\"velocity=\" *> parseCoord)\n",
    "\n",
    "(positions', velocities') = unzip $ map (parsed parseLine) input\n",
    "\n",
    "flipY (x,y) = (x, negate y)\n",
    "positions = fmap flipY positions'\n",
    "velocities = fmap flipY velocities'"
   ]
  },
  {
   "cell_type": "code",
   "execution_count": 4,
   "metadata": {},
   "outputs": [],
   "source": [
    "import Graphics.Rendering.Chart.Easy\n",
    "import Graphics.Rendering.Chart.Renderable\n",
    "import IHaskell.Display.Charts\n",
    "import IHaskell.Display\n",
    "\n",
    "add (a, b) (c, d) = (a+c, b+d)\n",
    "\n",
    "moving = drop 10312 $ iterate (zipWith add velocities) positions"
   ]
  },
  {
   "cell_type": "code",
   "execution_count": 5,
   "metadata": {},
   "outputs": [
    {
     "data": {
      "image/png": "[encoded data removed]"
     },
     "metadata": {},
     "output_type": "display_data"
    }
   ],
   "source": [
    "display . toRenderable . plot . points \"\" $ head moving"
   ]
  },
  {
   "cell_type": "code",
   "execution_count": null,
   "metadata": {},
   "outputs": [],
   "source": []
  }
 ],
 "metadata": {
  "kernelspec": {
   "display_name": "Haskell",
   "language": "haskell",
   "name": "haskell"
  },
  "language_info": {
   "codemirror_mode": "ihaskell",
   "file_extension": ".hs",
   "name": "haskell",
   "pygments_lexer": "Haskell",
   "version": "8.4.4"
  }
 },
 "nbformat": 4,
 "nbformat_minor": 2
}
