{
 "cells": [
  {
   "cell_type": "code",
   "execution_count": 1,
   "metadata": {
    "collapsed": false,
    "deletable": true,
    "editable": true
   },
   "outputs": [],
   "source": [
    "{-# LANGUAGE OverloadedStrings #-}\n",
    "\n",
    "import qualified Data.ByteString as B\n",
    "import qualified Data.ByteString.Char8 as BC\n",
    "import Data.ByteString.Internal (c2w, w2c)\n",
    "\n",
    "input = \"01111010110010011\" :: B.ByteString\n",
    "\n",
    "zero = c2w '0'\n",
    "one  = c2w '1'\n",
    "\n",
    "dragon bs = B.concat [bs, \"0\", negated $ B.reverse bs]\n",
    "\n",
    "negated = B.map (\\c -> if c==one then zero else one)"
   ]
  },
  {
   "cell_type": "code",
   "execution_count": 2,
   "metadata": {
    "collapsed": false,
    "deletable": true,
    "editable": true
   },
   "outputs": [
    {
     "data": {
      "text/plain": [
       "True"
      ]
     },
     "metadata": {},
     "output_type": "display_data"
    }
   ],
   "source": [
    "fillDisk input len\n",
    "    | B.length input >= len = B.take len input\n",
    "    | otherwise             = fillDisk (dragon input) len\n",
    "\n",
    "filled = fillDisk input 272\n",
    "\n",
    "checksum code acc\n",
    "    | B.null   code              = checksum (B.pack $ reverse acc) []\n",
    "    | B.length code `mod` 2 == 1 = code\n",
    "    | otherwise                  = let\n",
    "        w1  = B.head          code\n",
    "        w2  = B.head $ B.tail code\n",
    "        bs' = B.tail $ B.tail code\n",
    "        in checksum bs' ((match w1 w2):acc)\n",
    "\n",
    "match w1 w2 = if w1 == w2 then one else zero\n",
    "\n",
    "checksum filled [] == \"00100111000101111\""
   ]
  },
  {
   "cell_type": "code",
   "execution_count": 3,
   "metadata": {
    "collapsed": false,
    "deletable": true,
    "editable": true
   },
   "outputs": [
    {
     "data": {
      "text/plain": [
       "\"11101110011100110\""
      ]
     },
     "metadata": {},
     "output_type": "display_data"
    }
   ],
   "source": [
    "filled'' = fillDisk input 35651584\n",
    "checksum filled'' []"
   ]
  }
 ],
 "metadata": {
  "kernelspec": {
   "display_name": "Haskell",
   "language": "haskell",
   "name": "haskell"
  },
  "language_info": {
   "codemirror_mode": "ihaskell",
   "file_extension": ".hs",
   "name": "haskell",
   "version": "8.0.2"
  }
 },
 "nbformat": 4,
 "nbformat_minor": 0
}
