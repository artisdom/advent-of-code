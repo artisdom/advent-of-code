{
 "cells": [
  {
   "cell_type": "code",
   "execution_count": 1,
   "metadata": {
    "collapsed": true,
    "deletable": true,
    "editable": true
   },
   "outputs": [],
   "source": [
    "{-# LANGUAGE OverloadedStrings #-}\n",
    "\n",
    "import qualified Data.ByteString                  as B\n",
    "import qualified Data.ByteString.Char8            as B (lines)\n",
    "import qualified Data.Attoparsec.ByteString       as A\n",
    "import qualified Data.Attoparsec.ByteString.Char8 as AC\n",
    "\n",
    "input <- B.lines <$> B.readFile \"../input/day10.txt\""
   ]
  },
  {
   "cell_type": "code",
   "execution_count": 2,
   "metadata": {
    "collapsed": false,
    "deletable": true,
    "editable": true
   },
   "outputs": [],
   "source": [
    "data Bot         = Bot Int                              deriving (Eq, Show, Ord)\n",
    "data Sink        = OtherBot  Bot | Bucket Int           deriving (Eq, Show)\n",
    "data Instruction = Input Int Bot | Output Bot Sink Sink deriving (Eq, Show)\n",
    "\n",
    "data Storage = Holding (Maybe Int) (Maybe Int) deriving (Eq, Show)\n",
    "\n",
    "parseInput = do\n",
    "    value <- \"value \" *> AC.decimal <* \" goes to bot \"\n",
    "    botN  <- AC.decimal\n",
    "    return $ Input value (Bot botN)\n",
    "\n",
    "parseSink = A.choice\n",
    "    [ OtherBot . Bot <$> (\"bot \"    *> AC.decimal)\n",
    "    , Bucket         <$> (\"output \" *> AC.decimal)\n",
    "    ]\n",
    "\n",
    "parseOutput = Output\n",
    "    <$> (Bot <$> (\"bot \" *> AC.decimal))\n",
    "    <*> (\" gives low to \" *> parseSink)\n",
    "    <*> (\" and high to \"  *> parseSink)\n",
    "\n",
    "parseInstruction = A.choice [parseInput, parseOutput]\n",
    "\n",
    "parsed = map (either error id . A.parseOnly parseInstruction) input"
   ]
  },
  {
   "cell_type": "code",
   "execution_count": 3,
   "metadata": {
    "collapsed": false,
    "deletable": true,
    "editable": true
   },
   "outputs": [
    {
     "data": {
      "text/plain": [
       "Bot 93"
      ]
     },
     "metadata": {},
     "output_type": "display_data"
    }
   ],
   "source": [
    "import qualified Data.Map.Strict as M\n",
    "\n",
    "type Stored  = M.Map Bot Storage\n",
    "type Outputs = M.Map Int [Int]\n",
    "data State   = State Stored Outputs [Instruction]\n",
    "\n",
    "full :: Bot -> Stored -> Bool\n",
    "full bot stored = case M.lookup bot stored of\n",
    "    Just (Holding (Just _) (Just _)) -> True\n",
    "    _                                -> False\n",
    "\n",
    "storeInput :: Bot -> Stored -> Int -> Stored\n",
    "storeInput bot stored int = case M.lookup bot stored of\n",
    "    Nothing                         -> M.insert bot (Holding (Just         int) Nothing)            stored\n",
    "    Just (Holding (Just x) Nothing) -> M.insert bot (Holding (Just $ min x int) (Just $ max x int)) stored\n",
    "\n",
    "putBucket :: Int -> Int -> Outputs -> Outputs\n",
    "putBucket bucketNo chip outputs = case M.lookup bucketNo outputs of\n",
    "    Nothing    -> M.insert bucketNo [chip]       outputs\n",
    "    Just chips -> M.insert bucketNo (chip:chips) outputs\n",
    "\n",
    "output :: Storage -> Sink -> Sink -> Stored -> Outputs -> (Stored, Outputs)\n",
    "output (Holding (Just mn) (Just mx)) sink1 sink2 stored outputs = let\n",
    "    (stored',outputs') = case sink1 of\n",
    "        OtherBot bot -> (storeInput bot stored mn, outputs)\n",
    "        Bucket b     -> (stored, putBucket b mn outputs)\n",
    "    (stored'',outputs'') = case sink2 of\n",
    "        OtherBot bot' -> (storeInput bot' stored' mx, outputs')\n",
    "        Bucket b'     -> (stored', putBucket b' mx outputs')\n",
    "    in (stored'',outputs'')\n",
    "\n",
    "run (State stored outputs [])     = (stored,outputs)\n",
    "run (State stored outputs (i:is)) = case i of\n",
    "    Input int bot -> let\n",
    "        stored' = storeInput bot stored int\n",
    "        in run (State stored' outputs is)\n",
    "    Output bot sink1 sink2\n",
    "        | not $ full bot stored -> run (State stored outputs (is++[i]))\n",
    "        | otherwise             -> let\n",
    "            value              = stored M.! bot\n",
    "            (stored',outputs') = output value sink1 sink2 stored outputs\n",
    "            in run (State stored' outputs' is)\n",
    "    \n",
    "result = run (State M.empty M.empty parsed)\n",
    "\n",
    "matcher (_,(Holding (Just 17) (Just 61))) = True\n",
    "matcher _                                 = False\n",
    "\n",
    "fst $ head $ filter matcher $ M.toList (fst result)"
   ]
  },
  {
   "cell_type": "code",
   "execution_count": 4,
   "metadata": {
    "collapsed": false,
    "deletable": true,
    "editable": true
   },
   "outputs": [
    {
     "data": {
      "text/plain": [
       "47101"
      ]
     },
     "metadata": {},
     "output_type": "display_data"
    }
   ],
   "source": [
    "outputs = snd result\n",
    "head (outputs M.! 0) * head (outputs M.! 1) * head (outputs M.! 2)"
   ]
  }
 ],
 "metadata": {
  "kernelspec": {
   "display_name": "Haskell",
   "language": "haskell",
   "name": "haskell"
  },
  "language_info": {
   "codemirror_mode": "ihaskell",
   "file_extension": ".hs",
   "name": "haskell",
   "version": "8.0.2"
  }
 },
 "nbformat": 4,
 "nbformat_minor": 0
}
