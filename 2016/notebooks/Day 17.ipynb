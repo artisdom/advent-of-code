{
 "cells": [
  {
   "cell_type": "code",
   "execution_count": 1,
   "metadata": {
    "collapsed": true,
    "deletable": true,
    "editable": true
   },
   "outputs": [],
   "source": [
    "{-# LANGUAGE OverloadedStrings #-}\n",
    "\n",
    "import Data.ByteArray.Encoding (convertToBase, Base(Base16))\n",
    "import Crypto.Hash (hashWith)\n",
    "import Crypto.Hash.Algorithms (MD5)\n",
    "import qualified Data.ByteString as B\n",
    "import qualified Data.ByteString.UTF8 as BU\n",
    "\n",
    "input = \"lpvhkcbi\" :: B.ByteString"
   ]
  },
  {
   "cell_type": "code",
   "execution_count": 2,
   "metadata": {
    "collapsed": false,
    "deletable": true,
    "editable": true
   },
   "outputs": [
    {
     "data": {
      "text/plain": [
       "\"lpvhkcbiDUDRLRRDDR\""
      ]
     },
     "metadata": {},
     "output_type": "display_data"
    }
   ],
   "source": [
    "import Data.ByteString.Internal (c2w, w2c)\n",
    "import Data.Maybe (catMaybes)\n",
    "\n",
    "data Direction = U | D | L | R deriving (Eq, Ord, Show)\n",
    "\n",
    "open ls = let\n",
    "    zipped = zip ls [U,D,L,R]\n",
    "    in map snd $ filter fst zipped\n",
    "\n",
    "md5 :: B.ByteString -> B.ByteString\n",
    "md5 = convertToBase Base16 . hashWith (undefined :: MD5)\n",
    "\n",
    "doors input  = let \n",
    "    possible = B.unpack $ B.take 4 $ md5 input\n",
    "    in open $ map (flip B.elem \"bcdef\") possible\n",
    "\n",
    "next (x,y) input U | y-1 >=0 = Just ((x, y-1), B.snoc input (c2w 'U'))\n",
    "next (x,y) input D | y+1 <=3 = Just ((x, y+1), B.snoc input (c2w 'D'))\n",
    "next (x,y) input L | x-1 >=0 = Just ((x-1, y), B.snoc input (c2w 'L'))\n",
    "next (x,y) input R | x+1 <=3 = Just ((x+1, y), B.snoc input (c2w 'R'))\n",
    "next _     _     _           = Nothing\n",
    "\n",
    "\n",
    "neighbours pos input = let\n",
    "    possible = doors input\n",
    "    in catMaybes $ map (next pos input) possible\n",
    "\n",
    "run (p:ps) = case p of\n",
    "    ((3,3), path) -> path\n",
    "    _             -> let\n",
    "        paths = uncurry neighbours p\n",
    "        in run (ps++paths)\n",
    "\n",
    "run (neighbours (0,0) input)"
   ]
  },
  {
   "cell_type": "code",
   "execution_count": 3,
   "metadata": {
    "collapsed": false,
    "deletable": true,
    "editable": true
   },
   "outputs": [
    {
     "data": {
      "text/plain": [
       "788"
      ]
     },
     "metadata": {},
     "output_type": "display_data"
    }
   ],
   "source": [
    "run' longest []                   = longest\n",
    "run' longest (p@((3,3), path):ps) = let\n",
    "    pathLength = B.length path - B.length input\n",
    "    longest'   = max longest pathLength\n",
    "    in run' longest' ps\n",
    "run' longest (p:ps)               = let\n",
    "    paths = uncurry neighbours p\n",
    "    in run' longest (ps++paths)\n",
    "\n",
    "    \n",
    "\n",
    "run' 0 (neighbours (0, 0) input)"
   ]
  }
 ],
 "metadata": {
  "kernelspec": {
   "display_name": "Haskell",
   "language": "haskell",
   "name": "haskell"
  },
  "language_info": {
   "codemirror_mode": "ihaskell",
   "file_extension": ".hs",
   "name": "haskell",
   "version": "8.0.2"
  }
 },
 "nbformat": 4,
 "nbformat_minor": 0
}
