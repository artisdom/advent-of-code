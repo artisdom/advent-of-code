{
 "cells": [
  {
   "cell_type": "code",
   "execution_count": 1,
   "metadata": {
    "collapsed": true,
    "deletable": true,
    "editable": true
   },
   "outputs": [],
   "source": [
    "{-# LANGUAGE OverloadedStrings #-}\n",
    "\n",
    "import qualified Data.ByteString                  as B\n",
    "import qualified Data.ByteString.Char8            as B (lines)\n",
    "import qualified Data.Attoparsec.ByteString       as A\n",
    "import qualified Data.Attoparsec.ByteString.Char8 as AC\n",
    "\n",
    "input <- B.lines <$> B.readFile \"../input/day23.txt\""
   ]
  },
  {
   "cell_type": "code",
   "execution_count": 2,
   "metadata": {
    "collapsed": false,
    "deletable": true,
    "editable": true
   },
   "outputs": [
    {
     "data": {
      "text/plain": [
       "Cpy (Right A) B\n",
       "Dec B\n",
       "Cpy (Right A) D\n",
       "Cpy (Left 0) A\n",
       "Cpy (Right B) C\n",
       "Inc A\n",
       "Dec C\n",
       "Jnz (Right C) (Left (-2))\n",
       "Dec D\n",
       "Jnz (Right D) (Left (-5))\n",
       "Dec B\n",
       "Cpy (Right B) C\n",
       "Cpy (Right C) D\n",
       "Dec D\n",
       "Inc C\n",
       "Jnz (Right D) (Left (-2))\n",
       "Tgl C\n",
       "Cpy (Left (-16)) C\n",
       "Jnz (Left 1) (Right C)\n",
       "Cpy (Left 77) C\n",
       "Jnz (Left 87) (Right D)\n",
       "Inc A\n",
       "Inc D\n",
       "Jnz (Right D) (Left (-2))\n",
       "Inc C\n",
       "Jnz (Right C) (Left (-5))"
      ]
     },
     "metadata": {},
     "output_type": "display_data"
    }
   ],
   "source": [
    "import Data.List\n",
    "\n",
    "data Register = A | B | C | D deriving (Eq, Show, Ord)\n",
    "\n",
    "data Instruction\n",
    "    = Cpy (Either Int Register) Register\n",
    "    | Inc Register\n",
    "    | Dec Register\n",
    "    | Jnz (Either Int Register) (Either Int Register)\n",
    "    | Tgl Register\n",
    "    | Invalid Instruction\n",
    "    deriving (Eq, Show)\n",
    "\n",
    "parseRegister = A.choice\n",
    "    [ A.string \"a\" *> (return A)\n",
    "    , A.string \"b\" *> (return B)\n",
    "    , A.string \"c\" *> (return C)\n",
    "    , A.string \"d\" *> (return D)\n",
    "    ]\n",
    "\n",
    "parseCpy = do\n",
    "    A.string \"cpy\"\n",
    "    AC.space\n",
    "    value <- A.choice [Left <$> AC.signed AC.decimal, Right <$> parseRegister]\n",
    "    AC.space\n",
    "    reg <- parseRegister\n",
    "    return $ Cpy value reg\n",
    "\n",
    "parseInc = do\n",
    "    A.string \"inc\"\n",
    "    AC.space\n",
    "    reg <- parseRegister\n",
    "    return $ Inc reg\n",
    "\n",
    "parseDec = do\n",
    "    A.string \"dec\"\n",
    "    AC.space\n",
    "    reg <- parseRegister\n",
    "    return $ Dec reg\n",
    "\n",
    "parseJnz = do\n",
    "    A.string \"jnz\"\n",
    "    AC.space\n",
    "    reg <- A.choice [Left <$> AC.signed AC.decimal, Right <$> parseRegister]\n",
    "    AC.space\n",
    "    jmp <- A.choice [Left <$> AC.signed AC.decimal, Right <$> parseRegister]\n",
    "    return $ Jnz reg jmp\n",
    "\n",
    "parseTgl = do\n",
    "    A.string \"tgl\"\n",
    "    AC.space\n",
    "    reg <- parseRegister\n",
    "    return $ Tgl reg\n",
    "\n",
    "parseInstruction = A.choice [parseCpy, parseInc, parseDec, parseJnz, parseTgl]\n",
    "\n",
    "parsed = map (either error id . A.parseOnly parseInstruction) input\n",
    "mapM_ print parsed"
   ]
  },
  {
   "cell_type": "code",
   "execution_count": 3,
   "metadata": {
    "collapsed": false,
    "deletable": true,
    "editable": true
   },
   "outputs": [
    {
     "data": {
      "text/plain": [
       "11739"
      ]
     },
     "metadata": {},
     "output_type": "display_data"
    }
   ],
   "source": [
    "-- import Control.Monad.Trans.State\n",
    "import qualified Data.Map.Strict as M\n",
    "import qualified Data.Vector     as V\n",
    "\n",
    "type Registers = M.Map Register Int\n",
    "data Computer = Computer\n",
    "    { pointer      :: Int\n",
    "    , registers    :: Registers\n",
    "    } deriving (Eq, Show)\n",
    "\n",
    "-- type Instructions = M.Map Int Instruction\n",
    "\n",
    "runInstr (Computer p rs) (Cpy (Left value) reg) = let\n",
    "    rs' = M.insert reg value rs\n",
    "    in Computer (p+1) rs'\n",
    "runInstr (Computer p rs) (Cpy (Right reg1) reg2) = let\n",
    "    value = rs M.! reg1\n",
    "    rs'   = M.insert reg2 value rs\n",
    "    in Computer (p+1) rs'\n",
    "runInstr (Computer p rs) (Inc reg) = let\n",
    "    value = rs M.! reg\n",
    "    rs'   = M.insert reg (value+1) rs\n",
    "    in Computer (p+1) rs'\n",
    "runInstr (Computer p rs) (Dec reg) = let\n",
    "    value = rs M.! reg\n",
    "    rs'   = M.insert reg (value-1) rs\n",
    "    in Computer (p+1) rs'\n",
    "runInstr (Computer p rs) (Jnz (Left value) jmp)\n",
    "    | value == 0       = Computer (p+1) rs\n",
    "    | (Left v)  <- jmp = Computer (p+v) rs\n",
    "    | (Right r) <- jmp = let\n",
    "        v = rs M.! r\n",
    "        in               Computer (p+v) rs\n",
    "runInstr (Computer p rs) (Jnz (Right reg) jmp)\n",
    "    | (rs M.! reg) == 0 = Computer (p+1) rs\n",
    "    | (Left v)  <- jmp = Computer (p+v) rs\n",
    "    | (Right r) <- jmp = let\n",
    "        v = rs M.! r\n",
    "        in               Computer (p+v) rs\n",
    "\n",
    "runTgl c@(Computer p rs) (Tgl reg) is = let\n",
    "    value = rs M.! reg\n",
    "    index = p + value\n",
    "    len   = V.length is\n",
    "    c'    = Computer (p+1) rs\n",
    "    in if (index < 0 || index >= len)\n",
    "        then (c', is)\n",
    "        else (c', is V.// [(index, toggle (is V.! index))])\n",
    "\n",
    "\n",
    "toggle instr = case instr of\n",
    "    Inc x -> Dec x\n",
    "    Dec x -> Inc x\n",
    "    Tgl x -> Inc x\n",
    "    Jnz a (Left b)  -> Invalid instr\n",
    "    Jnz a (Right b) -> Cpy a b\n",
    "    Cpy a b         -> Jnz a (Right b)\n",
    "    Invalid i       -> toggle i\n",
    "\n",
    "run c@(Computer p rs) instructions \n",
    "    | p >= V.length instructions = c\n",
    "    | otherwise = let\n",
    "        i  = instructions V.! p\n",
    "        in case i of\n",
    "            Tgl r -> let\n",
    "                (c', instructions') = runTgl c i instructions\n",
    "                in run c' instructions'\n",
    "            _ -> let\n",
    "                c' = runInstr c i\n",
    "                in run c' instructions\n",
    "\n",
    "start = Computer 0 $ M.fromList [(A, 7), (B, 0), (C, 0), (D, 0)]\n",
    "\n",
    "a7 = registers (run start $ V.fromList parsed) M.! A\n",
    "a7"
   ]
  },
  {
   "cell_type": "code",
   "execution_count": 4,
   "metadata": {
    "collapsed": false,
    "deletable": true,
    "editable": true
   },
   "outputs": [
    {
     "data": {
      "text/plain": [
       "6699"
      ]
     },
     "metadata": {},
     "output_type": "display_data"
    },
    {
     "data": {
      "text/plain": [
       "6699"
      ]
     },
     "metadata": {},
     "output_type": "display_data"
    },
    {
     "data": {
      "text/plain": [
       "6699"
      ]
     },
     "metadata": {},
     "output_type": "display_data"
    },
    {
     "data": {
      "text/plain": [
       "6699"
      ]
     },
     "metadata": {},
     "output_type": "display_data"
    },
    {
     "data": {
      "text/plain": [
       "6699"
      ]
     },
     "metadata": {},
     "output_type": "display_data"
    },
    {
     "data": {
      "text/plain": [
       "6699"
      ]
     },
     "metadata": {},
     "output_type": "display_data"
    }
   ],
   "source": [
    "start' = Computer 0 $ M.fromList [(A, 9), (B, 0), (C, 0), (D, 0)]\n",
    "\n",
    "makeStart n = Computer 0 $ M.fromList [(A, n), (B, 0), (C, 0), (D, 0)]\n",
    "\n",
    "a n = registers (run (makeStart n) $ V.fromList parsed) M.! A\n",
    "\n",
    "fact n = foldr (*) 1 [1..n]\n",
    "\n",
    "7419 - fact 6\n",
    "\n",
    "11739 - fact 7\n",
    "\n",
    "47019 - fact 8\n",
    "\n",
    "369579 - fact 9\n",
    "\n",
    "3635499 - fact 10\n",
    "\n",
    "39923499 - fact 11"
   ]
  },
  {
   "cell_type": "code",
   "execution_count": 5,
   "metadata": {
    "collapsed": false,
    "deletable": true,
    "editable": true
   },
   "outputs": [
    {
     "data": {
      "text/plain": [
       "479008299"
      ]
     },
     "metadata": {},
     "output_type": "display_data"
    }
   ],
   "source": [
    "fact 12 + 6699"
   ]
  },
  {
   "cell_type": "code",
   "execution_count": 6,
   "metadata": {
    "collapsed": false,
    "deletable": true,
    "editable": true
   },
   "outputs": [
    {
     "data": {
      "text/plain": [
       "6699"
      ]
     },
     "metadata": {},
     "output_type": "display_data"
    }
   ],
   "source": [
    "-- Cpy (Left 77) C\n",
    "-- Jnz (Left 87) (Right D)\n",
    "77 * 87"
   ]
  }
 ],
 "metadata": {
  "kernelspec": {
   "display_name": "Haskell",
   "language": "haskell",
   "name": "haskell"
  },
  "language_info": {
   "codemirror_mode": "ihaskell",
   "file_extension": ".hs",
   "name": "haskell",
   "version": "8.0.2"
  }
 },
 "nbformat": 4,
 "nbformat_minor": 0
}
