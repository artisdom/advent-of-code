{
 "cells": [
  {
   "cell_type": "code",
   "execution_count": 1,
   "metadata": {
    "collapsed": false,
    "deletable": true,
    "editable": true
   },
   "outputs": [],
   "source": [
    "{-# LANGUAGE OverloadedStrings #-}\n",
    "\n",
    "import qualified Data.ByteString as B\n",
    "import Data.ByteString.UTF8 (fromString, toString)\n",
    "import qualified Data.ByteString.Char8 as B (lines)\n",
    "import qualified Data.Attoparsec.ByteString as A\n",
    "import qualified Data.Attoparsec.ByteString.Char8 as AC\n",
    "\n",
    "input <- B.lines <$> B.readFile \"../input/day7.txt\""
   ]
  },
  {
   "cell_type": "code",
   "execution_count": 2,
   "metadata": {
    "collapsed": false,
    "deletable": true,
    "editable": true
   },
   "outputs": [
    {
     "data": {
      "text/plain": [
       "110"
      ]
     },
     "metadata": {},
     "output_type": "display_data"
    },
    {
     "data": {
      "text/plain": [
       "242"
      ]
     },
     "metadata": {},
     "output_type": "display_data"
    }
   ],
   "source": [
    "import Control.Applicative ((<|>))\n",
    "import qualified Data.Set as S\n",
    "import Data.List (foldl')\n",
    "\n",
    "data Sequence a = Regular a | Hypernet a deriving (Eq, Show)\n",
    "\n",
    "instance Functor Sequence where\n",
    "    fmap f (Regular  x) = Regular  $ f x\n",
    "    fmap f (Hypernet x) = Hypernet $ f x\n",
    "    \n",
    "\n",
    "bothmap :: (a -> b) -> (a -> b) -> Sequence a -> Sequence b\n",
    "bothmap f g (Regular  x) = Regular $ f x\n",
    "bothmap f g (Hypernet x) = Hypernet $ g x\n",
    "\n",
    "parseHypernet = Hypernet <$> (AC.char '[' *> A.many1' AC.letter_ascii <* AC.char ']')\n",
    "parseRegular  = Regular  <$> A.many1' AC.letter_ascii\n",
    "\n",
    "parseIPv7 = A.many1' (parseRegular <|> parseHypernet)\n",
    "    \n",
    "\n",
    "fourChars s@[a,b,c,d] = [s]\n",
    "fourChars s           = take 4 s : fourChars (tail s)\n",
    "\n",
    "isABBA [a,b,c,d] = a==d && b==c && a/=b\n",
    "\n",
    "threeChars s@[a,b,c] = [s]\n",
    "threeChars s           = take 3 s : threeChars (tail s)\n",
    "\n",
    "isABA [a,b,c] = ((a==c && a/=b), (a,b))\n",
    "isBAB [a,b,c] = ((a==c && a/=b), (b,a))\n",
    "\n",
    "\n",
    "result = map (map (fmap fourChars) . either error id . A.parseOnly parseIPv7) input\n",
    "\n",
    "\n",
    "check = fmap (or . map isABBA)\n",
    "\n",
    "hasABBA = map (map check) result\n",
    "\n",
    "length $ filter (\\r -> Regular True `elem` r && Hypernet True `notElem` r) hasABBA\n",
    "\n",
    "separate = foldl' (\\acc s -> case s of\n",
    "    Regular  v -> (S.union (fst acc) v, snd acc)\n",
    "    Hypernet v -> (fst acc, S.union (snd acc) v)) (S.empty,S.empty)\n",
    "\n",
    "\n",
    "\n",
    "result' = map (map (fmap threeChars) . either error id . A.parseOnly parseIPv7) input\n",
    "check' = bothmap (S.fromList . map snd . filter fst . map isABA) (S.fromList . map snd . filter fst . map isBAB)\n",
    "checked' = filter (\\(x,y) -> S.intersection x y /= S.empty) $ map (separate .map check') result'\n",
    "\n",
    "length checked'"
   ]
  }
 ],
 "metadata": {
  "kernelspec": {
   "display_name": "Haskell",
   "language": "haskell",
   "name": "haskell"
  },
  "language_info": {
   "codemirror_mode": "ihaskell",
   "file_extension": ".hs",
   "name": "haskell",
   "version": "8.0.2"
  }
 },
 "nbformat": 4,
 "nbformat_minor": 0
}
