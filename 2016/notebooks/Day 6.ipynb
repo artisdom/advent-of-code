{
 "cells": [
  {
   "cell_type": "code",
   "execution_count": 1,
   "metadata": {
    "collapsed": false,
    "deletable": true,
    "editable": true
   },
   "outputs": [
    {
     "data": {
      "text/plain": [
       "(\"bjosfbce\",\"veqfxzfx\")"
      ]
     },
     "metadata": {},
     "output_type": "display_data"
    }
   ],
   "source": [
    "import Control.Arrow ((&&&))\n",
    "import Data.List (sortOn, transpose, group, sort)\n",
    "\n",
    "transpose . lines <$> readFile \"../input/day6.txt\" >>= print . (map (snd . head . sortOn (negate . fst) . map (length &&& head) . group . sort) &&& map (snd . head. sortOn fst . map (length &&& head) . group . sort))"
   ]
  }
 ],
 "metadata": {
  "kernelspec": {
   "display_name": "Haskell",
   "language": "haskell",
   "name": "haskell"
  },
  "language_info": {
   "codemirror_mode": "ihaskell",
   "file_extension": ".hs",
   "name": "haskell",
   "version": "8.0.2"
  }
 },
 "nbformat": 4,
 "nbformat_minor": 0
}
