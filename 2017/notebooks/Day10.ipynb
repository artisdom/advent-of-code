{
 "cells": [
  {
   "cell_type": "code",
   "execution_count": 1,
   "metadata": {},
   "outputs": [],
   "source": [
    "import AdventOfCode\n",
    "import Data.List.Split (splitOn)\n",
    "import Data.List.Split (chunk)\n",
    "import Data.List (foldl1')\n",
    "import Data.Bits (xor)\n",
    "import Data.Char (ord)\n",
    "import Numeric (showHex)\n",
    "import qualified Data.Vector as V\n",
    "\n",
    "input <- map readInt . splitOn \",\" <$> dayString 10\n",
    "\n",
    "circle = V.fromList [0..255]"
   ]
  },
  {
   "cell_type": "code",
   "execution_count": 2,
   "metadata": {},
   "outputs": [],
   "source": [
    "subIndices vector index len \n",
    "    | (index + len) <= V.length vector = let\n",
    "        indices = [index..(index+len-1)]\n",
    "        in indices\n",
    "    | (index + len) > V.length vector = let\n",
    "        extra = (index+len) - V.length vector\n",
    "        tillEnd = [index..(V.length vector - 1)]\n",
    "        fromStart = [0..(extra-1)]\n",
    "        indices = tillEnd ++ fromStart\n",
    "        in indices\n",
    "\n",
    "mutate vector index len = let\n",
    "    indices   = V.fromList $ subIndices vector index len\n",
    "    subvector = V.backpermute vector indices\n",
    "    reversed  = V.reverse subvector\n",
    "    updated   = V.update vector $ V.zip indices reversed\n",
    "    in updated\n",
    "\n",
    "loop orig 0 []     _     _          vector = vector\n",
    "loop orig n []     index skipLength vector = loop orig (n-1) orig index skipLength vector\n",
    "loop orig n (l:ls) index skipLength vector = let\n",
    "    vector' = mutate vector index l\n",
    "    index' = (index + l + skipLength) `mod` V.length vector\n",
    "    skipLength' = skipLength + 1\n",
    "    in loop orig n ls index' skipLength' vector'"
   ]
  },
  {
   "cell_type": "code",
   "execution_count": 3,
   "metadata": {},
   "outputs": [
    {
     "data": {
      "text/plain": [
       "5577"
      ]
     },
     "metadata": {},
     "output_type": "display_data"
    }
   ],
   "source": [
    "finished = loop input 0 input 0 0 circle\n",
    "\n",
    "product $ V.take 2 finished"
   ]
  },
  {
   "cell_type": "code",
   "execution_count": 4,
   "metadata": {},
   "outputs": [],
   "source": [
    "hash str = let\n",
    "    suffixed = map ord str ++ [17, 31, 73, 47, 23]\n",
    "    looped = loop suffixed 63 suffixed 0 0 circle\n",
    "    chunked = chunk 16 $ V.toList looped\n",
    "    hexed = map (flip showHex \"\" . foldl1' xor) chunked\n",
    "    in concatMap (\\h -> if length h == 1 then '0':h else h) hexed"
   ]
  },
  {
   "cell_type": "code",
   "execution_count": 5,
   "metadata": {},
   "outputs": [
    {
     "data": {
      "text/plain": [
       "\"44f4befb0f303c0bafd085f97741d51d\""
      ]
     },
     "metadata": {},
     "output_type": "display_data"
    }
   ],
   "source": [
    "hash <$> dayString 10"
   ]
  }
 ],
 "metadata": {
  "kernelspec": {
   "display_name": "Haskell",
   "language": "haskell",
   "name": "haskell"
  },
  "language_info": {
   "codemirror_mode": "ihaskell",
   "file_extension": ".hs",
   "name": "haskell",
   "version": "8.0.2"
  }
 },
 "nbformat": 4,
 "nbformat_minor": 2
}
