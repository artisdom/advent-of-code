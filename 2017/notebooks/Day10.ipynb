{
 "cells": [
  {
   "cell_type": "code",
   "execution_count": 1,
   "metadata": {},
   "outputs": [],
   "source": [
    "import AdventOfCode\n",
    "import Data.List.Split (splitOn)\n",
    "\n",
    "input <- map readInt . splitOn \",\" <$> dayString 10"
   ]
  },
  {
   "cell_type": "code",
   "execution_count": 2,
   "metadata": {},
   "outputs": [],
   "source": [
    "import qualified Data.Vector as V\n",
    "\n",
    "circle = V.fromList [0..255]"
   ]
  },
  {
   "cell_type": "code",
   "execution_count": 18,
   "metadata": {},
   "outputs": [],
   "source": [
    "subIndices vector index len \n",
    "    | (index + len) <= V.length vector = let\n",
    "        indices = [index..(index+len-1)]\n",
    "        in indices\n",
    "    | (index + len) > V.length vector = let\n",
    "        extra = (index+len) - V.length vector\n",
    "        tillEnd = [index..(V.length vector - 1)]\n",
    "        fromStart = [0..(extra-1)]\n",
    "        indices = tillEnd ++ fromStart\n",
    "        in indices\n",
    "\n",
    "mutate vector index len = let\n",
    "    indices   = V.fromList $ subIndices vector index len\n",
    "    subvector = V.backpermute vector indices\n",
    "    reversed  = V.reverse subvector\n",
    "    updated   = V.update vector $ V.zip indices reversed\n",
    "    in updated\n",
    "\n",
    "loop []     _     _          vector = vector\n",
    "loop (l:ls) index skipLength vector = let\n",
    "    vector' = mutate vector index l\n",
    "    index' = (index + l + skipLength) `mod` V.length vector\n",
    "    skipLength' = skipLength + 1\n",
    "    in loop ls index' skipLength' vector'"
   ]
  },
  {
   "cell_type": "code",
   "execution_count": 12,
   "metadata": {},
   "outputs": [],
   "source": [
    "finished = loop input 0 0 circle"
   ]
  },
  {
   "cell_type": "code",
   "execution_count": 13,
   "metadata": {},
   "outputs": [
    {
     "data": {
      "text/plain": [
       "5577"
      ]
     },
     "metadata": {},
     "output_type": "display_data"
    }
   ],
   "source": [
    "product $ V.take 2 finished"
   ]
  },
  {
   "cell_type": "code",
   "execution_count": 31,
   "metadata": {},
   "outputs": [],
   "source": [
    "loop2 orig 0 []     _     _          vector = vector\n",
    "loop2 orig n []     index skipLength vector = loop2 orig (n-1) orig index skipLength vector\n",
    "loop2 orig n (l:ls) index skipLength vector = let\n",
    "    vector' = mutate vector index l\n",
    "    index' = (index + l + skipLength) `mod` V.length vector\n",
    "    skipLength' = skipLength + 1\n",
    "    in loop2 orig n ls index' skipLength' vector'"
   ]
  },
  {
   "cell_type": "code",
   "execution_count": 51,
   "metadata": {},
   "outputs": [
    {
     "data": {
      "text/plain": [
       "\"a2582a3a0e66e6e86e3812dcb672a272\""
      ]
     },
     "metadata": {},
     "output_type": "display_data"
    },
    {
     "data": {
      "text/plain": [
       "\"33efeb34ea91902bb2f59c9920caa6cd\""
      ]
     },
     "metadata": {},
     "output_type": "display_data"
    },
    {
     "data": {
      "text/plain": [
       "\"3efbe78a8d82f29979031a4aa0b16a9d\""
      ]
     },
     "metadata": {},
     "output_type": "display_data"
    },
    {
     "data": {
      "text/plain": [
       "\"63960835bcdc130f0b66d7ff4f6a5a8e\""
      ]
     },
     "metadata": {},
     "output_type": "display_data"
    }
   ],
   "source": [
    "import Data.List.Split (chunk)\n",
    "import Data.List (foldl1')\n",
    "import Data.Bits (xor)\n",
    "import Numeric (showHex)\n",
    "\n",
    "hash str = let\n",
    "    suffixed = map ord str ++ [17, 31, 73, 47, 23]\n",
    "    looped = loop2 suffixed 63 suffixed 0 0 circle\n",
    "    chunked = chunk 16 $ V.toList looped\n",
    "    hexed = map (flip showHex \"\" . foldl1' xor) chunked\n",
    "    in concatMap (\\h -> if length h == 1 then '0':h else h) hexed\n",
    "\n",
    "hash \"\"\n",
    "hash \"AoC 2017\"\n",
    "hash \"1,2,3\"\n",
    "hash \"1,2,4\""
   ]
  },
  {
   "cell_type": "code",
   "execution_count": 53,
   "metadata": {},
   "outputs": [
    {
     "data": {
      "text/plain": [
       "\"44f4befb0f303c0bafd085f97741d51d\""
      ]
     },
     "metadata": {},
     "output_type": "display_data"
    }
   ],
   "source": [
    "hash <$> dayString 10"
   ]
  }
 ],
 "metadata": {
  "kernelspec": {
   "display_name": "Haskell",
   "language": "haskell",
   "name": "haskell"
  },
  "language_info": {
   "codemirror_mode": "ihaskell",
   "file_extension": ".hs",
   "name": "haskell",
   "version": "8.0.2"
  }
 },
 "nbformat": 4,
 "nbformat_minor": 2
}
