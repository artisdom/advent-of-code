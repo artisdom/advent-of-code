{
 "cells": [
  {
   "cell_type": "code",
   "execution_count": 3,
   "metadata": {},
   "outputs": [],
   "source": [
    "import AdventOfCode\n",
    "import Data.List.Split (splitOn)\n",
    "\n",
    "input <- splitOn \",\" <$> dayString 11"
   ]
  },
  {
   "cell_type": "code",
   "execution_count": 9,
   "metadata": {},
   "outputs": [],
   "source": [
    "type Coord = (Int, Int, Int)\n",
    "\n",
    "data Direction = N | NE | SE | S | SW | NW deriving (Eq, Show)\n",
    "\n",
    "parse s = case s of\n",
    "    \"n\"  -> N\n",
    "    \"ne\" -> NE\n",
    "    \"se\" -> SE\n",
    "    \"s\"  -> S\n",
    "    \"sw\" -> SW\n",
    "    \"nw\" -> NW\n",
    "    _    -> error \"no parse\"\n",
    "\n",
    "parsedInput = map parse input"
   ]
  },
  {
   "cell_type": "code",
   "execution_count": 10,
   "metadata": {
    "collapsed": true
   },
   "outputs": [],
   "source": [
    "delta direction = case direction of\n",
    "   N  -> (0, 1, -1)\n",
    "   NE -> (1, 0, -1)\n",
    "   SE -> (1, -1, 0)\n",
    "   S  -> (0, -1, 1)\n",
    "   SW -> (-1, 0, 1)\n",
    "   NW -> (-1, 1, 0)\n",
    "   \n",
    "move (x, y, z) (dx, dy, dz) = (x+dx, y+dy, z+dz)\n",
    "\n",
    "distance (x,y,z) = ((abs x) + (abs y) + (abs z)) `div` 2"
   ]
  },
  {
   "cell_type": "code",
   "execution_count": 13,
   "metadata": {},
   "outputs": [
    {
     "data": {
      "text/plain": [
       "675"
      ]
     },
     "metadata": {},
     "output_type": "display_data"
    }
   ],
   "source": [
    "import Data.List (foldl')\n",
    "\n",
    "final = foldl' move (0,0,0) (map (delta . parse) input)\n",
    "distance final"
   ]
  },
  {
   "cell_type": "code",
   "execution_count": 14,
   "metadata": {},
   "outputs": [
    {
     "data": {
      "text/plain": [
       "1424"
      ]
     },
     "metadata": {},
     "output_type": "display_data"
    }
   ],
   "source": [
    "positions = scanl move (0,0,0) (map (delta . parse) input)\n",
    "\n",
    "maximum $ map distance positions"
   ]
  }
 ],
 "metadata": {
  "kernelspec": {
   "display_name": "Haskell",
   "language": "haskell",
   "name": "haskell"
  },
  "language_info": {
   "codemirror_mode": "ihaskell",
   "file_extension": ".hs",
   "name": "haskell",
   "version": "8.0.2"
  }
 },
 "nbformat": 4,
 "nbformat_minor": 2
}
