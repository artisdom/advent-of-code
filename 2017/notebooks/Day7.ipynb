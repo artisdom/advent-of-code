{
 "cells": [
  {
   "cell_type": "code",
   "execution_count": 1,
   "metadata": {
    "collapsed": true
   },
   "outputs": [],
   "source": [
    "{-# LANGUAGE OverloadedStrings #-}\n",
    "\n",
    "import AdventOfCode\n",
    "import qualified Data.Attoparsec.ByteString.Char8 as A\n",
    "import qualified Data.Map.Strict as M\n",
    "import Data.List\n",
    "import Data.Function (on)\n",
    "import Data.ByteString.UTF8 (toString)\n",
    "\n",
    "input <- dayLines 7"
   ]
  },
  {
   "cell_type": "code",
   "execution_count": 2,
   "metadata": {
    "collapsed": true
   },
   "outputs": [],
   "source": [
    "data Entry = Entry\n",
    "    { name :: String\n",
    "    , weight :: Int\n",
    "    , depends :: [String]\n",
    "    } deriving Show\n",
    "\n",
    "parseEntry = do\n",
    "    name <- toString <$> tillSpace\n",
    "    A.char8 ' '\n",
    "    A.char8 '('\n",
    "    weight <- A.decimal\n",
    "    A.char8 ')'\n",
    "    deps <- A.option\n",
    "        []\n",
    "        (A.string \" -> \" *> (map toString <$> A.takeWhile A.isAlpha_ascii `A.sepBy1'` A.string \", \"))\n",
    "    return $ Entry name weight deps    \n",
    "\n",
    "parsedInput = map (parsed parseEntry) input"
   ]
  },
  {
   "cell_type": "code",
   "execution_count": 3,
   "metadata": {},
   "outputs": [
    {
     "data": {
      "text/plain": [
       "\"uownj\""
      ]
     },
     "metadata": {},
     "output_type": "display_data"
    }
   ],
   "source": [
    "head $ map name parsedInput \\\\ concatMap depends parsedInput"
   ]
  },
  {
   "cell_type": "code",
   "execution_count": 4,
   "metadata": {},
   "outputs": [
    {
     "data": {
      "text/plain": [
       "596"
      ]
     },
     "metadata": {},
     "output_type": "display_data"
    }
   ],
   "source": [
    "mapping = M.fromList $ zip (map name parsedInput) parsedInput\n",
    "\n",
    "totalWeight towerName = case mapping M.! towerName of\n",
    "    entry | null (depends entry) -> weight entry\n",
    "    Entry _ w ds -> w + sum (map totalWeight ds)\n",
    "\n",
    "weightsMapping = (map totalWeight . depends) <$> mapping\n",
    "weightsNameMapping = (\\e -> uncurry zip (map totalWeight $ depends e, depends e)) <$> mapping\n",
    "\n",
    "go :: String -> [String] -> Int\n",
    "go dep acc = if null (weightsNameMapping M.! dep)\n",
    "   then error \"unreachable\"\n",
    "   else let depWeights = weightsMapping M.! dep in\n",
    "       if length (nub depWeights) == 1\n",
    "           then let \n",
    "               correct = minimum $ weightsMapping  M.! (head acc)\n",
    "               in correct - sum depWeights\n",
    "            else let\n",
    "                wrong = snd $ maximumBy (compare `on` fst) $ weightsNameMapping M.! dep\n",
    "                in go wrong (dep:acc)\n",
    "               \n",
    "go (head $ map name parsedInput \\\\ concatMap depends parsedInput) []"
   ]
  }
 ],
 "metadata": {
  "kernelspec": {
   "display_name": "Haskell",
   "language": "haskell",
   "name": "haskell"
  },
  "language_info": {
   "codemirror_mode": "ihaskell",
   "file_extension": ".hs",
   "name": "haskell",
   "version": "8.0.2"
  }
 },
 "nbformat": 4,
 "nbformat_minor": 2
}
