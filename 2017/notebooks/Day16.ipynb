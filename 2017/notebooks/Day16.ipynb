{
 "cells": [
  {
   "cell_type": "code",
   "execution_count": 1,
   "metadata": {
    "collapsed": true
   },
   "outputs": [],
   "source": [
    "import AdventOfCode\n",
    "\n",
    "import Data.List (foldl')\n",
    "import Data.List.Split (splitOn)\n",
    "import qualified Data.Vector.Unboxed as V\n",
    "\n",
    "input <- splitOn \",\" <$> dayString 16"
   ]
  },
  {
   "cell_type": "code",
   "execution_count": 2,
   "metadata": {},
   "outputs": [],
   "source": [
    "programs = V.fromList ['a'..'p']"
   ]
  },
  {
   "cell_type": "code",
   "execution_count": 3,
   "metadata": {
    "collapsed": true
   },
   "outputs": [],
   "source": [
    "spin n vector = let (t, h) = V.splitAt (V.length vector - n) vector in h V.++ t\n",
    "\n",
    "exchange i j vector = vector V.// [(i, vector V.! j), (j, vector V.! i)]\n",
    "\n",
    "partner x y vector = let\n",
    "    (Just i) = V.elemIndex x vector\n",
    "    (Just j) = V.elemIndex y vector\n",
    "    in vector V.// [(i, y), (j, x)]"
   ]
  },
  {
   "cell_type": "code",
   "execution_count": 4,
   "metadata": {
    "collapsed": true
   },
   "outputs": [],
   "source": [
    "parseInstr :: String -> V.Vector Char -> V.Vector Char\n",
    "parseInstr ('s':n) = spin (readInt n)\n",
    "parseInstr ('x':r) = let [x, y] = splitOn \"/\" r in exchange (read x) (read y)\n",
    "parseInstr ('p':x:'/':[y]) = partner x y\n",
    "parseInstr x = error x"
   ]
  },
  {
   "cell_type": "code",
   "execution_count": 5,
   "metadata": {
    "collapsed": true
   },
   "outputs": [],
   "source": [
    "instructions = map parseInstr input"
   ]
  },
  {
   "cell_type": "code",
   "execution_count": 6,
   "metadata": {
    "collapsed": true
   },
   "outputs": [],
   "source": [
    "dance initial = foldl' (flip ($)) initial instructions"
   ]
  },
  {
   "cell_type": "code",
   "execution_count": 7,
   "metadata": {},
   "outputs": [
    {
     "data": {
      "text/plain": [
       "\"kbednhopmfcjilag\""
      ]
     },
     "metadata": {},
     "output_type": "display_data"
    }
   ],
   "source": [
    "dance programs"
   ]
  },
  {
   "cell_type": "code",
   "execution_count": 8,
   "metadata": {},
   "outputs": [
    {
     "data": {
      "text/plain": [
       "\"fbmcgdnjakpioelh\""
      ]
     },
     "metadata": {},
     "output_type": "display_data"
    }
   ],
   "source": [
    "loop ps 0 = ps\n",
    "loop ps n = loop (dance ps) (n-1)\n",
    "\n",
    "findCycle ps n | ps == programs = n\n",
    "findCycle ps n = findCycle (dance ps) (n-1)\n",
    "\n",
    "loop programs (1000 `rem` ((100 - findCycle (dance programs) 100) + 1))"
   ]
  }
 ],
 "metadata": {
  "kernelspec": {
   "display_name": "Haskell",
   "language": "haskell",
   "name": "haskell"
  },
  "language_info": {
   "codemirror_mode": "ihaskell",
   "file_extension": ".hs",
   "name": "haskell",
   "version": "8.0.2"
  }
 },
 "nbformat": 4,
 "nbformat_minor": 2
}
