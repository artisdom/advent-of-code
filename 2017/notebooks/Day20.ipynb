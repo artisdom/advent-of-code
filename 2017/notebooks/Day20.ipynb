{
 "cells": [
  {
   "cell_type": "code",
   "execution_count": 1,
   "metadata": {},
   "outputs": [],
   "source": [
    "{-# LANGUAGE OverloadedStrings #-}\n",
    "\n",
    "import AdventOfCode\n",
    "import Data.List\n",
    "import Data.Function (on)\n",
    "import qualified Data.Attoparsec.ByteString.Char8 as A\n",
    "import qualified Data.Vector.Unboxed as V\n",
    "\n",
    "input <- dayLines 20"
   ]
  },
  {
   "cell_type": "code",
   "execution_count": 2,
   "metadata": {},
   "outputs": [],
   "source": [
    "parseTriple = do\n",
    "    A.char '<'\n",
    "    x <- A.signed A.decimal\n",
    "    A.char ','\n",
    "    y <- A.signed A.decimal\n",
    "    A.char ','\n",
    "    z <- A.signed A.decimal\n",
    "    A.char '>'\n",
    "    return (x,y,z)\n",
    "\n",
    "parseLine = do\n",
    "    p <- A.string \"p=\" *> parseTriple\n",
    "    A.string \", \"\n",
    "    v <- A.string \"v=\" *> parseTriple\n",
    "    A.string \", \"\n",
    "    a <- A.string \"a=\" *> parseTriple\n",
    "    return (p,v,a)\n",
    "\n",
    "points = V.fromList $ map (parsed parseLine) input"
   ]
  },
  {
   "cell_type": "code",
   "execution_count": 3,
   "metadata": {},
   "outputs": [],
   "source": [
    "add (x,y,z) (x',y',z') = (x+x',y+y',z+z')\n",
    "\n",
    "step (p,v,a) = let\n",
    "    v' = v `add` a\n",
    "    p' = p `add` v'\n",
    "    in (p',v',a)\n",
    "\n",
    "distance ((x,y,z),_,_) = (abs x) + (abs y) + (abs z)"
   ]
  },
  {
   "cell_type": "code",
   "execution_count": 4,
   "metadata": {},
   "outputs": [],
   "source": [
    "type Triple = (Int, Int, Int)\n",
    "type Point = (Triple, Triple, Triple)\n",
    "\n",
    "loop :: V.Vector Point -> Int -> V.Vector Point\n",
    "loop ps 0 = ps\n",
    "loop ps n = let\n",
    "    ps' = V.map step ps\n",
    "    in loop ps' (n-1)"
   ]
  },
  {
   "cell_type": "code",
   "execution_count": 5,
   "metadata": {},
   "outputs": [
    {
     "data": {
      "text/plain": [
       "308"
      ]
     },
     "metadata": {},
     "output_type": "display_data"
    }
   ],
   "source": [
    "V.minIndexBy (compare `on` distance) $ loop points 1000"
   ]
  },
  {
   "cell_type": "code",
   "execution_count": 6,
   "metadata": {},
   "outputs": [
    {
     "data": {
      "text/plain": [
       "504"
      ]
     },
     "metadata": {},
     "output_type": "display_data"
    }
   ],
   "source": [
    "position (p,_,_) = p\n",
    "\n",
    "loopCollisions :: [Point] -> Int -> [Point]\n",
    "loopCollisions ps 0 = ps\n",
    "loopCollisions ps n = let\n",
    "    groupedPs  = groupBy ((==) `on` position) $ sortOn position ps\n",
    "    filteredPs = concat $ filter (\\l -> length l == 1) groupedPs\n",
    "    in loopCollisions (map step filteredPs) (n-1)\n",
    "\n",
    "length $ loopCollisions (V.toList points) 100"
   ]
  }
 ],
 "metadata": {
  "kernelspec": {
   "display_name": "Haskell",
   "language": "haskell",
   "name": "haskell"
  },
  "language_info": {
   "codemirror_mode": "ihaskell",
   "file_extension": ".hs",
   "name": "haskell",
   "version": "8.0.2"
  }
 },
 "nbformat": 4,
 "nbformat_minor": 2
}
