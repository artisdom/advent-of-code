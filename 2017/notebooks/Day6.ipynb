{
 "cells": [
  {
   "cell_type": "code",
   "execution_count": 1,
   "metadata": {
    "collapsed": true
   },
   "outputs": [],
   "source": [
    "{-# LANGUAGE RankNTypes #-}\n",
    "\n",
    "import AdventOfCode\n",
    "import qualified Data.Vector.Unboxed as V\n",
    "import qualified Data.Vector.Unboxed.Mutable as M\n",
    "import Data.List\n",
    "import Data.Maybe\n",
    "import Control.Monad.ST\n",
    "import Data.STRef\n",
    "import Data.Function (fix)\n",
    "\n",
    "input <- V.fromList . map readInt . words <$> dayString 6"
   ]
  },
  {
   "cell_type": "code",
   "execution_count": 2,
   "metadata": {
    "collapsed": true
   },
   "outputs": [],
   "source": [
    "redistribute :: V.Vector Int -> V.Vector Int\n",
    "redistribute v = withThawed v $ \\mut -> do\n",
    "    let i = maxIndex v\n",
    "    blocks <- newSTRef =<< empty mut i\n",
    "    pointer <- newSTRef (i+1)\n",
    "    go mut pointer blocks\n",
    "    return ()\n",
    "    where\n",
    "        go :: M.STVector s Int -> STRef s Int -> STRef s Int -> ST s (M.STVector s Int)\n",
    "        go vector index blocks = do\n",
    "            count <- readSTRef blocks\n",
    "            i <- (`mod` M.length vector) <$> readSTRef index\n",
    "            if count == 0\n",
    "                then return vector\n",
    "                else do\n",
    "                    M.modify vector (+1) i\n",
    "                    writeSTRef index (i+1)\n",
    "                    writeSTRef blocks (count-1)\n",
    "                    go vector index blocks\n",
    "        empty :: M.STVector s Int -> Int -> ST s Int\n",
    "        empty mut i = do\n",
    "            blocks <- M.read mut i\n",
    "            M.write mut i 0\n",
    "            return blocks\n",
    "        maxIndex :: V.Vector Int -> Int\n",
    "        maxIndex v = fromJust $ V.elemIndex (V.maximum v) v\n",
    "        withThawed :: (V.Unbox a) => V.Vector a -> (forall s. M.STVector s a -> ST s ()) -> V.Vector a\n",
    "        withThawed vector f = runST $ do\n",
    "            mut <- V.thaw vector\n",
    "            f mut\n",
    "            V.freeze mut"
   ]
  },
  {
   "cell_type": "code",
   "execution_count": 3,
   "metadata": {},
   "outputs": [
    {
     "data": {
      "text/plain": [
       "(12841,8038)"
      ]
     },
     "metadata": {},
     "output_type": "display_data"
    }
   ],
   "source": [
    "main  = fix $ \\rec moves i -> let\n",
    "    (before, after) = splitAt i moves\n",
    "    current = head after\n",
    "    in if current `elem` before then (i, i - fromJust (elemIndex current before)) else rec moves (i+1)\n",
    "\n",
    "main (iterate redistribute input) 0"
   ]
  }
 ],
 "metadata": {
  "kernelspec": {
   "display_name": "Haskell",
   "language": "haskell",
   "name": "haskell"
  },
  "language_info": {
   "codemirror_mode": "ihaskell",
   "file_extension": ".hs",
   "name": "haskell",
   "version": "8.0.2"
  }
 },
 "nbformat": 4,
 "nbformat_minor": 2
}
