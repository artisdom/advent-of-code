{
 "cells": [
  {
   "cell_type": "code",
   "execution_count": 4,
   "metadata": {
    "collapsed": true
   },
   "outputs": [],
   "source": [
    "import AdventOfCode\n",
    "\n",
    "input <- map readInt . words <$> dayString 6"
   ]
  },
  {
   "cell_type": "code",
   "execution_count": 20,
   "metadata": {
    "collapsed": true
   },
   "outputs": [],
   "source": [
    "import qualified Data.Vector.Unboxed as V\n",
    "import qualified Data.Vector.Unboxed.Mutable as M\n",
    "import Data.List\n",
    "import Data.Maybe\n",
    "import Control.Monad.ST\n",
    "import Data.STRef\n",
    "\n",
    "maxIndex l = fromJust $ elemIndex (maximum l) l\n",
    "\n",
    "go :: M.STVector s Int -> STRef s Int -> STRef s Int -> ST s (M.STVector s Int)\n",
    "go vector index blocks = do\n",
    "    count <- readSTRef blocks\n",
    "    i <- readSTRef index\n",
    "    let i' = i `mod` M.length vector\n",
    "    if count == 0\n",
    "        then return vector\n",
    "        else do\n",
    "            M.modify vector (+1) i'\n",
    "            writeSTRef index (i'+1)\n",
    "            writeSTRef blocks (count-1)\n",
    "            go vector index blocks"
   ]
  },
  {
   "cell_type": "code",
   "execution_count": 72,
   "metadata": {},
   "outputs": [
    {
     "data": {
      "text/plain": [
       "12841"
      ]
     },
     "metadata": {},
     "output_type": "display_data"
    }
   ],
   "source": [
    "empty :: M.STVector s Int -> Int -> ST s Int\n",
    "empty mut i = do\n",
    "    blocks <- M.read mut i\n",
    "    M.write mut i 0\n",
    "    return blocks\n",
    "\n",
    "redistribute :: [Int] -> [Int]\n",
    "redistribute l = runST $ do\n",
    "    mut <- V.thaw (V.fromList l)\n",
    "    let i = maxIndex l\n",
    "    blocks <- newSTRef =<< empty mut i\n",
    "    pointer <- newSTRef (i+1)\n",
    "    go mut pointer blocks\n",
    "    frozen <- V.freeze mut\n",
    "    return $ V.toList frozen\n",
    "\n",
    "loop = iterate redistribute input\n",
    "\n",
    "part1 moves i = let\n",
    "    (before, after) = splitAt i moves\n",
    "    current = head after\n",
    "    in if current `elem` before then i else part1 moves (i+1)\n",
    "\n",
    "part1 loop 0"
   ]
  },
  {
   "cell_type": "code",
   "execution_count": 70,
   "metadata": {},
   "outputs": [
    {
     "data": {
      "text/plain": [
       "8038"
      ]
     },
     "metadata": {},
     "output_type": "display_data"
    }
   ],
   "source": [
    "part2 moves i = let\n",
    "    (before, after) = splitAt i moves\n",
    "    current = head after\n",
    "    in if current `elem` before then i - fromJust (elemIndex current before) else part2 moves (i+1)\n",
    "\n",
    "part2 loop 0"
   ]
  }
 ],
 "metadata": {
  "kernelspec": {
   "display_name": "Haskell",
   "language": "haskell",
   "name": "haskell"
  },
  "language_info": {
   "codemirror_mode": "ihaskell",
   "file_extension": ".hs",
   "name": "haskell",
   "version": "8.0.2"
  }
 },
 "nbformat": 4,
 "nbformat_minor": 2
}
