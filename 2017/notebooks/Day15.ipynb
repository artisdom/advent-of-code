{
 "cells": [
  {
   "cell_type": "code",
   "execution_count": 1,
   "metadata": {
    "collapsed": true
   },
   "outputs": [],
   "source": [
    "{-# LANGUAGE BinaryLiterals #-}\n",
    "\n",
    "import Data.Bits\n",
    "import Data.Function (on)\n",
    "\n",
    "import AdventOfCode\n",
    "\n",
    "input <- dayLinesString 15"
   ]
  },
  {
   "cell_type": "code",
   "execution_count": 2,
   "metadata": {},
   "outputs": [],
   "source": [
    "parse :: String -> Int\n",
    "parse = read . drop 24\n",
    "\n",
    "[seedA, seedB] = map parse input"
   ]
  },
  {
   "cell_type": "code",
   "execution_count": 3,
   "metadata": {},
   "outputs": [
    {
     "data": {
      "text/plain": [
       "[False,False,True,False,False]"
      ]
     },
     "metadata": {},
     "output_type": "display_data"
    }
   ],
   "source": [
    "lower16 = 0b1111111111111111\n",
    "\n",
    "generate seed n = let\n",
    "   x = seed * n\n",
    "   y = x `mod` 2147483647\n",
    "   in y\n",
    "\n",
    "generateA = generate 16807\n",
    "generateB = generate 48271\n",
    "\n",
    "getLowest16 x = x .&. lower16\n",
    "\n",
    "cmpLowest = (==) `on` getLowest16\n",
    "\n",
    "streamA s = drop 1 $ iterate generateA s\n",
    "streamB s = drop 1 $ iterate generateB s\n",
    "\n",
    "take 5 $ zipWith cmpLowest (streamA 65) (streamB 8921)"
   ]
  },
  {
   "cell_type": "code",
   "execution_count": 4,
   "metadata": {},
   "outputs": [
    {
     "data": {
      "text/plain": [
       "573"
      ]
     },
     "metadata": {},
     "output_type": "display_data"
    }
   ],
   "source": [
    "length $ filter id $ take 40000000 $ zipWith cmpLowest (streamA seedA) (streamB seedB)"
   ]
  },
  {
   "cell_type": "code",
   "execution_count": 5,
   "metadata": {},
   "outputs": [
    {
     "data": {
      "text/plain": [
       "294"
      ]
     },
     "metadata": {},
     "output_type": "display_data"
    }
   ],
   "source": [
    "streamA' s = filter (\\x -> x `mod` 4 == 0) $ drop 1 $ iterate generateA s\n",
    "streamB' s = filter (\\x -> x `mod` 8 == 0) $ drop 1 $ iterate generateB s\n",
    "\n",
    "length $ filter id $ take 5000000 $ zipWith cmpLowest (streamA' seedA) (streamB' seedB)"
   ]
  }
 ],
 "metadata": {
  "kernelspec": {
   "display_name": "Haskell",
   "language": "haskell",
   "name": "haskell"
  },
  "language_info": {
   "codemirror_mode": "ihaskell",
   "file_extension": ".hs",
   "name": "haskell",
   "version": "8.0.2"
  }
 },
 "nbformat": 4,
 "nbformat_minor": 2
}
