{
 "cells": [
  {
   "cell_type": "code",
   "execution_count": 1,
   "metadata": {
    "collapsed": true
   },
   "outputs": [],
   "source": [
    "{-# LANGUAGE BinaryLiterals #-}\n",
    "\n",
    "import Data.Bits ((.&.))\n",
    "import Data.Function (on)\n",
    "\n",
    "import AdventOfCode\n",
    "\n",
    "input <- dayLinesString 15"
   ]
  },
  {
   "cell_type": "code",
   "execution_count": 2,
   "metadata": {},
   "outputs": [],
   "source": [
    "parse = readInt . drop 24\n",
    "\n",
    "[seedA, seedB] = map parse input"
   ]
  },
  {
   "cell_type": "code",
   "execution_count": 3,
   "metadata": {
    "collapsed": true
   },
   "outputs": [],
   "source": [
    "generate seed n = (seed * n) `rem` 2147483647\n",
    "\n",
    "getLowest16 x = x .&. lower16\n",
    "    where lower16 = 0b1111111111111111\n",
    "\n",
    "eqLowest = (==) `on` getLowest16"
   ]
  },
  {
   "cell_type": "code",
   "execution_count": 4,
   "metadata": {},
   "outputs": [
    {
     "data": {
      "text/plain": [
       "573"
      ]
     },
     "metadata": {},
     "output_type": "display_data"
    }
   ],
   "source": [
    "streamA = drop 1 . iterate (generate 16807)\n",
    "streamB = drop 1 . iterate (generate 48271)\n",
    "\n",
    "length $ filter id $ take 40000000 $ zipWith eqLowest (streamA seedA) (streamB seedB)"
   ]
  },
  {
   "cell_type": "code",
   "execution_count": 5,
   "metadata": {},
   "outputs": [
    {
     "data": {
      "text/plain": [
       "294"
      ]
     },
     "metadata": {},
     "output_type": "display_data"
    }
   ],
   "source": [
    "streamA' = filter (\\x -> x `rem` 4 == 0) . streamA\n",
    "streamB' = filter (\\x -> x `rem` 8 == 0) . streamB\n",
    "\n",
    "length $ filter id $ take 5000000 $ zipWith eqLowest (streamA' seedA) (streamB' seedB)"
   ]
  }
 ],
 "metadata": {
  "kernelspec": {
   "display_name": "Haskell",
   "language": "haskell",
   "name": "haskell"
  },
  "language_info": {
   "codemirror_mode": "ihaskell",
   "file_extension": ".hs",
   "name": "haskell",
   "version": "8.0.2"
  }
 },
 "nbformat": 4,
 "nbformat_minor": 2
}
