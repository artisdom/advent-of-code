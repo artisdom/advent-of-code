{
 "cells": [
  {
   "cell_type": "code",
   "execution_count": 1,
   "metadata": {
    "collapsed": true
   },
   "outputs": [],
   "source": [
    "import AdventOfCode\n",
    "\n",
    "input <- dayString 9"
   ]
  },
  {
   "cell_type": "code",
   "execution_count": 10,
   "metadata": {},
   "outputs": [
    {
     "data": {
      "text/plain": [
       "\"{{{{{{{{<oiau}}<u,,e'>}},{}}},{{{{},{}},{{<<<\\\",,}'>}},{<{e'auua'ueu,<},<,>,<}{u,},<>}},{{<aa{'a},<,<,<,\\\"aae},<>,<u,o},<,<\\\"<'>},{{<,},<ae{>},<<e},<a},}>}},{{<>,{<{},<},<},<,<,<o,<,>}},{<{'>,{{<\\\"{,<u},<ueu'uua}},<>}}},{<'e>}}},{{{{},<},<o\\\"',<u\\\"<<,o{'a>},{{}},{{},{{<'i<>},<\\\",{{>},{<i'<{i>}}},{{{<oa''>},<eu\\\",<}i>},{{<},<oe},<,',<i,<,<a,<\\\">},{}},{{<e<o},<,>}}},{{{<uu,'>,{{<u>}}},{},{{{<ei>},<{{\\\"}e'}u\\\"a>},{{{<a<},<\\\",a'\\\",<'>},{<i<},<iee{',<<o<>}}},{<},<,>,<{a>}}}}},{{{},{<e},<,<,e{{i>,{}}},{{<e},<\\\"eio,<>,{{<},<{},<'},<{\\\">,{<o,<,<\\\"aeaa>}}}},{<,<u\\\"a'iu'<<ui{>}},{{},{{<e},<<>},{<e>}},{{<eoo>}}},{{{{}}},{{<\\\"',ou<{i>},<},<{>},{<{e{uii>}}},{{{{{{<,<,<},<>}}},<}\\\"ei}u,,<>},{{<,o,<i,'}i,<<,<<>},{{<u',<>}}},{{<u,<oae,,<a}\\\",,}{>},{<'{<eae}>,<}i''}<<'>},{{<>,{<},<,<},<oo'aeo,<},<o>}},{<>}}}},{{{},{<<ui{,<,<>}},{<'\\\"},<,'}>,{}},{{<{u,<}}eio<'e<,>}}},{{<ui,e}ooao,{<>,{{<>}}}}}},{{{{{{{<'\\\"},<'eu{<<},<},<>},{<}e,<u{{o,<'>}},{{<u}a\\\"e,\\\"i},<>},<u<{\\\"i\\\"e{>}},{{<e},<},<'i<<o\\\"\\\">,<u,<,},<}u},<},<},<>},{{},{<},<{iu>}}}},{{{{<a},<{,},<},<i,<{oaa,<>}},{<uo,,<>}},{<,\\\"},i\\\"<iuei>,<{'},<}{i<>}},{{{{}},{{}},{{{{<\\\"o'u,e,<,ue<>}},{<a,<,<ai>,{{}}},{<,<,<>,<a>}},{{<{},<a,<},<>,{<'>}},{}}}},{{{{<i,}i,,<>},<,<e{ua}o<>},{{<o\\\"uo{\\\"auu,a\\\"{o>},<}o>},{{{},{{<\\\"<},<o},<>}},{<,},<u>}},{{{<\\\"<>},<>},{<>,<'\\\"'}{a},<>}},{<ue}a',<\\\"},<}},<>}}},{{{<,ia<uo>}},<,,<e<ooii'\\\"'<a},<<>},{{}}},{{{<},<}a>},{<a,},<,e,<\\\",\\\",ie{\\\">}},{{{{<ea,<},<,>},<\\\",},<},<o}',<{\\\"u}>},{<u}}u,<a},<{i\\\"a>,{<{u,e>}},{<u},<<'>,<<,<{u>}},{<o{e},<>,<oa,<a\\\"'i}a>},{<i{},>,{<u'},<i>}}}},{{},{<u>}}},{{<{},<a>},{{<,a\\\"ei\\\"iie>,{}},<\\\"{u,>}}},{{{<a>,<}o>},{},{{{<u>,<,<u>},{{},{<},<,<ee,},<<{a'>}}},{{{<a<,i'e},<'\\\"iu'o},<,<},<>},{<\\\"}o'<uee,<},<io{e>,<,{'\\\">}}}}},{{<},<e{'{o\\\">,<},<'u>},{{{{{<\\\"\\\">}}}}}},{{{<u},<u>}}}},{{<},<oea\\\"<<{\\\"\\\">},{<u\\\"e,<,u>,{<{},<e'}euoui>}}},{{<ii,,<a},<},<{u>,{{<a'a'iee{i'o'}>},<{}>}},{{}}}},{{{<,<,u\\\"},<i>,{}}},{{<{<iiii'o{'iao>},<>}},{{{},{{<\\\"i'},<,,i>}}}},{{{{{{<i\\\"\\\",\\\"o>},<aa},<iuo\\\"{},<,o>},<},<oi,<u\\\",<a'},<{},<\\\">},{<o,,a,<},<,,<,\\\"e>,<',<}'u,}eu{}},<},<}>},{{{<\\\"{,<,<{o},<a},},<a,a>}}}}}}},{{{{{{{<o},<iei<<,<,o,<},<<>,<u}>},{{{{}}},<eeio,>},{{{}},{{},{{<},<},<}\\\"<}<>},<e},<,uo},<ee}>},{{<>},{}}}}}},{{<,<\\\"u\\\",},<>,{<oo>}},{{{<>}},{}}},{{<ui,<i\\\"},<<},<e\\\",<}ui>},{{<\\\"\\\"u<{auo,<,}o>,{<,<>}}},{<},<<i}>}},{{{<}}>},{<},<o{ue,<i>}},{{<ia,<\\\"}>,{<a',<,<ua{'<o>}}}}},{{{{},{}}},{<\\\"a,,,<u<i,',,>,{<u\\\"\\\"}{,>}},{<\\\">,{<e},<o<,,},<e'>}}},{{{<}\\\"e,<\\\"},>},{}},{{{{{{{<\\\"',>},{<u,,e\\\"}ua{ae>,{<\\\",<',<}}{{e'>}}}},{<u<}io,<},<}>}}},{<e<\\\"}aoe>},{<}\\\"eao},<i,<'\\\"o,<>,<u<i},<>}},{<'}}},<oa<'>,<{,<{},<,<o},<}i<>}},{{},{<o,'u>,{}},{<u{\\\"e<},<<}},<iu},<\\\"ea>}}},{{{<<{<<},<{'\\\"},<>}},{{{},{<,o\\\"'i}o>}},{{<'\\\"i<>},{<}ueau,'\\\"o{,<\\\">}},{{<'},<},<e,<,u\\\"u<uia>},{{}}}},{{}}}},{{{<a'>,{}},{<a}e,,<u>}},{{<''e'},<>}}},{{{<,<\\\"},<<a}}o>}},{{{{{}}},{<',<i'u,<u,<>,<i,u<u{<o>},{{},<}<uoiieueo>}},{{{{},{<>}},{{<e},<\\\"u},<{'a<<'>,<<,<ae<,>},{{<'<>},{{},{}},{<<oe>,{}}},{<},<,u,e<'<e>}}},{{},<\\\"},<<}},<u}<,<},<>},{<{,,u},<\\\"\\\"o{{},<i{>,<e<<,},<<>}},{<\\\"<{},<u{}e\\\"',<},<\\\"a}>,<,<aa}>}}}},{{{{},<<},<,uio'u<},<,<i,>},{}},{<,,<,ii<>},{{<eeaou},<\\\"u}{\\\"'},<>},<\\\"'ooo<,<a{{,}>}}},{{{}},{{<{<eou>,{}},{{<a,<},<e>,{<},'u{},<,<>}},{<<},<},<u\\\"a{>,<},oui>},{<},<>,{{<ui,<eo>}}}},{{<},<{\\\"i{>}}}},{{{{{{}},{{{}},{<,o{ia{a},<>,<>}}},{{<}>,{<},<{iea,<}<},<'o<},<>}}}},{{{{{{}}},{{}}},{}}},{{{{<oa}e},<<>,<a',e{<>}},{<}a{a\\\"},<oeeaii\\\">}},{{<eauoa\\\"},<},<u,ao<'\\\">},{<'>,<}e,\\\"i',,<e,>},{}},{{{{<,o,<,'<io},<i{{>}},{{},{<}}},<aeee'},<ie\\\">}}},{{{{<u,{,aao,<>},<,{}},<},<ua,a,<,<>},{{<i},<\\\"}i\\\">},<}e<'o{>},{<>,{{<'},<i},<{a,<>},<u},<i'},<,<,},<uu>}}},{{<<},<{a,a>},<,ue>}}}},{{{{<io,>,{<i}}ui{u>}},<},<>},{{<e\\\"},<u\\\"<oi}a<>}},{{<},<',',<i\\\"o{,<\\\"},<{>,{<<{,u'u',<a,<i,{<>}}}},{{{},{{<,<<e,>},{<,'a,',<\\\"u,>,{<,u,<,\\\"oea'},<{',<>}}},{{<>}}}},{{<,<,e<i}},<}a\\\"<},<>},{{{<>},{}},{<\\\"},<}i'u,i}ii,<a>}}},{{{<o},<},<{u>,{{<,<oi<i,<>},<,<},<\\\"e,<\\\"{eia<<,>}},<>},{{{{{},{<{},<>}}}}},{<a\\\"<,<,<o>}}},{{{<>,<',oaeu,},<{ea,,<,<\\\"\\\">},{{{<'u}i}}i,<,<{i<o>},{{},<u}eeai<o>}},{{<o}o},<i<,<,<a>},{<{au}u\\\"},<,<e},<},<}}>}},{{{},{<a,<<ieou,iuoo>}},{{},{<}\\\">}}}},{{<,<o'<<>}}},{{{{{<,<u{,<<i}a,<{},<o>,{<>}},{{},{<{,},<e},<{}o>}},{<,<}},<{a},<au''<{>}},{{},{{{{<oioai,<\\\"i<<i},<io>}},{<<<\\\"<\\\",<},<>}}},{<>,{}}}},{{<u>,<\\\"eu'},<'a{,<i'i>},{<a<{>,{}},{{}}}},{{{<}aoe,<,<\\\"a}}o\\\">,<}a<oe,<>},{<{<},<>,{}},{{{{{<,ou<<u,<\\\",<i}o>}}}},{<oia\\\"a,i}>,<},<a>}}},{},{{{<},<o\\\",<,<},<},<ao\\\"a<},<{>},{{<,<au,<'<oi},<}\\\">},<,<{}i'u,<'\\\">}}},{{{{<i},<e{>},<<o,>},{{}}},{{{<>}},{{{<\\\"ou{u<}\\\",<i>,{}},<,<i,<,<<'eau>},<,<{}o,<}a>}},{}}},{{},{{<>},{{<\\\"<,o>}}},{{<u<i}}ooa'>},{}}},{{<,<},<<ua},'u'o,<a>,<i'u'a,<<,<o>},{{{<\\\",<,<u>}}},{<ii,a{o\\\"ua<>,<o,<ui\\\"ui',,<\\\"a},<o},<>}}},{{},{<<',\\\"e\\\"{>,{<\\\"\\\"},<a{},<o\\\"},>}},{{<\\\"eu>,<},<au\\\"a<,>},<iou,aoe{ee>}},{{}}}},{{{{{{<oo>},{<>}},{{<uoa},<aaua\\\"},<>},{}}},{{{{{<\\\"'},<ui<{oa}},<{},<''o>},<<\\\"},<},<,\\\"},<>},{}}},{},{{<},<\\\"\\\",},<ii<\\\",uo'\\\">},<,ua'u\\\"au{<ee\\\"},<,<,<>}},{{<}o,}>,<},<e},<,<u,<>},{}}},{<<},<a>}},{{{<}>,<>},{<},i>,{{<i},<'e},<aa\\\"o<<\\\"},<oo>},<,'eu'ai',<{,<},<>}}},{<uuu},<aaua>,{<\\\"<}\\\"}',<>}},{{},<oaa,<},<>}},{{<{{,<o\\\"ea>},{{<},<o,<,<>},{<,{>}},{{<{}},<e<e}},<e>,<}aeeoo{>},{{<ii>},<ei},<>}}},{{{{<{e{''e},<',,>},{{}}}}}},{{{{},{{{{{},{{<o,<e>},<,}\\\">}}},{{{{<'eo{\\\"o''>},{{{{<o<<,<'i<a'{a,<>}}},{}}},{{<a>},{<{iu,o,<{>}},{{<u>},<{'\\\">}}},{{<{uu\\\"oa>}}},{{{{{{<u'>},{}},{},{<>}},{{{<}iaauu'>},<'}},<ao},<oiao}>},{<u'},<euo},<,<{'>},{{<,},<e>},{<i>,{}},{{<},<},<u},<e>,<u\\\"i,i{<{e>},{}}}},{{{<},<,o\\\"'u<ii>},<,<<}}'ei>},{<,<{,a,a>}},{{{{<},<i'oii,<i}i},<>}},<'},<<\\\"{eio'{<u>},{{{}}},{}}},{{{},{{<'>},{}},{{<}{e},<\\\"i'\\\"ie\\\",>},{}}},{<\\\"},<},<}o',oaee,u,<i},<>,{<ei<},<}eo\\\"i}\\\">}},{{{{}}},{<\\\"o<i{ao>}}},{{{<\\\"},<>},<}}o<<<oeoi\\\"i,<a>}}},{{}}},{{{<<ae}<\\\"ie,<i},<,a\\\">},<>},{{{},{<}}{e{a},<>}},{{{<i\\\",a>}},{<o,aou},<>}},{{<>}}},{{{<,<}{\\\"oa'u,uu,<,<<>}}}},{{{<<}{ua,<,e,<a>,{<{,u},<i},<>}},{{{<a,<>},<'i,},<{},<},<,<oo{{>},{{<},<u},<>,<,o,<>},<e\\\"'{<'{u>},{}}},{{{<<i>}},{{{<u\\\">}},<a,{ae<>}},{{<ioa\\\"<>,<>}},{{{{<<a,u},<',<iu,<i<>},{<}u,a>}}}}}},{{{{<}o'>}},{}},{{<i,<}a},<,<\\\",<'a}}>},{<ooei}}a,<eu>,<},<oe{aoui{<u>}}},{{{{<o}{{>,{<>}},{{},<{{},<}'u>},{<i{{a,{}o<\\\"i>,{<a},<<iui{\\\"<,<,>}}},{{<ue}'{},<>},{}}},{{{<,<a{u,>},{{<'ioo},<{,<a}ie>}}},{<},\\\"ao'{a''<aia>,{<u>}}},{{{<\\\"\\\"},<i},<\\\"u>},{<},<{\\\"{{aoii{},<\\\",<o>}},{<\\\"e'{},<'>,<u},<}},<e}e,<e\\\",>},{{<<},<'e<\\\"}>},{<o,<,<,,{,<,{\\\">,{{<ou},<ea},<u},<i>}}}}}}},{{{{},{{<>}},{{<>,<o'ei<ei{}},<e'','>}}},{{}}},{{{<}u,<e},<eae<{>}},{<'iu}{u,<,<i>,{{<,<<<a\\\"o>},{{<,<i}<u>}}}}},{{{<>,{<'{,<'',{}},<>,{{{{<}a>}},{<>}},<>}}}},{{<{{},<>},{},{{<,'}>,{<<eia'\\\"o,<a<aa>,{{<oi',}oeo},<i>},{{{<\\\"ioa},<ai}ueo>}},{{}}}}}},{}}}},{{<ao>,<},<>},{{<}ao>}}}}},{{{{{{{<io,<\\\"u>}}},<o\\\"u\\\"'},<,<>},{<u'{a,,u<>}}},{{{{<io,>}},{{<i,<e,<\\\"i,<\\\"u>},{<u>}},{{},<o<},<ia>}},{{{{<},<'a},<a}}\\\"iu>,{<'\\\"e{'},<{\\\"',<a>}},{{{<>},{<<aeu>,{<,<}<ii},<,'},<oaiu<>}}},{{{{{<,<>}}},{{<,,iu,},<\\\"i,<<i,a,ei>,{<''i'},<{},<{o},<,>}},{}}},{{<i\\\"u\\\",}a>},<},<u{{uoe{,<e>},{{<i},}\\\",,},<<'>}}}},{{{<,<,<ui{>}},{<}o'o>}}},{{{<,},<{,<,iae\\\",>}},{<,\\\"\\\"'ii{,<ouio,<},<}<a>,{<u},<'},<'i<{o>}},{<oua\\\"o,,e,>,{<<oi{},o>,<>}}}},{{<},<\\\"eea,<eo>},<o,<ieu<},<\\\",<},<>}},{{{{{<},<},<}\\\"i<i},<u{}\\\"'{ou>}},{{<,<{},<,u},<}o},<>},<,',<,<\\\"},<<iu}o{uu>}},{{}},{{<e'u\\\"},<i},<o},<eo,>}}},{<ou}{u\\\"\\\"}},<{>},{{<,u,<e<'}<,<\\\">},{{<u\\\"i},<>}}}},{}},{{},{{},<e\\\"i>},{{{<<eoi>}}}},{{<,<ie'<<>,{<<},<ee},<\\\"<>,{<ie>}}}}},{{{<'>},{{{<ouuu>}},<,,'iu<e{'i},<,>},{}},{{},{{{{{}},{},{{<\\\"<},<,<,<o'ou,>},{}}},{},{{{<e{<},e<i{>}}}},{{{<>,{{}}},{{{<}o{}<u'i},<<>}},<,<u},<{{'i},<,<,<,<},<'\\\",>}},{}}},{}},{{{{{{<},<ua{{ou>},{}}},{<aauui<\\\">}},{},{<u\\\"i,<,ea{,<>}},{{{<}\\\"i,<'>}},{<,\\\"',<\\\",},<u>}}},{{{{}}},{{}},{}}},{{{{<<},<,<',eue>},{<',<>,<ooo,<}a},<>}}},{{},{{<e}ai}>},{<\\\",},<,<au}'e<},<>}}},{{{<e\\\"u,a'a,o>,{{<{a{},<>}}},<'oe,{>}},{{{{<,}<\\\"{'<\\\"<<u>},{<o},<},<ei},<iiu>}},{}}}},{{{{{{<}o},<<<i,}e,<},<<,<io}},<}>},{<},{oe,o\\\"a}o>,{}}},{{{{<{>},{<uoe>}},<},<a,<{}{>}},{{<u},<{ei{'i'>},{<<oiuaui,<\\\"i'eio>}}}},{{{{<<oo,\\\"u,>}}},{{<{'ie}e{},<,e'oa,<,>},{{<>,<\\\"\\\"<u,<,<<<>}},{{{<ee,<,<,,<\\\",{{<>},{{<{',e<<>},{<{o{a'{eea{u>}}}}},{<,>,{}}},{{{<}>,{<eo''},<},<}a<\\\">}},{<a{o{oa,<'e,<,<>}},{}},{{{{<,<,}<ae<\\\"'\\\"<o\\\"},<<>},{<{\\\",\\\"},}{i\\\",i\\\",<>}}},{<u\\\"iu{{\\\"},<>,<},<,<ou<u>},{<>,{}}}},{},{{<},<e'i<},<\\\">,<o,<}>},{<\\\">,{<i>,<<uaa>}},{{<ee'',<},<>},{{<},<u},<o'ooa{,<{<\\\"'>},<>},{<e<>}}}}}}},{{{{{<>},<,<o\\\"o{},<}iaa\\\",<o>},{},{{{{}},<<,}uo>}}}}},{{{{{{<\\\"},<<eee'o}{}{,,>},<a\\\"\\\",<,<>},<,,},<i,<ei,<o}<,<<>}},{{{<,<,\\\"i}},<a},<>},<,},i},<{,<ae,<ooui>},{<o}oia\\\"},,<>,{<au,},<o>}}}},{{{<{,<>,{<'i,<}ou{oie{u},<>}},{{{<}a>}}},{<{i},<'}i>,{<{<i>}}}},{{{},{<i,,<eiue}i>}},{{{<}a,<o,<u,ua,ai,>}}}}}},{{{{{{},{<}<e<>}},{<a\\\"oa\\\",<u<,<,,oa>,<o{}e\\\"'{o}aa>}}},{{{<aa',o,a>}}}},{{{{{},<,o>},{{<a},<i,<}i>},{{}}},{{{<u\\\",<u<{<,<}e>,<'e<,,<,<'>}}}},{{<{i},oueoo>}},{{{<,ee,u<u\\\"\\\">},<,<},<{e,<i\\\",<iauu>},{{{}},<,oi},'o,},<,eu'e>},{{<,<}>,<io},<'a,e{>},<,i},<},<,i,<<e>}}},{{<,<},<oo>,{<,,'o<o\\\"}{>}},{{<<a},<,>},{{<\\\",oa\\\",},<>},{<a,>}}}},{{{{<,<,}i,<u'{<e}\\\"a>},<>},{{<<\\\"o\\\"{o{<oa{a\\\",<>},<i,},<<,<},<u,<u},<>}},{{<,<}aiuo{u},<{>},{{{<ai}<oa},<i'a>}},<>}},{{<a\\\",{u\\\"}a,i,<>,<<<a<},<}e},<{o>},<e<<{>}},{{{<a<',<,o},<>}},{{{<},}<\\\"'},<>}}},{<},<',<,<\\\">}}},{{{{},{}},{<<},<{oi}\\\"ei},<,<},<},<e>},{}},{{{},{<>}}},{{<<<,iie>},{{{{<euo,<io,e,<>,<uu\\\"u{i{,<a>}}}},{{{{<,<},<i<,},<u'}a,oueo>}},<a>},{<eee,<{}\\\"ua<,},<>}}},{{{<,<,<e<o,<uu<o},<}>,{<ia>}},{<\\\",a}{}ooi>}},{{},{<eaoii{<e>,{<ee},<\\\"'oa{\\\"\\\",o}>}},{{{{}},{{<>},<'{{},<a,'\\\"'>},{{<'e\\\",>},{<{',<},<a},<\\\"<},<'>}}},{<},<},<\\\"<ao'aa,<},<>,<,e<a},<eoo'},<{>},{{{{},{<,<u<,<\\\"<\\\"{',<},<<i,<>}},{<,o{u>,{{<u{a}>}}}},<<e,ee>}}},{{{{},{}},{{<},<auuu},<{{},<},},<<o>,<ii\\\"uu,<uua}}<'aai>}}}}}},{{{},{},{}}}},{{{},{{{{<<},<e{oaoo,<}<<,<<\\\"a,<>},{},{{},<\\\"<},<aooo>}}},{{{{<\\\"u<,<\\\",},<aa>}}},{{{<<}\\\"\\\"e>}},{{{<a}'>}},{{{{<>}}},{{{<<i}>}}}}},{{<eia,<e\\\"<a'{>,{<ieeu},<\\\",ie'i,<>}},{{}},{{}}},{{<e{{},<{<}ei>,{}},{{{<',\\\"ei'u{},<\\\">},{<\\\",<e\\\",<,<>}},{<},<i},,<,a>,{<{}e>}},{{{<{}i>},{{<,<io{ie},uu>}}}}},{{{{}},{<a}<\\\",<>}}}}},{},{{{{<'{{{u,}{>},{{<e{,<ee{<a,>}},{{{<uo},<'i<'<e\\\">},<{o',<>},{}}}}}},{}}},{{{{{<{>,{<uo},<iio\\\",<i,<{>}},{<ii},<,,}e>,<uoa\\\"},<iee\\\"i},<{{,>},{{{<ui}',<ou>},{<ii,e>}}}},{{},<oi,<e,{u{,oi>},{<a<}o,<o,<{\\\",o{,<\\\"<>,<{},<>}},{{{<ae',oei>}},{{<aou'}}>},<ie,e'iu\\\">},{<o>,{<e',<>}}},{{{<},<,<\\\"{,<'>,{{<<,<,<,>}}}}}},{{{},{{{<ea},<u,>,<'},<{},<e}o>},{<u,<>}},{{}},{<>}}},{{<},<i}}iou}>,{}},{{}}},{{{},<>},{{<>},{<},<},<\\\"i\\\"\\\"}{oi,o>}},{<},<iu'<\\\"},<,},<\\\",<\\\"a}<},<'>,<eu},<{>}},{{<,ee\\\"ua},>,<\\\"<\\\"'\\\"iei>},{{{},<,}}uo>}},{<},<',{},<',\\\"<oe'>}}}}}}\""
      ]
     },
     "metadata": {},
     "output_type": "display_data"
    }
   ],
   "source": [
    "data State =  Skip | Keep\n",
    "\n",
    "\n",
    "processInput [] _ = []\n",
    "processInput (x:xs) Keep = case x of\n",
    "    '!' -> processInput xs Skip\n",
    "    _   -> x:(processInput xs Keep)\n",
    "processInput (_:xs) Skip = processInput xs Keep\n",
    "\n",
    "\n",
    "processed = processInput input Keep\n",
    "processed"
   ]
  },
  {
   "cell_type": "code",
   "execution_count": 18,
   "metadata": {},
   "outputs": [
    {
     "data": {
      "text/plain": [
       "\"{{{{{{{{}}{}}}{{{{}{}}{{}}{}}{{}{{}}}{{{}}{{{}}}{}}}{{{{}}{{}}{{}{{}}{}}}{{{}}{{}{}}{{}}}{{{{{}}}{}{{{}}{{{}{}}}{}}}}}{{{}{{}}}{{{{{}}}}{}}{{}{{}{}}{{}}}{{{{}}}{{}}{}}}{{{{{{}}}}{{}{{}}}{{}{}{{{}}{}}}}{{{}{}}{{}}{{}}}{{{{}}}}}}{{{{{{{}{}}{{}}}{{}{{}{}}}}{{{{}}{}}{}}{{{{}}{{}}{{{{}}{{{}}}{}}{{{}}{}}}}{{{{}}{{}}{{{}{{}}{}}{{{}}{}}{}}}{{{}}}{{}}}{{{}{}}{{{{}}{{}}{}}{}{{}}}}{{}{}}}{{}{{{}}}}}{{{}{}{{{}{{}{}}}{{{}{}}}}}{{}{{{{{}}}}}}{{{}}}}{{}{{}}}{{{{}}}{{}}}}{{{{}}}{{}}}{{{}{{}}}}{{{{{{}}}{}{{{}}}}}}}{{{{{{{}{{{{}}}}{{{}}{{}{{}}{{}{}}}}}}{{{}}{{{}}{}}}{{}{{{}}}{}}{{{}{}}{{{}}}}}{{{{}{}}}{{}}{{}}}{{{}{}}{{{{{{{}{{}}}}{}}}{}{}}{}}{{}{{}}{}}}{{{}}{{{}{}}{{}{}}{{}{{}}}}{{}}}}{{{{}}{}}{{}}}{{{}}{{{{{}}}{}{{}}}{{{{}{}}{{}{{}{{}{}}{{}}}{}}}{{}}{}}{}}}}{{{{}}{}}{}{{}}}}{{{}}{{{}}{{{}}{}{{{}}}}{{}}}}{{{{{{}}{{{}}{}}}{{{}}}}{{{{{{}}}{{}}}{}}}{{{{}}{}}{{}{}{}}{{{{}}{{}{}}}{{{{}}{{}}{{{}}}}{{}}}}}{{{{{}}}{{}}{{{}}}}{{{}{{}{{}}}{{}}}}{{}{{{}{}}{}}}{{{{{}}}}{{{{{}{}}}}}{}}}{{{}{{{}{{}}}{{}{}}{{{}{}}{{}{}}}}{{}}}{{{{{{}}{{}{}}{}}{{}{{{{}}{}}}{{}}}}{{}{{}}{{}}}}{{{}{{}}{{{{{}}}}{}}}{}{{{}{{}}}}{{{{}}{{}}}{{{}}{{{{}}}}}{}}}{{}{{}{{}}}{{}{}}}{{}{{{}}}{}}}{{}{{}}{{}}}{{}}}}{{{{{{}{}}{{}{}}}{{{{{}}{}}}{}{{}}}{{}{}}}{}}{{{}{{{}}}}{{}}{{}}}{{}{{}{}}{{}{{}}}}{{{{}{{}}}}}}{{{{}{{{{{}{{}}}}{{{{}{{{{}}}{}}}{{}{}}{{}}}}{{}}}{{{{{{}{}}{}{}}{{{}}{}{{}{{}}{{}{}}}}{{{}}{}}{{{{}}}{{{}}}{}}}{{{}{{}{}}{{}{}}}{{}}{{{{}}}{}}}{{{}}}}{{}}}{{{}}{{{}{}}{{{}}{}}{{}}}{{{}}}}{{{{}}{{{}}{{}}{}}}{{{}}{{{}}}}{{}}{{{{}{}}}}}}{{{{}}{}}{{}{}}}{{{{{}}{{}}{{}}}{{}{}}}{{{}{{}}}{{}}}{{{}{}}{}{{}{{{}}}}}}}{{{{}{{}}{{}}}{{}}}{{{}}{{{}{{}}}}}{{{{{{{{}}{}}}}}}{{}{}{{{{{}{{{}}{{}}}}}}{}}}}{{}{{}}}}}{{{{{{{}}}}{}}}{{{{}}{{}{}}{{}}}{{{{{}}{{{}{{}}}{{{{{}}}{{{}}{}}}{{}}{{}}}}{{{}}{}}}{{{}}{{}}{{}}}}{{}}}{{{{{}}{{}}}{{}}{{}}}{}{{}{{}}}}{}}{{}{{}}{{{}}}}{{{{}}}}}{{{}{{{}}}{}}{{}{{{{{}}{}{{}{}}}{}{{{}}}}{{{{{}}}{{{}}}}{}}}{}}{{{{{{}{}}}{}}{}{}}{{{}}{}}}{{{{}}}{{}}{}}}{{{{}{}}}{{}{{}{}}}{{{{{}}}}}{{{{}{}}{}}}}{{{{{{}{{}}}{{{{}{}}}}{{}{}}}}{{{{}}}{{}{{}}{{{}{{}{}}}}}{{}}}{{{{}}{}}{}}{{{{}{}}}{}{{}}}}{}{{}{{}}{{}{{}}{}}}}}}}{{{{{}}{}{{{{}}}}}}}{{{{{{}}}}{{{}}{{}}}}{{{{}}{{{}}}{{}}}}{{{}{}}{{{}}}}}}{{{{{{}{}}{}}}{{{}}}}{{{{{}}{{}{{}}}{{{}}}}{{}}{{{}}{{{}}}{{}}}}{{{}}{{}{{}{}}}}{{{{}}{{}}}{{}{{{}}}}{{}}}{{{}}{{{}}}{}}}{{{{}{}}{}{}}{{{}{}}}{{}{{{{}}}}{{{{}}}{}}}{{{{}}{}}{{}{{}}{{{{}}{{}}{{}{}}}{}{{{{}{}}{{{}}}}}}}{{{{}{}}{{}}}}}}{{{}{}{}}}}{{{}{{{{}{}{{}}}}{{{{}}}{{{}}{{{}}{{{{}}}{{{}}}}}{{{}}{{}}{{}}}{{{}}{{{}{}}{{}}{{{}{{}}}}}{{{{}}{}}}}}{}{{{{}{{}}{{{}}{}}}}}}{}}}{{{{{{}}{}{{{}{}}}}{{}}{}}{{{}}{{}}{{}}}{{{{{}}}}}}{{{}{{{}{}}{{}}{}}}{{{}}{{}}}{{{}}{{}{}}{}}{{}{{{}}}{}}}}}}\""
      ]
     },
     "metadata": {},
     "output_type": "display_data"
    }
   ],
   "source": [
    "processProcessed :: String -> State -> String\n",
    "\n",
    "processProcessed [] _ = []\n",
    "processProcessed (x:xs) Keep = case x of\n",
    "    '<' -> processProcessed xs Skip\n",
    "    _   -> x:(processProcessed xs Keep)\n",
    "processProcessed (x:xs) Skip = case x of\n",
    "    '>' -> processProcessed xs Keep\n",
    "    _   -> processProcessed xs Skip\n",
    "\n",
    "processed' = filter (/=',') $ processProcessed processed Keep\n",
    "processed'"
   ]
  },
  {
   "cell_type": "code",
   "execution_count": 37,
   "metadata": {},
   "outputs": [],
   "source": [
    "data Tree a = Leaf a | Tree a [Tree a] deriving (Eq, Show)\n",
    "\n",
    "\n",
    "import Data.ByteString.UTF8 (fromString, toString)\n",
    "import qualified Data.Attoparsec.ByteString.Char8 as A\n",
    "\n",
    "processedBS' = fromString processed'"
   ]
  },
  {
   "cell_type": "code",
   "execution_count": 48,
   "metadata": {},
   "outputs": [],
   "source": [
    "{-# LANGUAGE OverloadedStrings #-}\n",
    "\n",
    "import Control.Applicative ((<|>))\n",
    "\n",
    "parseLeaf n = const (Leaf n) <$> A.string \"{}\"\n",
    "parseTree n = parseLeaf (n) <|> (do\n",
    "    A.char '{'\n",
    "    children <- A.many' (parseTree (n+1))\n",
    "    A.char '}'\n",
    "    return $ Tree n children)"
   ]
  },
  {
   "cell_type": "code",
   "execution_count": 49,
   "metadata": {},
   "outputs": [
    {
     "data": {
      "text/plain": [
       "Tree 1 [Tree 2 [Tree 3 [Tree 4 [Tree 5 [Tree 6 [Tree 7 [Leaf 8],Leaf 7]],Tree 5 [Tree 6 [Tree 7 [Leaf 8,Leaf 8],Tree 7 [Leaf 8],Leaf 7],Tree 6 [Leaf 7,Tree 7 [Leaf 8]],Tree 6 [Tree 7 [Leaf 8],Tree 7 [Tree 8 [Leaf 9]],Leaf 7]],Tree 5 [Tree 6 [Tree 7 [Leaf 8],Tree 7 [Leaf 8],Tree 7 [Leaf 8,Tree 8 [Leaf 9],Leaf 8]],Tree 6 [Tree 7 [Leaf 8],Tree 7 [Leaf 8,Leaf 8],Tree 7 [Leaf 8]],Tree 6 [Tree 7 [Tree 8 [Tree 9 [Leaf 10]],Leaf 8,Tree 8 [Tree 9 [Leaf 10],Tree 9 [Tree 10 [Leaf 11,Leaf 11]],Leaf 9]]]],Tree 5 [Tree 6 [Leaf 7,Tree 7 [Leaf 8]],Tree 6 [Tree 7 [Tree 8 [Tree 9 [Leaf 10]]],Leaf 7],Tree 6 [Leaf 7,Tree 7 [Leaf 8,Leaf 8],Tree 7 [Leaf 8]],Tree 6 [Tree 7 [Tree 8 [Leaf 9]],Tree 7 [Leaf 8],Leaf 7]],Tree 5 [Tree 6 [Tree 7 [Tree 8 [Tree 9 [Leaf 10]]],Tree 7 [Leaf 8,Tree 8 [Leaf 9]],Tree 7 [Leaf 8,Leaf 8,Tree 8 [Tree 9 [Leaf 10],Leaf 9]]],Tree 6 [Tree 7 [Leaf 8,Leaf 8],Tree 7 [Leaf 8],Tree 7 [Leaf 8]],Tree 6 [Tree 7 [Tree 8 [Leaf 9]]]]],Tree 4 [Tree 5 [Tree 6 [Tree 7 [Tree 8 [Tree 9 [Leaf 10,Leaf 10],Tree 9 [Leaf 10]],Tree 8 [Leaf 9,Tree 9 [Leaf 10,Leaf 10]]],Tree 7 [Tree 8 [Tree 9 [Leaf 10],Leaf 9],Leaf 8],Tree 7 [Tree 8 [Tree 9 [Leaf 10],Tree 9 [Leaf 10],Tree 9 [Tree 10 [Tree 11 [Leaf 12],Tree 11 [Tree 12 [Leaf 13]],Leaf 11],Tree 10 [Tree 11 [Leaf 12],Leaf 11]]],Tree 8 [Tree 9 [Tree 10 [Leaf 11],Tree 10 [Leaf 11],Tree 10 [Tree 11 [Leaf 12,Tree 12 [Leaf 13],Leaf 12],Tree 11 [Tree 12 [Leaf 13],Leaf 12],Leaf 11]],Tree 9 [Tree 10 [Leaf 11]],Tree 9 [Leaf 10]],Tree 8 [Tree 9 [Leaf 10,Leaf 10],Tree 9 [Tree 10 [Tree 11 [Leaf 12],Tree 11 [Leaf 12],Leaf 11],Leaf 10,Tree 10 [Leaf 11]]],Tree 8 [Leaf 9,Leaf 9]],Tree 7 [Leaf 8,Tree 8 [Tree 9 [Leaf 10]]]],Tree 6 [Tree 7 [Leaf 8,Leaf 8,Tree 8 [Tree 9 [Leaf 10,Tree 10 [Leaf 11,Leaf 11]],Tree 9 [Tree 10 [Leaf 11,Leaf 11]]]],Tree 7 [Leaf 8,Tree 8 [Tree 9 [Tree 10 [Tree 11 [Leaf 12]]]]],Tree 7 [Tree 8 [Leaf 9]]],Tree 6 [Leaf 7,Tree 7 [Leaf 8]],Tree 6 [Tree 7 [Tree 8 [Leaf 9]],Tree 7 [Leaf 8]]],Tree 5 [Tree 6 [Tree 7 [Leaf 8]],Tree 6 [Leaf 7]],Tree 5 [Tree 6 [Leaf 7,Tree 7 [Leaf 8]]],Tree 5 [Tree 6 [Tree 7 [Tree 8 [Tree 9 [Leaf 10]],Leaf 8,Tree 8 [Tree 9 [Leaf 10]]]]]],Tree 4 [Tree 5 [Tree 6 [Tree 7 [Tree 8 [Tree 9 [Leaf 10,Tree 10 [Tree 11 [Tree 12 [Leaf 13]]],Tree 10 [Tree 11 [Leaf 12],Tree 11 [Leaf 12,Tree 12 [Leaf 13],Tree 12 [Leaf 13,Leaf 13]]]]],Tree 8 [Tree 9 [Leaf 10],Tree 9 [Tree 10 [Leaf 11],Leaf 10]],Tree 8 [Leaf 9,Tree 9 [Tree 10 [Leaf 11]],Leaf 9],Tree 8 [Tree 9 [Leaf 10,Leaf 10],Tree 9 [Tree 10 [Leaf 11]]]],Tree 7 [Tree 8 [Tree 9 [Leaf 10,Leaf 10]],Tree 8 [Leaf 9],Tree 8 [Leaf 9]],Tree 7 [Tree 8 [Leaf 9,Leaf 9],Tree 8 [Tree 9 [Tree 10 [Tree 11 [Tree 12 [Tree 13 [Leaf 14,Tree 14 [Leaf 15]]],Leaf 12]],Leaf 10,Leaf 10],Leaf 9],Tree 8 [Leaf 9,Tree 9 [Leaf 10],Leaf 9]],Tree 7 [Tree 8 [Leaf 9],Tree 8 [Tree 9 [Leaf 10,Leaf 10],Tree 9 [Leaf 10,Leaf 10],Tree 9 [Leaf 10,Tree 10 [Leaf 11]]],Tree 8 [Leaf 9]]],Tree 6 [Tree 7 [Tree 8 [Leaf 9],Leaf 8],Tree 7 [Leaf 8]],Tree 6 [Tree 7 [Leaf 8],Tree 7 [Tree 8 [Tree 9 [Tree 10 [Leaf 11]],Leaf 9,Tree 9 [Leaf 10]],Tree 8 [Tree 9 [Tree 10 [Leaf 11,Leaf 11],Tree 10 [Leaf 11,Tree 11 [Leaf 12,Tree 12 [Leaf 13,Leaf 13],Tree 12 [Leaf 13]],Leaf 11]],Tree 9 [Leaf 10],Leaf 9],Leaf 8]]],Tree 5 [Tree 6 [Tree 7 [Leaf 8],Leaf 7],Leaf 6,Tree 6 [Leaf 7]]],Tree 4 [Tree 5 [Leaf 6],Tree 5 [Tree 6 [Leaf 7],Tree 6 [Tree 7 [Leaf 8],Leaf 7,Tree 7 [Tree 8 [Leaf 9]]],Tree 6 [Leaf 7]]],Tree 4 [Tree 5 [Tree 6 [Tree 7 [Tree 8 [Leaf 9],Tree 8 [Tree 9 [Leaf 10],Leaf 9]],Tree 7 [Tree 8 [Leaf 9]]],Tree 6 [Tree 7 [Tree 8 [Tree 9 [Tree 10 [Leaf 11]],Tree 9 [Leaf 10]],Leaf 8]],Tree 6 [Tree 7 [Tree 8 [Leaf 9],Leaf 8],Tree 7 [Leaf 8,Leaf 8,Leaf 8],Tree 7 [Tree 8 [Tree 9 [Leaf 10],Tree 9 [Leaf 10,Leaf 10]],Tree 8 [Tree 9 [Tree 10 [Leaf 11],Tree 10 [Leaf 11],Tree 10 [Tree 11 [Leaf 12]]],Tree 9 [Leaf 10]]]],Tree 6 [Tree 7 [Tree 8 [Tree 9 [Leaf 10]],Tree 8 [Leaf 9],Tree 8 [Tree 9 [Leaf 10]]],Tree 7 [Tree 8 [Leaf 9,Tree 9 [Leaf 10,Tree 10 [Leaf 11]],Tree 9 [Leaf 10]]],Tree 7 [Leaf 8,Tree 8 [Tree 9 [Leaf 10,Leaf 10],Leaf 9]],Tree 7 [Tree 8 [Tree 9 [Tree 10 [Leaf 11]]],Tree 8 [Tree 9 [Tree 10 [Tree 11 [Leaf 12,Leaf 12]]]],Leaf 8]],Tree 6 [Tree 7 [Leaf 8,Tree 8 [Tree 9 [Leaf 10,Tree 10 [Leaf 11]],Tree 9 [Leaf 10,Leaf 10],Tree 9 [Tree 10 [Leaf 11,Leaf 11],Tree 10 [Leaf 11,Leaf 11]]],Tree 8 [Leaf 9]],Tree 7 [Tree 8 [Tree 9 [Tree 10 [Tree 11 [Leaf 12],Tree 11 [Leaf 12,Leaf 12],Leaf 11],Tree 10 [Leaf 11,Tree 11 [Tree 12 [Tree 13 [Leaf 14],Leaf 13]],Tree 11 [Leaf 12]]],Tree 9 [Leaf 10,Tree 10 [Leaf 11],Tree 10 [Leaf 11]]],Tree 8 [Tree 9 [Leaf 10,Tree 10 [Leaf 11],Tree 10 [Tree 11 [Tree 12 [Tree 13 [Leaf 14]]],Leaf 11]],Leaf 9,Tree 9 [Tree 10 [Leaf 11,Tree 11 [Leaf 12]]],Tree 9 [Tree 10 [Tree 11 [Leaf 12],Tree 11 [Leaf 12]],Tree 10 [Tree 11 [Leaf 12],Tree 11 [Tree 12 [Tree 13 [Leaf 14]]]],Leaf 10]],Tree 8 [Leaf 9,Tree 9 [Leaf 10,Tree 10 [Leaf 11]],Tree 9 [Leaf 10,Leaf 10]],Tree 8 [Leaf 9,Tree 9 [Tree 10 [Leaf 11]],Leaf 9]],Tree 7 [Leaf 8,Tree 8 [Leaf 9],Tree 8 [Leaf 9]],Tree 7 [Leaf 8]]],Tree 5 [Tree 6 [Tree 7 [Tree 8 [Tree 9 [Leaf 10,Leaf 10],Tree 9 [Leaf 10,Leaf 10]],Tree 8 [Tree 9 [Tree 10 [Tree 11 [Leaf 12],Leaf 11]],Leaf 9,Tree 9 [Leaf 10]],Tree 8 [Leaf 9,Leaf 9]],Leaf 7],Tree 6 [Tree 7 [Leaf 8,Tree 8 [Tree 9 [Leaf 10]]],Tree 7 [Leaf 8],Tree 7 [Leaf 8]],Tree 6 [Leaf 7,Tree 7 [Leaf 8,Leaf 8],Tree 7 [Leaf 8,Tree 8 [Leaf 9]]],Tree 6 [Tree 7 [Tree 8 [Leaf 9,Tree 9 [Leaf 10]]]]],Tree 5 [Tree 6 [Tree 7 [Leaf 8,Tree 8 [Tree 9 [Tree 10 [Tree 11 [Leaf 12,Tree 12 [Leaf 13]]],Tree 10 [Tree 11 [Tree 12 [Leaf 13,Tree 13 [Tree 14 [Tree 15 [Leaf 16]],Leaf 14]],Tree 12 [Leaf 13,Leaf 13],Tree 12 [Leaf 13]]],Tree 10 [Leaf 11]],Tree 9 [Tree 10 [Tree 11 [Tree 12 [Tree 13 [Leaf 14,Leaf 14],Leaf 13,Leaf 13],Tree 12 [Tree 13 [Leaf 14],Leaf 13,Tree 13 [Leaf 14,Tree 14 [Leaf 15],Tree 14 [Leaf 15,Leaf 15]]],Tree 12 [Tree 13 [Leaf 14],Leaf 13],Tree 12 [Tree 13 [Tree 14 [Leaf 15]],Tree 13 [Tree 14 [Leaf 15]],Leaf 13]],Tree 11 [Tree 12 [Leaf 13,Tree 13 [Leaf 14,Leaf 14],Tree 13 [Leaf 14,Leaf 14]],Tree 12 [Leaf 13],Tree 12 [Tree 13 [Tree 14 [Leaf 15]],Leaf 13]],Tree 11 [Tree 12 [Leaf 13]]],Tree 10 [Leaf 11]],Tree 9 [Tree 10 [Leaf 11],Tree 10 [Tree 11 [Leaf 12,Leaf 12],Tree 11 [Tree 12 [Leaf 13],Leaf 12],Tree 11 [Leaf 12]],Tree 10 [Tree 11 [Leaf 12]]],Tree 9 [Tree 10 [Tree 11 [Leaf 12],Tree 11 [Tree 12 [Leaf 13],Tree 12 [Leaf 13],Leaf 12]],Tree 10 [Tree 11 [Leaf 12],Tree 11 [Tree 12 [Leaf 13]]],Tree 10 [Leaf 11],Tree 10 [Tree 11 [Tree 12 [Leaf 13,Leaf 13]]]]],Tree 8 [Tree 9 [Tree 10 [Leaf 11],Leaf 10],Tree 9 [Leaf 10,Leaf 10]],Tree 8 [Tree 9 [Tree 10 [Tree 11 [Leaf 12],Tree 11 [Leaf 12],Tree 11 [Leaf 12]],Tree 10 [Leaf 11,Leaf 11]],Tree 9 [Tree 10 [Leaf 11,Tree 11 [Leaf 12]],Tree 10 [Leaf 11]],Tree 9 [Tree 10 [Leaf 11,Leaf 11],Leaf 10,Tree 10 [Leaf 11,Tree 11 [Tree 12 [Leaf 13]]]]]],Tree 7 [Tree 8 [Tree 9 [Leaf 10,Tree 10 [Leaf 11],Tree 10 [Leaf 11]],Tree 9 [Leaf 10]],Tree 8 [Tree 9 [Leaf 10],Tree 9 [Tree 10 [Leaf 11,Tree 11 [Leaf 12]]]],Tree 8 [Tree 9 [Tree 10 [Tree 11 [Tree 12 [Tree 13 [Tree 14 [Leaf 15],Leaf 14]]]]],Tree 9 [Leaf 10,Leaf 10,Tree 10 [Tree 11 [Tree 12 [Tree 13 [Leaf 14,Tree 14 [Tree 15 [Leaf 16],Tree 15 [Leaf 16]]]]],Leaf 11]]],Tree 8 [Leaf 9,Tree 9 [Leaf 10]]]],Tree 6 [Tree 7 [Tree 8 [Tree 9 [Tree 10 [Tree 11 [Leaf 12]]],Leaf 9]],Tree 7 [Tree 8 [Tree 9 [Leaf 10],Tree 9 [Leaf 10,Leaf 10],Tree 9 [Leaf 10]],Tree 8 [Tree 9 [Tree 10 [Tree 11 [Leaf 12],Tree 11 [Tree 12 [Leaf 13,Tree 13 [Leaf 14]],Tree 12 [Tree 13 [Tree 14 [Tree 15 [Leaf 16]],Tree 14 [Tree 15 [Leaf 16],Leaf 15]],Tree 13 [Leaf 14],Tree 13 [Leaf 14]]],Tree 11 [Tree 12 [Leaf 13],Leaf 12]],Tree 10 [Tree 11 [Leaf 12],Tree 11 [Leaf 12],Tree 11 [Leaf 12]]],Tree 9 [Leaf 10]],Tree 8 [Tree 9 [Tree 10 [Tree 11 [Leaf 12],Tree 11 [Leaf 12]],Tree 10 [Leaf 11],Tree 10 [Leaf 11]],Leaf 9,Tree 9 [Leaf 10,Tree 10 [Leaf 11]]],Leaf 8],Tree 7 [Leaf 8,Tree 8 [Leaf 9],Tree 8 [Tree 9 [Leaf 10]]],Tree 7 [Tree 8 [Tree 9 [Leaf 10]]]],Tree 6 [Tree 7 [Leaf 8,Tree 8 [Tree 9 [Leaf 10]],Leaf 8],Tree 7 [Leaf 8,Tree 8 [Tree 9 [Tree 10 [Tree 11 [Leaf 12],Leaf 11,Tree 11 [Leaf 12,Leaf 12]],Leaf 10,Tree 10 [Tree 11 [Leaf 12]]],Tree 9 [Tree 10 [Tree 11 [Tree 12 [Leaf 13]],Tree 11 [Tree 12 [Leaf 13]]],Leaf 10]],Leaf 8],Tree 7 [Tree 8 [Tree 9 [Tree 10 [Tree 11 [Leaf 12,Leaf 12]],Leaf 10],Leaf 9,Leaf 9],Tree 8 [Tree 9 [Leaf 10],Leaf 9]],Tree 7 [Tree 8 [Tree 9 [Leaf 10]],Tree 8 [Leaf 9],Leaf 8]],Tree 6 [Tree 7 [Tree 8 [Leaf 9,Leaf 9]],Tree 7 [Leaf 8,Tree 8 [Leaf 9,Leaf 9]],Tree 7 [Tree 8 [Tree 9 [Tree 10 [Leaf 11]]]],Tree 7 [Tree 8 [Tree 9 [Leaf 10,Leaf 10],Leaf 9]]],Tree 6 [Tree 7 [Tree 8 [Tree 9 [Tree 10 [Leaf 11,Tree 11 [Leaf 12]],Tree 10 [Tree 11 [Tree 12 [Leaf 13,Leaf 13]]],Tree 10 [Leaf 11,Leaf 11]]],Tree 8 [Tree 9 [Tree 10 [Leaf 11]],Tree 9 [Leaf 10,Tree 10 [Leaf 11],Tree 10 [Tree 11 [Leaf 12,Tree 12 [Leaf 13,Leaf 13]]]],Tree 9 [Leaf 10]],Tree 8 [Tree 9 [Tree 10 [Leaf 11],Leaf 10],Leaf 9],Tree 8 [Tree 9 [Tree 10 [Leaf 11,Leaf 11]],Leaf 9,Tree 9 [Leaf 10]]],Leaf 7,Tree 7 [Leaf 8,Tree 8 [Leaf 9],Tree 8 [Leaf 9,Tree 9 [Leaf 10],Leaf 9]]]]]],Tree 3 [Tree 4 [Tree 5 [Tree 6 [Leaf 7],Leaf 6,Tree 6 [Tree 7 [Tree 8 [Leaf 9]]]]]],Tree 3 [Tree 4 [Tree 5 [Tree 6 [Tree 7 [Leaf 8]]],Tree 5 [Tree 6 [Leaf 7],Tree 6 [Leaf 7]]],Tree 4 [Tree 5 [Tree 6 [Leaf 7],Tree 6 [Tree 7 [Leaf 8]],Tree 6 [Leaf 7]]],Tree 4 [Tree 5 [Leaf 6,Leaf 6],Tree 5 [Tree 6 [Leaf 7]]]]],Tree 2 [Tree 3 [Tree 4 [Tree 5 [Tree 6 [Leaf 7,Leaf 7],Leaf 6]],Tree 4 [Tree 5 [Leaf 6]]],Tree 3 [Tree 4 [Tree 5 [Tree 6 [Leaf 7],Tree 6 [Leaf 7,Tree 7 [Leaf 8]],Tree 6 [Tree 7 [Leaf 8]]],Tree 5 [Leaf 6],Tree 5 [Tree 6 [Leaf 7],Tree 6 [Tree 7 [Leaf 8]],Tree 6 [Leaf 7]]],Tree 4 [Tree 5 [Leaf 6],Tree 5 [Leaf 6,Tree 6 [Leaf 7,Leaf 7]]],Tree 4 [Tree 5 [Tree 6 [Leaf 7],Tree 6 [Leaf 7]],Tree 5 [Leaf 6,Tree 6 [Tree 7 [Leaf 8]]],Tree 5 [Leaf 6]],Tree 4 [Tree 5 [Leaf 6],Tree 5 [Tree 6 [Leaf 7]],Leaf 5]],Tree 3 [Tree 4 [Tree 5 [Leaf 6,Leaf 6],Leaf 5,Leaf 5],Tree 4 [Tree 5 [Leaf 6,Leaf 6]],Tree 4 [Leaf 5,Tree 5 [Tree 6 [Tree 7 [Leaf 8]]],Tree 5 [Tree 6 [Tree 7 [Leaf 8]],Leaf 6]],Tree 4 [Tree 5 [Tree 6 [Leaf 7],Leaf 6],Tree 5 [Leaf 6,Tree 6 [Leaf 7],Tree 6 [Tree 7 [Tree 8 [Leaf 9],Tree 8 [Leaf 9],Tree 8 [Leaf 9,Leaf 9]],Leaf 7,Tree 7 [Tree 8 [Tree 9 [Leaf 10,Leaf 10],Tree 9 [Tree 10 [Leaf 11]]]]]],Tree 5 [Tree 6 [Tree 7 [Leaf 8,Leaf 8],Tree 7 [Leaf 8]]]]],Tree 3 [Tree 4 [Leaf 5,Leaf 5,Leaf 5]]],Tree 2 [Tree 3 [Leaf 4,Tree 4 [Tree 5 [Tree 6 [Leaf 7,Leaf 7,Tree 7 [Leaf 8]]],Tree 5 [Tree 6 [Tree 7 [Leaf 8]],Tree 6 [Tree 7 [Leaf 8],Tree 7 [Tree 8 [Leaf 9],Tree 8 [Tree 9 [Tree 10 [Leaf 11]],Tree 9 [Tree 10 [Leaf 11]]]],Tree 7 [Tree 8 [Leaf 9],Tree 8 [Leaf 9],Tree 8 [Leaf 9]],Tree 7 [Tree 8 [Leaf 9],Tree 8 [Tree 9 [Leaf 10,Leaf 10],Tree 9 [Leaf 10],Tree 9 [Tree 10 [Leaf 11,Tree 11 [Leaf 12]]]],Tree 8 [Tree 9 [Tree 10 [Leaf 11],Leaf 10]]]],Leaf 6,Tree 6 [Tree 7 [Tree 8 [Leaf 9,Tree 9 [Leaf 10],Tree 9 [Tree 10 [Leaf 11],Leaf 10]]]]],Leaf 5]],Tree 3 [Tree 4 [Tree 5 [Tree 6 [Tree 7 [Leaf 8],Leaf 7,Tree 7 [Tree 8 [Leaf 9,Leaf 9]]],Tree 6 [Leaf 7],Leaf 6],Tree 5 [Tree 6 [Leaf 7],Tree 6 [Leaf 7],Tree 6 [Leaf 7]],Tree 5 [Tree 6 [Tree 7 [Tree 8 [Leaf 9]]]]],Tree 4 [Tree 5 [Leaf 6,Tree 6 [Tree 7 [Leaf 8,Leaf 8],Tree 7 [Leaf 8],Leaf 7]],Tree 5 [Tree 6 [Leaf 7],Tree 6 [Leaf 7]],Tree 5 [Tree 6 [Leaf 7],Tree 6 [Leaf 7,Leaf 7],Leaf 6],Tree 5 [Leaf 6,Tree 6 [Tree 7 [Leaf 8]],Leaf 6]]]]]"
      ]
     },
     "metadata": {},
     "output_type": "display_data"
    }
   ],
   "source": [
    "tree = parsed (parseTree 1) processedBS'\n",
    "tree"
   ]
  },
  {
   "cell_type": "code",
   "execution_count": 52,
   "metadata": {},
   "outputs": [
    {
     "data": {
      "text/plain": [
       "11898"
      ]
     },
     "metadata": {},
     "output_type": "display_data"
    }
   ],
   "source": [
    "rsum t = case t of\n",
    "    Leaf n -> n\n",
    "    Tree n leaves -> n + sum (map rsum leaves)\n",
    "\n",
    "rsum tree"
   ]
  },
  {
   "cell_type": "code",
   "execution_count": 57,
   "metadata": {},
   "outputs": [
    {
     "data": {
      "text/plain": [
       "5601"
      ]
     },
     "metadata": {},
     "output_type": "display_data"
    }
   ],
   "source": [
    "extractGarbage [] _ = []\n",
    "extractGarbage (x:xs) Skip = case x of\n",
    "    '<' -> extractGarbage xs Keep\n",
    "    _   -> extractGarbage xs Skip\n",
    "extractGarbage (x:xs) Keep = case x of\n",
    "    '>' -> extractGarbage xs Skip\n",
    "    _   -> x:extractGarbage xs Keep\n",
    "    \n",
    "length (extractGarbage processed Skip)"
   ]
  }
 ],
 "metadata": {
  "kernelspec": {
   "display_name": "Haskell",
   "language": "haskell",
   "name": "haskell"
  },
  "language_info": {
   "codemirror_mode": "ihaskell",
   "file_extension": ".hs",
   "name": "haskell",
   "version": "8.0.2"
  }
 },
 "nbformat": 4,
 "nbformat_minor": 2
}
