{
 "cells": [
  {
   "cell_type": "code",
   "execution_count": 1,
   "metadata": {
    "collapsed": true
   },
   "outputs": [],
   "source": [
    "{-# LANGUAGE OverloadedStrings #-}\n",
    "\n",
    "import AdventOfCode\n",
    "import Control.Applicative ((<|>))\n",
    "import Data.ByteString.UTF8 (fromString, toString)\n",
    "import qualified Data.Attoparsec.ByteString.Char8 as A\n",
    "\n",
    "input <- dayString 9"
   ]
  },
  {
   "cell_type": "code",
   "execution_count": 2,
   "metadata": {},
   "outputs": [],
   "source": [
    "processInput [] _ = []\n",
    "processInput (x:xs) True = case x of\n",
    "    '!' -> processInput xs False\n",
    "    _   -> x:(processInput xs True)\n",
    "processInput (_:xs) False = processInput xs True\n",
    "\n",
    "processed = processInput input True"
   ]
  },
  {
   "cell_type": "code",
   "execution_count": 3,
   "metadata": {},
   "outputs": [],
   "source": [
    "processProcessed :: String -> Bool -> String\n",
    "processProcessed [] _ = []\n",
    "processProcessed (x:xs) True = case x of\n",
    "    '<' -> processProcessed xs False\n",
    "    _   -> x:(processProcessed xs True)\n",
    "processProcessed (x:xs) False = case x of\n",
    "    '>' -> processProcessed xs True\n",
    "    _   -> processProcessed xs False\n",
    "\n",
    "processed' = fromString $ filter (/=',') $ processProcessed processed True"
   ]
  },
  {
   "cell_type": "code",
   "execution_count": 4,
   "metadata": {},
   "outputs": [],
   "source": [
    "data Tree a = Leaf a | Tree a [Tree a] deriving (Eq, Show)"
   ]
  },
  {
   "cell_type": "code",
   "execution_count": 5,
   "metadata": {},
   "outputs": [],
   "source": [
    "parseTree n\n",
    "    =   (Leaf n <$ A.string \"{}\") \n",
    "    <|> (Tree n <$> (\"{\" *> A.many' (parseTree (n+1))<* \"}\"))"
   ]
  },
  {
   "cell_type": "code",
   "execution_count": 6,
   "metadata": {},
   "outputs": [],
   "source": [
    "tree = parsed (parseTree 1) processed'"
   ]
  },
  {
   "cell_type": "code",
   "execution_count": 7,
   "metadata": {},
   "outputs": [
    {
     "data": {
      "text/plain": [
       "11898"
      ]
     },
     "metadata": {},
     "output_type": "display_data"
    }
   ],
   "source": [
    "rsum t = case t of\n",
    "    Leaf n -> n\n",
    "    Tree n leaves -> n + sum (map rsum leaves)\n",
    "\n",
    "rsum tree"
   ]
  },
  {
   "cell_type": "code",
   "execution_count": 8,
   "metadata": {},
   "outputs": [
    {
     "data": {
      "text/plain": [
       "5601"
      ]
     },
     "metadata": {},
     "output_type": "display_data"
    }
   ],
   "source": [
    "extractGarbage [] _ = []\n",
    "extractGarbage (x:xs) False = case x of\n",
    "    '<' -> extractGarbage xs True\n",
    "    _   -> extractGarbage xs False\n",
    "extractGarbage (x:xs) True = case x of\n",
    "    '>' -> extractGarbage xs False\n",
    "    _   -> x:extractGarbage xs True\n",
    "    \n",
    "length (extractGarbage processed False)"
   ]
  }
 ],
 "metadata": {
  "kernelspec": {
   "display_name": "Haskell",
   "language": "haskell",
   "name": "haskell"
  },
  "language_info": {
   "codemirror_mode": "ihaskell",
   "file_extension": ".hs",
   "name": "haskell",
   "version": "8.0.2"
  }
 },
 "nbformat": 4,
 "nbformat_minor": 2
}
