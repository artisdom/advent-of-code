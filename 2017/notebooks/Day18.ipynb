{
 "cells": [
  {
   "cell_type": "code",
   "execution_count": 1,
   "metadata": {
    "collapsed": true
   },
   "outputs": [],
   "source": [
    "{-# LANGUAGE OverloadedStrings #-}\n",
    "{-# LANGUAGE RecordWildCards #-}\n",
    "{-# LANGUAGE TemplateHaskell #-}\n",
    "\n",
    "import AdventOfCode\n",
    "import Control.Lens\n",
    "\n",
    "import qualified Data.Attoparsec.ByteString.Char8 as A\n",
    "import qualified Data.Map.Strict as M\n",
    "import qualified Data.Vector as V\n",
    "\n",
    "input <- dayLines 18"
   ]
  },
  {
   "cell_type": "code",
   "execution_count": 2,
   "metadata": {
    "collapsed": true
   },
   "outputs": [],
   "source": [
    "type Reg = Char\n",
    "type ValueReg = Either Int Reg\n",
    "\n",
    "parseReg = A.satisfy A.isAlpha_ascii\n",
    "parseValue = A.signed A.decimal\n",
    "\n",
    "parseValueReg :: A.Parser ValueReg\n",
    "parseValueReg = A.eitherP parseValue parseReg"
   ]
  },
  {
   "cell_type": "code",
   "execution_count": 3,
   "metadata": {
    "collapsed": true
   },
   "outputs": [],
   "source": [
    "data Instr \n",
    "    = Snd ValueReg \n",
    "    | Set Reg ValueReg\n",
    "    | Add Reg ValueReg\n",
    "    | Mul Reg ValueReg\n",
    "    | Mod Reg ValueReg\n",
    "    | Rcv Reg\n",
    "    | Jgz ValueReg ValueReg\n",
    "    deriving (Eq, Show)\n",
    "\n",
    "parseInstr = A.choice\n",
    "    [ Snd <$> (\"snd\" *> pVR)\n",
    "    , Set <$> (\"set\" *> pR)  <*> pVR\n",
    "    , Add <$> (\"add\" *> pR)  <*> pVR\n",
    "    , Mul <$> (\"mul\" *> pR)  <*> pVR\n",
    "    , Mod <$> (\"mod\" *> pR)  <*> pVR\n",
    "    , Rcv <$> (\"rcv\" *> pR)\n",
    "    , Jgz <$> (\"jgz\" *> pVR) <*> pVR\n",
    "    ]\n",
    "    where\n",
    "        pVR = A.space *> parseValueReg\n",
    "        pR  = A.space *> parseReg\n",
    "\n",
    "registerMap = M.fromList $ zip ['a'..'p'] (repeat 0)\n",
    "instrVec    = V.fromList $ map (parsed parseInstr) input"
   ]
  },
  {
   "cell_type": "code",
   "execution_count": 4,
   "metadata": {
    "collapsed": true
   },
   "outputs": [],
   "source": [
    "data MachineState = MachineState\n",
    "    { _registers :: M.Map Char Int\n",
    "    , _counter   :: Int\n",
    "    } deriving (Eq, Show)\n",
    "\n",
    "getValueReg registers valueReg = case valueReg of\n",
    "    Left v -> v\n",
    "    Right r -> registers M.! r\n",
    "\n",
    "executeInstr instr ms@MachineState{..} = case instr of\n",
    "    Snd     vr -> ms{_counter = _counter + 1}\n",
    "    Set reg vr -> ms{_registers = M.insert reg    (getValueReg _registers vr)      _registers, _counter = _counter + 1}\n",
    "    Add reg vr -> ms{_registers = M.adjust      (+(getValueReg _registers vr)) reg _registers, _counter = _counter + 1}\n",
    "    Mul reg vr -> ms{_registers = M.adjust      (*(getValueReg _registers vr)) reg _registers, _counter = _counter + 1}\n",
    "    Mod reg vr -> ms{_registers = M.adjust (`mod` (getValueReg _registers vr)) reg _registers, _counter = _counter + 1}\n",
    "    Jgz vr vr' -> if (getValueReg _registers vr) > 0\n",
    "        then ms{_counter = _counter + (getValueReg _registers vr')}\n",
    "        else ms{_counter = _counter + 1}\n",
    "    other -> error $ \"don't know how to execute \" ++ show other"
   ]
  },
  {
   "cell_type": "code",
   "execution_count": 5,
   "metadata": {},
   "outputs": [],
   "source": [
    "loop instrs ms@MachineState{..} lastFreq | _counter > V.length instrs || _counter < 0 = lastFreq\n",
    "loop instrs ms@MachineState{..} lastFreq = case instrs V.! _counter of\n",
    "    Snd vr -> loop instrs (executeInstr (Snd vr) ms) (getValueReg _registers vr)\n",
    "    Rcv r  -> if (_registers M.! r) /= 0 then lastFreq else loop instrs ms{_counter = _counter + 1} lastFreq\n",
    "    curr   -> loop instrs (executeInstr curr ms) lastFreq"
   ]
  },
  {
   "cell_type": "code",
   "execution_count": 6,
   "metadata": {},
   "outputs": [
    {
     "data": {
      "text/plain": [
       "3423"
      ]
     },
     "metadata": {},
     "output_type": "display_data"
    }
   ],
   "source": [
    "loop instrVec (MachineState registerMap 0) 0"
   ]
  },
  {
   "cell_type": "code",
   "execution_count": 7,
   "metadata": {},
   "outputs": [
    {
     "data": {
      "text/plain": [
       "7493"
      ]
     },
     "metadata": {},
     "output_type": "display_data"
    }
   ],
   "source": [
    "send msg cms@ConcMachineState{..} = cms{_mailbox = _mailbox ++ [msg]}\n",
    "\n",
    "data LockedState = Running | Waiting deriving (Eq, Show)\n",
    "data ConcMachineState = ConcMachineState\n",
    "    { _ms          :: MachineState\n",
    "    , _mailbox     :: [Int]\n",
    "    , _lockedState :: LockedState\n",
    "    }\n",
    "\n",
    "executeInstr' instr cms@ConcMachineState{..} = case instr of\n",
    "    Rcv reg -> if _mailbox == [] \n",
    "        then cms{_lockedState = Waiting}\n",
    "        else let\n",
    "            (msg, mailbox') = (head _mailbox, tail _mailbox)\n",
    "            registers' = M.insert reg msg $ _registers _ms\n",
    "            in cms{_ms = _ms{_registers = registers', _counter = _counter _ms + 1}, _mailbox = mailbox', _lockedState = Running}\n",
    "    _ -> cms{_ms = executeInstr instr _ms}\n",
    "\n",
    "loop' instrs cms0 cms1 count\n",
    "    | (_lockedState cms0) == Waiting && (_lockedState cms1) == Waiting     = count\n",
    "    | (_counter $ _ms cms0) > V.length instrs || (_counter $ _ms cms0) < 0 = count\n",
    "    | (_counter $ _ms cms1) > V.length instrs || (_counter $ _ms cms1) < 0 = count\n",
    "    | Snd vr <- instrs V.! (_counter $ _ms cms0) = let\n",
    "        value = getValueReg (_registers $ _ms cms0) vr\n",
    "        cms1' = send value cms1\n",
    "        cms0' = executeInstr' (Snd vr) cms0\n",
    "        in loop' instrs cms0' cms1' count\n",
    "    | Snd vr <- instrs V.! (_counter $ _ms cms1) = let\n",
    "        value = getValueReg (_registers $ _ms cms1) vr\n",
    "        cms0' = send value cms0\n",
    "        cms1' = executeInstr' (Snd vr) cms1\n",
    "        in loop' instrs cms0' cms1' (count + 1)\n",
    "    | otherwise = let\n",
    "        instr0 = instrs V.! (_counter $ _ms cms0)\n",
    "        instr1 = instrs V.! (_counter $ _ms cms1)\n",
    "        cms0' = executeInstr' instr0 cms0\n",
    "        cms1' = executeInstr' instr1 cms1\n",
    "        in loop' instrs cms0' cms1' count\n",
    "\n",
    "initialMs0 = ConcMachineState (MachineState                 registerMap  0) [] Running\n",
    "initialMs1 = ConcMachineState (MachineState (M.insert 'p' 1 registerMap) 0) [] Running\n",
    "\n",
    "loop' instrVec initialMs0 initialMs1 0"
   ]
  }
 ],
 "metadata": {
  "kernelspec": {
   "display_name": "Haskell",
   "language": "haskell",
   "name": "haskell"
  },
  "language_info": {
   "codemirror_mode": "ihaskell",
   "file_extension": ".hs",
   "name": "haskell",
   "version": "8.0.2"
  }
 },
 "nbformat": 4,
 "nbformat_minor": 2
}
