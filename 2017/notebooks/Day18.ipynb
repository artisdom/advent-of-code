{
 "cells": [
  {
   "cell_type": "code",
   "execution_count": 1,
   "metadata": {
    "collapsed": true
   },
   "outputs": [],
   "source": [
    "{-# LANGUAGE OverloadedStrings #-}\n",
    "{-# LANGUAGE TemplateHaskell #-}\n",
    "\n",
    "import AdventOfCode\n",
    "import Control.Lens\n",
    "\n",
    "import qualified Data.Attoparsec.ByteString.Char8 as A\n",
    "import qualified Data.Map.Strict as M\n",
    "import qualified Data.Vector as V\n",
    "\n",
    "input <- dayLines 18"
   ]
  },
  {
   "cell_type": "code",
   "execution_count": 2,
   "metadata": {
    "collapsed": true
   },
   "outputs": [],
   "source": [
    "type Reg = Char\n",
    "type ValueReg = Either Int Reg\n",
    "\n",
    "parseReg = A.satisfy A.isAlpha_ascii\n",
    "parseValue = A.signed A.decimal\n",
    "\n",
    "parseValueReg :: A.Parser ValueReg\n",
    "parseValueReg = A.eitherP parseValue parseReg"
   ]
  },
  {
   "cell_type": "code",
   "execution_count": 3,
   "metadata": {
    "collapsed": true
   },
   "outputs": [],
   "source": [
    "data Instr \n",
    "    = Snd ValueReg \n",
    "    | Set Reg ValueReg\n",
    "    | Add Reg ValueReg\n",
    "    | Mul Reg ValueReg\n",
    "    | Mod Reg ValueReg\n",
    "    | Rcv Reg\n",
    "    | Jgz ValueReg ValueReg\n",
    "    deriving (Eq, Show)\n",
    "\n",
    "parseInstr = A.choice\n",
    "    [ Snd <$> (\"snd\" *> pVR)\n",
    "    , Set <$> (\"set\" *> pR)  <*> pVR\n",
    "    , Add <$> (\"add\" *> pR)  <*> pVR\n",
    "    , Mul <$> (\"mul\" *> pR)  <*> pVR\n",
    "    , Mod <$> (\"mod\" *> pR)  <*> pVR\n",
    "    , Rcv <$> (\"rcv\" *> pR)\n",
    "    , Jgz <$> (\"jgz\" *> pVR) <*> pVR\n",
    "    ]\n",
    "    where\n",
    "        pVR = A.space *> parseValueReg\n",
    "        pR  = A.space *> parseReg\n",
    "\n",
    "registerMap = M.fromList $ zip ['a'..'p'] (repeat 0)\n",
    "instrVec    = V.fromList $ map (parsed parseInstr) input"
   ]
  },
  {
   "cell_type": "code",
   "execution_count": 4,
   "metadata": {
    "collapsed": true
   },
   "outputs": [],
   "source": [
    "data MachineState = MachineState\n",
    "    { _registers :: M.Map Char Int\n",
    "    , _counter   :: Int\n",
    "    } deriving (Eq, Show)\n",
    "\n",
    "makeLenses ''MachineState\n",
    "\n",
    "getValueReg registers valueReg = case valueReg of\n",
    "    Left v -> v\n",
    "    Right r -> registers M.! r\n",
    "\n",
    "executeInstr instr ms = case instr of\n",
    "    Snd     vr -> ms & counter +~ 1\n",
    "    Set reg vr -> ms & counter +~ 1 & registers %~ (\\rs -> M.insert reg       (getValueReg rs vr)      rs)\n",
    "    Add reg vr -> ms & counter +~ 1 & registers %~ (\\rs -> M.adjust         (+(getValueReg rs vr)) reg rs)\n",
    "    Mul reg vr -> ms & counter +~ 1 & registers %~ (\\rs -> M.adjust         (*(getValueReg rs vr)) reg rs)\n",
    "    Mod reg vr -> ms & counter +~ 1 & registers %~ (\\rs -> M.adjust     (`mod`(getValueReg rs vr)) reg rs)\n",
    "    Jgz vr vr' -> if getValueReg (ms ^. registers) vr > 0\n",
    "        then ms & counter %~ (+ (getValueReg (ms ^. registers) vr'))\n",
    "        else ms & counter +~ 1\n",
    "    other -> error $ \"don't know how to execute \" ++ show other"
   ]
  },
  {
   "cell_type": "code",
   "execution_count": 5,
   "metadata": {
    "collapsed": true
   },
   "outputs": [],
   "source": [
    "loop instrs ms lastFreq | (ms ^. counter) > V.length instrs || (ms ^. counter) < 0 = lastFreq\n",
    "loop instrs ms lastFreq = case instrs V.! (ms ^. counter) of\n",
    "    Snd vr -> loop instrs (executeInstr (Snd vr) ms) (getValueReg (ms ^. registers) vr)\n",
    "    Rcv r  -> if ((ms ^. registers) M.! r) /= 0 then lastFreq else loop instrs (ms & counter +~ 1) lastFreq\n",
    "    curr   -> loop instrs (executeInstr curr ms) lastFreq"
   ]
  },
  {
   "cell_type": "code",
   "execution_count": 6,
   "metadata": {},
   "outputs": [
    {
     "data": {
      "text/plain": [
       "3423"
      ]
     },
     "metadata": {},
     "output_type": "display_data"
    }
   ],
   "source": [
    "loop instrVec (MachineState registerMap 0) 0"
   ]
  },
  {
   "cell_type": "code",
   "execution_count": 7,
   "metadata": {},
   "outputs": [],
   "source": [
    "data LockedState = Running | Waiting deriving (Eq, Show)\n",
    "data ConcMachineState = ConcMachineState\n",
    "    { _ms          :: MachineState\n",
    "    , _mailbox     :: [Int]\n",
    "    , _lockedState :: LockedState\n",
    "    }\n",
    "\n",
    "makeLenses ''ConcMachineState\n",
    "\n",
    "send msg cms = cms & mailbox %~ (++ [msg])\n",
    "\n",
    "executeInstr' instr cms = case instr of\n",
    "    Rcv reg -> if (cms ^. mailbox) == [] \n",
    "        then cms & lockedState .~ Waiting\n",
    "        else cms \n",
    "                & ms %~ (\\m -> m & counter +~ 1 & registers %~ (M.insert reg (cms ^. mailbox . to head))) \n",
    "                & mailbox %~ tail \n",
    "                & lockedState .~ Running\n",
    "    _ -> cms & ms %~ (executeInstr instr)\n",
    "\n",
    "loop' instrs cms0 cms1 count\n",
    "    | cms0  ^. lockedState == Waiting && cms1 ^. lockedState == Waiting    = count\n",
    "    | cms0 ^. ms ^. counter > V.length instrs || cms0 ^. ms ^. counter < 0 = count\n",
    "    | cms1 ^. ms ^. counter > V.length instrs || cms1 ^. ms ^. counter < 0 = count\n",
    "    | Snd vr <- instrs V.! (cms0 ^. ms ^. counter) = let\n",
    "        value = getValueReg (cms0 ^. ms ^. registers)  vr\n",
    "        cms1' = send value cms1\n",
    "        cms0' = executeInstr' (Snd vr) cms0\n",
    "        in loop' instrs cms0' cms1' count\n",
    "    | Snd vr <- instrs V.! (cms1 ^. ms ^. counter) = let\n",
    "        value = getValueReg (cms1 ^. ms ^. registers) vr\n",
    "        cms0' = send value cms0\n",
    "        cms1' = executeInstr' (Snd vr) cms1\n",
    "        in loop' instrs cms0' cms1' (count + 1)\n",
    "    | otherwise = let\n",
    "        instr0 = instrs V.! (cms0 ^. ms ^. counter)\n",
    "        instr1 = instrs V.! (cms1 ^. ms ^. counter)\n",
    "        cms0' = executeInstr' instr0 cms0\n",
    "        cms1' = executeInstr' instr1 cms1\n",
    "        in loop' instrs cms0' cms1' count\n",
    "\n",
    "initialMs0 = ConcMachineState (MachineState                 registerMap  0) [] Running\n",
    "initialMs1 = ConcMachineState (MachineState (M.insert 'p' 1 registerMap) 0) [] Running"
   ]
  },
  {
   "cell_type": "code",
   "execution_count": 8,
   "metadata": {},
   "outputs": [
    {
     "data": {
      "text/plain": [
       "7493"
      ]
     },
     "metadata": {},
     "output_type": "display_data"
    }
   ],
   "source": [
    "loop' instrVec initialMs0 initialMs1 0"
   ]
  }
 ],
 "metadata": {
  "kernelspec": {
   "display_name": "Haskell",
   "language": "haskell",
   "name": "haskell"
  },
  "language_info": {
   "codemirror_mode": "ihaskell",
   "file_extension": ".hs",
   "name": "haskell",
   "version": "8.0.2"
  }
 },
 "nbformat": 4,
 "nbformat_minor": 2
}
