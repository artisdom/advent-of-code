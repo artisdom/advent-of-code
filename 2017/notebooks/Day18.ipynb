{
 "cells": [
  {
   "cell_type": "code",
   "execution_count": 1,
   "metadata": {
    "collapsed": true
   },
   "outputs": [],
   "source": [
    "{-# LANGUAGE OverloadedStrings #-}\n",
    "{-# LANGUAGE TemplateHaskell #-}\n",
    "\n",
    "import AdventOfCode\n",
    "import Control.Lens\n",
    "\n",
    "import qualified Data.Attoparsec.ByteString.Char8 as A\n",
    "import qualified Data.Map.Strict as M\n",
    "import qualified Data.Vector as V\n",
    "\n",
    "input <- dayLines 18"
   ]
  },
  {
   "cell_type": "code",
   "execution_count": 2,
   "metadata": {
    "collapsed": true
   },
   "outputs": [],
   "source": [
    "type Reg = Char\n",
    "type ValueReg = Either Int Reg\n",
    "\n",
    "parseReg = A.satisfy A.isAlpha_ascii\n",
    "parseValue = A.signed A.decimal\n",
    "\n",
    "parseValueReg :: A.Parser ValueReg\n",
    "parseValueReg = A.eitherP parseValue parseReg"
   ]
  },
  {
   "cell_type": "code",
   "execution_count": 3,
   "metadata": {
    "collapsed": true
   },
   "outputs": [],
   "source": [
    "data Instr \n",
    "    = Snd ValueReg \n",
    "    | Set Reg ValueReg\n",
    "    | Add Reg ValueReg\n",
    "    | Mul Reg ValueReg\n",
    "    | Mod Reg ValueReg\n",
    "    | Rcv Reg\n",
    "    | Jgz ValueReg ValueReg\n",
    "    deriving (Eq, Show)\n",
    "\n",
    "parseInstr = A.choice\n",
    "    [ Snd <$> (\"snd\" *> pVR)\n",
    "    , Set <$> (\"set\" *> pR)  <*> pVR\n",
    "    , Add <$> (\"add\" *> pR)  <*> pVR\n",
    "    , Mul <$> (\"mul\" *> pR)  <*> pVR\n",
    "    , Mod <$> (\"mod\" *> pR)  <*> pVR\n",
    "    , Rcv <$> (\"rcv\" *> pR)\n",
    "    , Jgz <$> (\"jgz\" *> pVR) <*> pVR\n",
    "    ]\n",
    "    where\n",
    "        pVR = A.space *> parseValueReg\n",
    "        pR  = A.space *> parseReg\n",
    "\n",
    "registerMap = M.fromList $ zip ['a'..'p'] (repeat 0)\n",
    "instrVec    = V.fromList $ map (parsed parseInstr) input"
   ]
  },
  {
   "cell_type": "code",
   "execution_count": 4,
   "metadata": {
    "collapsed": true
   },
   "outputs": [],
   "source": [
    "data MachineState = MachineState\n",
    "    { _registers :: M.Map Char Int\n",
    "    , _counter   :: Int\n",
    "    } deriving (Eq, Show)\n",
    "\n",
    "makeLenses ''MachineState\n",
    "\n",
    "getValueReg :: M.Map Char Int -> ValueReg -> Int\n",
    "getValueReg registers = either id (\\r -> registers ^. at r . non 0)\n",
    "\n",
    "incr = counter +~ 1\n",
    "\n",
    "executeInstr instr ms = case instr of\n",
    "    Snd     vr -> ms & incr\n",
    "    Set reg vr -> ms & incr & registers %~ (\\rs -> rs & at reg ?~       (getValueReg rs vr))\n",
    "    Add reg vr -> ms & incr & registers %~ (\\rs -> rs & ix reg %~     (+(getValueReg rs vr)))\n",
    "    Mul reg vr -> ms & incr & registers %~ (\\rs -> rs & ix reg %~     (*(getValueReg rs vr)))\n",
    "    Mod reg vr -> ms & incr & registers %~ (\\rs -> rs & ix reg %~ (`mod`(getValueReg rs vr)))\n",
    "    Jgz vr vr' -> if getValueReg (ms ^. registers) vr > 0\n",
    "        then ms & counter %~ (+ (getValueReg (ms ^. registers) vr'))\n",
    "        else ms & incr\n",
    "    other -> error $ \"don't know how to execute \" ++ show other"
   ]
  },
  {
   "cell_type": "code",
   "execution_count": 5,
   "metadata": {
    "collapsed": true
   },
   "outputs": [],
   "source": [
    "loop :: V.Vector Instr -> MachineState -> Int -> Int\n",
    "loop instrs ms lastFreq = case instrs ^? ix (ms ^. counter) of\n",
    "    Nothing       -> lastFreq\n",
    "    Just (Snd vr) -> loop instrs (executeInstr (Snd vr) ms) (getValueReg (ms ^. registers) vr)\n",
    "    Just (Rcv r)  -> if (ms ^. registers . at r . non 0) /= 0 then lastFreq else loop instrs (ms & incr) lastFreq\n",
    "    Just curr     -> loop instrs (executeInstr curr ms) lastFreq"
   ]
  },
  {
   "cell_type": "code",
   "execution_count": 6,
   "metadata": {},
   "outputs": [
    {
     "data": {
      "text/plain": [
       "3423"
      ]
     },
     "metadata": {},
     "output_type": "display_data"
    }
   ],
   "source": [
    "loop instrVec (MachineState registerMap 0) 0"
   ]
  },
  {
   "cell_type": "code",
   "execution_count": 7,
   "metadata": {
    "collapsed": true
   },
   "outputs": [],
   "source": [
    "data LockedState = Running | Waiting deriving (Eq, Show)\n",
    "data ConcMachineState = ConcMachineState\n",
    "    { _ms          :: MachineState\n",
    "    , _mailbox     :: [Int]\n",
    "    , _lockedState :: LockedState\n",
    "    }\n",
    "\n",
    "makeLenses ''ConcMachineState\n",
    "\n",
    "send msg cms = cms & mailbox %~ (|> msg)\n",
    "\n",
    "executeInstr' instr cms = case instr of\n",
    "    Rcv reg -> if (cms ^. mailbox) == [] \n",
    "        then cms & lockedState .~ Waiting\n",
    "        else cms \n",
    "                & ms %~ (\\m -> m & incr & registers %~ (at reg ?~ (cms ^. mailbox . to head))) \n",
    "                & mailbox %~ tail \n",
    "                & lockedState .~ Running\n",
    "    _ -> cms & ms %~ (executeInstr instr)\n",
    "\n",
    "loop' :: V.Vector Instr -> ConcMachineState -> ConcMachineState -> Int -> Int\n",
    "loop' instrs cms0 cms1 count\n",
    "    | cms0 ^. lockedState == Waiting && cms1 ^. lockedState == Waiting             = count\n",
    "    | Nothing `elem` map (\\cms -> instrs ^? ix (cms ^. ms . counter)) [cms0, cms1] = count\n",
    "    | Just (Snd vr) <- instrs ^? ix (cms0 ^. ms . counter) = let\n",
    "        value = getValueReg (cms0 ^. ms . registers) vr\n",
    "        cms1' = send value cms1\n",
    "        cms0' = executeInstr' (Snd vr) cms0\n",
    "        in loop' instrs cms0' cms1' count\n",
    "    | Just (Snd vr) <- instrs ^? ix (cms1 ^. ms . counter) = let\n",
    "        value = getValueReg (cms1 ^. ms . registers) vr\n",
    "        cms0' = send value cms0\n",
    "        cms1' = executeInstr' (Snd vr) cms1\n",
    "        in loop' instrs cms0' cms1' (count + 1)\n",
    "    | Just instr0 <- instrs ^? ix (cms0 ^. ms . counter)\n",
    "    , Just instr1 <- instrs ^? ix (cms1 ^. ms . counter) = let\n",
    "        cms0' = executeInstr' instr0 cms0\n",
    "        cms1' = executeInstr' instr1 cms1\n",
    "        in loop' instrs cms0' cms1' count\n",
    "\n",
    "initialMs0 = ConcMachineState (MachineState  registerMap                0) [] Running\n",
    "initialMs1 = ConcMachineState (MachineState (registerMap & at 'p' ?~ 1) 0) [] Running"
   ]
  },
  {
   "cell_type": "code",
   "execution_count": 8,
   "metadata": {},
   "outputs": [
    {
     "data": {
      "text/plain": [
       "7493"
      ]
     },
     "metadata": {},
     "output_type": "display_data"
    }
   ],
   "source": [
    "loop' instrVec initialMs0 initialMs1 0"
   ]
  }
 ],
 "metadata": {
  "kernelspec": {
   "display_name": "Haskell",
   "language": "haskell",
   "name": "haskell"
  },
  "language_info": {
   "codemirror_mode": "ihaskell",
   "file_extension": ".hs",
   "name": "haskell",
   "version": "8.0.2"
  }
 },
 "nbformat": 4,
 "nbformat_minor": 2
}
