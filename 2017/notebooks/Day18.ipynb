{
 "cells": [
  {
   "cell_type": "code",
   "execution_count": 1,
   "metadata": {
    "collapsed": true
   },
   "outputs": [],
   "source": [
    "{-# LANGUAGE OverloadedStrings #-}\n",
    "{-# LANGUAGE RecordWildCards #-}\n",
    "\n",
    "import AdventOfCode\n",
    "\n",
    "import qualified Data.Attoparsec.ByteString.Char8 as A\n",
    "\n",
    "input <- dayLines 18"
   ]
  },
  {
   "cell_type": "code",
   "execution_count": 2,
   "metadata": {
    "collapsed": true
   },
   "outputs": [],
   "source": [
    "type Reg = Char\n",
    "type ValueReg = Either Int Reg\n",
    "\n",
    "parseReg = A.satisfy A.isAlpha_ascii\n",
    "parseValue = A.signed A.decimal\n",
    "\n",
    "parseValueReg :: A.Parser ValueReg\n",
    "parseValueReg = A.eitherP parseValue parseReg"
   ]
  },
  {
   "cell_type": "code",
   "execution_count": 3,
   "metadata": {},
   "outputs": [],
   "source": [
    "import qualified Data.Map.Strict as M\n",
    "import qualified Data.Vector as V\n",
    "\n",
    "data Instr \n",
    "    = Snd ValueReg \n",
    "    | Set Reg ValueReg\n",
    "    | Add Reg ValueReg\n",
    "    | Mul Reg ValueReg\n",
    "    | Mod Reg ValueReg\n",
    "    | Rcv Reg\n",
    "    | Jgz ValueReg ValueReg\n",
    "    deriving (Eq, Show)\n",
    "\n",
    "parseInstr = A.choice\n",
    "    [ Snd <$> (\"snd\" *> A.space *> parseValueReg)\n",
    "    , Set <$> (\"set\" *> A.space *> parseReg) <*> (A.space *> parseValueReg)\n",
    "    , Add <$> (\"add\" *> A.space *> parseReg) <*> (A.space *> parseValueReg)\n",
    "    , Mul <$> (\"mul\" *> A.space *> parseReg) <*> (A.space *> parseValueReg)\n",
    "    , Mod <$> (\"mod\" *> A.space *> parseReg) <*> (A.space *> parseValueReg)\n",
    "    , Rcv <$> (\"rcv\" *> A.space *> parseReg)\n",
    "    , Jgz <$> (\"jgz\" *> A.space *> parseValueReg) <*> (A.space *> parseValueReg)\n",
    "    ]\n",
    "\n",
    "registerMap = M.fromList $ zip ['a'..'p'] (repeat 0)\n",
    "instrVec    = V.fromList $ map (parsed parseInstr) input"
   ]
  },
  {
   "cell_type": "code",
   "execution_count": 4,
   "metadata": {},
   "outputs": [],
   "source": [
    "data MachineState = MachineState\n",
    "    { registers :: M.Map Char Int\n",
    "    , lastFreq  :: Int\n",
    "    , counter   :: Int\n",
    "    } deriving (Eq, Show)\n",
    "\n",
    "getValueReg registers valueReg = case valueReg of\n",
    "    Left v -> v\n",
    "    Right r -> registers M.! r\n",
    "\n",
    "executeInstr instr ms@MachineState{..} = case instr of\n",
    "    Snd vr     -> ms{lastFreq = getValueReg registers vr, counter = counter+1}\n",
    "    Set reg vr -> ms{registers = M.insert reg (getValueReg registers vr) registers, counter = counter+1}\n",
    "    Add reg vr -> ms{registers = M.adjust (+(getValueReg registers vr)) reg registers, counter = counter+1}\n",
    "    Mul reg vr -> ms{registers = M.adjust (*(getValueReg registers vr)) reg registers, counter = counter + 1}\n",
    "    Mod reg vr -> ms{registers = M.adjust (`mod` (getValueReg registers vr)) reg registers, counter = counter + 1}\n",
    "    Rcv reg    -> ms{counter = counter + 1}\n",
    "    Jgz vr vr' -> if (getValueReg registers vr) > 0\n",
    "        then ms{counter = counter + (getValueReg registers vr')}\n",
    "        else ms{counter = counter + 1}"
   ]
  },
  {
   "cell_type": "code",
   "execution_count": 5,
   "metadata": {},
   "outputs": [],
   "source": [
    "loop instrs ms@MachineState{..} | counter > V.length instrs || counter < 0 = ms\n",
    "loop instrs ms@MachineState{..} = case instrs V.! counter of\n",
    "    Rcv r -> if (registers M.! r) /= 0 then ms else loop instrs (executeInstr (Rcv r) ms)\n",
    "    curr  -> loop instrs (executeInstr curr ms)"
   ]
  },
  {
   "cell_type": "code",
   "execution_count": 6,
   "metadata": {},
   "outputs": [
    {
     "data": {
      "text/plain": [
       "3423"
      ]
     },
     "metadata": {},
     "output_type": "display_data"
    }
   ],
   "source": [
    "lastFreq $ loop instrVec $ MachineState registerMap 0 0"
   ]
  },
  {
   "cell_type": "code",
   "execution_count": 7,
   "metadata": {},
   "outputs": [
    {
     "data": {
      "text/plain": [
       "7493"
      ]
     },
     "metadata": {},
     "output_type": "display_data"
    }
   ],
   "source": [
    "send msg ms@ConcMachineState{..} = ms{mailbox = mailbox ++ [msg]} \n",
    "\n",
    "data LockedState = Running | Waiting deriving (Eq, Show)\n",
    "data ConcMachineState = ConcMachineState\n",
    "    { registers   :: M.Map Char Int\n",
    "    , counter     :: Int\n",
    "    , mailbox     :: [Int]\n",
    "    , lockedState :: LockedState\n",
    "    }\n",
    "\n",
    "executeInstr instr ms@ConcMachineState{..} = case instr of\n",
    "    Snd vr     -> ms{counter = counter+1}\n",
    "    Set reg vr -> ms{registers = M.insert reg (getValueReg registers vr) registers, counter = counter+1}\n",
    "    Add reg vr -> ms{registers = M.adjust (+(getValueReg registers vr)) reg registers, counter = counter+1}\n",
    "    Mul reg vr -> ms{registers = M.adjust (*(getValueReg registers vr)) reg registers, counter = counter + 1}\n",
    "    Mod reg vr -> ms{registers = M.adjust (`mod` (getValueReg registers vr)) reg registers, counter = counter + 1}\n",
    "    Rcv reg    -> if mailbox == [] \n",
    "        then ms{lockedState = Waiting}\n",
    "        else let\n",
    "            (msg, mailbox') = (head mailbox, tail mailbox)\n",
    "            registers' = M.insert reg msg registers\n",
    "            in ms{registers = registers', mailbox = mailbox', counter = counter + 1, lockedState = Running}\n",
    "    Jgz vr vr' -> if (getValueReg registers vr) > 0\n",
    "        then ms{counter = counter + (getValueReg registers vr')}\n",
    "        else ms{counter = counter + 1}\n",
    "\n",
    "loop' instrs ms0 ms1 count\n",
    "    | (lockedState ms0) == Waiting && (lockedState ms1) == Waiting = count\n",
    "    | (counter ms0) > V.length instrs || (counter ms0) < 0 = count\n",
    "    | (counter ms1) > V.length instrs || (counter ms1) < 0 = count\n",
    "loop' instrs ms0 ms1 count = let\n",
    "    instr0 = instrs V.! (counter ms0)\n",
    "    instr1 = instrs V.! (counter ms1)\n",
    "    in case instr0 of\n",
    "        Snd vr -> let\n",
    "            value = getValueReg (registers ms0) vr\n",
    "            ms1' = send value ms1\n",
    "            ms0' = executeInstr instr0 ms0\n",
    "            in loop' instrs ms0' ms1' count\n",
    "        _ -> case instr1 of\n",
    "            Snd vr -> let\n",
    "                value = getValueReg (registers ms1) vr\n",
    "                ms0' = send value ms0\n",
    "                ms1' = executeInstr instr1 ms1\n",
    "                in loop' instrs ms0' ms1' (count+1)\n",
    "            _ -> let\n",
    "                ms0' = executeInstr instr0 ms0\n",
    "                ms1' = executeInstr instr1 ms1\n",
    "                in loop' instrs ms0' ms1' count\n",
    "\n",
    "initialMs0 = ConcMachineState                 registerMap  0 [] Running\n",
    "initialMs1 = ConcMachineState (M.insert 'p' 1 registerMap) 0 [] Running\n",
    "\n",
    "loop' instrVec initialMs0 initialMs1 0"
   ]
  }
 ],
 "metadata": {
  "kernelspec": {
   "display_name": "Haskell",
   "language": "haskell",
   "name": "haskell"
  },
  "language_info": {
   "codemirror_mode": "ihaskell",
   "file_extension": ".hs",
   "name": "haskell",
   "version": "8.0.2"
  }
 },
 "nbformat": 4,
 "nbformat_minor": 2
}
