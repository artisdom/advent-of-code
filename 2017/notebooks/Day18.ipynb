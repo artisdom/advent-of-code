{
 "cells": [
  {
   "cell_type": "code",
   "execution_count": 1,
   "metadata": {
    "collapsed": true
   },
   "outputs": [],
   "source": [
    "{-# LANGUAGE OverloadedStrings #-}\n",
    "{-# LANGUAGE RecordWildCards #-}\n",
    "\n",
    "import AdventOfCode\n",
    "\n",
    "import qualified Data.Attoparsec.ByteString.Char8 as A\n",
    "import qualified Data.Map.Strict as M\n",
    "import qualified Data.Vector as V\n",
    "\n",
    "input <- dayLines 18"
   ]
  },
  {
   "cell_type": "code",
   "execution_count": 2,
   "metadata": {
    "collapsed": true
   },
   "outputs": [],
   "source": [
    "type Reg = Char\n",
    "type ValueReg = Either Int Reg\n",
    "\n",
    "parseReg = A.satisfy A.isAlpha_ascii\n",
    "parseValue = A.signed A.decimal\n",
    "\n",
    "parseValueReg :: A.Parser ValueReg\n",
    "parseValueReg = A.eitherP parseValue parseReg"
   ]
  },
  {
   "cell_type": "code",
   "execution_count": 3,
   "metadata": {},
   "outputs": [],
   "source": [
    "data Instr \n",
    "    = Snd ValueReg \n",
    "    | Set Reg ValueReg\n",
    "    | Add Reg ValueReg\n",
    "    | Mul Reg ValueReg\n",
    "    | Mod Reg ValueReg\n",
    "    | Rcv Reg\n",
    "    | Jgz ValueReg ValueReg\n",
    "    deriving (Eq, Show)\n",
    "\n",
    "parseInstr = A.choice\n",
    "    [ Snd <$> (\"snd\" *> A.space *> parseValueReg)\n",
    "    , Set <$> (\"set\" *> A.space *> parseReg)      <*> (A.space *> parseValueReg)\n",
    "    , Add <$> (\"add\" *> A.space *> parseReg)      <*> (A.space *> parseValueReg)\n",
    "    , Mul <$> (\"mul\" *> A.space *> parseReg)      <*> (A.space *> parseValueReg)\n",
    "    , Mod <$> (\"mod\" *> A.space *> parseReg)      <*> (A.space *> parseValueReg)\n",
    "    , Rcv <$> (\"rcv\" *> A.space *> parseReg)\n",
    "    , Jgz <$> (\"jgz\" *> A.space *> parseValueReg) <*> (A.space *> parseValueReg)\n",
    "    ]\n",
    "\n",
    "registerMap = M.fromList $ zip ['a'..'p'] (repeat 0)\n",
    "instrVec    = V.fromList $ map (parsed parseInstr) input"
   ]
  },
  {
   "cell_type": "code",
   "execution_count": 4,
   "metadata": {},
   "outputs": [],
   "source": [
    "data MachineState = MachineState\n",
    "    { registers :: M.Map Char Int\n",
    "    , counter   :: Int\n",
    "    } deriving (Eq, Show)\n",
    "\n",
    "getValueReg registers valueReg = case valueReg of\n",
    "    Left v -> v\n",
    "    Right r -> registers M.! r\n",
    "\n",
    "executeInstr instr ms@MachineState{..} = case instr of\n",
    "    Snd     vr -> ms{counter = counter + 1}\n",
    "    Set reg vr -> ms{registers = M.insert reg    (getValueReg registers vr)      registers, counter = counter + 1}\n",
    "    Add reg vr -> ms{registers = M.adjust      (+(getValueReg registers vr)) reg registers, counter = counter + 1}\n",
    "    Mul reg vr -> ms{registers = M.adjust      (*(getValueReg registers vr)) reg registers, counter = counter + 1}\n",
    "    Mod reg vr -> ms{registers = M.adjust (`mod` (getValueReg registers vr)) reg registers, counter = counter + 1}\n",
    "    Jgz vr vr' -> if (getValueReg registers vr) > 0\n",
    "        then ms{counter = counter + (getValueReg registers vr')}\n",
    "        else ms{counter = counter + 1}\n",
    "    other -> error $ \"don't know how to execute \" ++ show other"
   ]
  },
  {
   "cell_type": "code",
   "execution_count": 5,
   "metadata": {},
   "outputs": [],
   "source": [
    "loop instrs ms@MachineState{..} lastFreq | counter > V.length instrs || counter < 0 = lastFreq\n",
    "loop instrs ms@MachineState{..} lastFreq = case instrs V.! counter of\n",
    "    Snd vr -> loop instrs (executeInstr (Snd vr) ms) (getValueReg registers vr)\n",
    "    Rcv r  -> if (registers M.! r) /= 0 then lastFreq else loop instrs ms{counter = counter + 1} lastFreq\n",
    "    curr   -> loop instrs (executeInstr curr ms) lastFreq"
   ]
  },
  {
   "cell_type": "code",
   "execution_count": 6,
   "metadata": {},
   "outputs": [
    {
     "data": {
      "text/plain": [
       "3423"
      ]
     },
     "metadata": {},
     "output_type": "display_data"
    }
   ],
   "source": [
    "loop instrVec (MachineState registerMap 0) 0"
   ]
  },
  {
   "cell_type": "code",
   "execution_count": 7,
   "metadata": {},
   "outputs": [
    {
     "data": {
      "text/plain": [
       "7493"
      ]
     },
     "metadata": {},
     "output_type": "display_data"
    }
   ],
   "source": [
    "send msg cms@ConcMachineState{..} = cms{mailbox = mailbox ++ [msg]}\n",
    "\n",
    "data LockedState = Running | Waiting deriving (Eq, Show)\n",
    "data ConcMachineState = ConcMachineState\n",
    "    { ms          :: MachineState\n",
    "    , mailbox     :: [Int]\n",
    "    , lockedState :: LockedState\n",
    "    }\n",
    "\n",
    "executeInstr' instr cms@ConcMachineState{..} = case instr of\n",
    "    Rcv reg -> if mailbox == [] \n",
    "        then cms{lockedState = Waiting}\n",
    "        else let\n",
    "            (msg, mailbox') = (head mailbox, tail mailbox)\n",
    "            registers' = M.insert reg msg $ registers ms\n",
    "            in cms{ms = ms{registers = registers', counter = counter ms + 1}, mailbox = mailbox', lockedState = Running}\n",
    "    _ -> cms{ms = executeInstr instr ms}\n",
    "\n",
    "loop' instrs cms0 cms1 count\n",
    "    | (lockedState cms0) == Waiting && (lockedState cms1) == Waiting = count\n",
    "    | (counter $ ms cms0) > V.length instrs || (counter $ ms cms0) < 0 = count\n",
    "    | (counter $ ms cms1) > V.length instrs || (counter $ ms cms1) < 0 = count\n",
    "    | Snd vr <- instrs V.! (counter $ ms cms0) = let\n",
    "        value = getValueReg (registers $ ms cms0) vr\n",
    "        cms1' = send value cms1\n",
    "        cms0' = executeInstr' (Snd vr) cms0\n",
    "        in loop' instrs cms0' cms1' count\n",
    "    | Snd vr <- instrs V.! (counter $ ms cms1) = let\n",
    "        value = getValueReg (registers $ ms cms1) vr\n",
    "        cms0' = send value cms0\n",
    "        cms1' = executeInstr' (Snd vr) cms1\n",
    "        in loop' instrs cms0' cms1' (count + 1)\n",
    "    | otherwise = let\n",
    "        instr0 = instrs V.! (counter $ ms cms0)\n",
    "        instr1 = instrs V.! (counter $ ms cms1)\n",
    "        cms0' = executeInstr' instr0 cms0\n",
    "        cms1' = executeInstr' instr1 cms1\n",
    "        in loop' instrs cms0' cms1' count\n",
    "\n",
    "initialMs0 = ConcMachineState (MachineState                 registerMap  0) [] Running\n",
    "initialMs1 = ConcMachineState (MachineState (M.insert 'p' 1 registerMap) 0) [] Running\n",
    "\n",
    "loop' instrVec initialMs0 initialMs1 0"
   ]
  }
 ],
 "metadata": {
  "kernelspec": {
   "display_name": "Haskell",
   "language": "haskell",
   "name": "haskell"
  },
  "language_info": {
   "codemirror_mode": "ihaskell",
   "file_extension": ".hs",
   "name": "haskell",
   "version": "8.0.2"
  }
 },
 "nbformat": 4,
 "nbformat_minor": 2
}
