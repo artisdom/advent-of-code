{
 "cells": [
  {
   "cell_type": "code",
   "execution_count": 1,
   "metadata": {
    "collapsed": true
   },
   "outputs": [],
   "source": [
    "import AdventOfCode\n",
    "\n",
    "import qualified Data.Vector as V\n",
    "import Data.Maybe (fromJust)\n",
    "\n",
    "input <- V.map V.fromList . V.fromList <$> dayLinesString 19"
   ]
  },
  {
   "cell_type": "code",
   "execution_count": 2,
   "metadata": {},
   "outputs": [],
   "source": [
    "data Heading = U | D | L | R deriving (Eq, Show)\n",
    "\n",
    "step (x,y) heading = case heading of\n",
    "    U -> (x, y-1)\n",
    "    D -> (x, y+1)\n",
    "    L -> (x-1, y)\n",
    "    R -> (x+1, y)\n",
    "\n",
    "back coord heading = step coord $ case heading of\n",
    "    U -> D\n",
    "    D -> U\n",
    "    L -> R\n",
    "    R -> L\n",
    "\n",
    "getPos grid (x,y) = (grid V.! y) V.! x\n",
    "\n",
    "turn grid coord heading\n",
    "    | heading `elem` [U,D] = head\n",
    "        [ h\n",
    "        | (h,c) <- [(L, getPos grid (step coord L)), (R, getPos grid (step coord R))]\n",
    "        , c == '-'\n",
    "        ]\n",
    "    | heading `elem` [L,R] = head\n",
    "        [ h \n",
    "        | (h,c) <- [(U, getPos grid (step coord U)), (D, getPos grid (step coord D))]\n",
    "        , c == '|'\n",
    "        ]\n",
    "\n",
    "move grid coord heading chars steps = case getPos grid coord of\n",
    "    c | c `elem` ['A'..'Z'] -> move grid (step coord heading) heading (c:chars) (steps+1)\n",
    "    ' ' -> (reverse chars, steps)\n",
    "    '+' -> let\n",
    "        heading' = turn grid coord heading\n",
    "        in move grid (step coord heading') heading' chars (steps+1)\n",
    "    _   -> move grid (step coord heading) heading chars (steps+1)"
   ]
  },
  {
   "cell_type": "code",
   "execution_count": 3,
   "metadata": {},
   "outputs": [
    {
     "data": {
      "text/plain": [
       "(\"GPALMJSOY\",16204)"
      ]
     },
     "metadata": {},
     "output_type": "display_data"
    }
   ],
   "source": [
    "start = (fromJust $ V.elemIndex '|' $ V.head input, 0)\n",
    "\n",
    "move input start D [] 0"
   ]
  }
 ],
 "metadata": {
  "kernelspec": {
   "display_name": "Haskell",
   "language": "haskell",
   "name": "haskell"
  },
  "language_info": {
   "codemirror_mode": "ihaskell",
   "file_extension": ".hs",
   "name": "haskell",
   "version": "8.0.2"
  }
 },
 "nbformat": 4,
 "nbformat_minor": 2
}
