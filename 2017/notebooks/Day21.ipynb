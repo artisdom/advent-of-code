{
 "cells": [
  {
   "cell_type": "code",
   "execution_count": 1,
   "metadata": {
    "collapsed": true
   },
   "outputs": [],
   "source": [
    "import AdventOfCode\n",
    "import Data.Maybe (fromJust)\n",
    "\n",
    "import Data.List.Split\n",
    "import qualified Data.Map.Strict as M\n",
    "import Data.List\n",
    "import Data.Monoid\n",
    "\n",
    "input <- dayLinesString 21"
   ]
  },
  {
   "cell_type": "code",
   "execution_count": 2,
   "metadata": {
    "collapsed": true
   },
   "outputs": [],
   "source": [
    "rule line = let [k,v] = splitOn \" => \" line in (splitOn \"/\" k, splitOn \"/\" v)\n",
    "\n",
    "rules = M.fromList $ map rule input\n",
    "\n",
    "seed = [\".#.\",\"..#\",\"###\"]"
   ]
  },
  {
   "cell_type": "code",
   "execution_count": 3,
   "metadata": {},
   "outputs": [],
   "source": [
    "rotr = transpose . reverse\n",
    "flip = reverse\n",
    "\n",
    "possible square = let rots = (take 4 (iterate rotr square)) in rots ++ (map flip rots)\n",
    "\n",
    "matching\n",
    "    = fromJust\n",
    "    . getFirst\n",
    "    . mconcat\n",
    "    . map (\\s -> First (M.lookup s rules))\n",
    "    . possible"
   ]
  },
  {
   "cell_type": "code",
   "execution_count": 4,
   "metadata": {},
   "outputs": [
    {
     "data": {
      "text/plain": [
       "179"
      ]
     },
     "metadata": {},
     "output_type": "display_data"
    },
    {
     "data": {
      "text/plain": [
       "2766750"
      ]
     },
     "metadata": {},
     "output_type": "display_data"
    }
   ],
   "source": [
    "-- Stolen from glguy: https://github.com/glguy/advent2017/blob/f4fd8f75a8dcbbfa031156228d03cc48c68c0337/execs/Day21.hs#L46-L53\n",
    "-- | Apply a function to all of the subsquares of a grid.\n",
    "mapSubSquares :: [[Char]] -> [[Char]]\n",
    "mapSubSquares xs =\n",
    "  concatMap (map concat . transpose . map matching . transpose . map (chunksOf n)) $ chunksOf n xs\n",
    "  where\n",
    "    n | even (length xs) = 2\n",
    "      | otherwise        = 3\n",
    "      \n",
    "solution = iterate mapSubSquares seed\n",
    "\n",
    "length . filter (=='#') . concat $ solution !! 5\n",
    "length . filter (=='#') . concat $ solution !! 18"
   ]
  }
 ],
 "metadata": {
  "kernelspec": {
   "display_name": "Haskell",
   "language": "haskell",
   "name": "haskell"
  },
  "language_info": {
   "codemirror_mode": "ihaskell",
   "file_extension": ".hs",
   "name": "haskell",
   "version": "8.0.2"
  }
 },
 "nbformat": 4,
 "nbformat_minor": 2
}
