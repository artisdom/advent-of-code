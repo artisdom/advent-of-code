{
 "cells": [
  {
   "cell_type": "code",
   "execution_count": 1,
   "metadata": {
    "collapsed": true
   },
   "outputs": [],
   "source": [
    "import AdventOfCode\n",
    "\n",
    "input <- dayLinesString 21"
   ]
  },
  {
   "cell_type": "code",
   "execution_count": 52,
   "metadata": {},
   "outputs": [],
   "source": [
    "import Data.List.Split\n",
    "import qualified Data.Map.Strict as M\n",
    "import Data.List\n",
    "import Data.Monoid\n",
    "import Control.Applicative\n",
    "import Data.Foldable\n",
    "\n",
    "toKey   = intercalate \"/\"\n",
    "fromKey = splitOn     \"/\"\n",
    "\n",
    "rule line = let [k,v] = splitOn \" => \" line in (splitOn \"/\" k, splitOn \"/\" v)\n",
    "\n",
    "rules = M.fromList $ map rule input\n",
    "\n",
    "seed = [\".#.\",\"..#\",\"###\"]"
   ]
  },
  {
   "cell_type": "code",
   "execution_count": 33,
   "metadata": {},
   "outputs": [
    {
     "data": {
      "text/plain": [
       "186"
      ]
     },
     "metadata": {},
     "output_type": "display_data"
    }
   ],
   "source": [
    "import Data.Maybe (fromJust)\n",
    "import Data.Function ((&))\n",
    "\n",
    "rotr = transpose . reverse\n",
    "flip = reverse\n",
    "\n",
    "possible square = let rots = (take 4 (iterate rotr square)) in rots ++ (map flip rots)\n",
    "\n",
    "matching\n",
    "    = fromJust\n",
    "    . getFirst\n",
    "    . mconcat\n",
    "    . map (\\s -> First (M.lookup s rules))\n",
    "    . possible\n",
    "\n",
    "splitTwos' []  acc = acc\n",
    "splitTwos' lls acc = let\n",
    "   two  = take 2 lls\n",
    "   lls' = drop 2 lls\n",
    "   [x,y] = map (chunksOf 2) two\n",
    "   chunked = zipWith (\\a b -> [a,b]) x y\n",
    "   in splitTwos' lls' (acc ++ chunked)\n",
    "\n",
    "splitTwos ls = splitTwos' ls []\n",
    "\n",
    "splitThrees' []  acc = acc\n",
    "splitThrees' lls acc = let\n",
    "    three   = take 3 lls\n",
    "    lls'    = drop 3 lls\n",
    "    [x,y,z] = map (chunksOf 3) three\n",
    "    chunked = zipWith3 (\\a b c -> [a,b,c]) x y z\n",
    "    in splitThrees' lls' (acc ++ chunked)\n",
    "\n",
    "splitThrees ls = splitThrees' ls []\n",
    "\n",
    "reconstruct string = let\n",
    "    n = fromIntegral $ floor $ sqrt $ fromIntegral $  length string\n",
    "    in divvy n n string\n",
    "\n",
    "divide string = let n = length string in if n `mod` 2 == 0\n",
    "    then splitTwos   (reconstruct string) \n",
    "    else splitThrees (reconstruct string)\n",
    "\n",
    "length $ filter (=='#') $ last $ take 5 $ iterate (concatMap matching . divide) $ matching seed"
   ]
  },
  {
   "cell_type": "code",
   "execution_count": 54,
   "metadata": {},
   "outputs": [
    {
     "data": {
      "text/plain": [
       "[\"#..#\",\"....\",\"....\",\"#..#\"]"
      ]
     },
     "metadata": {},
     "output_type": "display_data"
    }
   ],
   "source": [
    "matching' rs \n",
    "    = fromJust\n",
    "    . getFirst\n",
    "    . mconcat\n",
    "    . map (\\s -> First (M.lookup s rs))\n",
    "    . possible\n",
    "\n",
    "example =\n",
    "    [ \"../.# => ##./#../...\"\n",
    "    , \".#./..#/### => #..#/..../..../#..#\"\n",
    "    ]\n",
    "\n",
    "rules' = M.fromList $ map rule example\n",
    "\n",
    "matching' rules' seed"
   ]
  },
  {
   "cell_type": "code",
   "execution_count": 39,
   "metadata": {
    "collapsed": true
   },
   "outputs": [],
   "source": [
    "evenDiv2 square = square `mod` 2 == 0\n",
    "evenDiv3 square = square `mod` 3 == 0"
   ]
  },
  {
   "cell_type": "code",
   "execution_count": null,
   "metadata": {
    "collapsed": true
   },
   "outputs": [],
   "source": []
  }
 ],
 "metadata": {
  "kernelspec": {
   "display_name": "Haskell",
   "language": "haskell",
   "name": "haskell"
  },
  "language_info": {
   "codemirror_mode": "ihaskell",
   "file_extension": ".hs",
   "name": "haskell",
   "version": "8.0.2"
  }
 },
 "nbformat": 4,
 "nbformat_minor": 2
}
