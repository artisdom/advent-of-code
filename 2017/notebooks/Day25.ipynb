{
 "cells": [
  {
   "cell_type": "code",
   "execution_count": 1,
   "metadata": {
    "collapsed": true
   },
   "outputs": [],
   "source": [
    "{-# LANGUAGE BangPatterns #-}\n",
    "\n",
    "import AdventOfCode\n",
    "\n",
    "input <- dayString 25"
   ]
  },
  {
   "cell_type": "code",
   "execution_count": 2,
   "metadata": {},
   "outputs": [],
   "source": [
    "data Tape a = Tape\n",
    "    { tapeLeft    :: [a]\n",
    "    , tapeCurrent :: a\n",
    "    , tapeRight   :: [a]\n",
    "    }\n",
    "\n",
    "moveLeft  (Tape (x:xs) c r) = Tape xs    x (c:r)\n",
    "moveRight (Tape l c (x:xs)) = Tape (c:l) x xs\n",
    "update tape value = tape {tapeCurrent = value}\n",
    "\n",
    "infiniteTape = Tape (repeat False) False (repeat False)"
   ]
  },
  {
   "cell_type": "code",
   "execution_count": 3,
   "metadata": {},
   "outputs": [
    {
     "data": {
      "text/plain": [
       "3732"
      ]
     },
     "metadata": {},
     "output_type": "display_data"
    }
   ],
   "source": [
    "data State = A | B | C | D | E | F\n",
    "\n",
    "transition tape state checksum = case state of\n",
    "    A -> case tapeCurrent tape of\n",
    "        False -> (moveRight $ update tape True,  B, checksum+1)\n",
    "        True  -> (moveLeft  $ update tape False, B, checksum-1)\n",
    "    B -> case tapeCurrent tape of\n",
    "        False -> (moveRight $ update tape False, C, checksum)\n",
    "        True  -> (moveLeft  $ update tape True,  B, checksum)\n",
    "    C -> case tapeCurrent tape of\n",
    "        False -> (moveRight $ update tape True,  D, checksum+1)\n",
    "        True  -> (moveLeft  $ update tape False, A, checksum-1)\n",
    "    D -> case tapeCurrent tape of\n",
    "        False -> (moveLeft  $ update tape True,  E, checksum+1)\n",
    "        True  -> (moveLeft  $ update tape True,  F, checksum)\n",
    "    E -> case tapeCurrent tape of\n",
    "        False -> (moveLeft  $ update tape True,  A, checksum+1)\n",
    "        True  -> (moveLeft  $ update tape False, D, checksum-1)\n",
    "    F -> case tapeCurrent tape of\n",
    "        False -> (moveRight $ update tape True,  A, checksum+1)\n",
    "        True  -> (moveLeft  $ update tape True,  E, checksum)\n",
    "\n",
    "\n",
    "loop tape state !checksum 0  = checksum\n",
    "loop tape state !checksum !n = let\n",
    "    (tape', state', checksum') = transition tape state checksum\n",
    "    in loop tape' state' checksum' (n-1)\n",
    "\n",
    "loop infiniteTape A 0 12586542"
   ]
  }
 ],
 "metadata": {
  "kernelspec": {
   "display_name": "Haskell",
   "language": "haskell",
   "name": "haskell"
  },
  "language_info": {
   "codemirror_mode": "ihaskell",
   "file_extension": ".hs",
   "name": "haskell",
   "version": "8.0.2"
  }
 },
 "nbformat": 4,
 "nbformat_minor": 2
}
