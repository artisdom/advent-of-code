{
 "cells": [
  {
   "cell_type": "code",
   "execution_count": 1,
   "metadata": {
    "collapsed": true
   },
   "outputs": [],
   "source": [
    "import AdventOfCode\n",
    "import Data.List (group)\n",
    "\n",
    "input <- dayString 1"
   ]
  },
  {
   "cell_type": "code",
   "execution_count": 2,
   "metadata": {},
   "outputs": [
    {
     "data": {
      "text/plain": [
       "1034"
      ]
     },
     "metadata": {},
     "output_type": "display_data"
    }
   ],
   "source": [
    "candidates = filter (\\x -> length x > 1) $ group input ++ [\"44\"]\n",
    "\n",
    "each = map (\\s -> (readInt [head s]) * (length s - 1)) candidates\n",
    "sum each"
   ]
  },
  {
   "cell_type": "code",
   "execution_count": 3,
   "metadata": {},
   "outputs": [
    {
     "data": {
      "text/plain": [
       "1356"
      ]
     },
     "metadata": {},
     "output_type": "display_data"
    }
   ],
   "source": [
    "pairs inp = zip inp (drop (length inp `div` 2) inp ++ take (length inp `div` 2) inp)\n",
    "\n",
    "sum . map ((\\c -> readInt [c]) . fst) . filter (uncurry (==)) $ pairs input"
   ]
  }
 ],
 "metadata": {
  "kernelspec": {
   "display_name": "Haskell",
   "language": "haskell",
   "name": "haskell"
  },
  "language_info": {
   "codemirror_mode": "ihaskell",
   "file_extension": ".hs",
   "name": "haskell",
   "version": "8.0.2"
  }
 },
 "nbformat": 4,
 "nbformat_minor": 2
}
