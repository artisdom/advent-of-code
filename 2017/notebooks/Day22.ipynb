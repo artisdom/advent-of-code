{
 "cells": [
  {
   "cell_type": "code",
   "execution_count": 1,
   "metadata": {
    "collapsed": true
   },
   "outputs": [],
   "source": [
    "{-# LANGUAGE BangPatterns #-}\n",
    "import AdventOfCode\n",
    "\n",
    "import qualified Data.Vector as V\n",
    "import qualified Data.Map.Strict as M\n",
    "\n",
    "input <- dayLinesString 22"
   ]
  },
  {
   "cell_type": "code",
   "execution_count": 2,
   "metadata": {},
   "outputs": [],
   "source": [
    "let len = length input `div` 2\n",
    "withIndex = zip (map (\\l -> zip l $ map (subtract len) [0..]) input) $ map (len+) [0,-1..]\n",
    "\n",
    "grid = M.fromList [((x,y),c) | (l,y) <- withIndex, (c, x) <- l]\n",
    "-- withIndex"
   ]
  },
  {
   "cell_type": "code",
   "execution_count": 3,
   "metadata": {},
   "outputs": [
    {
     "data": {
      "text/plain": [
       "5182"
      ]
     },
     "metadata": {},
     "output_type": "display_data"
    }
   ],
   "source": [
    "data Direction = U | D | L | R deriving (Eq, Show)\n",
    "data Turn = Lft | Rgt deriving (Eq, Show)\n",
    "\n",
    "forward d (x,y) = case d of\n",
    "    U -> (x,y+1)\n",
    "    D -> (x,y-1)\n",
    "    L -> (x-1,y)\n",
    "    R -> (x+1,y)\n",
    "\n",
    "turn t d = case t of\n",
    "    Lft -> case d of\n",
    "        U -> L\n",
    "        L -> D\n",
    "        D -> R\n",
    "        R -> U\n",
    "    Rgt -> case d of\n",
    "        U -> R\n",
    "        R -> D\n",
    "        D -> L\n",
    "        L -> U\n",
    "\n",
    "burst gr coord direction count = case M.findWithDefault '.' coord gr of\n",
    "   '.' -> let\n",
    "       direction' = turn Lft direction\n",
    "       gr' = M.insert coord '#' gr\n",
    "       count' = count + 1\n",
    "       coord' = forward direction' coord\n",
    "       in (gr', coord', direction', count')\n",
    "   '#' -> let\n",
    "       direction' = turn Rgt direction\n",
    "       gr' = M.insert coord '.' gr\n",
    "       coord' = forward direction' coord\n",
    "       in (gr', coord', direction', count)\n",
    "\n",
    "loop gr coord direction count 0 = count\n",
    "loop gr coord direction count n = let\n",
    "    (gr', coord', direction', count') = burst gr coord direction count\n",
    "    in loop gr' coord' direction' count' (n-1)\n",
    "\n",
    "loop grid (0,0) U 0 10000"
   ]
  },
  {
   "cell_type": "code",
   "execution_count": 4,
   "metadata": {},
   "outputs": [
    {
     "data": {
      "text/plain": [
       "2512008"
      ]
     },
     "metadata": {},
     "output_type": "display_data"
    }
   ],
   "source": [
    "rev d = case d of\n",
    "    U -> D\n",
    "    L -> R\n",
    "    D -> U\n",
    "    R -> L\n",
    "\n",
    "burst' gr coord direction count = case M.findWithDefault '.' coord gr of\n",
    "    '.' -> let\n",
    "        direction' = turn Lft direction\n",
    "        gr' = M.insert coord 'W' gr\n",
    "        coord' = forward direction' coord\n",
    "        in (gr', coord', direction', count)\n",
    "    '#' -> let\n",
    "        direction' = turn Rgt direction\n",
    "        gr' = M.insert coord 'F' gr\n",
    "        coord' = forward direction' coord\n",
    "        in (gr', coord', direction', count)\n",
    "    'W' -> let\n",
    "        gr' = M.insert coord '#' gr\n",
    "        coord' = forward direction coord\n",
    "        in (gr', coord', direction, count+1)\n",
    "    'F' -> let\n",
    "        gr' = M.insert coord '.' gr\n",
    "        direction' = rev direction\n",
    "        coord' = forward direction' coord\n",
    "        in (gr', coord', direction', count)\n",
    "\n",
    "loop' !gr !coord !direction !count 0 = count\n",
    "loop' !gr !coord !direction !count !n = let\n",
    "    (gr', coord', direction', count') = burst' gr coord direction count\n",
    "    in loop' gr' coord' direction' count' (n-1)\n",
    "\n",
    "loop' grid (0,0) U 0 10000000"
   ]
  }
 ],
 "metadata": {
  "kernelspec": {
   "display_name": "Haskell",
   "language": "haskell",
   "name": "haskell"
  },
  "language_info": {
   "codemirror_mode": "ihaskell",
   "file_extension": ".hs",
   "name": "haskell",
   "version": "8.0.2"
  }
 },
 "nbformat": 4,
 "nbformat_minor": 2
}
