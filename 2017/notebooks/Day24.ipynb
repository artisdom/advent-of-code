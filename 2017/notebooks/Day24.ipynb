{
 "cells": [
  {
   "cell_type": "code",
   "execution_count": 1,
   "metadata": {
    "collapsed": true
   },
   "outputs": [],
   "source": [
    "import AdventOfCode\n",
    "import Data.List\n",
    "\n",
    "import qualified Data.Set as S\n",
    "import qualified Data.Attoparsec.ByteString.Char8 as A\n",
    "\n",
    "input <- dayLines 24"
   ]
  },
  {
   "cell_type": "code",
   "execution_count": 2,
   "metadata": {},
   "outputs": [],
   "source": [
    "parseLine = do\n",
    "   a <- A.decimal\n",
    "   A.char '/'\n",
    "   b <- A.decimal\n",
    "   return (a,b)\n",
    "\n",
    "ports = map (parsed parseLine) input\n",
    "\n",
    "starting = [p | p <- ports, fst p == 0 || snd p == 0]"
   ]
  },
  {
   "cell_type": "code",
   "execution_count": 3,
   "metadata": {},
   "outputs": [
    {
     "data": {
      "text/plain": [
       "1940"
      ]
     },
     "metadata": {},
     "output_type": "display_data"
    }
   ],
   "source": [
    "swap (x,y) = (y,x)\n",
    "\n",
    "portsSet = S.fromList ports\n",
    "\n",
    "visit :: S.Set (Int,Int) -> (Int, Int) -> Int\n",
    "visit ps p@(x,y) = let\n",
    "    ps' = S.delete p $ S.delete (swap p) ps\n",
    "    cs  = S.fromList [p' | p <- S.toList ps', fst p == y || snd p == y, let p' = if fst p == y then p else swap p]\n",
    "    mx  = if S.null cs then 0 else S.findMax $ S.map (visit ps') cs\n",
    "    in (mx + (x+y))\n",
    "\n",
    "maximum $ map (visit portsSet) starting"
   ]
  },
  {
   "cell_type": "code",
   "execution_count": 4,
   "metadata": {},
   "outputs": [
    {
     "data": {
      "text/plain": [
       "1928"
      ]
     },
     "metadata": {},
     "output_type": "display_data"
    }
   ],
   "source": [
    "maxL = maximumBy cmp\n",
    "    where cmp (s,l) (s',l') = if l==l' then compare s s' else compare l l'\n",
    "\n",
    "visit' :: Int -> [(Int,Int)] -> (Int, Int) -> (Int, Int)\n",
    "visit' c ps p@(x,y) = let\n",
    "    ps'   = delete p $ delete (swap p) ps\n",
    "    cs    = [p' | p <- ps', fst p == y || snd p == y, let p' = if fst p == y then p else swap p]\n",
    "    (s,l) = if null cs then (0,c) else maxL $ map (visit' (c+1) ps') cs\n",
    "    in (s+x+y,l)\n",
    "\n",
    "fst . maxL $ map (visit' 0 ports) starting"
   ]
  }
 ],
 "metadata": {
  "kernelspec": {
   "display_name": "Haskell",
   "language": "haskell",
   "name": "haskell"
  },
  "language_info": {
   "codemirror_mode": "ihaskell",
   "file_extension": ".hs",
   "name": "haskell",
   "version": "8.0.2"
  }
 },
 "nbformat": 4,
 "nbformat_minor": 2
}
