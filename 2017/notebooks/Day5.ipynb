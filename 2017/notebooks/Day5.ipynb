{
 "cells": [
  {
   "cell_type": "code",
   "execution_count": 1,
   "metadata": {},
   "outputs": [],
   "source": [
    "module Day5 where\n",
    "\n",
    "import qualified Data.Map.Strict as M\n",
    "\n",
    "step f instrs pointer acc = let\n",
    "    curr = instrs M.! pointer\n",
    "    pointer' = pointer + curr\n",
    "    instrs' = M.adjust f pointer instrs\n",
    "    acc' = acc + 1\n",
    "    in (instrs', pointer', acc')\n",
    "\n",
    "loop s i p a = let (i', p', a') = s i p a\n",
    "    in if p' >= M.size i \n",
    "        then (i', p', a') \n",
    "        else loop s i' p' a'"
   ]
  },
  {
   "cell_type": "code",
   "execution_count": 2,
   "metadata": {},
   "outputs": [
    {
     "data": {
      "text/plain": [
       "376976"
      ]
     },
     "metadata": {},
     "output_type": "display_data"
    },
    {
     "data": {
      "text/plain": [
       "29227751"
      ]
     },
     "metadata": {},
     "output_type": "display_data"
    }
   ],
   "source": [
    "import AdventOfCode\n",
    "import qualified Data.Map.Strict as M\n",
    "\n",
    "input <- map readInt <$> dayLinesString 5\n",
    "\n",
    "instrs = M.fromList $ zip [0..] input\n",
    "\n",
    "(i, p, a) = loop (step (+1)) instrs 0 0\n",
    "a\n",
    "\n",
    "(i', p', a') = loop (step (\\val -> if val >= 3 then val-1 else val+1)) instrs 0 0\n",
    "a'"
   ]
  }
 ],
 "metadata": {
  "kernelspec": {
   "display_name": "Haskell",
   "language": "haskell",
   "name": "haskell"
  },
  "language_info": {
   "codemirror_mode": "ihaskell",
   "file_extension": ".hs",
   "name": "haskell",
   "version": "8.0.2"
  }
 },
 "nbformat": 4,
 "nbformat_minor": 2
}
