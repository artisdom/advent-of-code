{
 "cells": [
  {
   "cell_type": "code",
   "execution_count": 1,
   "metadata": {},
   "outputs": [],
   "source": [
    "import qualified Data.Vector.Unboxed as V\n",
    "import qualified Data.Vector.Unboxed.Mutable as M\n",
    "import Control.Monad.ST\n",
    "\n",
    "step \n",
    "    :: (Int -> Int)\n",
    "    -> M.STVector s Int\n",
    "    -> Int\n",
    "    -> Int\n",
    "    -> ST s (M.STVector s Int, Int, Int)\n",
    "step f instrs pointer acc = do\n",
    "    curr <- M.read instrs pointer\n",
    "    let pointer' = pointer + curr\n",
    "    M.write instrs pointer (f curr)\n",
    "    let acc' = acc + 1\n",
    "    return (instrs, pointer', acc')\n",
    "\n",
    "loop \n",
    "    :: (M.STVector s Int -> Int -> Int -> ST s (M.STVector s Int, Int, Int))\n",
    "    -> M.STVector s Int\n",
    "    -> Int\n",
    "    -> Int\n",
    "    -> ST s Int\n",
    "loop s i p a = do\n",
    "    (i', p', a') <- s i p a\n",
    "    if p' >= M.length i \n",
    "        then return a' \n",
    "        else loop s i' p' a'"
   ]
  },
  {
   "cell_type": "code",
   "execution_count": 2,
   "metadata": {},
   "outputs": [
    {
     "data": {
      "text/plain": [
       "376976"
      ]
     },
     "metadata": {},
     "output_type": "display_data"
    },
    {
     "data": {
      "text/plain": [
       "29227751"
      ]
     },
     "metadata": {},
     "output_type": "display_data"
    }
   ],
   "source": [
    "import AdventOfCode\n",
    "\n",
    "input <- map readInt <$> dayLinesString 5\n",
    "\n",
    "instrs = V.fromList input\n",
    "\n",
    "part1 = runST $ do\n",
    "    mut <- V.thaw instrs\n",
    "    loop (step (+1)) mut 0 0\n",
    "print part1\n",
    "\n",
    "part2 = runST $ do\n",
    "    mut <- V.thaw instrs\n",
    "    loop (step (\\value -> if value >= 3 then value-1 else value+1)) mut 0 0\n",
    "print part2"
   ]
  }
 ],
 "metadata": {
  "kernelspec": {
   "display_name": "Haskell",
   "language": "haskell",
   "name": "haskell"
  },
  "language_info": {
   "codemirror_mode": "ihaskell",
   "file_extension": ".hs",
   "name": "haskell",
   "version": "8.0.2"
  }
 },
 "nbformat": 4,
 "nbformat_minor": 2
}
