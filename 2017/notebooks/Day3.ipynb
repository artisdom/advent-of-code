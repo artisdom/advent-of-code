{
 "cells": [
  {
   "cell_type": "code",
   "execution_count": 5,
   "metadata": {
    "collapsed": true
   },
   "outputs": [],
   "source": [
    "import AdventOfCode\n",
    "\n",
    "input <- readInt <$> dayString 3"
   ]
  },
  {
   "cell_type": "code",
   "execution_count": 73,
   "metadata": {},
   "outputs": [
    {
     "data": {
      "text/plain": [
       "438"
      ]
     },
     "metadata": {},
     "output_type": "display_data"
    }
   ],
   "source": [
    "-- The downward right diagonal goes 1, 9, 25, 49, ..., i.e map (^2) [1,3,5,...]\n",
    "diagonals = takeWhile (<input) (map (^2) [1,3..])\n",
    "\n",
    "-- The closest square before the input\n",
    "square = last diagonals\n",
    "\n",
    "squareRt = floor $ sqrt $ fromIntegral square\n",
    "\n",
    "-- The difference between the next diagonal and the input\n",
    "diff = (squareRt + 2)^2 - input\n",
    "\n",
    "-- Manhattan distance is 2*length diagonals for diagonals, minus the difference\n",
    "(length diagonals * 2)-diff"
   ]
  },
  {
   "cell_type": "code",
   "execution_count": 67,
   "metadata": {},
   "outputs": [],
   "source": [
    "import Data.Function.Memoize\n",
    "\n",
    "genDRDiagonal = memoize $ \\n -> (^2) .head $ drop n [1,3..]\n",
    "genURDiagonal n = let\n",
    "    drDiagonal = genDRDiagonal n\n",
    "    s = floor . sqrt $ fromIntegral drDiagonal\n",
    "    in drDiagonal - ((s-1)*3)\n",
    "genULDiagonal n = let\n",
    "    drDiagonal = genDRDiagonal n\n",
    "    s = floor . sqrt $ fromIntegral drDiagonal\n",
    "    in drDiagonal - ((s-1)*2)\n",
    "genDLDiagonal n = let\n",
    "    drDiagonal = genDRDiagonal n\n",
    "    s = floor . sqrt $ fromIntegral drDiagonal\n",
    "    in drDiagonal - (s-1)\n",
    "    \n",
    "genPos (x,y) = case (x>=0, y>=0) of\n",
    "    (True, True)  -> case cmp x y of\n",
    "        LT -> genURDiagonal y + (y-x)\n",
    "        EQ -> genURDiagonal x\n",
    "        GT -> genURDiagonal x - (x-y)\n",
    "    (True, False) -> case cmp x y of\n",
    "        LT -> genDRDiagonal (abs y) - (abs y - x)\n",
    "        EQ -> genDRDiagonal x\n",
    "        GT -> genDRDiagonal (x-1) + (x - abs y)\n",
    "    (False, True) -> case cmp x y of\n",
    "        LT -> genULDiagonal (abs y) - (abs y - abs x)\n",
    "        EQ -> genULDiagonal (abs x)\n",
    "        GT -> genULDiagonal (abs x) + (abs x - abs y)\n",
    "    (False, False) -> case cmp x y of\n",
    "        LT -> genDLDiagonal (abs y) + (abs y - abs x)\n",
    "        EQ -> genDLDiagonal (abs x)\n",
    "        GT -> genDLDiagonal (abs x) - (abs x - abs y)\n",
    "    where cmp x y = compare (abs x) (abs y)"
   ]
  },
  {
   "cell_type": "code",
   "execution_count": 130,
   "metadata": {},
   "outputs": [
    {
     "data": {
      "text/plain": [
       "438"
      ]
     },
     "metadata": {},
     "output_type": "display_data"
    }
   ],
   "source": [
    "getPos n = let\n",
    "    diagonals = takeWhile (<n) $ map (^2) [1,3..]\n",
    "    pos = length diagonals\n",
    "    dr = genDRDiagonal pos\n",
    "    dl = genDLDiagonal pos\n",
    "    ur = genURDiagonal pos\n",
    "    ul = genULDiagonal pos\n",
    "    in case () of\n",
    "    _ | n == dr           -> (pos, -pos)\n",
    "      | n < dr && n >= dl -> (-pos + (n - dl), -pos)\n",
    "      | n < dl && n >= ul -> (-pos, pos - (n - ul))\n",
    "      | n < ul && n >= ur -> (pos - (n - ur), pos)\n",
    "      | n < ur            -> (pos, pos - (ur - n))\n",
    "    \n",
    "\n",
    "-- Solve for difference in this way.\n",
    "(x,y) = getPos input\n",
    "abs x + abs y"
   ]
  },
  {
   "cell_type": "code",
   "execution_count": 131,
   "metadata": {},
   "outputs": [
    {
     "data": {
      "text/plain": [
       "266330"
      ]
     },
     "metadata": {},
     "output_type": "display_data"
    }
   ],
   "source": [
    "import qualified Data.Map.Strict as M\n",
    "\n",
    "-- nextPos\n",
    "\n",
    "neighbours (x, y) =\n",
    "    [ (x-1, y-1), (x, y-1), (x+1, y-1)\n",
    "    , (x-1, y),             (x+1, y)\n",
    "    , (x-1, y+1), (x, y+1), (x+1, y+1)\n",
    "    ]\n",
    "\n",
    "sumNeighbours g c@(x,y) = sum $ map (\\c' -> M.findWithDefault 0 c' g) $ neighbours c\n",
    "\n",
    "grid = M.fromList [((0,0), 1)]\n",
    "\n",
    "loop gr i stop = let\n",
    "    coord = getPos i\n",
    "    value = sumNeighbours gr coord\n",
    "    in if value > stop\n",
    "        then (value, gr)\n",
    "        else loop (M.insert coord value gr) (i+1) stop\n",
    "        \n",
    "fst $ loop grid 2 input"
   ]
  }
 ],
 "metadata": {
  "kernelspec": {
   "display_name": "Haskell",
   "language": "haskell",
   "name": "haskell"
  },
  "language_info": {
   "codemirror_mode": "ihaskell",
   "file_extension": ".hs",
   "name": "haskell",
   "version": "8.0.2"
  }
 },
 "nbformat": 4,
 "nbformat_minor": 2
}
