{
 "cells": [
  {
   "cell_type": "code",
   "execution_count": 1,
   "metadata": {
    "collapsed": true
   },
   "outputs": [],
   "source": [
    "import AdventOfCode\n",
    "import qualified Data.Map.Strict as M\n",
    "\n",
    "input <- readInt <$> dayString 3"
   ]
  },
  {
   "cell_type": "code",
   "execution_count": 2,
   "metadata": {},
   "outputs": [],
   "source": [
    "import Data.Function.Memoize\n",
    "\n",
    "genDRDiagonal = memoize $ \\n -> (^2) .head $ drop n [1,3..]\n",
    "genURDiagonal n = let\n",
    "    drDiagonal = genDRDiagonal n\n",
    "    s = floor . sqrt $ fromIntegral drDiagonal\n",
    "    in drDiagonal - ((s-1)*3)\n",
    "genULDiagonal n = let\n",
    "    drDiagonal = genDRDiagonal n\n",
    "    s = floor . sqrt $ fromIntegral drDiagonal\n",
    "    in drDiagonal - ((s-1)*2)\n",
    "genDLDiagonal n = let\n",
    "    drDiagonal = genDRDiagonal n\n",
    "    s = floor . sqrt $ fromIntegral drDiagonal\n",
    "    in drDiagonal - (s-1)"
   ]
  },
  {
   "cell_type": "code",
   "execution_count": 3,
   "metadata": {},
   "outputs": [
    {
     "data": {
      "text/plain": [
       "438"
      ]
     },
     "metadata": {},
     "output_type": "display_data"
    }
   ],
   "source": [
    "getPos n = let\n",
    "    diagonals = takeWhile (<n) $ map (^2) [1,3..]\n",
    "    pos = length diagonals\n",
    "    dr = genDRDiagonal pos\n",
    "    dl = genDLDiagonal pos\n",
    "    ur = genURDiagonal pos\n",
    "    ul = genULDiagonal pos\n",
    "    in case () of\n",
    "    _ | n == dr           -> (pos, -pos)\n",
    "      | n < dr && n >= dl -> (-pos + (n - dl), -pos)\n",
    "      | n < dl && n >= ul -> (-pos, pos - (n - ul))\n",
    "      | n < ul && n >= ur -> (pos - (n - ur), pos)\n",
    "      | n < ur            -> (pos, pos - (ur - n))\n",
    "    \n",
    "\n",
    "-- Solve for distance.\n",
    "(x,y) = getPos input\n",
    "abs x + abs y"
   ]
  },
  {
   "cell_type": "code",
   "execution_count": 4,
   "metadata": {},
   "outputs": [
    {
     "data": {
      "text/plain": [
       "266330"
      ]
     },
     "metadata": {},
     "output_type": "display_data"
    }
   ],
   "source": [
    "neighbours (x, y) =\n",
    "    [ (x-1, y-1), (x, y-1), (x+1, y-1)\n",
    "    , (x-1, y),             (x+1, y)\n",
    "    , (x-1, y+1), (x, y+1), (x+1, y+1)\n",
    "    ]\n",
    "\n",
    "sumNeighbours g c = sum $ map (\\c' -> M.findWithDefault 0 c' g) $ neighbours c\n",
    "\n",
    "grid = M.fromList [((0,0), 1)]\n",
    "\n",
    "loop gr i stop = let\n",
    "    coord = getPos i\n",
    "    value = sumNeighbours gr coord\n",
    "    in if value > stop\n",
    "        then (value, gr)\n",
    "        else loop (M.insert coord value gr) (i+1) stop\n",
    "        \n",
    "fst $ loop grid 2 input"
   ]
  }
 ],
 "metadata": {
  "kernelspec": {
   "display_name": "Haskell",
   "language": "haskell",
   "name": "haskell"
  },
  "language_info": {
   "codemirror_mode": "ihaskell",
   "file_extension": ".hs",
   "name": "haskell",
   "version": "8.0.2"
  }
 },
 "nbformat": 4,
 "nbformat_minor": 2
}
