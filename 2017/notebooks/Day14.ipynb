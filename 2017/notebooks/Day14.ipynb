{
 "cells": [
  {
   "cell_type": "code",
   "execution_count": 1,
   "metadata": {
    "collapsed": true
   },
   "outputs": [],
   "source": [
    "import AdventOfCode\n",
    "import Data.List.Split (splitOn)\n",
    "import Data.List.Split (chunksOf)\n",
    "import Data.List (foldl', foldl1')\n",
    "import Data.Bits (xor)\n",
    "import Data.Char (ord)\n",
    "import Numeric (showHex)\n",
    "import qualified Data.Graph.Inductive as G\n",
    "import qualified Data.Vector.Unboxed as U\n",
    "import qualified Data.Map.Strict as M\n",
    "import qualified Data.IntMap.Strict as I\n",
    "import qualified Data.IntSet as S\n",
    "\n",
    "input <- dayString 14"
   ]
  },
  {
   "cell_type": "code",
   "execution_count": 2,
   "metadata": {
    "collapsed": true
   },
   "outputs": [],
   "source": [
    "circle = U.fromList [0..255]\n",
    "\n",
    "subIndices vector index len \n",
    "    | (index + len) <= U.length vector = let\n",
    "        indices = [index..(index+len-1)]\n",
    "        in indices\n",
    "    | (index + len) > U.length vector = let\n",
    "        extra = (index+len) - U.length vector\n",
    "        tillEnd = [index..(U.length vector - 1)]\n",
    "        fromStart = [0..(extra-1)]\n",
    "        indices = tillEnd ++ fromStart\n",
    "        in indices\n",
    "\n",
    "mutate vector index len = let\n",
    "    indices   = U.fromList $ subIndices vector index len\n",
    "    subvector = U.backpermute vector indices\n",
    "    reversed  = U.reverse subvector\n",
    "    updated   = U.update vector $ U.zip indices reversed\n",
    "    in updated\n",
    "\n",
    "loop orig 0 []     _     _          vector = vector\n",
    "loop orig n []     index skipLength vector = loop orig (n-1) orig index skipLength vector\n",
    "loop orig n (l:ls) index skipLength vector = let\n",
    "    vector' = mutate vector index l\n",
    "    index' = (index + l + skipLength) `mod` U.length vector\n",
    "    skipLength' = skipLength + 1\n",
    "    in loop orig n ls index' skipLength' vector'\n",
    "\n",
    "hash str = let\n",
    "    suffixed = map ord str ++ [17, 31, 73, 47, 23]\n",
    "    looped = loop suffixed 63 suffixed 0 0 circle\n",
    "    chunked :: [[Int]]\n",
    "    chunked = chunksOf 16 $ U.toList looped\n",
    "    hexed = map (flip showHex \"\" . foldl1' xor) chunked\n",
    "    in concatMap (\\h -> if length h == 1 then '0':h else h) hexed"
   ]
  },
  {
   "cell_type": "code",
   "execution_count": 3,
   "metadata": {
    "collapsed": true
   },
   "outputs": [],
   "source": [
    "toBinary = (M.!) $ M.fromList\n",
    "    [ ('0', \"0000\")\n",
    "    , ('1', \"0001\")\n",
    "    , ('2', \"0010\")\n",
    "    , ('3', \"0011\")\n",
    "    , ('4', \"0100\")\n",
    "    , ('5', \"0101\")\n",
    "    , ('6', \"0110\")\n",
    "    , ('7', \"0111\")\n",
    "    , ('8', \"1000\")\n",
    "    , ('9', \"1001\")\n",
    "    , ('a', \"1010\")\n",
    "    , ('b', \"1011\")\n",
    "    , ('c', \"1100\")\n",
    "    , ('d', \"1101\")\n",
    "    , ('e', \"1110\")\n",
    "    , ('f', \"1111\")\n",
    "    ]\n",
    "\n",
    "toBitString = concatMap toBinary"
   ]
  },
  {
   "cell_type": "code",
   "execution_count": 4,
   "metadata": {},
   "outputs": [
    {
     "data": {
      "text/plain": [
       "8250"
      ]
     },
     "metadata": {},
     "output_type": "display_data"
    }
   ],
   "source": [
    "rows str = map (\\i -> str ++ '-':(show i)) [0..127]\n",
    "\n",
    "bitStrings = map (toBitString . hash) . rows\n",
    "\n",
    "sum $ map (length . filter (=='1')) (bitStrings input)"
   ]
  },
  {
   "cell_type": "code",
   "execution_count": 5,
   "metadata": {
    "collapsed": true
   },
   "outputs": [],
   "source": [
    "bitmap = U.fromList $ concat $ bitStrings input"
   ]
  },
  {
   "cell_type": "code",
   "execution_count": 6,
   "metadata": {},
   "outputs": [],
   "source": [
    "neighbours bound (x,y) = [b*bound+a | (a,b) <-[(x, y-1), (x-1, y), (x+1, y), (x, y+1)], a >= 0, b >= 0, a < bound, b < bound]"
   ]
  },
  {
   "cell_type": "code",
   "execution_count": 7,
   "metadata": {
    "collapsed": true
   },
   "outputs": [],
   "source": [
    "setIndices = U.filter (\\(b, i) -> b == '1') $ U.zip bitmap $ U.fromList [0..(128*128)]\n",
    "\n",
    "fromIndex bound i = let (y,x) = i `divMod` bound in (x,y)\n",
    "\n",
    "setNeighbours bound graph i = let\n",
    "    coord = (fromIndex bound i)\n",
    "    neighbourCoords = neighbours bound coord\n",
    "    ns = map (graph U.!) neighbourCoords\n",
    "    bits = zip ns neighbourCoords\n",
    "    set = filter (\\(b, c) -> b == '1') bits\n",
    "    in map snd set"
   ]
  },
  {
   "cell_type": "code",
   "execution_count": 8,
   "metadata": {
    "collapsed": true
   },
   "outputs": [],
   "source": [
    "graph = map (\\(_, i) -> (i, setNeighbours 128 bitmap i)) $ U.toList setIndices"
   ]
  },
  {
   "cell_type": "code",
   "execution_count": 9,
   "metadata": {
    "collapsed": true
   },
   "outputs": [],
   "source": [
    "edges = concatMap (\\(n, es) -> zip (repeat n) es) graph\n",
    "nodes = map fst graph"
   ]
  },
  {
   "cell_type": "code",
   "execution_count": 10,
   "metadata": {},
   "outputs": [
    {
     "data": {
      "text/plain": [
       "1113"
      ]
     },
     "metadata": {},
     "output_type": "display_data"
    }
   ],
   "source": [
    "length $ G.components (G.mkUGraph nodes edges :: G.Gr () ())"
   ]
  }
 ],
 "metadata": {
  "kernelspec": {
   "display_name": "Haskell",
   "language": "haskell",
   "name": "haskell"
  },
  "language_info": {
   "codemirror_mode": "ihaskell",
   "file_extension": ".hs",
   "name": "haskell",
   "version": "8.0.2"
  }
 },
 "nbformat": 4,
 "nbformat_minor": 2
}
