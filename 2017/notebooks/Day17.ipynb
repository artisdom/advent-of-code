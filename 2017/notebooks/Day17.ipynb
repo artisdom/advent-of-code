{
 "cells": [
  {
   "cell_type": "code",
   "execution_count": 1,
   "metadata": {
    "collapsed": true
   },
   "outputs": [],
   "source": [
    "import AdventOfCode\n",
    "\n",
    "import Data.List (foldl')\n",
    "import qualified Data.Sequence as S\n",
    "\n",
    "input <- readInt <$> dayString 17"
   ]
  },
  {
   "cell_type": "code",
   "execution_count": 2,
   "metadata": {},
   "outputs": [],
   "source": [
    "buffer = S.singleton 0"
   ]
  },
  {
   "cell_type": "code",
   "execution_count": 3,
   "metadata": {},
   "outputs": [],
   "source": [
    "next distance len i = let\n",
    "   end = distance - (len - i)\n",
    "   in end `mod` len"
   ]
  },
  {
   "cell_type": "code",
   "execution_count": 4,
   "metadata": {},
   "outputs": [
    {
     "data": {
      "text/plain": [
       "417"
      ]
     },
     "metadata": {},
     "output_type": "display_data"
    }
   ],
   "source": [
    "insertAt i x xs = S.take i xs S.>< S.singleton x S.>< S.drop i xs\n",
    "\n",
    "(final, finalIndex) = foldl' (\\(buf,curr) e -> let\n",
    "    index = (next input e curr) + 1\n",
    "    in (insertAt index e buf,index)) (buffer,0) [1..2017]\n",
    "    \n",
    "S.index final (finalIndex+1)"
   ]
  },
  {
   "cell_type": "code",
   "execution_count": 5,
   "metadata": {},
   "outputs": [],
   "source": [
    "final' = fst $ foldl' (\\(ones,curr) e -> let\n",
    "    index = next input e curr + 1\n",
    "    in if index == 1 then (e:ones, index) else (ones, index)) ([],0) [1..50000000]"
   ]
  },
  {
   "cell_type": "code",
   "execution_count": 6,
   "metadata": {},
   "outputs": [
    {
     "data": {
      "text/plain": [
       "34334221"
      ]
     },
     "metadata": {},
     "output_type": "display_data"
    }
   ],
   "source": [
    "head final'"
   ]
  }
 ],
 "metadata": {
  "kernelspec": {
   "display_name": "Haskell",
   "language": "haskell",
   "name": "haskell"
  },
  "language_info": {
   "codemirror_mode": "ihaskell",
   "file_extension": ".hs",
   "name": "haskell",
   "version": "8.0.2"
  }
 },
 "nbformat": 4,
 "nbformat_minor": 2
}
