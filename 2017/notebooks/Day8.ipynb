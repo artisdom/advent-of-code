{
 "cells": [
  {
   "cell_type": "code",
   "execution_count": 1,
   "metadata": {
    "collapsed": true
   },
   "outputs": [],
   "source": [
    "{-# LANGUAGE OverloadedStrings #-}\n",
    "\n",
    "import AdventOfCode\n",
    "import qualified Data.Attoparsec.Char8 as A\n",
    "import Data.ByteString.UTF8 (toString)\n",
    "import Data.List (foldl', nub)\n",
    "import qualified Data.Map.Strict as M\n",
    "\n",
    "input <- dayLines 8"
   ]
  },
  {
   "cell_type": "code",
   "execution_count": 2,
   "metadata": {},
   "outputs": [],
   "source": [
    "data Instr = Instr\n",
    "    { instrRegister  :: String\n",
    "    , instrOperation :: Int\n",
    "    , instrAmount    :: Int\n",
    "    , instrCondition :: Cond\n",
    "    }\n",
    "\n",
    "data Cond = Cond\n",
    "    { condRegister   :: String\n",
    "    , condComparison :: (Int -> Int -> Bool)\n",
    "    , condValue      :: Int\n",
    "    }"
   ]
  },
  {
   "cell_type": "code",
   "execution_count": 3,
   "metadata": {},
   "outputs": [],
   "source": [
    "notSpace = (/= ' ')\n",
    "\n",
    "convertComparison c = case c of\n",
    "    \"<\"  -> (<)\n",
    "    \"<=\" -> (<=)\n",
    "    \"==\" -> (==)\n",
    "    \">=\" -> (>=)\n",
    "    \">\"  -> (>)\n",
    "    \"!=\" -> (/=)\n",
    "\n",
    "parseCond = do\n",
    "    register <- toString <$> A.takeWhile notSpace\n",
    "    A.space\n",
    "    comp <- convertComparison <$> A.takeWhile notSpace\n",
    "    A.space\n",
    "    n <- A.signed A.decimal\n",
    "    return $ Cond register comp n\n",
    "\n",
    "parseInstr = do\n",
    "    register <- toString <$> A.takeWhile notSpace\n",
    "    A.space\n",
    "    op <- A.choice $ map A.string [\"inc\", \"dec\"]\n",
    "    let operation = if op == \"inc\" then 1 else -1\n",
    "    A.space\n",
    "    number <- A.signed A.decimal\n",
    "    A.string \" if \"\n",
    "    cond <- parseCond\n",
    "    return $ Instr register operation number cond\n",
    "\n",
    "\n",
    "parsedInstructions =  map (either error id . A.parseOnly parseInstr) input"
   ]
  },
  {
   "cell_type": "code",
   "execution_count": 4,
   "metadata": {},
   "outputs": [],
   "source": [
    "registers = nub $ concatMap (\\i -> [instrRegister i, condRegister (instrCondition i)]) parsedInstructions\n",
    "\n",
    "initialRegisters = M.fromList $ zip registers $ repeat 0"
   ]
  },
  {
   "cell_type": "code",
   "execution_count": 5,
   "metadata": {},
   "outputs": [],
   "source": [
    "evaluateCondition :: M.Map String Int -> Cond -> Bool\n",
    "evaluateCondition registers condition = let\n",
    "    registerValue = registers M.! condRegister condition\n",
    "    compValue     = condValue condition\n",
    "    in (condComparison condition) registerValue compValue"
   ]
  },
  {
   "cell_type": "code",
   "execution_count": 6,
   "metadata": {},
   "outputs": [
    {
     "data": {
      "text/plain": [
       "5215"
      ]
     },
     "metadata": {},
     "output_type": "display_data"
    }
   ],
   "source": [
    "go :: M.Map String Int -> Instr -> M.Map String Int\n",
    "go state current = if evaluateCondition state (instrCondition current)\n",
    "    then M.adjust (+(instrOperation current * instrAmount current)) (instrRegister current) state\n",
    "    else state\n",
    "\n",
    "finished = foldl' go initialRegisters parsedInstructions\n",
    "\n",
    "maximum $ M.elems finished"
   ]
  },
  {
   "cell_type": "code",
   "execution_count": 7,
   "metadata": {},
   "outputs": [
    {
     "data": {
      "text/plain": [
       "6419"
      ]
     },
     "metadata": {},
     "output_type": "display_data"
    }
   ],
   "source": [
    "states = concatMap M.elems $ scanl go initialRegisters parsedInstructions\n",
    "maximum states"
   ]
  }
 ],
 "metadata": {
  "kernelspec": {
   "display_name": "Haskell",
   "language": "haskell",
   "name": "haskell"
  },
  "language_info": {
   "codemirror_mode": "ihaskell",
   "file_extension": ".hs",
   "name": "haskell",
   "version": "8.0.2"
  }
 },
 "nbformat": 4,
 "nbformat_minor": 2
}
