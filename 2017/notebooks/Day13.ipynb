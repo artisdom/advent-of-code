{
 "cells": [
  {
   "cell_type": "code",
   "execution_count": 1,
   "metadata": {
    "collapsed": true
   },
   "outputs": [],
   "source": [
    "{-# LANGUAGE OverloadedStrings #-}\n",
    "\n",
    "import qualified Data.Attoparsec.ByteString.Char8 as A\n",
    "import AdventOfCode\n",
    "\n",
    "input <- dayLines 13"
   ]
  },
  {
   "cell_type": "code",
   "execution_count": 2,
   "metadata": {},
   "outputs": [
    {
     "data": {
      "text/plain": [
       "1704"
      ]
     },
     "metadata": {},
     "output_type": "display_data"
    }
   ],
   "source": [
    "parse = (,) <$> A.decimal <*> (A.string \": \" *> A.decimal)\n",
    "\n",
    "layers = map (parsed parse) input\n",
    "\n",
    "sum $ map (uncurry (*)) $ filter (\\(l, d) -> l `mod` (2*d - 2) == 0) layers"
   ]
  },
  {
   "cell_type": "code",
   "execution_count": 3,
   "metadata": {},
   "outputs": [
    {
     "data": {
      "text/plain": [
       "3970918"
      ]
     },
     "metadata": {},
     "output_type": "display_data"
    }
   ],
   "source": [
    "-- Thanks to mniip on #haskell for this.\n",
    "good delay = all (\\(layer, depth) -> (delay + layer) `mod` (2 * depth - 2) /= 0)\n",
    "\n",
    "minDelay o = if good o layers then o else minDelay (o+1)\n",
    "minDelay 0"
   ]
  }
 ],
 "metadata": {
  "kernelspec": {
   "display_name": "Haskell",
   "language": "haskell",
   "name": "haskell"
  },
  "language_info": {
   "codemirror_mode": "ihaskell",
   "file_extension": ".hs",
   "name": "haskell",
   "version": "8.0.2"
  }
 },
 "nbformat": 4,
 "nbformat_minor": 2
}
