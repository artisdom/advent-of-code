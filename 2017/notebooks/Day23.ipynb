{
 "cells": [
  {
   "cell_type": "code",
   "execution_count": 1,
   "metadata": {
    "collapsed": true
   },
   "outputs": [],
   "source": [
    "{-# LANGUAGE OverloadedStrings #-}\n",
    "{-# LANGUAGE TemplateHaskell #-}\n",
    "\n",
    "import AdventOfCode\n",
    "import Control.Lens\n",
    "import Data.Function.Memoize\n",
    "import Data.Functor.Identity\n",
    "\n",
    "import qualified Data.Attoparsec.ByteString.Char8 as A\n",
    "import qualified Data.Map.Strict as M\n",
    "import qualified Data.Vector as V\n",
    "\n",
    "input <- dayLines 23"
   ]
  },
  {
   "cell_type": "code",
   "execution_count": 2,
   "metadata": {
    "collapsed": true
   },
   "outputs": [],
   "source": [
    "type Reg = Char\n",
    "type ValueReg = Either Int Reg\n",
    "\n",
    "parseReg = A.satisfy A.isAlpha_ascii\n",
    "parseValue = A.signed A.decimal\n",
    "\n",
    "parseValueReg :: A.Parser ValueReg\n",
    "parseValueReg = A.eitherP parseValue parseReg"
   ]
  },
  {
   "cell_type": "code",
   "execution_count": 3,
   "metadata": {},
   "outputs": [],
   "source": [
    "data Instr \n",
    "    = Set Reg ValueReg\n",
    "    | Sub Reg ValueReg\n",
    "    | Mul Reg ValueReg\n",
    "    | Jnz ValueReg ValueReg\n",
    "    deriving (Eq, Show)\n",
    "\n",
    "parseInstr = A.choice\n",
    "    [ Set <$> (\"set\" *> pR)  <*> pVR\n",
    "    , Sub <$> (\"sub\" *> pR)  <*> pVR\n",
    "    , Mul <$> (\"mul\" *> pR)  <*> pVR\n",
    "    , Jnz <$> (\"jnz\" *> pVR) <*> pVR\n",
    "    ]\n",
    "    where\n",
    "        pVR = A.space *> parseValueReg\n",
    "        pR  = A.space *> parseReg\n",
    "\n",
    "registerMap = M.fromList $ zip ['a'..'p'] (repeat 0)\n",
    "instrVec    = V.fromList $ map (parsed parseInstr) input"
   ]
  },
  {
   "cell_type": "code",
   "execution_count": 4,
   "metadata": {
    "collapsed": true
   },
   "outputs": [],
   "source": [
    "data MachineState = MachineState\n",
    "    { _registers :: M.Map Char Int\n",
    "    , _counter   :: Int\n",
    "    } deriving (Eq, Show)\n",
    "\n",
    "makeLenses ''MachineState\n",
    "\n",
    "getValueReg :: M.Map Char Int -> ValueReg -> Int\n",
    "getValueReg registers = either id (\\r -> registers ^. at r . non 0)\n",
    "\n",
    "incr = counter +~ 1\n",
    "\n",
    "executeInstr :: Instr -> MachineState -> MachineState\n",
    "executeInstr instr ms = ms & case instr of\n",
    "    Set reg vr -> incr . (registers %~ (\\rs -> rs & at reg ?~          (getValueReg rs vr)))\n",
    "    Sub reg vr -> incr . (registers %~ (\\rs -> rs & ix reg %~ (subtract(getValueReg rs vr))))\n",
    "    Mul reg vr -> incr . (registers %~ (\\rs -> rs & ix reg %~        (*(getValueReg rs vr))))\n",
    "    Jnz vr vr' -> if getValueReg (ms ^. registers) vr /= 0\n",
    "        then counter %~ (+ (getValueReg (ms ^. registers) vr'))\n",
    "        else incr"
   ]
  },
  {
   "cell_type": "code",
   "execution_count": 5,
   "metadata": {
    "collapsed": true
   },
   "outputs": [],
   "source": [
    "loop :: V.Vector Instr -> MachineState -> Int -> Int\n",
    "loop instrs ms mulCount = case instrs ^? ix (ms ^. counter) of\n",
    "    Nothing       -> mulCount\n",
    "    Just (Mul reg vr) -> loop instrs (executeInstr (Mul reg vr) ms) (mulCount + 1)\n",
    "    Just curr     -> loop instrs (executeInstr curr ms) mulCount"
   ]
  },
  {
   "cell_type": "code",
   "execution_count": 6,
   "metadata": {},
   "outputs": [
    {
     "data": {
      "text/plain": [
       "4225"
      ]
     },
     "metadata": {},
     "output_type": "display_data"
    }
   ],
   "source": [
    "loop instrVec (MachineState registerMap 0) 0"
   ]
  },
  {
   "cell_type": "code",
   "execution_count": 9,
   "metadata": {},
   "outputs": [],
   "source": [
    "part2 :: Int\n",
    "part2 = let\n",
    "    b = 106700\n",
    "    in runIdentity $ loopBody (b,2,2,1,0)\n",
    "    where\n",
    "        c = 123700\n",
    "        loopBody (b,d,e,f,h) = do\n",
    "            f <- pure $ if d*e == b then 0 else f\n",
    "            if (e+1) /= b\n",
    "            then loopBody (b,d,e+1,f,h)\n",
    "            else\n",
    "                if (d+1) /= b\n",
    "                then loopBody (b,d+1,2,f,h)\n",
    "                else\n",
    "                    if f == 0\n",
    "                    then returner (b,h+1)\n",
    "                    else returner (b,h)\n",
    "        returner (b,h) = if b==c\n",
    "                then return h\n",
    "                else loopBody (b+17,2,2,1,h)"
   ]
  },
  {
   "cell_type": "code",
   "execution_count": 13,
   "metadata": {},
   "outputs": [
    {
     "data": {
      "text/plain": [
       "905"
      ]
     },
     "metadata": {},
     "output_type": "display_data"
    }
   ],
   "source": [
    "candidates = [106700,(106700+17)..123700]\n",
    "\n",
    "prime :: Int -> Bool\n",
    "prime = memoize $ \\n -> case n of\n",
    "    2 -> True\n",
    "    n -> let s = fromIntegral (floor (sqrt (fromIntegral n))) in null [f | f <- filter prime [2..s], n `rem` f == 0]\n",
    "\n",
    "length $ filter (not . prime) candidates"
   ]
  }
 ],
 "metadata": {
  "kernelspec": {
   "display_name": "Haskell",
   "language": "haskell",
   "name": "haskell"
  },
  "language_info": {
   "codemirror_mode": "ihaskell",
   "file_extension": ".hs",
   "name": "haskell",
   "version": "8.0.2"
  }
 },
 "nbformat": 4,
 "nbformat_minor": 2
}
