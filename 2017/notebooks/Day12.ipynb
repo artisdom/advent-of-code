{
 "cells": [
  {
   "cell_type": "code",
   "execution_count": 1,
   "metadata": {
    "collapsed": true
   },
   "outputs": [],
   "source": [
    "{-# LANGUAGE OverloadedStrings #-}\n",
    "\n",
    "import AdventOfCode\n",
    "import qualified Data.Attoparsec.ByteString.Char8 as A\n",
    "import qualified Data.Graph.Inductive as G\n",
    "\n",
    "input <- dayLines 12"
   ]
  },
  {
   "cell_type": "code",
   "execution_count": 2,
   "metadata": {
    "collapsed": true
   },
   "outputs": [],
   "source": [
    "parseLine = do\n",
    "   n <- A.decimal\n",
    "   A.string \" <-> \"\n",
    "   ns <- A.decimal `A.sepBy'` A.string \", \"\n",
    "   return (n, ns)"
   ]
  },
  {
   "cell_type": "code",
   "execution_count": 3,
   "metadata": {},
   "outputs": [
    {
     "data": {
      "text/plain": [
       "115"
      ]
     },
     "metadata": {},
     "output_type": "display_data"
    },
    {
     "data": {
      "text/plain": [
       "221"
      ]
     },
     "metadata": {},
     "output_type": "display_data"
    }
   ],
   "source": [
    "graph = map (parsed parseLine) input\n",
    "nodes = map fst graph\n",
    "edges = concatMap (\\(n, es) -> zip (repeat n) es) graph\n",
    "\n",
    "igraph = G.mkUGraph nodes edges :: G.Gr () ()\n",
    "\n",
    "length $ G.reachable 0 igraph\n",
    "G.noComponents igraph"
   ]
  }
 ],
 "metadata": {
  "kernelspec": {
   "display_name": "Haskell",
   "language": "haskell",
   "name": "haskell"
  },
  "language_info": {
   "codemirror_mode": "ihaskell",
   "file_extension": ".hs",
   "name": "haskell",
   "version": "8.0.2"
  }
 },
 "nbformat": 4,
 "nbformat_minor": 2
}
