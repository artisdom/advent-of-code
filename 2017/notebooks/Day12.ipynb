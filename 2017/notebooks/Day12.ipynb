{
 "cells": [
  {
   "cell_type": "code",
   "execution_count": 1,
   "metadata": {
    "collapsed": true
   },
   "outputs": [],
   "source": [
    "{-# LANGUAGE OverloadedStrings #-}\n",
    "\n",
    "import AdventOfCode\n",
    "import qualified Data.Attoparsec.ByteString.Char8 as A\n",
    "import qualified Data.IntMap.Strict as I\n",
    "import qualified Data.IntSet as S\n",
    "\n",
    "input <- dayLines 12"
   ]
  },
  {
   "cell_type": "code",
   "execution_count": 2,
   "metadata": {},
   "outputs": [],
   "source": [
    "parseLine = do\n",
    "   n <- A.decimal\n",
    "   A.string \" <-> \"\n",
    "   ns <- S.fromList <$> A.decimal `A.sepBy'` A.string \", \"\n",
    "   return (n, ns)\n",
    "\n",
    "graph = I.fromList $ map (parsed parseLine) input"
   ]
  },
  {
   "cell_type": "code",
   "execution_count": 3,
   "metadata": {},
   "outputs": [
    {
     "data": {
      "text/plain": [
       "115"
      ]
     },
     "metadata": {},
     "output_type": "display_data"
    }
   ],
   "source": [
    "reachable g v visited = let\n",
    "    neighbours = g I.! v\n",
    "    visited' = S.insert v visited\n",
    "    next = neighbours `S.difference` visited' \n",
    "    transitive = S.unions $ map (\\v -> reachable g v visited') (S.toList next)\n",
    "    in S.unions [next, visited', transitive]\n",
    "\n",
    "S.size $ reachable graph 0 S.empty"
   ]
  },
  {
   "cell_type": "code",
   "execution_count": 4,
   "metadata": {},
   "outputs": [
    {
     "data": {
      "text/plain": [
       "221"
      ]
     },
     "metadata": {},
     "output_type": "display_data"
    }
   ],
   "source": [
    "groups g acc\n",
    "    | I.null g = acc\n",
    "    | otherwise = let\n",
    "        group = reachable g (fst $ I.findMin g) S.empty\n",
    "        g' = I.filterWithKey (\\v _ -> v `S.notMember` group) g\n",
    "        in groups g' (acc+1)\n",
    "\n",
    "groups graph 0"
   ]
  }
 ],
 "metadata": {
  "kernelspec": {
   "display_name": "Haskell",
   "language": "haskell",
   "name": "haskell"
  },
  "language_info": {
   "codemirror_mode": "ihaskell",
   "file_extension": ".hs",
   "name": "haskell",
   "version": "8.0.2"
  }
 },
 "nbformat": 4,
 "nbformat_minor": 2
}
