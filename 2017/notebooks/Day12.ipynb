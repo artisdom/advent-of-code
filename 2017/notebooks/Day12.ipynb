{
 "cells": [
  {
   "cell_type": "code",
   "execution_count": 6,
   "metadata": {
    "collapsed": true
   },
   "outputs": [],
   "source": [
    "import AdventOfCode\n",
    "\n",
    "input <- dayLines 12"
   ]
  },
  {
   "cell_type": "code",
   "execution_count": 10,
   "metadata": {},
   "outputs": [],
   "source": [
    "{-# LANGUAGE OverloadedStrings #-}\n",
    "\n",
    "import Data.List.Split (splitOn)\n",
    "import qualified Data.Attoparsec.ByteString.Char8 as A\n",
    "import qualified Data.IntMap.Strict as I\n",
    "\n",
    "parseLine = do\n",
    "   n <- A.decimal\n",
    "   A.string \" <-> \"\n",
    "   ns <- A.decimal `A.sepBy'` A.string \", \"\n",
    "   return (n, ns)\n",
    "\n",
    "graph = I.fromList $ map (parsed parseLine) input"
   ]
  },
  {
   "cell_type": "code",
   "execution_count": 19,
   "metadata": {},
   "outputs": [
    {
     "data": {
      "text/plain": [
       "115"
      ]
     },
     "metadata": {},
     "output_type": "display_data"
    }
   ],
   "source": [
    "import Data.List ((\\\\))\n",
    "\n",
    "import qualified Data.Set as Set\n",
    "\n",
    "ordNub :: (Ord a) => [a] -> [a]\n",
    "ordNub l = go Set.empty l\n",
    "  where\n",
    "    go _ [] = []\n",
    "    go s (x:xs) = if x `Set.member` s then go s xs\n",
    "                                      else x : go (Set.insert x s) xs\n",
    "\n",
    "reachable g v visited = let\n",
    "    neighbours = g I.! v\n",
    "    visited' = v:visited\n",
    "    next = neighbours \\\\ visited' \n",
    "    transitive = concatMap (\\v -> reachable g v visited') next\n",
    "    in ordNub (neighbours ++ next ++ transitive)\n",
    "\n",
    "length $ reachable graph 0 []"
   ]
  },
  {
   "cell_type": "code",
   "execution_count": 21,
   "metadata": {},
   "outputs": [
    {
     "data": {
      "text/plain": [
       "221"
      ]
     },
     "metadata": {},
     "output_type": "display_data"
    }
   ],
   "source": [
    "groups g acc\n",
    "    | I.null g = acc\n",
    "    | otherwise = let\n",
    "        group = reachable g (fst $ I.findMin g) []\n",
    "        g' = I.filterWithKey (\\k _ -> k `notElem` group) g\n",
    "        in groups g' (acc+1)\n",
    "\n",
    "groups graph 0"
   ]
  }
 ],
 "metadata": {
  "kernelspec": {
   "display_name": "Haskell",
   "language": "haskell",
   "name": "haskell"
  },
  "language_info": {
   "codemirror_mode": "ihaskell",
   "file_extension": ".hs",
   "name": "haskell",
   "version": "8.0.2"
  }
 },
 "nbformat": 4,
 "nbformat_minor": 2
}
