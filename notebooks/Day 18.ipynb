{
 "cells": [
  {
   "cell_type": "code",
   "execution_count": 1,
   "metadata": {
    "collapsed": false
   },
   "outputs": [
    {
     "data": {
      "text/plain": [
       "\".^.^..^......^^^^^...^^^...^...^....^^.^...^.^^^^....^...^^.^^^...^^^^.^^.^.^^..^.^^^..^^^^^^.^^^..^\""
      ]
     },
     "metadata": {},
     "output_type": "display_data"
    }
   ],
   "source": [
    "input <- init <$> readFile \"../input/day18.txt\"\n",
    "input"
   ]
  },
  {
   "cell_type": "code",
   "execution_count": 2,
   "metadata": {
    "collapsed": false
   },
   "outputs": [
    {
     "data": {
      "text/plain": [
       "1987"
      ]
     },
     "metadata": {},
     "output_type": "display_data"
    }
   ],
   "source": [
    "groupTiles tiles = zipWith3 (\\a b c -> a:b:[c]) ('.':tiles) tiles (tail tiles ++ \".\")\n",
    "\n",
    "next group = case group of\n",
    "    \"^^.\" -> '^'\n",
    "    \".^^\" -> '^'\n",
    "    \"^..\" -> '^'\n",
    "    \"..^\" -> '^'\n",
    "    _     -> '.'\n",
    "\n",
    "tiles = iterate (map next . groupTiles) input\n",
    "\n",
    "board = concat $ take 40 tiles\n",
    "\n",
    "length $ filter (=='.') board"
   ]
  },
  {
   "cell_type": "code",
   "execution_count": 3,
   "metadata": {
    "collapsed": false
   },
   "outputs": [
    {
     "data": {
      "text/plain": [
       "19984714"
      ]
     },
     "metadata": {},
     "output_type": "display_data"
    }
   ],
   "source": [
    "board' = take 400000 tiles\n",
    "sum $ map (length . filter (=='.')) board'"
   ]
  }
 ],
 "metadata": {
  "kernelspec": {
   "display_name": "Haskell",
   "language": "haskell",
   "name": "haskell"
  },
  "language_info": {
   "codemirror_mode": "ihaskell",
   "file_extension": ".hs",
   "name": "haskell",
   "version": "7.10.3"
  }
 },
 "nbformat": 4,
 "nbformat_minor": 0
}
