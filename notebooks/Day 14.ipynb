{
 "cells": [
  {
   "cell_type": "code",
   "execution_count": 1,
   "metadata": {
    "collapsed": true,
    "deletable": true,
    "editable": true
   },
   "outputs": [],
   "source": [
    "{-# LANGUAGE OverloadedStrings #-}\n",
    "\n",
    "import Control.Concurrent.Async\n",
    "import Data.ByteArray.Encoding (convertToBase, Base(Base16))\n",
    "import Crypto.Hash (hashWith)\n",
    "import Crypto.Hash.Algorithms (MD5)\n",
    "import qualified Data.ByteString as B\n",
    "import qualified Data.ByteString.UTF8 as BU\n",
    "\n",
    "input = \"yjdafjpo\""
   ]
  },
  {
   "cell_type": "code",
   "execution_count": 2,
   "metadata": {
    "collapsed": false,
    "deletable": true,
    "editable": true
   },
   "outputs": [
    {
     "data": {
      "text/plain": [
       "25427"
      ]
     },
     "metadata": {},
     "output_type": "display_data"
    }
   ],
   "source": [
    "import Numeric (showHex)\n",
    "import qualified Data.Attoparsec.ByteString       as A\n",
    "import qualified Data.Attoparsec.ByteString.Char8 as AC\n",
    "import GHC.Word (Word8)\n",
    "\n",
    "hexBS = BU.fromString . flip showHex \"\"\n",
    "\n",
    "hashInput i = B.append input (BU.fromString $ show i)\n",
    "\n",
    "next1000 index = map hashInput [index+1..index+1000]\n",
    "\n",
    "\n",
    "triple bs = case (filter (\\b -> B.length b >=3) $ B.group bs) of\n",
    "    []     -> Nothing\n",
    "    (m:ms) -> Just $ B.head m\n",
    "\n",
    "matching byte bs = case (filter (\\b -> B.length b >= 5 && B.head b == byte) $ B.group bs) of\n",
    "    []     -> False\n",
    "    (x:xs) -> True\n",
    "\n",
    "calcHash inp = convertToBase Base16 $ hashWith (undefined :: MD5) $ inp\n",
    "\n",
    "calcQHash :: Word8 -> B.ByteString -> IO Bool\n",
    "calcQHash byte inp = do\n",
    "    let match = matching byte $ calcHash inp\n",
    "    return match\n",
    "\n",
    "findIndex currentIndex 64    = return (currentIndex-1)\n",
    "findIndex currentIndex count = case triple (calcHash (hashInput currentIndex)) of\n",
    "    Just w -> do\n",
    "        matches <- or <$> mapConcurrently (calcQHash w) (next1000 currentIndex)\n",
    "        if matches\n",
    "            then findIndex (currentIndex+1) (count+1)\n",
    "            else findIndex (currentIndex+1) count\n",
    "    Nothing ->   findIndex (currentIndex+1) count\n",
    "\n",
    "findIndex 0 0"
   ]
  },
  {
   "cell_type": "code",
   "execution_count": 3,
   "metadata": {
    "collapsed": false,
    "deletable": true,
    "editable": true
   },
   "outputs": [
    {
     "data": {
      "text/plain": [
       "22045"
      ]
     },
     "metadata": {},
     "output_type": "display_data"
    }
   ],
   "source": [
    "import           Data.Sequence (Seq, ViewL(..), viewl, (|>))\n",
    "import qualified Data.Sequence as Seq\n",
    "\n",
    "stretched 0 inp = inp\n",
    "stretched n inp = stretched (n-1) $ convertToBase Base16 $ hashWith (undefined :: MD5) inp\n",
    "\n",
    "quintuples bs = filter (\\b -> B.length b >= 5) $ B.group bs\n",
    "\n",
    "initial = map (stretched 2017 . hashInput) [0..1000]\n",
    "\n",
    "match bs = (triple bs, quintuples bs)\n",
    "\n",
    "matches = Seq.fromList $ map match initial\n",
    "\n",
    "predicate word pair = let\n",
    "    fives = snd pair\n",
    "    match = filter (B.elem word) fives\n",
    "    in not $ null match\n",
    "\n",
    "findIndex' :: Seq (Maybe Word8, [B.ByteString]) -> Int -> Int -> Int\n",
    "findIndex' hashes currentIndex 64    = currentIndex - 1\n",
    "findIndex' hashes currentIndex count = case viewl hashes of\n",
    "    (Just w, _) :< rest | not $ Seq.null $ Seq.filter (predicate w) rest -> let\n",
    "        currentIndex' = currentIndex + 1\n",
    "        newHash       = match $ stretched 2017 $ hashInput (currentIndex'+1000)\n",
    "        hashes'       = rest |> newHash\n",
    "        in findIndex' hashes' currentIndex' (count+1)\n",
    "    _ :< rest                                                          -> let\n",
    "        currentIndex' = currentIndex + 1\n",
    "        newHash       = match $ stretched 2017 $ hashInput (currentIndex'+1000)\n",
    "        hashes'       = rest |> newHash\n",
    "        in findIndex' hashes' currentIndex' count\n",
    "\n",
    "findIndex' matches 0 0"
   ]
  }
 ],
 "metadata": {
  "kernelspec": {
   "display_name": "Haskell",
   "language": "haskell",
   "name": "haskell"
  },
  "language_info": {
   "codemirror_mode": "ihaskell",
   "file_extension": ".hs",
   "name": "haskell",
   "version": "8.0.2"
  }
 },
 "nbformat": 4,
 "nbformat_minor": 0
}
