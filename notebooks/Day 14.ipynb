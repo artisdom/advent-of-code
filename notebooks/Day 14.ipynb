{
 "cells": [
  {
   "cell_type": "code",
   "execution_count": 1,
   "metadata": {
    "collapsed": true
   },
   "outputs": [],
   "source": [
    "import re\n",
    "puzzle = '''Dancer can fly 27 km/s for 5 seconds, but then must rest for 132 seconds.\n",
    "Cupid can fly 22 km/s for 2 seconds, but then must rest for 41 seconds.\n",
    "Rudolph can fly 11 km/s for 5 seconds, but then must rest for 48 seconds.\n",
    "Donner can fly 28 km/s for 5 seconds, but then must rest for 134 seconds.\n",
    "Dasher can fly 4 km/s for 16 seconds, but then must rest for 55 seconds.\n",
    "Blitzen can fly 14 km/s for 3 seconds, but then must rest for 38 seconds.\n",
    "Prancer can fly 3 km/s for 21 seconds, but then must rest for 40 seconds.\n",
    "Comet can fly 18 km/s for 6 seconds, but then must rest for 103 seconds.\n",
    "Vixen can fly 18 km/s for 5 seconds, but then must rest for 84 seconds.'''\n",
    "time = 2503"
   ]
  },
  {
   "cell_type": "code",
   "execution_count": 2,
   "metadata": {
    "collapsed": false
   },
   "outputs": [],
   "source": [
    "matcher = re.compile(r'(?P<name>[A-Za-z]+?) can fly (?P<speed>\\d+) km/s for (?P<active>\\d+) seconds, but then must rest for (?P<rest>\\d+) seconds\\.')\n",
    "reindeer = {}\n",
    "for line in puzzle.splitlines():\n",
    "    match = matcher.match(line).groupdict()\n",
    "    name = match['name']\n",
    "    match['speed'], match['active'], match['rest'] = int(match['speed']), int(match['active']), int(match['rest'])\n",
    "    reindeer[name] = match"
   ]
  },
  {
   "cell_type": "code",
   "execution_count": 3,
   "metadata": {
    "collapsed": true
   },
   "outputs": [],
   "source": [
    "def distance(reindeer, time):\n",
    "    cycle_distance = reindeer['active']*reindeer['speed']\n",
    "    cycle_time = reindeer['active'] + reindeer['rest']\n",
    "    cycles = time // cycle_time\n",
    "    leftover = time % cycle_time\n",
    "    total = cycle_distance * cycles\n",
    "    if leftover <= reindeer['active']:\n",
    "        total += leftover*reindeer['speed']\n",
    "    else:\n",
    "        total += cycle_distance\n",
    "    return total"
   ]
  },
  {
   "cell_type": "code",
   "execution_count": 4,
   "metadata": {
    "collapsed": false
   },
   "outputs": [
    {
     "data": {
      "text/plain": [
       "2640"
      ]
     },
     "execution_count": 4,
     "metadata": {},
     "output_type": "execute_result"
    }
   ],
   "source": [
    "for deer in reindeer.values():\n",
    "    deer['total'] = distance(deer, time)\n",
    "max(deer['total'] for deer in reindeer.values())"
   ]
  },
  {
   "cell_type": "code",
   "execution_count": 5,
   "metadata": {
    "collapsed": false
   },
   "outputs": [
    {
     "data": {
      "text/plain": [
       "1102"
      ]
     },
     "execution_count": 5,
     "metadata": {},
     "output_type": "execute_result"
    }
   ],
   "source": [
    "for seconds in range(1, time+1):\n",
    "    for deer in reindeer.values():\n",
    "        deer['total'] = distance(deer, seconds)\n",
    "    lead = max(deer['total'] for deer in reindeer.values())\n",
    "    leaders = [deer for deer in reindeer.values() if deer['total'] == lead]\n",
    "    for leader in leaders:\n",
    "        leader['points'] = leader.get('points', 0) + 1\n",
    "max(deer.get('points', 0) for deer in reindeer.values())"
   ]
  }
 ],
 "metadata": {
  "kernelspec": {
   "display_name": "Python 3",
   "language": "python",
   "name": "python3"
  },
  "language_info": {
   "codemirror_mode": {
    "name": "ipython",
    "version": 3
   },
   "file_extension": ".py",
   "mimetype": "text/x-python",
   "name": "python",
   "nbconvert_exporter": "python",
   "pygments_lexer": "ipython3",
   "version": "3.5.0"
  }
 },
 "nbformat": 4,
 "nbformat_minor": 0
}
