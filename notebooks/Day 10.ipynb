{
 "cells": [
  {
   "cell_type": "code",
   "execution_count": 1,
   "metadata": {
    "collapsed": true
   },
   "outputs": [],
   "source": [
    "{-# LANGUAGE OverloadedStrings #-}\n",
    "\n",
    "import qualified Data.ByteString                  as B\n",
    "import qualified Data.ByteString.Char8            as B (lines)\n",
    "import qualified Data.Attoparsec.ByteString       as A\n",
    "import qualified Data.Attoparsec.ByteString.Char8 as AC\n",
    "\n",
    "input <- B.lines <$> B.readFile \"../input/day10.txt\""
   ]
  },
  {
   "cell_type": "code",
   "execution_count": 6,
   "metadata": {
    "collapsed": false
   },
   "outputs": [
    {
     "data": {
      "text/plain": [
       "[\"value 31 goes to bot 50\",\"value 13 goes to bot 60\",\"value 61 goes to bot 61\",\"value 41 goes to bot 12\",\"value 73 goes to bot 12\",\"value 7 goes to bot 32\",\"value 5 goes to bot 162\",\"value 23 goes to bot 182\",\"value 59 goes to bot 3\",\"value 71 goes to bot 103\",\"value 2 goes to bot 143\",\"value 19 goes to bot 14\",\"value 47 goes to bot 184\",\"value 67 goes to bot 185\",\"value 43 goes to bot 206\",\"value 3 goes to bot 67\",\"value 37 goes to bot 8\",\"value 29 goes to bot 18\",\"value 17 goes to bot 198\",\"value 53 goes to bot 9\",\"value 11 goes to bot 19\"]"
      ]
     },
     "metadata": {},
     "output_type": "display_data"
    }
   ],
   "source": [
    "import Data.List\n",
    "\n",
    "sortOn B.reverse $ filter (B.isInfixOf \"value\") input"
   ]
  },
  {
   "cell_type": "code",
   "execution_count": 31,
   "metadata": {
    "collapsed": false
   },
   "outputs": [
    {
     "data": {
      "text/plain": [
       "Output (Bot 135) (OtherBot (Bot 27)) (OtherBot (Bot 166))"
      ]
     },
     "metadata": {},
     "output_type": "display_data"
    }
   ],
   "source": [
    "data Bot         = Bot Int                              deriving (Eq, Show, Ord)\n",
    "data Sink        = OtherBot  Bot | Bucket Int           deriving (Eq, Show)\n",
    "data Instruction = Input Int Bot | Output Bot Sink Sink deriving (Eq, Show)\n",
    "\n",
    "data Storage = Holding (Maybe Int) (Maybe Int) deriving (Eq, Show)\n",
    "\n",
    "parseInput = do\n",
    "    value <- \"value \" *> AC.decimal <* \" goes to bot \"\n",
    "    botN  <- AC.decimal\n",
    "    return $ Input value (Bot botN)\n",
    "\n",
    "parseSink = A.choice\n",
    "    [ OtherBot . Bot <$> (\"bot \"    *> AC.decimal)\n",
    "    , Bucket         <$> (\"output \" *> AC.decimal)\n",
    "    ]\n",
    "\n",
    "parseOutput = Output\n",
    "    <$> (Bot <$> (\"bot \" *> AC.decimal))\n",
    "    <*> (\" gives low to \" *> parseSink)\n",
    "    <*> (\" and high to \"  *> parseSink)\n",
    "\n",
    "parseInstruction = A.choice [parseInput, parseOutput]\n",
    "\n",
    "parsed = map (either error id . A.parseOnly parseInstruction) input\n",
    "\n",
    "head parsed"
   ]
  },
  {
   "cell_type": "code",
   "execution_count": 38,
   "metadata": {
    "collapsed": false
   },
   "outputs": [
    {
     "data": {
      "text/plain": [
       "(Bot 93,Holding (Just 17) (Just 61))"
      ]
     },
     "metadata": {},
     "output_type": "display_data"
    }
   ],
   "source": [
    "import qualified Data.Map.Strict as M\n",
    "import qualified Data.Sequence   as S\n",
    "\n",
    "type Stored  = M.Map Bot Storage\n",
    "type Outputs = M.Map Int [Int]\n",
    "data State   = State Stored Outputs [Instruction]\n",
    "\n",
    "full :: Bot -> Stored -> Bool\n",
    "full bot stored = case M.lookup bot stored of\n",
    "    Just (Holding (Just _) (Just _)) -> True\n",
    "    _                                -> False\n",
    "\n",
    "storeInput :: Bot -> Stored -> Int -> Stored\n",
    "storeInput bot stored int = case M.lookup bot stored of\n",
    "    Nothing                         -> M.insert bot (Holding (Just         int) Nothing)            stored\n",
    "    Just (Holding (Just x) Nothing) -> M.insert bot (Holding (Just $ min x int) (Just $ max x int)) stored\n",
    "\n",
    "putBucket :: Int -> Int -> Outputs -> Outputs\n",
    "putBucket bucketNo chip outputs = case M.lookup bucketNo outputs of\n",
    "    Nothing    -> M.insert bucketNo [chip]       outputs\n",
    "    Just chips -> M.insert bucketNo (chip:chips) outputs\n",
    "\n",
    "output :: Storage -> Sink -> Sink -> Stored -> Outputs -> (Stored, Outputs)\n",
    "output (Holding (Just mn) (Just mx)) sink1 sink2 stored outputs = let\n",
    "    (stored',outputs') = case sink1 of\n",
    "        OtherBot bot -> (storeInput bot stored mn, outputs)\n",
    "        Bucket b     -> (stored, putBucket b mn outputs)\n",
    "    (stored'',outputs'') = case sink2 of\n",
    "        OtherBot bot' -> (storeInput bot' stored' mx, outputs')\n",
    "        Bucket b'     -> (stored', putBucket b' mx outputs')\n",
    "    in (stored'',outputs'')\n",
    "\n",
    "run (State stored outputs [])     = (stored,outputs)\n",
    "run (State stored outputs (i:is)) = case i of\n",
    "    Input int bot -> let\n",
    "        stored' = storeInput bot stored int\n",
    "        in run (State stored' outputs is)\n",
    "    Output bot sink1 sink2\n",
    "        | not $ full bot stored -> run (State stored outputs (is++[i]))\n",
    "        | otherwise             -> let\n",
    "            value              = stored M.! bot\n",
    "            (stored',outputs') = output value sink1 sink2 stored outputs\n",
    "            in run (State stored' outputs' is)\n",
    "    \n",
    "result = run (State M.empty M.empty parsed)\n",
    "\n",
    "matcher (_,(Holding (Just 17) (Just 61))) = True\n",
    "matcher _                                 = False\n",
    "\n",
    "head $ filter matcher $ M.toList (fst result)"
   ]
  },
  {
   "cell_type": "code",
   "execution_count": 48,
   "metadata": {
    "collapsed": false
   },
   "outputs": [
    {
     "data": {
      "text/plain": [
       "47101"
      ]
     },
     "metadata": {},
     "output_type": "display_data"
    }
   ],
   "source": [
    "outputs = snd result\n",
    "head (outputs M.! 0) * head (outputs M.! 1) * head (outputs M.! 2)"
   ]
  }
 ],
 "metadata": {
  "kernelspec": {
   "display_name": "Haskell",
   "language": "haskell",
   "name": "haskell"
  },
  "language_info": {
   "codemirror_mode": "ihaskell",
   "file_extension": ".hs",
   "name": "haskell",
   "version": "7.10.3"
  }
 },
 "nbformat": 4,
 "nbformat_minor": 0
}
