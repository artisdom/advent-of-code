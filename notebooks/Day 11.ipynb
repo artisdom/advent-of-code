{
 "cells": [
  {
   "cell_type": "code",
   "execution_count": 3,
   "metadata": {
    "collapsed": false
   },
   "outputs": [],
   "source": [
    "from string import ascii_lowercase\n",
    "\n",
    "char_to_digit = lambda c: ord(c)-97\n",
    "digit_to_char = lambda d: ascii_lowercase[d]\n",
    "\n",
    "def increment_list(ls):\n",
    "    *init, last = ls\n",
    "    last +=1\n",
    "    if last >= 26:\n",
    "        last -= 26\n",
    "        if init != []:\n",
    "            init = increment_list(init)\n",
    "    return [*init, last]\n",
    "\n",
    "def increment_string(string):\n",
    "    ls = [char_to_digit(c) for c in string]\n",
    "    incremented = increment_list(ls)\n",
    "    string = ''.join(digit_to_char(d) for d in incremented)\n",
    "    return string"
   ]
  },
  {
   "cell_type": "code",
   "execution_count": 8,
   "metadata": {
    "collapsed": false
   },
   "outputs": [],
   "source": [
    "import re\n",
    "asc = re.compile('(' + '|'.join(''.join(seq) for seq in zip(ascii_lowercase,ascii_lowercase[1:],ascii_lowercase[2:])) + ')')\n",
    "exc = re.compile('[^lio]')\n",
    "dbl = re.compile(r'([a-z])\\1.*?([a-z])\\2')\n",
    "requirements = lambda string: asc.search(string) and exc.search(string) and dbl.search(string)"
   ]
  },
  {
   "cell_type": "code",
   "execution_count": 9,
   "metadata": {
    "collapsed": false
   },
   "outputs": [
    {
     "name": "stdout",
     "output_type": "stream",
     "text": [
      "vzbxxyzz\n"
     ]
    }
   ],
   "source": [
    "puzzle = 'vzbxkghb'\n",
    "string = puzzle\n",
    "while not requirements(string):\n",
    "    string = increment_string(string)\n",
    "print(string)"
   ]
  },
  {
   "cell_type": "code",
   "execution_count": 11,
   "metadata": {
    "collapsed": false
   },
   "outputs": [
    {
     "name": "stdout",
     "output_type": "stream",
     "text": [
      "vzcaabcc\n"
     ]
    }
   ],
   "source": [
    "string = increment_string(string)\n",
    "while not requirements(string):\n",
    "    string = increment_string(string)\n",
    "print(string)"
   ]
  }
 ],
 "metadata": {
  "kernelspec": {
   "display_name": "Python 3",
   "language": "python",
   "name": "python3"
  },
  "language_info": {
   "codemirror_mode": {
    "name": "ipython",
    "version": 3
   },
   "file_extension": ".py",
   "mimetype": "text/x-python",
   "name": "python",
   "nbconvert_exporter": "python",
   "pygments_lexer": "ipython3",
   "version": "3.5.0"
  }
 },
 "nbformat": 4,
 "nbformat_minor": 0
}
