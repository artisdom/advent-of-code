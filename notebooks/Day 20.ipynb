{
 "cells": [
  {
   "cell_type": "code",
   "execution_count": 2,
   "metadata": {
    "collapsed": false
   },
   "outputs": [
    {
     "name": "stdout",
     "output_type": "stream",
     "text": [
      "786240\n"
     ]
    }
   ],
   "source": [
    "# Help from http://markheath.net/post/advent-of-code-day20\n",
    "target = 34000000\n",
    "houses = [0] * int(34000000/10)\n",
    "for elf in range(1, len(houses)):\n",
    "    for house in range(elf, len(houses), elf):\n",
    "        houses[house] += elf * 10\n",
    "\n",
    "for house in houses:\n",
    "    if houses[house] > target:\n",
    "        print(house)\n",
    "        break"
   ]
  },
  {
   "cell_type": "code",
   "execution_count": 10,
   "metadata": {
    "collapsed": false
   },
   "outputs": [
    {
     "name": "stdout",
     "output_type": "stream",
     "text": [
      "831600\n"
     ]
    }
   ],
   "source": [
    "houses = [0] * ((34000000//11)+1)\n",
    "for elf in range(1, len(houses)):\n",
    "    for house in range(elf, min(50*elf, len(houses)), elf):\n",
    "        houses[house] += elf*11\n",
    "        \n",
    "for house in range(len(houses)):\n",
    "    if houses[house] >= target:\n",
    "        print(house)\n",
    "        break"
   ]
  }
 ],
 "metadata": {
  "kernelspec": {
   "display_name": "Python 3",
   "language": "python",
   "name": "python3"
  },
  "language_info": {
   "codemirror_mode": {
    "name": "ipython",
    "version": 3
   },
   "file_extension": ".py",
   "mimetype": "text/x-python",
   "name": "python",
   "nbconvert_exporter": "python",
   "pygments_lexer": "ipython3",
   "version": "3.5.0"
  }
 },
 "nbformat": 4,
 "nbformat_minor": 0
}
