{
 "cells": [
  {
   "cell_type": "code",
   "execution_count": 1,
   "metadata": {
    "collapsed": false,
    "deletable": true,
    "editable": true
   },
   "outputs": [
    {
     "data": {
      "text/plain": [
       "17348574"
      ]
     },
     "metadata": {},
     "output_type": "display_data"
    }
   ],
   "source": [
    "import Data.List\n",
    "import Data.List.Split\n",
    "\n",
    "input <- sortOn head . map (map (\\i -> read i :: Int) . splitOn \"-\") . lines <$> readFile \"../input/day20.txt\"\n",
    "\n",
    "remove mn ([mn',mx]:pairs) =\n",
    "    if mn < mn' \n",
    "        then mn \n",
    "        else let\n",
    "            (maxes,pairs') = partition (\\p -> head p <= mx) pairs\n",
    "            mx' = maximum $ mx:map (head . tail) maxes\n",
    "            in remove (mx'+1) pairs'\n",
    "\n",
    "remove 0 input"
   ]
  },
  {
   "cell_type": "code",
   "execution_count": 2,
   "metadata": {
    "collapsed": false,
    "deletable": true,
    "editable": true
   },
   "outputs": [
    {
     "data": {
      "text/plain": [
       "104"
      ]
     },
     "metadata": {},
     "output_type": "display_data"
    }
   ],
   "source": [
    "countIPs count mn [] = count\n",
    "countIPs count mn ([mn',mx]:pairs) = let\n",
    "    (maxes, pairs') = partition (\\p -> head p <= mx) pairs\n",
    "    mx'             = maximum $ mx:map (head . tail) maxes\n",
    "    count'          = if mn < mn' then count + (mn' - mn) else count\n",
    "    in countIPs count' (max mn (mx'+1)) pairs'\n",
    "\n",
    "countIPs 0 0 input"
   ]
  }
 ],
 "metadata": {
  "kernelspec": {
   "display_name": "Haskell",
   "language": "haskell",
   "name": "haskell"
  },
  "language_info": {
   "codemirror_mode": "ihaskell",
   "file_extension": ".hs",
   "name": "haskell",
   "version": "8.0.2"
  }
 },
 "nbformat": 4,
 "nbformat_minor": 0
}
