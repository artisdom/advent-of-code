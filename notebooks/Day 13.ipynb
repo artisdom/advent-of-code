{
 "cells": [
  {
   "cell_type": "code",
   "execution_count": 1,
   "metadata": {
    "collapsed": false,
    "deletable": true,
    "editable": true
   },
   "outputs": [],
   "source": [
    "import           Data.Sequence (Seq, ViewL(..), viewl, (><))\n",
    "import qualified Data.Sequence as Seq\n",
    "import Data.Bits (popCount)\n",
    "\n",
    "input = 1362\n",
    "\n",
    "valid (x,y)\n",
    "    | x<0 || y<0 = False\n",
    "    | otherwise  = True\n",
    "\n",
    "space c@(x,y) | not (valid c) = False\n",
    "space (x,y)                   = popCount (x*x + 3*x + 2*x*y + y + y*y + input) `mod` 2 == 0\n",
    "\n",
    "neighbours (x,y) = filter space [(x,y-1), (x-1, y), (x+1, y), (x, y+1)]"
   ]
  },
  {
   "cell_type": "code",
   "execution_count": 2,
   "metadata": {
    "collapsed": false,
    "deletable": true,
    "editable": true
   },
   "outputs": [
    {
     "data": {
      "text/plain": [
       "82"
      ]
     },
     "metadata": {},
     "output_type": "display_data"
    }
   ],
   "source": [
    "run queue visited = case viewl queue of\n",
    "    ((31, 39), s) :< _    -> s\n",
    "    (c@(x, y), s) :< rest -> let\n",
    "        unvisited = filter (`notElem` visited) $ neighbours c\n",
    "        withSteps = Seq.fromList $ map (\\coord -> (coord, s+1)) unvisited\n",
    "        queue'    = rest >< withSteps\n",
    "        visited'  = c:visited\n",
    "        in run queue' visited'\n",
    "\n",
    "initial = Seq.fromList [((1,1), 0)]\n",
    "run initial []"
   ]
  },
  {
   "cell_type": "code",
   "execution_count": 3,
   "metadata": {
    "collapsed": false,
    "deletable": true,
    "editable": true
   },
   "outputs": [
    {
     "data": {
      "text/plain": [
       "138"
      ]
     },
     "metadata": {},
     "output_type": "display_data"
    }
   ],
   "source": [
    "import qualified Data.Set as Set\n",
    "\n",
    "reachable queue visited = case viewl queue of\n",
    "    (_, 51)       :< _    -> visited\n",
    "    (c@(x, y), s) :< rest -> let\n",
    "        unvisited = filter (`notElem` visited) $ neighbours c\n",
    "        withSteps = Seq.fromList $ map (\\coord -> (coord, s+1)) unvisited\n",
    "        queue'    = rest >< withSteps\n",
    "        visited'  = c:visited\n",
    "        in reachable queue' visited'\n",
    "\n",
    "initial = Seq.fromList [((1,1), 0)]\n",
    "Set.size $ Set.fromList $ reachable initial []"
   ]
  }
 ],
 "metadata": {
  "kernelspec": {
   "display_name": "Haskell",
   "language": "haskell",
   "name": "haskell"
  },
  "language_info": {
   "codemirror_mode": "ihaskell",
   "file_extension": ".hs",
   "name": "haskell",
   "version": "8.0.2"
  }
 },
 "nbformat": 4,
 "nbformat_minor": 0
}
