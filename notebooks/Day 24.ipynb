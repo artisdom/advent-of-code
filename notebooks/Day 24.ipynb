{
 "cells": [
  {
   "cell_type": "code",
   "execution_count": 1,
   "metadata": {
    "collapsed": false,
    "deletable": true,
    "editable": true
   },
   "outputs": [],
   "source": [
    "import qualified Data.Sequence       as Seq\n",
    "import qualified Data.Set            as Set\n",
    "import qualified Data.Map.Strict     as M\n",
    "import Data.List\n",
    "\n",
    "input <- readFile \"../input/day24.txt\"\n",
    "\n",
    "mapMap :: String -> M.Map (Int, Int) Char\n",
    "mapMap input = M.fromList [((x,y), c) | (y, line) <- zip [0..] (lines input), (x, c) <- zip [0..] line, c /='#']\n",
    "\n",
    "\n",
    "findPos p maze = let\n",
    "    list = M.toList maze\n",
    "    Just (coord,_) = find (\\v -> snd v ==p) list\n",
    "    in coord\n",
    "\n",
    "neighbours (x,y) maze visited = let\n",
    "    possible = [(x-1,y), (x+1, y), (x,y-1), (x,y+1)]\n",
    "    paths    = filter (\\c -> M.member c maze && Set.notMember c visited) possible\n",
    "    in paths\n",
    "\n",
    "to coords maze queue visited = case Seq.viewl queue of\n",
    "    (coord, count) Seq.:< t | coord == coords -> count\n",
    "    (coord, count) Seq.:< t                   -> let\n",
    "        visited' = Set.insert coord visited\n",
    "        ns       = neighbours coord maze visited\n",
    "        count'   = count + 1\n",
    "        queue'   = (Seq.dropWhileL (\\(c,_) -> Set.member c visited') t) Seq.>< Seq.fromList (map (\\n -> (n, count')) ns)\n",
    "        in to coords maze queue' visited'\n",
    "\n",
    "shortestPath  start dest maze = to dest maze (Seq.singleton (start, 0)) Set.empty\n",
    "shortestPath' start dest maze = shortestPath (findPos start maze) (findPos dest maze)  maze\n",
    "\n",
    "\n",
    "mz = mapMap input"
   ]
  },
  {
   "cell_type": "code",
   "execution_count": 2,
   "metadata": {
    "collapsed": false,
    "deletable": true,
    "editable": true
   },
   "outputs": [
    {
     "data": {
      "text/plain": [
       "2"
      ]
     },
     "metadata": {},
     "output_type": "display_data"
    },
    {
     "data": {
      "text/plain": [
       "238"
      ]
     },
     "metadata": {},
     "output_type": "display_data"
    }
   ],
   "source": [
    "test = unlines\n",
    "    [ \"###########\"\n",
    "    , \"#0.1.....2#\"\n",
    "    , \"#.#######.#\"\n",
    "    , \"#4.......3#\"\n",
    "    , \"###########\"\n",
    "    ]\n",
    "\n",
    "testInput = mapMap test\n",
    "\n",
    "shortestPath' '0' '4' testInput\n",
    "shortestPath' '0' '4' mz"
   ]
  },
  {
   "cell_type": "code",
   "execution_count": 3,
   "metadata": {
    "collapsed": false,
    "deletable": true,
    "editable": true
   },
   "outputs": [],
   "source": [
    "paths = [[x,y] | x <- \"01234567\", y <- \"01234567\", y /= x]\n",
    "    \n",
    "pathMap = foldl' (\\acc [a,b] -> M.insert [a,b] (shortestPath' a b mz) acc) M.empty paths"
   ]
  },
  {
   "cell_type": "code",
   "execution_count": 4,
   "metadata": {
    "collapsed": false,
    "deletable": true,
    "editable": true
   },
   "outputs": [
    {
     "data": {
      "text/plain": [
       "474"
      ]
     },
     "metadata": {},
     "output_type": "display_data"
    }
   ],
   "source": [
    "possible = map ('0':) $ permutations \"1234567\"\n",
    "\n",
    "cost costs path = let\n",
    "    entries = zipWith (\\a b -> [a,b]) path (tail path)\n",
    "    in sum $ map (\\pair -> costs M.! pair) entries\n",
    "\n",
    "minimum $ map (cost pathMap) possible"
   ]
  },
  {
   "cell_type": "code",
   "execution_count": 5,
   "metadata": {
    "collapsed": false,
    "deletable": true,
    "editable": true
   },
   "outputs": [
    {
     "data": {
      "text/plain": [
       "696"
      ]
     },
     "metadata": {},
     "output_type": "display_data"
    }
   ],
   "source": [
    "possible' = map (++\"0\") possible\n",
    "\n",
    "minimum $ map (cost pathMap) possible'"
   ]
  }
 ],
 "metadata": {
  "kernelspec": {
   "display_name": "Haskell",
   "language": "haskell",
   "name": "haskell"
  },
  "language_info": {
   "codemirror_mode": "ihaskell",
   "file_extension": ".hs",
   "name": "haskell",
   "version": "8.0.2"
  }
 },
 "nbformat": 4,
 "nbformat_minor": 0
}
