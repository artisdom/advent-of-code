{
 "cells": [
  {
   "cell_type": "code",
   "execution_count": 1,
   "metadata": {
    "collapsed": false,
    "deletable": true,
    "editable": true
   },
   "outputs": [],
   "source": [
    "import qualified Data.IntMap.Strict as M\n",
    "\n",
    "input = 3004953\n",
    "\n",
    "elves = M.fromList (zip [1..input] (repeat 1))"
   ]
  },
  {
   "cell_type": "code",
   "execution_count": 2,
   "metadata": {
    "collapsed": false,
    "deletable": true,
    "editable": true
   },
   "outputs": [
    {
     "data": {
      "text/plain": [
       "[(1,1),(1,2),(3,3),(1,4),(3,5),(5,6),(7,7),(1,8),(3,9),(5,10),(7,11),(9,12),(11,13),(13,14),(15,15),(1,16),(3,17),(5,18),(7,19),(9,20),(11,21),(13,22),(15,23),(17,24),(19,25),(21,26),(23,27),(25,28),(27,29),(29,30),(31,31),(1,32),(3,33),(5,34),(7,35),(9,36),(11,37),(13,38),(15,39),(17,40),(19,41),(21,42),(23,43),(25,44),(27,45),(29,46),(31,47),(33,48),(35,49),(37,50),(39,51),(41,52),(43,53),(45,54),(47,55),(49,56),(51,57),(53,58),(55,59),(57,60),(59,61),(61,62),(63,63),(1,64),(3,65),(5,66),(7,67),(9,68),(11,69),(13,70),(15,71),(17,72),(19,73),(21,74),(23,75),(25,76),(27,77),(29,78),(31,79),(33,80),(35,81),(37,82),(39,83),(41,84),(43,85),(45,86),(47,87),(49,88),(51,89),(53,90),(55,91),(57,92),(59,93),(61,94),(63,95),(65,96),(67,97),(69,98),(71,99),(73,100),(75,101),(77,102),(79,103),(81,104),(83,105),(85,106),(87,107),(89,108),(91,109),(93,110),(95,111),(97,112),(99,113),(101,114),(103,115),(105,116),(107,117),(109,118),(111,119),(113,120),(115,121),(117,122),(119,123),(121,124),(123,125),(125,126),(127,127),(1,128),(3,129),(5,130),(7,131),(9,132),(11,133),(13,134),(15,135),(17,136),(19,137),(21,138),(23,139),(25,140),(27,141),(29,142),(31,143),(33,144),(35,145),(37,146),(39,147),(41,148),(43,149),(45,150),(47,151),(49,152),(51,153),(53,154),(55,155),(57,156),(59,157),(61,158),(63,159),(65,160),(67,161),(69,162),(71,163),(73,164),(75,165),(77,166),(79,167),(81,168),(83,169),(85,170),(87,171),(89,172),(91,173),(93,174),(95,175),(97,176),(99,177),(101,178),(103,179),(105,180),(107,181),(109,182),(111,183),(113,184),(115,185),(117,186),(119,187),(121,188),(123,189),(125,190),(127,191),(129,192),(131,193),(133,194),(135,195),(137,196),(139,197),(141,198),(143,199),(145,200)]"
      ]
     },
     "metadata": {},
     "output_type": "display_data"
    }
   ],
   "source": [
    "elves' = M.fromList (zip [1..5] (repeat 1))\n",
    "\n",
    "steal :: M.Key -> M.IntMap Int -> (M.Key, Int)\n",
    "steal _     gifts | M.size gifts == 1 = head $ M.toList gifts\n",
    "steal index gifts = case M.lookupGT index gifts of\n",
    "    Nothing -> let\n",
    "        ((_, no), gifts') = M.deleteFindMin gifts\n",
    "        gifts''           = M.update (\\value -> Just (value + no)) index gifts'\n",
    "        (index', _)       = M.findMin gifts''\n",
    "        in steal index' gifts''\n",
    "    Just (index', no) -> let\n",
    "        gifts'            = M.delete index' gifts\n",
    "        gifts''           = M.update (\\value -> Just (value + no)) index gifts'\n",
    "        (index'', _) = case M.lookupGT index gifts'' of\n",
    "            Just v  -> v\n",
    "            Nothing -> M.findMin gifts''\n",
    "        in steal index'' gifts''\n",
    "\n",
    "map (\\i -> steal 1 (M.fromList $ zip [1..i] (repeat 1))) [1..200]"
   ]
  },
  {
   "cell_type": "code",
   "execution_count": 3,
   "metadata": {
    "collapsed": false,
    "deletable": true,
    "editable": true
   },
   "outputs": [
    {
     "data": {
      "text/plain": [
       "1815603"
      ]
     },
     "metadata": {},
     "output_type": "display_data"
    }
   ],
   "source": [
    "(input - (2^floor (logBase 2 input)))*2 + 1"
   ]
  },
  {
   "cell_type": "code",
   "execution_count": 4,
   "metadata": {
    "collapsed": false,
    "deletable": true,
    "editable": true
   },
   "outputs": [
    {
     "data": {
      "text/plain": [
       "1410630"
      ]
     },
     "metadata": {},
     "output_type": "display_data"
    }
   ],
   "source": [
    "import qualified Data.Sequence as S\n",
    "\n",
    "elvesS = S.fromList [1..input]\n",
    "\n",
    "step s = case S.viewl s of\n",
    "    e S.:< es\n",
    "        | S.null es -> e\n",
    "        | otherwise -> let\n",
    "            remove = (S.length s `div` 2) - 1\n",
    "            (l, r) = S.splitAt remove es\n",
    "            es'    = (l S.>< (S.drop 1 r)) S.|> e\n",
    "            in step es'\n",
    "\n",
    "step elvesS"
   ]
  }
 ],
 "metadata": {
  "kernelspec": {
   "display_name": "Haskell",
   "language": "haskell",
   "name": "haskell"
  },
  "language_info": {
   "codemirror_mode": "ihaskell",
   "file_extension": ".hs",
   "name": "haskell",
   "version": "8.0.2"
  }
 },
 "nbformat": 4,
 "nbformat_minor": 0
}
