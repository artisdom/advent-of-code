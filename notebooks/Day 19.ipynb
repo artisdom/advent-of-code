{
 "cells": [
  {
   "cell_type": "code",
   "execution_count": 1,
   "metadata": {
    "collapsed": false
   },
   "outputs": [],
   "source": [
    "import re\n",
    "transition = re.compile(r'([A-Za-z]*) => ([A-Za-z]*)')\n",
    "element = re.compile(r'[A-Z][a-z]?')\n",
    "puzzle_transitions = '''Al => ThF\n",
    "Al => ThRnFAr\n",
    "B => BCa\n",
    "B => TiB\n",
    "B => TiRnFAr\n",
    "Ca => CaCa\n",
    "Ca => PB\n",
    "Ca => PRnFAr\n",
    "Ca => SiRnFYFAr\n",
    "Ca => SiRnMgAr\n",
    "Ca => SiTh\n",
    "F => CaF\n",
    "F => PMg\n",
    "F => SiAl\n",
    "H => CRnAlAr\n",
    "H => CRnFYFYFAr\n",
    "H => CRnFYMgAr\n",
    "H => CRnMgYFAr\n",
    "H => HCa\n",
    "H => NRnFYFAr\n",
    "H => NRnMgAr\n",
    "H => NTh\n",
    "H => OB\n",
    "H => ORnFAr\n",
    "Mg => BF\n",
    "Mg => TiMg\n",
    "N => CRnFAr\n",
    "N => HSi\n",
    "O => CRnFYFAr\n",
    "O => CRnMgAr\n",
    "O => HP\n",
    "O => NRnFAr\n",
    "O => OTi\n",
    "P => CaP\n",
    "P => PTi\n",
    "P => SiRnFAr\n",
    "Si => CaSi\n",
    "Th => ThCa\n",
    "Ti => BP\n",
    "Ti => TiTi\n",
    "e => HF\n",
    "e => NAl\n",
    "e => OMg\n",
    "'''\n",
    "puzzle_molecule = '''CRnCaCaCaSiRnBPTiMgArSiRnSiRnMgArSiRnCaFArTiTiBSiThFYCaFArCaCaSiThCaPBSiThSiThCaCaPTiRnPBSiThRnFArArCaCaSiThCaSiThSiRnMgArCaPTiBPRnFArSiThCaSiRnFArBCaSiRnCaPRnFArPMgYCaFArCaPTiTiTiBPBSiThCaPTiBPBSiRnFArBPBSiRnCaFArBPRnSiRnFArRnSiRnBFArCaFArCaCaCaSiThSiThCaCaPBPTiTiRnFArCaPTiBSiAlArPBCaCaCaCaCaSiRnMgArCaSiThFArThCaSiThCaSiRnCaFYCaSiRnFYFArFArCaSiRnFYFArCaSiRnBPMgArSiThPRnFArCaSiRnFArTiRnSiRnFYFArCaSiRnBFArCaSiRnTiMgArSiThCaSiThCaFArPRnFArSiRnFArTiTiTiTiBCaCaSiRnCaCaFYFArSiThCaPTiBPTiBCaSiThSiRnMgArCaF'''"
   ]
  },
  {
   "cell_type": "code",
   "execution_count": 2,
   "metadata": {
    "collapsed": true
   },
   "outputs": [],
   "source": [
    "transitions = [transition.search(line).group(1,2)for line in puzzle_transitions.splitlines()]\n",
    "molecule = element.findall(puzzle_molecule)"
   ]
  },
  {
   "cell_type": "code",
   "execution_count": 3,
   "metadata": {
    "collapsed": false
   },
   "outputs": [],
   "source": [
    "molecules = set()\n",
    "for (a,b) in transitions:\n",
    "    for i, elem in enumerate(molecule):\n",
    "        if a==elem:\n",
    "            new_mol = ''.join(molecule[:i] + [b] + molecule[i+1:])\n",
    "            molecules.add(new_mol)"
   ]
  },
  {
   "cell_type": "code",
   "execution_count": 4,
   "metadata": {
    "collapsed": false
   },
   "outputs": [
    {
     "data": {
      "text/plain": [
       "535"
      ]
     },
     "execution_count": 4,
     "metadata": {},
     "output_type": "execute_result"
    }
   ],
   "source": [
    "len(molecules)"
   ]
  },
  {
   "cell_type": "markdown",
   "metadata": {},
   "source": [
    "Source: /u/askalski at https://www.reddit.com/r/adventofcode/comments/3xflz8/day_19_solutions/cy4etju\n",
    "\n",
    "No leaderboard for me today, because I decided to sleep on Part 2, before solving it by hand.  Since there's really no code to speak of, I'll talk about the solution.\n",
    "\n",
    "## First insight\n",
    "\n",
    "There are only two types of productions:\n",
    "\n",
    "1. `e => XX` and `X => XX` (X is not Rn, Y, or Ar)\n",
    "2. `X => X Rn X Ar | X Rn X Y X Ar  | X Rn X Y X Y X Ar`\n",
    "\n",
    "## Second insight\n",
    "\n",
    "You can think of `Rn Y Ar` as the characters `( , )`:\n",
    "\n",
    "    X => X(X) | X(X,X) | X(X,X,X)\n",
    "\n",
    "Whenever there are two adjacent \"elements\" in your \"molecule\", you apply the first production.  This reduces your molecule length by 1 each time.\n",
    "\n",
    "And whenever you have `T(T)` `T(T,T)` or `T(T,T,T)` (T is a literal token such as \"Mg\", i.e. not a nonterminal like \"TiTiCaCa\"), you apply the second production.  This reduces your molecule length by 3, 5, or 7.\n",
    "\n",
    "## Third insight\n",
    "\n",
    "Repeatedly applying `X => XX` until you arrive at a single token takes `count(tokens) - 1` steps:\n",
    "\n",
    "    ABCDE => XCDE => XDE => XE => X\n",
    "    count(\"ABCDE\") = 5\n",
    "    5 - 1 = 4 steps\n",
    "\n",
    "Applying `X => X(X)` is similar to `X => XX`, except you get the `()` for free.  This can be expressed as `count(tokens) - count(\"(\" or \")\") - 1`.\n",
    "\n",
    "    A(B(C(D(E)))) => A(B(C(X))) => A(B(X)) => A(X) => X\n",
    "    count(\"A(B(C(D(E))))\") = 13\n",
    "    count(\"(((())))\") = 8\n",
    "    13 - 8 - 1 = 4 steps\n",
    "\n",
    "You can generalize to `X => X(X,X)` by noting that each `,` reduces the length by two (`,X`).  The new formula is `count(tokens) - count(\"(\" or \")\") - 2*count(\",\") - 1`.\n",
    "\n",
    "    A(B(C,D),E(F,G)) => A(B(C,D),X) => A(X,X) => X\n",
    "    count(\"A(B(C,D),E(F,G))\") = 16\n",
    "    count(\"(()())\") = 6\n",
    "    count(\",,,\") = 3\n",
    "    16 - 6 - 2*3 - 1 = 3 steps\n",
    "\n",
    "This final formula works for _all_ of the production types (for `X => XX`, the `(,)` counts are zero by definition.)\n",
    "\n",
    "## The solution\n",
    "\n",
    "My input file had:\n",
    "\n",
    "    295 elements in total\n",
    "     68 were Rn and Ar (the `(` and `)`)\n",
    "      7 were Y (the `,`)\n",
    "\n",
    "Plugging in the numbers:\n",
    "\n",
    "    295 - 68 - 2*7 - 1 = 212\n",
    "\n",
    "Like I said, no leaderboard position today, but this was a heck of a lot more interesting than writing yet another brute force script."
   ]
  },
  {
   "cell_type": "code",
   "execution_count": 5,
   "metadata": {
    "collapsed": false
   },
   "outputs": [
    {
     "data": {
      "text/plain": [
       "212"
      ]
     },
     "execution_count": 5,
     "metadata": {},
     "output_type": "execute_result"
    }
   ],
   "source": [
    "element_count = len(molecule)\n",
    "bracket_count = len(list(filter(lambda x: x in ('Rn', 'Ar'), molecule)))\n",
    "comma_count = len(list(filter(lambda x: x=='Y', molecule)))\n",
    "element_count - bracket_count - (2*comma_count) - 1"
   ]
  }
 ],
 "metadata": {
  "kernelspec": {
   "display_name": "Python 3",
   "language": "python",
   "name": "python3"
  },
  "language_info": {
   "codemirror_mode": {
    "name": "ipython",
    "version": 3
   },
   "file_extension": ".py",
   "mimetype": "text/x-python",
   "name": "python",
   "nbconvert_exporter": "python",
   "pygments_lexer": "ipython3",
   "version": "3.5.0"
  }
 },
 "nbformat": 4,
 "nbformat_minor": 0
}
