{
 "cells": [
  {
   "cell_type": "code",
   "execution_count": null,
   "metadata": {
    "collapsed": false
   },
   "outputs": [],
   "source": [
    "import qualified Data.Sequence as S\n",
    "import Data.Foldable (toList)\n",
    "import Control.Concurrent.Async (mapConcurrently)\n",
    "\n",
    "input = makeB \"01111010110010011\"\n",
    "\n",
    "makeB = S.fromList . fmap (\\c -> case c of\n",
    "    '1' -> True\n",
    "    '0' -> False)\n",
    "\n",
    "showB = toList . fmap (\\b -> if b then '1' else '0')\n",
    "\n",
    "dragon boolArr = boolArr S.>< (False S.<| (fmap not $ S.reverse boolArr))\n",
    "\n",
    "\n",
    "showB (dragon (makeB \"111100001010\")) == \"1111000010100101011110000\""
   ]
  },
  {
   "cell_type": "code",
   "execution_count": null,
   "metadata": {
    "collapsed": false
   },
   "outputs": [],
   "source": [
    "fillDisk input len\n",
    "    | S.length input >= len = S.take len input\n",
    "    | otherwise           = fillDisk (dragon input) len\n",
    "\n",
    "filled = fillDisk input 272\n",
    "\n",
    "checksum code acc\n",
    "    | S.null   code              = checksum acc S.empty\n",
    "    | S.length code `mod` 2 == 1 = code\n",
    "    | otherwise                  = let\n",
    "        (xy, rest) = S.splitAt 2 code\n",
    "        x S.:< y'  = S.viewl xy\n",
    "        y S.:< _   = S.viewl y'\n",
    "        in checksum rest (acc S.|> (x==y))\n",
    "\n",
    "showB $ checksum filled S.empty"
   ]
  },
  {
   "cell_type": "code",
   "execution_count": null,
   "metadata": {
    "collapsed": false
   },
   "outputs": [],
   "source": [
    "filled' = fillDisk input 35651584\n",
    "S.length filled'"
   ]
  },
  {
   "cell_type": "code",
   "execution_count": null,
   "metadata": {
    "collapsed": false
   },
   "outputs": [],
   "source": [
    "{-\n",
    "checksum8 code acc\n",
    "    | S.null   code              = if (S.length acc `mod` 2 == 1)\n",
    "        then acc\n",
    "        else checksum8 acc S.empty\n",
    "    | S.length code < 8          = let\n",
    "        (xy, rest) = S.splitAt 2 code\n",
    "        x S.:< y'  = S.viewl xy\n",
    "        y S.:< _   = S.viewl y'\n",
    "        in checksum8 rest (acc S.|> (x==y))\n",
    "    | otherwise                  = let\n",
    "        (as, rest) = S.splitAt 8 code\n",
    "        a S.:< bs  = S.viewl as\n",
    "        b S.:< cs  = S.viewl bs\n",
    "        c S.:< ds  = S.viewl cs\n",
    "        d S.:< es  = S.viewl ds\n",
    "        e S.:< fs  = S.viewl es\n",
    "        f S.:< gs  = S.viewl fs\n",
    "        g S.:< hs  = S.viewl gs\n",
    "        h S.:< _   = S.viewl hs\n",
    "        value      = ((a==b)==(c==d))==((e==f)==(g==h))\n",
    "        in checksum8 rest (acc S.|> value)\n",
    "-}\n",
    "\n",
    "take8 :: S.Seq a -> S.Seq (S.Seq a)\n",
    "take8 sq = let\n",
    "    (h, t) = S.splitAt 8 sq\n",
    "    in if S.null t\n",
    "        then h S.<| S.empty\n",
    "        else h S.<| take8 t\n",
    "\n",
    "checksum8 array | S.length array /= 8 = error \"array not of length 8\"\n",
    "checksum8 array = let\n",
    "    (as, rest) = S.splitAt 8 array\n",
    "    a S.:< bs  = S.viewl as\n",
    "    b S.:< cs  = S.viewl bs\n",
    "    c S.:< ds  = S.viewl cs\n",
    "    d S.:< es  = S.viewl ds\n",
    "    e S.:< fs  = S.viewl es\n",
    "    f S.:< gs  = S.viewl fs\n",
    "    g S.:< hs  = S.viewl gs\n",
    "    h S.:< _   = S.viewl hs\n",
    "    value      = ((a==b)==(c==d))==((e==f)==(g==h))\n",
    "    in value\n",
    "\n",
    "concurrentCheckSum inputArr | S.length inputArr `mod` 2 == 1 = return inputArr\n",
    "concurrentCheckSum inputArr = do\n",
    "    let chunks = take8 inputArr\n",
    "    result <- mapConcurrently (return . checksum8) chunks\n",
    "    concurrentCheckSum result\n",
    "    \n",
    "concurrentCheckSum filled'\n",
    "\n",
    "\n",
    "logBase 16 35651584\n",
    "\n",
    "35651584 / 16^5\n",
    "\n",
    "-- showB $ checksum8 filled' S.empty"
   ]
  }
 ],
 "metadata": {
  "kernelspec": {
   "display_name": "Haskell",
   "language": "haskell",
   "name": "haskell"
  },
  "language_info": {
   "codemirror_mode": "ihaskell",
   "file_extension": ".hs",
   "name": "haskell",
   "version": "7.10.3"
  }
 },
 "nbformat": 4,
 "nbformat_minor": 0
}
