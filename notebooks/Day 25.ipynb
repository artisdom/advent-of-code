{
 "cells": [
  {
   "cell_type": "code",
   "execution_count": 1,
   "metadata": {
    "collapsed": true
   },
   "outputs": [],
   "source": [
    "{-# LANGUAGE OverloadedStrings #-}\n",
    "\n",
    "import qualified Data.ByteString                  as B\n",
    "import qualified Data.ByteString.Char8            as B (lines)\n",
    "import qualified Data.Attoparsec.ByteString       as A\n",
    "import qualified Data.Attoparsec.ByteString.Char8 as AC\n",
    "\n",
    "input <- B.lines <$> B.readFile \"../input/day25.txt\""
   ]
  },
  {
   "cell_type": "code",
   "execution_count": 3,
   "metadata": {
    "collapsed": false
   },
   "outputs": [
    {
     "data": {
      "text/plain": [
       "Cpy (Right A) D\n",
       "Cpy (Left 15) C\n",
       "Cpy (Left 170) B\n",
       "Inc D\n",
       "Dec B\n",
       "Jnz (Right B) (Left (-2))\n",
       "Dec C\n",
       "Jnz (Right C) (Left (-5))\n",
       "Cpy (Right D) A\n",
       "Jnz (Left 0) (Left 0)\n",
       "Cpy (Right A) B\n",
       "Cpy (Left 0) A\n",
       "Cpy (Left 2) C\n",
       "Jnz (Right B) (Left 2)\n",
       "Jnz (Left 1) (Left 6)\n",
       "Dec B\n",
       "Dec C\n",
       "Jnz (Right C) (Left (-4))\n",
       "Inc A\n",
       "Jnz (Left 1) (Left (-7))\n",
       "Cpy (Left 2) B\n",
       "Jnz (Right C) (Left 2)\n",
       "Jnz (Left 1) (Left 4)\n",
       "Dec B\n",
       "Dec C\n",
       "Jnz (Left 1) (Left (-4))\n",
       "Jnz (Left 0) (Left 0)\n",
       "Out B\n",
       "Jnz (Right A) (Left (-19))\n",
       "Jnz (Left 1) (Left (-21))"
      ]
     },
     "metadata": {},
     "output_type": "display_data"
    }
   ],
   "source": [
    "import Data.List\n",
    "\n",
    "data Register = A | B | C | D deriving (Eq, Show, Ord)\n",
    "\n",
    "data Instruction\n",
    "    = Cpy (Either Int Register) Register\n",
    "    | Inc Register\n",
    "    | Dec Register\n",
    "    | Jnz (Either Int Register) (Either Int Register)\n",
    "    | Out Register\n",
    "    | Invalid Instruction\n",
    "    deriving (Eq, Show)\n",
    "\n",
    "parseRegister = A.choice\n",
    "    [ A.string \"a\" *> (return A)\n",
    "    , A.string \"b\" *> (return B)\n",
    "    , A.string \"c\" *> (return C)\n",
    "    , A.string \"d\" *> (return D)\n",
    "    ]\n",
    "\n",
    "parseCpy = do\n",
    "    A.string \"cpy\"\n",
    "    AC.space\n",
    "    value <- A.choice [Left <$> AC.signed AC.decimal, Right <$> parseRegister]\n",
    "    AC.space\n",
    "    reg <- parseRegister\n",
    "    return $ Cpy value reg\n",
    "\n",
    "parseInc = do\n",
    "    A.string \"inc\"\n",
    "    AC.space\n",
    "    reg <- parseRegister\n",
    "    return $ Inc reg\n",
    "\n",
    "parseDec = do\n",
    "    A.string \"dec\"\n",
    "    AC.space\n",
    "    reg <- parseRegister\n",
    "    return $ Dec reg\n",
    "\n",
    "parseJnz = do\n",
    "    A.string \"jnz\"\n",
    "    AC.space\n",
    "    reg <- A.choice [Left <$> AC.signed AC.decimal, Right <$> parseRegister]\n",
    "    AC.space\n",
    "    jmp <- A.choice [Left <$> AC.signed AC.decimal, Right <$> parseRegister]\n",
    "    return $ Jnz reg jmp\n",
    "\n",
    "parseOut = do\n",
    "    A.string \"out\"\n",
    "    AC.space\n",
    "    reg <- parseRegister\n",
    "    return $ Out reg\n",
    "\n",
    "parseInstruction = A.choice [parseCpy, parseInc, parseDec, parseJnz, parseOut]\n",
    "\n",
    "parsed = map (either error id . A.parseOnly parseInstruction) input\n",
    "mapM_ print parsed"
   ]
  },
  {
   "cell_type": "code",
   "execution_count": 62,
   "metadata": {
    "collapsed": false
   },
   "outputs": [
    {
     "data": {
      "text/plain": [
       "(Computer {pointer = 28, registers = fromList [(A,2),(B,0),(C,0),(D,2552)]},[0,0,0,1,1,1,1,1,1,0])"
      ]
     },
     "metadata": {},
     "output_type": "display_data"
    }
   ],
   "source": [
    "-- import Control.Monad.Trans.State\n",
    "import qualified Data.Map.Strict as M\n",
    "import qualified Data.Vector     as V\n",
    "\n",
    "type Registers = M.Map Register Int\n",
    "data Computer = Computer\n",
    "    { pointer      :: Int\n",
    "    , registers    :: Registers\n",
    "    } deriving (Eq, Show)\n",
    "\n",
    "-- {-- Peephole optimisations\n",
    "runInstr (Computer 3 rs) _ = let\n",
    "    d'   = (rs M.! D) + (rs M.! B)\n",
    "    rs'  = M.insert D d' rs\n",
    "    rs'' = M.insert B 0  rs'\n",
    "    in Computer 6 rs''\n",
    "\n",
    "runInstr (Computer 1 rs) _ = let\n",
    "    d' = (15*170) + (rs M.! D)\n",
    "    rs' = M.insert D d' rs\n",
    "    in Computer 8 rs'\n",
    "\n",
    "\n",
    "-- runInstr (Computer 0 rs) _ = let\n",
    "--    d' = (rs M.! A) + (15*170)\n",
    "    \n",
    "    \n",
    "\n",
    "-- -}\n",
    "\n",
    "runInstr (Computer p rs) (Cpy (Left value) reg) = let\n",
    "    rs' = M.insert reg value rs\n",
    "    in Computer (p+1) rs'\n",
    "runInstr (Computer p rs) (Cpy (Right reg1) reg2) = let\n",
    "    value = rs M.! reg1\n",
    "    rs'   = M.insert reg2 value rs\n",
    "    in Computer (p+1) rs'\n",
    "runInstr (Computer p rs) (Inc reg) = let\n",
    "    value = rs M.! reg\n",
    "    rs'   = M.insert reg (value+1) rs\n",
    "    in Computer (p+1) rs'\n",
    "runInstr (Computer p rs) (Dec reg) = let\n",
    "    value = rs M.! reg\n",
    "    rs'   = M.insert reg (value-1) rs\n",
    "    in Computer (p+1) rs'\n",
    "runInstr (Computer p rs) (Jnz (Left value) jmp)\n",
    "    | value == 0       = Computer (p+1) rs\n",
    "    | (Left v)  <- jmp = Computer (p+v) rs\n",
    "    | (Right r) <- jmp = let\n",
    "        v = rs M.! r\n",
    "        in               Computer (p+v) rs\n",
    "runInstr (Computer p rs) (Jnz (Right reg) jmp)\n",
    "    | (rs M.! reg) == 0 = Computer (p+1) rs\n",
    "    | (Left v)  <- jmp = Computer (p+v) rs\n",
    "    | (Right r) <- jmp = let\n",
    "        v = rs M.! r\n",
    "        in               Computer (p+v) rs\n",
    "\n",
    "runOut c@(Computer p rs) (Out reg) o = let\n",
    "    value = rs M.! reg\n",
    "    c' = Computer (p+1) rs\n",
    "    o' = o ++ [value]\n",
    "    in (c', o')\n",
    "\n",
    "run c                  instructions count output | length output == 10 = (c,output)\n",
    "run c@(Computer p rs)  instructions count output \n",
    "    | p >= V.length instructions = (c,output)\n",
    "    | otherwise = let\n",
    "        i  = instructions V.! p\n",
    "        in case i of\n",
    "            Out r -> let\n",
    "                (c', output') = runOut c i output\n",
    "                in run c' instructions count output'\n",
    "            _ -> let\n",
    "                c' = runInstr c i\n",
    "                in run c' instructions count output\n",
    "\n",
    "start = Computer 0 $ M.fromList [(A, 2), (B, 0), (C, 0), (D, 0)]\n",
    "run start (V.fromList parsed) 0 []"
   ]
  },
  {
   "cell_type": "code",
   "execution_count": 63,
   "metadata": {
    "collapsed": false
   },
   "outputs": [
    {
     "data": {
      "text/plain": [
       "[0,1,0,1,0,1,0,1,0,1]"
      ]
     },
     "metadata": {},
     "output_type": "display_data"
    },
    {
     "data": {
      "text/plain": [
       "Just 180"
      ]
     },
     "metadata": {},
     "output_type": "display_data"
    }
   ],
   "source": [
    "makeStart n = Computer 0 $ M.fromList [(A, n), (B, 0), (C, 0), (D, 0)]\n",
    "\n",
    "signal = 0 : 1 : signal\n",
    "\n",
    "ten = take 10 signal\n",
    "ten\n",
    "\n",
    "\n",
    "import Data.List\n",
    "\n",
    "find (\\i -> let\n",
    "    state = makeStart i\n",
    "    (c,o) = run state (V.fromList parsed) 0 []\n",
    "    in o == ten) [1..1000]"
   ]
  },
  {
   "cell_type": "code",
   "execution_count": 8,
   "metadata": {
    "collapsed": false
   },
   "outputs": [
    {
     "data": {
      "text/plain": [
       "6699"
      ]
     },
     "metadata": {},
     "output_type": "display_data"
    }
   ],
   "source": []
  }
 ],
 "metadata": {
  "kernelspec": {
   "display_name": "Haskell",
   "language": "haskell",
   "name": "haskell"
  },
  "language_info": {
   "codemirror_mode": "ihaskell",
   "file_extension": ".hs",
   "name": "haskell",
   "version": "7.10.3"
  }
 },
 "nbformat": 4,
 "nbformat_minor": 0
}
