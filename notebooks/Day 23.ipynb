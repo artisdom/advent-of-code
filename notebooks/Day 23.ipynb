{
 "cells": [
  {
   "cell_type": "code",
   "execution_count": 1,
   "metadata": {
    "collapsed": true
   },
   "outputs": [],
   "source": [
    "puzzle = '''jio a, +18\n",
    "inc a\n",
    "tpl a\n",
    "inc a\n",
    "tpl a\n",
    "tpl a\n",
    "tpl a\n",
    "inc a\n",
    "tpl a\n",
    "inc a\n",
    "tpl a\n",
    "inc a\n",
    "inc a\n",
    "tpl a\n",
    "tpl a\n",
    "tpl a\n",
    "inc a\n",
    "jmp +22\n",
    "tpl a\n",
    "inc a\n",
    "tpl a\n",
    "inc a\n",
    "inc a\n",
    "tpl a\n",
    "inc a\n",
    "tpl a\n",
    "inc a\n",
    "inc a\n",
    "tpl a\n",
    "tpl a\n",
    "inc a\n",
    "inc a\n",
    "tpl a\n",
    "inc a\n",
    "inc a\n",
    "tpl a\n",
    "inc a\n",
    "inc a\n",
    "tpl a\n",
    "jio a, +8\n",
    "inc b\n",
    "jie a, +4\n",
    "tpl a\n",
    "inc a\n",
    "jmp +2\n",
    "hlf a\n",
    "jmp -7'''.splitlines()"
   ]
  },
  {
   "cell_type": "code",
   "execution_count": 16,
   "metadata": {
    "collapsed": true
   },
   "outputs": [],
   "source": [
    "import re\n",
    "instruction_matcher = re.compile(r'((?P<jtype>j\\w{2})( (?P<jreg>.),)? (?P<joffset>[+-]\\d+))|((?P<mtype>inc|tpl|hlf) (?P<mreg>.))')"
   ]
  },
  {
   "cell_type": "code",
   "execution_count": 38,
   "metadata": {
    "collapsed": false
   },
   "outputs": [],
   "source": [
    "class Computer:\n",
    "    def __init__(self, instructions, a=0, b=0):\n",
    "        self.instructions = instructions\n",
    "        self.index = 0\n",
    "        self.a = a\n",
    "        self.b = b\n",
    "    def run(self):\n",
    "        while self.index < len(self.instructions):\n",
    "            current = self.instructions[self.index]\n",
    "            instruction = instruction_matcher.match(current).groupdict()\n",
    "            jtype = instruction['jtype']\n",
    "            jreg = instruction['jreg']\n",
    "            mtype = instruction['mtype']\n",
    "            mreg = instruction['mreg']\n",
    "            if jtype is not None: # This is a jump instruction\n",
    "                if any([\n",
    "                        jtype == 'jmp',\n",
    "                        jtype == 'jio' and int(getattr(self, str(instruction['jreg']), -1)) == 1,\n",
    "                        jtype == 'jie' and int(getattr(self, str(instruction['jreg']), -1)) % 2 == 0]):\n",
    "                    self.index += int(instruction['joffset'])\n",
    "                    continue\n",
    "            else: # This is a modify instruction\n",
    "                mcond = {\n",
    "                    'hlf': lambda r: r//2,\n",
    "                    'tpl': lambda r: r*3,\n",
    "                    'inc': lambda r: r+1,\n",
    "                }\n",
    "                setattr(self, mreg, mcond[mtype](getattr(self, mreg)))\n",
    "            self.index += 1\n",
    "        return self.a, self.b"
   ]
  },
  {
   "cell_type": "code",
   "execution_count": 39,
   "metadata": {
    "collapsed": false
   },
   "outputs": [
    {
     "data": {
      "text/plain": [
       "(1, 307)"
      ]
     },
     "execution_count": 39,
     "metadata": {},
     "output_type": "execute_result"
    }
   ],
   "source": [
    "comp = Computer(puzzle)\n",
    "comp.run()"
   ]
  },
  {
   "cell_type": "code",
   "execution_count": 40,
   "metadata": {
    "collapsed": false
   },
   "outputs": [
    {
     "data": {
      "text/plain": [
       "(1, 160)"
      ]
     },
     "execution_count": 40,
     "metadata": {},
     "output_type": "execute_result"
    }
   ],
   "source": [
    "comp2 = Computer(puzzle, a=1)\n",
    "comp2.run()"
   ]
  }
 ],
 "metadata": {
  "kernelspec": {
   "display_name": "Python 3",
   "language": "python",
   "name": "python3"
  },
  "language_info": {
   "codemirror_mode": {
    "name": "ipython",
    "version": 3
   },
   "file_extension": ".py",
   "mimetype": "text/x-python",
   "name": "python",
   "nbconvert_exporter": "python",
   "pygments_lexer": "ipython3",
   "version": "3.5.0"
  }
 },
 "nbformat": 4,
 "nbformat_minor": 0
}
