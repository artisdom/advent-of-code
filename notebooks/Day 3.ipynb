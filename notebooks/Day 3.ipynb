{
 "cells": [
  {
   "cell_type": "code",
   "execution_count": 17,
   "metadata": {
    "collapsed": false
   },
   "outputs": [],
   "source": [
    "input <- readFile \"../input/day3.txt\"\n",
    "formatted = map (map read . words) $ lines input :: [[Int]]"
   ]
  },
  {
   "cell_type": "code",
   "execution_count": 18,
   "metadata": {
    "collapsed": false
   },
   "outputs": [
    {
     "data": {
      "text/plain": [
       "1032"
      ]
     },
     "metadata": {},
     "output_type": "display_data"
    }
   ],
   "source": [
    "predicate [a,b,c] = (a+b)>c && (a+c)>b && (b+c)>a\n",
    "\n",
    "length $ filter predicate formatted"
   ]
  },
  {
   "cell_type": "code",
   "execution_count": 19,
   "metadata": {
    "collapsed": false
   },
   "outputs": [
    {
     "data": {
      "text/plain": [
       "1838"
      ]
     },
     "metadata": {},
     "output_type": "display_data"
    }
   ],
   "source": [
    "clean [] acc           = acc\n",
    "clean (a:b:c:rest) acc = let\n",
    "    [a0,b0,c0] = a\n",
    "    [a1,b1,c1] = b\n",
    "    [a2,b2,c2] = c\n",
    "    a' = [a0, a1, a2]\n",
    "    b' = [b0, b1, b2]\n",
    "    c' = [c0, c1, c2]\n",
    "    in clean rest (a':b':c':acc)\n",
    "\n",
    "formatted' = clean formatted []\n",
    "\n",
    "length $ filter predicate formatted'"
   ]
  }
 ],
 "metadata": {
  "kernelspec": {
   "display_name": "Haskell",
   "language": "haskell",
   "name": "haskell"
  },
  "language_info": {
   "codemirror_mode": "ihaskell",
   "file_extension": ".hs",
   "name": "haskell",
   "version": "7.10.3"
  }
 },
 "nbformat": 4,
 "nbformat_minor": 0
}
