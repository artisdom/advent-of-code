{
 "cells": [
  {
   "cell_type": "code",
   "execution_count": 1,
   "metadata": {
    "collapsed": false
   },
   "outputs": [],
   "source": [
    "input <- readFile \"../input/day3.txt\"\n",
    "formatted = map (map read . words) $ lines input :: [[Int]]"
   ]
  },
  {
   "cell_type": "code",
   "execution_count": 2,
   "metadata": {
    "collapsed": false
   },
   "outputs": [
    {
     "data": {
      "text/plain": [
       "1032"
      ]
     },
     "metadata": {},
     "output_type": "display_data"
    }
   ],
   "source": [
    "predicate [a,b,c] = (a+b)>c && (a+c)>b && (b+c)>a\n",
    "\n",
    "length $ filter predicate formatted"
   ]
  },
  {
   "cell_type": "code",
   "execution_count": 3,
   "metadata": {
    "collapsed": false
   },
   "outputs": [
    {
     "data": {
      "text/plain": [
       "1838"
      ]
     },
     "metadata": {},
     "output_type": "display_data"
    }
   ],
   "source": [
    "import Data.List (transpose)\n",
    "\n",
    "clean []           acc = acc\n",
    "clean (a:b:c:rest) acc = clean rest $ (transpose [a,b,c]) ++ acc\n",
    "\n",
    "formatted' = clean formatted []\n",
    "\n",
    "length $ filter predicate formatted'"
   ]
  }
 ],
 "metadata": {
  "kernelspec": {
   "display_name": "Haskell",
   "language": "haskell",
   "name": "haskell"
  },
  "language_info": {
   "codemirror_mode": "ihaskell",
   "file_extension": ".hs",
   "name": "haskell",
   "version": "7.10.3"
  }
 },
 "nbformat": 4,
 "nbformat_minor": 0
}
