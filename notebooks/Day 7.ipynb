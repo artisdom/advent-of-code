{
 "cells": [
  {
   "cell_type": "code",
   "execution_count": 12,
   "metadata": {
    "collapsed": false
   },
   "outputs": [],
   "source": [
    "{-# LANGUAGE OverloadedStrings #-}\n",
    "\n",
    "import qualified Data.ByteString as B\n",
    "import Data.ByteString.UTF8 (fromString, toString)\n",
    "import qualified Data.ByteString.Char8 as B (lines)\n",
    "import qualified Data.Attoparsec.ByteString as A\n",
    "import qualified Data.Attoparsec.ByteString.Char8 as AC\n",
    "\n",
    "input <- B.lines <$> B.readFile \"../input/day7.txt\""
   ]
  },
  {
   "cell_type": "code",
   "execution_count": 48,
   "metadata": {
    "collapsed": false
   },
   "outputs": [
    {
     "data": {
      "text/plain": [
       "110"
      ]
     },
     "metadata": {},
     "output_type": "display_data"
    },
    {
     "data": {
      "text/plain": [
       "[Regular [(True,('a','m'))],Hypernet [(True,('c','s'))],Regular [(True,('m','a')),(True,('c','j')),(True,('c','b'))]]"
      ]
     },
     "metadata": {},
     "output_type": "display_data"
    }
   ],
   "source": [
    "import Control.Applicative ((<|>))\n",
    "\n",
    "data Sequence a = Regular a | Hypernet a deriving (Eq, Show)\n",
    "\n",
    "instance Functor Sequence where\n",
    "    fmap f (Regular  x) = Regular  $ f x\n",
    "    fmap f (Hypernet x) = Hypernet $ f x\n",
    "\n",
    "parseHypernet = Hypernet <$> (AC.char '[' *> A.many1' AC.letter_ascii <* AC.char ']')\n",
    "parseRegular  = Regular  <$> A.many1' AC.letter_ascii\n",
    "\n",
    "parseIPv7 = A.many1' (parseRegular <|> parseHypernet)\n",
    "    \n",
    "\n",
    "fourChars s@[a,b,c,d] = [s]\n",
    "fourChars s           = take 4 s : fourChars (tail s)\n",
    "\n",
    "isABBA [a,b,c,d] = a==d && b==c && a/=b\n",
    "\n",
    "threeChars s@[a,b,c] = [s]\n",
    "threeChars s           = take 3 s : threeChars (tail s)\n",
    "\n",
    "isABA [a,b,c] = ((a==c && a/=b), (a,b))\n",
    "\n",
    "\n",
    "result = map (map (fmap fourChars) . either error id . A.parseOnly parseIPv7) input\n",
    "\n",
    "\n",
    "check = fmap (or . map isABBA)\n",
    "\n",
    "hasABBA = map (map check) result\n",
    "\n",
    "length $ filter (\\r -> Regular True `elem` r && Hypernet True `notElem` r) hasABBA\n",
    "\n",
    "result' = map (map (fmap threeChars) . either error id . A.parseOnly parseIPv7) input\n",
    "check' = fmap (filter fst . map isABA)\n",
    "hasABA = map (map check') result'\n",
    "\n",
    "head hasABA\n",
    "-- length $ filter (\\r -> (Regular True) `elem` r && (Hypernet True) `notElem` r) hasABBA"
   ]
  }
 ],
 "metadata": {
  "kernelspec": {
   "display_name": "Haskell",
   "language": "haskell",
   "name": "haskell"
  },
  "language_info": {
   "codemirror_mode": "ihaskell",
   "file_extension": ".hs",
   "name": "haskell",
   "version": "7.10.3"
  }
 },
 "nbformat": 4,
 "nbformat_minor": 0
}
