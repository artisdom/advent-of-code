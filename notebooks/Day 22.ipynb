{
 "cells": [
  {
   "cell_type": "code",
   "execution_count": 16,
   "metadata": {
    "collapsed": false
   },
   "outputs": [
    {
     "data": {
      "text/plain": [
       "[\"/dev/grid/node-x0-y0\",\"87T\",\"71T\",\"16T\",\"81%\"]"
      ]
     },
     "metadata": {},
     "output_type": "display_data"
    },
    {
     "data": {
      "text/plain": [
       "(\"/dev/grid/node-x0-y0\",71,16,87)"
      ]
     },
     "metadata": {},
     "output_type": "display_data"
    }
   ],
   "source": [
    "{-# LANGUAGE OverloadedStrings #-}\n",
    "\n",
    "import qualified Data.ByteString as B\n",
    "import qualified Data.ByteString.Char8 as B (lines)\n",
    "\n",
    "\n",
    "input <- tail . tail . lines <$> readFile \"../input/day22.txt\"\n",
    "\n",
    "words $ head input\n",
    "\n",
    "parse line = let\n",
    "    [identity, cap, used, avail, _] = words line\n",
    "    in (identity, read $ init used :: Int, read $ init avail :: Int, read $ init cap :: Int)\n",
    "\n",
    "parsed = map parse input\n",
    "head parsed"
   ]
  },
  {
   "cell_type": "code",
   "execution_count": 17,
   "metadata": {
    "collapsed": false
   },
   "outputs": [
    {
     "data": {
      "text/plain": [
       "892"
      ]
     },
     "metadata": {},
     "output_type": "display_data"
    }
   ],
   "source": [
    "viable (name,used,_,_) list = length $ filter (\\(n,_,avail,_) -> n /= name && avail >= used && used > 0) list\n",
    "\n",
    "counts = map (flip viable parsed) parsed\n",
    "sum counts"
   ]
  },
  {
   "cell_type": "code",
   "execution_count": null,
   "metadata": {
    "collapsed": false
   },
   "outputs": [],
   "source": []
  }
 ],
 "metadata": {
  "kernelspec": {
   "display_name": "Haskell",
   "language": "haskell",
   "name": "haskell"
  },
  "language_info": {
   "codemirror_mode": "ihaskell",
   "file_extension": ".hs",
   "name": "haskell",
   "version": "7.10.3"
  }
 },
 "nbformat": 4,
 "nbformat_minor": 0
}
