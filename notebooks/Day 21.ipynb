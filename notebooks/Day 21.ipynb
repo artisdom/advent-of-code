{
 "cells": [
  {
   "cell_type": "code",
   "execution_count": 66,
   "metadata": {
    "collapsed": true
   },
   "outputs": [],
   "source": [
    "weapons_input = '''\n",
    "Weapons:    Cost  Damage  Armor\n",
    "Dagger        8     4       0\n",
    "Shortsword   10     5       0\n",
    "Warhammer    25     6       0\n",
    "Longsword    40     7       0\n",
    "Greataxe     74     8       0\n",
    "'''\n",
    "\n",
    "armor_input = '''\n",
    "Armor:      Cost  Damage  Armor\n",
    "Leather      13     0       1\n",
    "Chainmail    31     0       2\n",
    "Splintmail   53     0       3\n",
    "Bandedmail   75     0       4\n",
    "Platemail   102     0       5\n",
    "'''\n",
    "\n",
    "rings_input = '''\n",
    "Rings:      Cost  Damage  Armor\n",
    "Damage +1    25     1       0\n",
    "Damage +2    50     2       0\n",
    "Damage +3   100     3       0\n",
    "Defense +1   20     0       1\n",
    "Defense +2   40     0       2\n",
    "Defense +3   80     0       3\n",
    "'''"
   ]
  },
  {
   "cell_type": "code",
   "execution_count": 67,
   "metadata": {
    "collapsed": false
   },
   "outputs": [],
   "source": [
    "import re\n",
    "matcher = re.compile(r'.* (\\d+) *?(\\d+) *?(\\d+)')\n",
    "\n",
    "weapons = []\n",
    "for line in weapons_input.splitlines():\n",
    "    match = matcher.match(line)\n",
    "    if match is not None:\n",
    "        matched = tuple(int(value) for value in match.group(1,2,3))\n",
    "        weapons.append(matched)\n",
    "\n",
    "armor = []\n",
    "for line in armor_input.splitlines():\n",
    "    match = matcher.match(line)\n",
    "    if match is not None:\n",
    "        matched = tuple(int(value) for value in match.group(1,2,3))\n",
    "        armor.append(matched)\n",
    "armor.append((0, 0, 0)) # Armor is optional\n",
    "\n",
    "rings = []\n",
    "for line in rings_input.splitlines():\n",
    "    match = matcher.match(line)\n",
    "    if match is not None:\n",
    "        matched = tuple(int(value) for value in match.group(1,2,3))\n",
    "        rings.append(matched)\n",
    "rings.extend([(0, 0, 0),(0,0,0)]) # Rings are optional"
   ]
  },
  {
   "cell_type": "code",
   "execution_count": 68,
   "metadata": {
    "collapsed": true
   },
   "outputs": [],
   "source": [
    "boss_stats = (8,2)"
   ]
  },
  {
   "cell_type": "code",
   "execution_count": 69,
   "metadata": {
    "collapsed": true
   },
   "outputs": [],
   "source": [
    "def fight(player_damage, player_armor, boss_stats = boss_stats):\n",
    "    boss_damage, boss_armor = boss_stats\n",
    "    player_hp = boss_hp = 100\n",
    "    while True:\n",
    "        boss_hp -= max(player_damage - boss_armor, 1)\n",
    "        if boss_hp <= 0:\n",
    "            return True\n",
    "        player_hp -= max(boss_damage - player_armor, 1)\n",
    "        if player_hp <= 0:\n",
    "            return False"
   ]
  },
  {
   "cell_type": "code",
   "execution_count": null,
   "metadata": {
    "collapsed": true
   },
   "outputs": [],
   "source": [
    "from itertools import product\n",
    "wins = []\n",
    "losses = []\n",
    "for weapon in weapons:\n",
    "    for shield in armor:\n",
    "        for ring in product(rings, repeat=2):\n",
    "            cost = weapon[0] + shield[0] + ring[0][0] + ring[1][0]\n",
    "            damage = weapon[1] + shield[1] + ring[0][1] + ring[1][1]\n",
    "            defense = weapon[2] + shield[2] + ring[0][2] + ring[1][2]\n",
    "            if fight(damage,defense):\n",
    "                wins.append(cost)\n",
    "            else:\n",
    "                losses.append(cost)"
   ]
  },
  {
   "cell_type": "code",
   "execution_count": 70,
   "metadata": {
    "collapsed": false
   },
   "outputs": [
    {
     "data": {
      "text/plain": [
       "91"
      ]
     },
     "execution_count": 70,
     "metadata": {},
     "output_type": "execute_result"
    }
   ],
   "source": [
    "sorted(wins)[0]"
   ]
  },
  {
   "cell_type": "code",
   "execution_count": 72,
   "metadata": {
    "collapsed": false
   },
   "outputs": [
    {
     "data": {
      "text/plain": [
       "158"
      ]
     },
     "execution_count": 72,
     "metadata": {},
     "output_type": "execute_result"
    }
   ],
   "source": [
    "sorted(losses)[-1]"
   ]
  }
 ],
 "metadata": {
  "kernelspec": {
   "display_name": "Python 3",
   "language": "python",
   "name": "python3"
  },
  "language_info": {
   "codemirror_mode": {
    "name": "ipython",
    "version": 3
   },
   "file_extension": ".py",
   "mimetype": "text/x-python",
   "name": "python",
   "nbconvert_exporter": "python",
   "pygments_lexer": "ipython3",
   "version": "3.5.0"
  }
 },
 "nbformat": 4,
 "nbformat_minor": 0
}
