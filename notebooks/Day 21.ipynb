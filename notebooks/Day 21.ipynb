{
 "cells": [
  {
   "cell_type": "code",
   "execution_count": 1,
   "metadata": {
    "collapsed": false
   },
   "outputs": [],
   "source": [
    "{-# LANGUAGE OverloadedStrings #-}\n",
    "\n",
    "import qualified Data.ByteString                  as B\n",
    "import qualified Data.ByteString.Char8            as B (lines)\n",
    "import qualified Data.Attoparsec.ByteString       as A\n",
    "import qualified Data.Attoparsec.ByteString.Char8 as C\n",
    "\n",
    "input <- B.lines <$> B.readFile \"../input/day21.txt\""
   ]
  },
  {
   "cell_type": "code",
   "execution_count": 2,
   "metadata": {
    "collapsed": false
   },
   "outputs": [],
   "source": [
    "data Instr\n",
    "    = SwpP Int  Int\n",
    "    | SwpL Char Char\n",
    "    | RotL Int\n",
    "    | RotR Int\n",
    "    | RotB Char\n",
    "    | RevP Int Int\n",
    "    | Move Int Int\n",
    "    deriving (Eq, Show)\n",
    "\n",
    "\n",
    "swpP = do\n",
    "    A.string \"swap position \"\n",
    "    start <- C.decimal\n",
    "    A.string \" with position \"\n",
    "    end <- C.decimal\n",
    "    return $ SwpP start end\n",
    "\n",
    "swpL = do\n",
    "    A.string \"swap letter \"\n",
    "    start <- C.anyChar\n",
    "    A.string \" with letter \"\n",
    "    end  <- C.anyChar\n",
    "    return $ SwpL start end\n",
    "\n",
    "rotL = do\n",
    "    A.string \"rotate left \"\n",
    "    steps <- C.decimal\n",
    "    A.choice [A.string \" steps\", A.string \" step\"]\n",
    "    return $ RotL steps\n",
    "\n",
    "rotR = do\n",
    "    A.string \"rotate right \"\n",
    "    steps <- C.decimal\n",
    "    A.choice [A.string \" steps\", A.string \" step\"]\n",
    "    return $ RotR steps\n",
    "\n",
    "rotB = do\n",
    "    A.string \"rotate based on position of letter \"\n",
    "    letter <- C.anyChar\n",
    "    return $ RotB letter\n",
    "\n",
    "revP = do\n",
    "    A.string \"reverse positions \"\n",
    "    x <- C.decimal\n",
    "    A.string \" through \"\n",
    "    y <- C.decimal\n",
    "    return $ RevP x y\n",
    "\n",
    "move = do\n",
    "    A.string \"move position \"\n",
    "    x <- C.decimal\n",
    "    A.string \" to position \"\n",
    "    y <- C.decimal\n",
    "    return $ Move x y\n",
    "\n",
    "parser = A.choice [swpP, swpL, rotL, rotR, rotB, revP, move]\n",
    "\n",
    "parsed = map (either error id . A.parseOnly parser) input\n",
    "\n",
    "test = map (either error id . A.parseOnly parser)\n",
    "    [ \"swap position 4 with position 0\"\n",
    "    , \"swap letter d with letter b\"\n",
    "    , \"reverse positions 0 through 4\"\n",
    "    , \"rotate left 1 step\"\n",
    "    , \"move position 1 to position 4\"\n",
    "    , \"move position 3 to position 0\"\n",
    "    , \"rotate based on position of letter b\"\n",
    "    , \"rotate based on position of letter d\"\n",
    "    ]"
   ]
  },
  {
   "cell_type": "code",
   "execution_count": 44,
   "metadata": {
    "collapsed": false
   },
   "outputs": [
    {
     "data": {
      "text/plain": [
       "[\"abcde\",\"ebcda\",\"edcba\",\"abcde\",\"bcdea\",\"bdeac\",\"abdec\",\"ecabd\",\"decab\"]"
      ]
     },
     "metadata": {},
     "output_type": "display_data"
    }
   ],
   "source": [
    "import qualified Data.Vector.Unboxed as V\n",
    "import Data.List (foldl', inits)\n",
    "\n",
    "interpret vector (SwpP x y) = let\n",
    "    xC = vector V.! x\n",
    "    yC = vector V.! y\n",
    "    in vector V.// [(x,yC), (y,xC)]\n",
    "\n",
    "interpret vector (SwpL a b) = let\n",
    "    Just x = V.elemIndex a vector\n",
    "    Just y = V.elemIndex b vector\n",
    "    in vector V.// [(x, b), (y, a)]\n",
    "\n",
    "interpret vector (RotL r) = let\n",
    "    (t, h) = V.splitAt r vector\n",
    "    in h V.++ t\n",
    "\n",
    "interpret vector (RotR r) = let\n",
    "    mx = V.length vector\n",
    "    r' = r `mod` mx\n",
    "    (t,h) = V.splitAt (mx-r') vector\n",
    "    in h V.++ t\n",
    "\n",
    "interpret vector (RotB c) = let\n",
    "    Just i = V.elemIndex c vector\n",
    "    i' = if i>=4 then i+2 else i+1\n",
    "    in interpret vector (RotR i')\n",
    "\n",
    "interpret vector (RevP x y) = let\n",
    "    y'    = (y-x)+1\n",
    "    slice = V.reverse $ V.slice x y' vector\n",
    "    h     = V.take x vector\n",
    "    t     = V.drop (y+1) vector\n",
    "    in h V.++ slice V.++ t\n",
    "\n",
    "interpret vector (Move x y) = let\n",
    "    c       = vector V.! x\n",
    "    (h, t)  = V.splitAt x vector\n",
    "    new     = h V.++ V.tail t\n",
    "    (h',t') = V.splitAt y new\n",
    "    in h' V.++ V.cons c t'\n",
    "\n",
    "map (foldl' interpret (V.fromList \"abcde\")) (inits test)"
   ]
  },
  {
   "cell_type": "code",
   "execution_count": 48,
   "metadata": {
    "collapsed": false
   },
   "outputs": [
    {
     "data": {
      "text/plain": [
       "\"hcdefbag\""
      ]
     },
     "metadata": {},
     "output_type": "display_data"
    }
   ],
   "source": [
    "foldl' interpret (V.fromList \"abcdefgh\") parsed"
   ]
  },
  {
   "cell_type": "code",
   "execution_count": 51,
   "metadata": {
    "collapsed": false
   },
   "outputs": [
    {
     "data": {
      "text/plain": [
       "\"fbhaegdc\""
      ]
     },
     "metadata": {},
     "output_type": "display_data"
    }
   ],
   "source": [
    "reverseInstr vector instr = case instr of\n",
    "    SwpP x y -> interpret vector $ SwpP x y\n",
    "    SwpL a b -> interpret vector $ SwpL a b\n",
    "    RotL l   -> interpret vector $ RotR l\n",
    "    RotR r   -> interpret vector $ RotL r\n",
    "    RevP x y -> interpret vector $ RevP x y\n",
    "    Move x y -> interpret vector $ Move y x\n",
    "    RotB c   -> loop (interpret vector (RotL 1)) c\n",
    "    where loop vector' c = if interpret vector' (RotB c) == vector\n",
    "            then vector'\n",
    "            else loop (interpret vector' (RotL 1)) c\n",
    "\n",
    "foldl' reverseInstr (V.fromList \"fbgdceah\") (reverse parsed)"
   ]
  }
 ],
 "metadata": {
  "kernelspec": {
   "display_name": "Haskell",
   "language": "haskell",
   "name": "haskell"
  },
  "language_info": {
   "codemirror_mode": "ihaskell",
   "file_extension": ".hs",
   "name": "haskell",
   "version": "7.10.3"
  }
 },
 "nbformat": 4,
 "nbformat_minor": 0
}
