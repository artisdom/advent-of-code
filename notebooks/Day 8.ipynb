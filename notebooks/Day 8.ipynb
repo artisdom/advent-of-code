{
 "cells": [
  {
   "cell_type": "code",
   "execution_count": 1,
   "metadata": {
    "collapsed": false
   },
   "outputs": [],
   "source": [
    "{-# LANGUAGE OverloadedStrings #-}\n",
    "\n",
    "import qualified Data.Map.Strict as M\n",
    "import qualified Data.ByteString as B\n",
    "import qualified Data.ByteString.Char8 as B (lines)\n",
    "\n",
    "input <- B.lines <$> B.readFile \"../input/day8.txt\"\n",
    "\n",
    "coords = (,) <$> [0..49] <*> [0..5]\n",
    "\n",
    "grid = M.fromList $ zip coords (repeat False)"
   ]
  },
  {
   "cell_type": "code",
   "execution_count": 2,
   "metadata": {
    "collapsed": false
   },
   "outputs": [],
   "source": [
    "import qualified Data.Attoparsec.ByteString       as A\n",
    "import qualified Data.Attoparsec.ByteString.Char8 as AC\n",
    "\n",
    "data Instruction = Rec Int Int | Row Int Int | Col Int Int deriving (Eq, Show)\n",
    "\n",
    "parseRec = Rec <$> (\"rect \"            *> AC.decimal) <*> (\"x\"    *> AC.decimal)\n",
    "parseRow = Row <$> (\"rotate row y=\"    *> AC.decimal) <*> (\" by \" *> AC.decimal)\n",
    "parseCol = Col <$> (\"rotate column x=\" *> AC.decimal) <*> (\" by \" *> AC.decimal)\n",
    "\n",
    "parseInstr = A.choice [parseRec, parseRow, parseCol]\n",
    "parsed = map (either error id . A.parseOnly parseInstr) input\n",
    "\n",
    "execute (Rec x y) _ = M.fromList $ zip ((,) <$> [0..x-1] <*> [0..y-1]) (repeat True)\n",
    "execute (Row y r) m = let\n",
    "    row  = M.toList $ M.filterWithKey (\\(_,y') _ -> y'==y) m\n",
    "    row' = map (\\((x,y),v) -> (((x+r) `mod` 50,y),v)) row\n",
    "    in M.fromList row'\n",
    "execute (Col x r) m = let\n",
    "    col  = M.toList $ M.filterWithKey (\\(x',_) _ -> x'==x) m\n",
    "    col' = map (\\((x,y),v) -> ((x,(y+r) `mod` 6),v)) col\n",
    "    in M.fromList col'"
   ]
  },
  {
   "cell_type": "code",
   "execution_count": 3,
   "metadata": {
    "collapsed": false
   },
   "outputs": [
    {
     "data": {
      "text/plain": [
       "106"
      ]
     },
     "metadata": {},
     "output_type": "display_data"
    }
   ],
   "source": [
    "import Data.List (foldl')\n",
    "\n",
    "update m i = M.union (execute i m) m\n",
    "run = foldl' update\n",
    "\n",
    "result = run grid parsed\n",
    "length $ filter id $ M.elems result"
   ]
  },
  {
   "cell_type": "code",
   "execution_count": 4,
   "metadata": {
    "collapsed": false
   },
   "outputs": [
    {
     "data": {
      "text/plain": [
       " ##  #### #    #### #     ##  #   #####  ##   ### \n",
       "#  # #    #    #    #    #  # #   ##    #  # #    \n",
       "#    ###  #    ###  #    #  #  # # ###  #    #    \n",
       "#    #    #    #    #    #  #   #  #    #     ##  \n",
       "#  # #    #    #    #    #  #   #  #    #  #    # \n",
       " ##  #    #### #### ####  ##    #  #     ##  ###"
      ]
     },
     "metadata": {},
     "output_type": "display_data"
    }
   ],
   "source": [
    "charAt c m = if m M.! c then '#' else ' '\n",
    "\n",
    "mapM_ putStrLn [[ charAt (x,y) result |x <- [0..49]] | y <- [0..5]]"
   ]
  }
 ],
 "metadata": {
  "kernelspec": {
   "display_name": "Haskell",
   "language": "haskell",
   "name": "haskell"
  },
  "language_info": {
   "codemirror_mode": "ihaskell",
   "file_extension": ".hs",
   "name": "haskell",
   "version": "7.10.3"
  }
 },
 "nbformat": 4,
 "nbformat_minor": 0
}
