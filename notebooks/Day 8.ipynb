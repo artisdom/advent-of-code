{
 "cells": [
  {
   "cell_type": "code",
   "execution_count": 1,
   "metadata": {
    "collapsed": false
   },
   "outputs": [],
   "source": [
    "{-# LANGUAGE OverloadedStrings #-}\n",
    "\n",
    "import qualified Data.Map.Strict as M\n",
    "import qualified Data.ByteString as B\n",
    "import qualified Data.ByteString.Char8 as B (lines)\n",
    "\n",
    "input <- B.lines <$> B.readFile \"../input/day8.txt\"\n",
    "\n",
    "coords = (,) <$> [0..49] <*> [0..5]\n",
    "\n",
    "grid = M.fromList $ zip coords (repeat False)"
   ]
  },
  {
   "cell_type": "code",
   "execution_count": 5,
   "metadata": {
    "collapsed": false
   },
   "outputs": [
    {
     "data": {
      "text/plain": [
       "Rec 1 1"
      ]
     },
     "metadata": {},
     "output_type": "display_data"
    }
   ],
   "source": [
    "import qualified Data.Attoparsec.ByteString       as A\n",
    "import qualified Data.Attoparsec.ByteString.Char8 as AC\n",
    "\n",
    "data Instruction = Rec Int Int | Row Int Int | Col Int Int deriving (Eq, Show)\n",
    "\n",
    "parseRec = do\n",
    "    A.string \"rect\"\n",
    "    AC.space\n",
    "    x <- AC.decimal\n",
    "    AC.char 'x'\n",
    "    y <- AC.decimal\n",
    "    return $ Rec x y\n",
    "\n",
    "parseRow = do\n",
    "    A.string \"rotate\"\n",
    "    AC.space\n",
    "    A.string \"row\"\n",
    "    AC.space\n",
    "    A.string \"y=\"\n",
    "    y <- AC.decimal\n",
    "    AC.space\n",
    "    AC.string \"by\"\n",
    "    AC.space\n",
    "    r <- AC.decimal\n",
    "    return $ Row y r\n",
    "\n",
    "parseCol = do\n",
    "    A.string \"rotate\"\n",
    "    AC.space\n",
    "    A.string \"column\"\n",
    "    AC.space\n",
    "    A.string \"x=\"\n",
    "    x <- AC.decimal\n",
    "    AC.space\n",
    "    AC.string \"by\"\n",
    "    AC.space\n",
    "    r <- AC.decimal\n",
    "    return $ Col x r\n",
    "\n",
    "parseInstr = A.choice [parseRec, parseRow, parseCol]\n",
    "\n",
    "parsed = map (either error id . A.parseOnly parseInstr) input\n",
    "head parsed"
   ]
  },
  {
   "cell_type": "code",
   "execution_count": 22,
   "metadata": {
    "collapsed": false
   },
   "outputs": [
    {
     "data": {
      "text/plain": [
       "106"
      ]
     },
     "metadata": {},
     "output_type": "display_data"
    }
   ],
   "source": [
    "execute (Rec x y) _ = M.fromList $ zip ((,) <$> [0..x-1] <*> [0..y-1]) (repeat True)\n",
    "execute (Row y r) m = let\n",
    "    row  = M.toList $ M.filterWithKey (\\(_,y') _ -> y'==y) m\n",
    "    row' = map (\\((x,y),v) -> (((x+r) `mod` 50,y),v)) row\n",
    "    in M.fromList row'\n",
    "execute (Col x r) m = let\n",
    "    col  = M.toList $ M.filterWithKey (\\(x',_) _ -> x'==x) m\n",
    "    col' = map (\\((x,y),v) -> ((x,(y+r) `mod` 6),v)) col\n",
    "    in M.fromList col'\n",
    "\n",
    "run m []     = m\n",
    "run m (i:is) = let\n",
    "    changes = execute i m\n",
    "    m'      = M.union changes m\n",
    "    in run m' is\n",
    "\n",
    "result = run grid parsed\n",
    "\n",
    "length $ filter id $ M.elems result"
   ]
  },
  {
   "cell_type": "code",
   "execution_count": 28,
   "metadata": {
    "collapsed": false
   },
   "outputs": [
    {
     "data": {
      "text/plain": [
       ".##..####.#....####.#.....##..#...#####..##...###.\n",
       "#..#.#....#....#....#....#..#.#...##....#..#.#....\n",
       "#....###..#....###..#....#..#..#.#.###..#....#....\n",
       "#....#....#....#....#....#..#...#..#....#.....##..\n",
       "#..#.#....#....#....#....#..#...#..#....#..#....#.\n",
       ".##..#....####.####.####..##....#..#.....##..###.."
      ]
     },
     "metadata": {},
     "output_type": "display_data"
    }
   ],
   "source": [
    "charAt c m = if m M.! c then '#' else '.'\n",
    "\n",
    "mapM_ putStrLn [[ charAt (x,y) result |x <- [0..49]] | y <- [0..5]]"
   ]
  }
 ],
 "metadata": {
  "kernelspec": {
   "display_name": "Haskell",
   "language": "haskell",
   "name": "haskell"
  },
  "language_info": {
   "codemirror_mode": "ihaskell",
   "file_extension": ".hs",
   "name": "haskell",
   "version": "7.10.3"
  }
 },
 "nbformat": 4,
 "nbformat_minor": 0
}
