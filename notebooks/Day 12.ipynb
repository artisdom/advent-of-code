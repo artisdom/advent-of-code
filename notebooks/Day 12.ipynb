{
 "cells": [
  {
   "cell_type": "code",
   "execution_count": 1,
   "metadata": {
    "collapsed": true,
    "deletable": true,
    "editable": true
   },
   "outputs": [],
   "source": [
    "{-# LANGUAGE OverloadedStrings #-}\n",
    "\n",
    "import qualified Data.ByteString                  as B\n",
    "import qualified Data.ByteString.Char8            as B (lines)\n",
    "import qualified Data.Attoparsec.ByteString       as A\n",
    "import qualified Data.Attoparsec.ByteString.Char8 as AC\n",
    "\n",
    "input <- B.lines <$> B.readFile \"../input/day12.txt\""
   ]
  },
  {
   "cell_type": "code",
   "execution_count": 2,
   "metadata": {
    "collapsed": false,
    "deletable": true,
    "editable": true
   },
   "outputs": [
    {
     "data": {
      "text/plain": [
       "[Cpy (Left 1) A,Cpy (Left 1) B,Cpy (Left 26) D,Jnz (Right C) 2,Jnz (Left 1) 5,Cpy (Left 7) C,Inc D,Dec C,Jnz (Right C) (-2),Cpy (Right A) C,Inc A,Dec B,Jnz (Right B) (-2),Cpy (Right C) B,Dec D,Jnz (Right D) (-6),Cpy (Left 13) C,Cpy (Left 14) D,Inc A,Dec D,Jnz (Right D) (-2),Dec C,Jnz (Right C) (-5)]"
      ]
     },
     "metadata": {},
     "output_type": "display_data"
    }
   ],
   "source": [
    "data Register = A | B | C | D deriving (Eq, Show, Ord)\n",
    "\n",
    "data Instruction\n",
    "    = Cpy (Either Int Register) Register\n",
    "    | Inc Register\n",
    "    | Dec Register\n",
    "    | Jnz (Either Int Register) Int\n",
    "    deriving (Eq, Show)\n",
    "\n",
    "parseRegister = A.choice\n",
    "    [ A.string \"a\" *> (return A)\n",
    "    , A.string \"b\" *> (return B)\n",
    "    , A.string \"c\" *> (return C)\n",
    "    , A.string \"d\" *> (return D)\n",
    "    ]\n",
    "\n",
    "parseCpy = do\n",
    "    A.string \"cpy\"\n",
    "    AC.space\n",
    "    value <- A.choice [Left <$> AC.decimal, Right <$> parseRegister]\n",
    "    AC.space\n",
    "    reg <- parseRegister\n",
    "    return $ Cpy value reg\n",
    "\n",
    "parseInc = do\n",
    "    A.string \"inc\"\n",
    "    AC.space\n",
    "    reg <- parseRegister\n",
    "    return $ Inc reg\n",
    "\n",
    "parseDec = do\n",
    "    A.string \"dec\"\n",
    "    AC.space\n",
    "    reg <- parseRegister\n",
    "    return $ Dec reg\n",
    "\n",
    "parseJnz = do\n",
    "    A.string \"jnz\"\n",
    "    AC.space\n",
    "    reg <- A.choice [Left <$> AC.decimal, Right <$> parseRegister]\n",
    "    AC.space\n",
    "    jmp <- AC.signed AC.decimal\n",
    "    return $ Jnz reg jmp\n",
    "\n",
    "parseInstruction = A.choice [parseCpy, parseInc, parseDec, parseJnz]\n",
    "\n",
    "parsed = map (either error id . A.parseOnly parseInstruction) input\n",
    "parsed"
   ]
  },
  {
   "cell_type": "code",
   "execution_count": 3,
   "metadata": {
    "collapsed": false,
    "deletable": true,
    "editable": true
   },
   "outputs": [
    {
     "data": {
      "text/plain": [
       "Computer {pointer = 23, registers = fromList [(A,317993),(B,196418),(C,0),(D,0)]}"
      ]
     },
     "metadata": {},
     "output_type": "display_data"
    }
   ],
   "source": [
    "-- import Control.Monad.Trans.State\n",
    "import qualified Data.Map.Strict as M\n",
    "\n",
    "type Registers = M.Map Register Int\n",
    "data Computer = Computer\n",
    "    { pointer      :: Int\n",
    "    , registers    :: Registers\n",
    "    } deriving (Eq, Show)\n",
    "\n",
    "runInstr (Computer p rs) (Cpy (Left value) reg) = let\n",
    "    rs' = M.insert reg value rs\n",
    "    in Computer (p+1) rs'\n",
    "runInstr (Computer p rs) (Cpy (Right reg1) reg2) = let\n",
    "    value = rs M.! reg1\n",
    "    rs'   = M.insert reg2 value rs\n",
    "    in Computer (p+1) rs'\n",
    "runInstr (Computer p rs) (Inc reg) = let\n",
    "    value = rs M.! reg\n",
    "    rs'   = M.insert reg (value+1) rs\n",
    "    in Computer (p+1) rs'\n",
    "runInstr (Computer p rs) (Dec reg) = let\n",
    "    value = rs M.! reg\n",
    "    rs'   = M.insert reg (value-1) rs\n",
    "    in Computer (p+1) rs'\n",
    "runInstr (Computer p rs) (Jnz (Left value) jmp) = if value /=0\n",
    "    then Computer (p+jmp) rs\n",
    "    else Computer (p+1)   rs\n",
    "runInstr (Computer p rs) (Jnz (Right reg) jmp) = let\n",
    "    value = rs M.! reg\n",
    "    in if value /=0\n",
    "        then Computer (p+jmp) rs\n",
    "        else Computer (p+1)   rs\n",
    "    \n",
    "run c@(Computer p rs) instructions \n",
    "    | p >= length instructions = c\n",
    "    | otherwise = let\n",
    "        i  = instructions !! p\n",
    "        c' = runInstr c i\n",
    "        in run c' instructions\n",
    "\n",
    "start = Computer 0 $ M.fromList [(A, 0), (B, 0), (C, 0), (D, 0)]\n",
    "\n",
    "run start parsed"
   ]
  },
  {
   "cell_type": "code",
   "execution_count": 4,
   "metadata": {
    "collapsed": false,
    "deletable": true,
    "editable": true
   },
   "outputs": [
    {
     "data": {
      "text/plain": [
       "Computer {pointer = 23, registers = fromList [(A,9227647),(B,5702887),(C,0),(D,0)]}"
      ]
     },
     "metadata": {},
     "output_type": "display_data"
    }
   ],
   "source": [
    "start' = Computer 0 $ M.fromList [(A, 0), (B, 0), (C, 1), (D, 0)]\n",
    "run start' parsed"
   ]
  }
 ],
 "metadata": {
  "kernelspec": {
   "display_name": "Haskell",
   "language": "haskell",
   "name": "haskell"
  },
  "language_info": {
   "codemirror_mode": "ihaskell",
   "file_extension": ".hs",
   "name": "haskell",
   "version": "8.0.2"
  }
 },
 "nbformat": 4,
 "nbformat_minor": 0
}
