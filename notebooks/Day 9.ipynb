{
 "cells": [
  {
   "cell_type": "code",
   "execution_count": 2,
   "metadata": {
    "collapsed": true
   },
   "outputs": [],
   "source": [
    "from math import inf\n",
    "import re"
   ]
  },
  {
   "cell_type": "code",
   "execution_count": 9,
   "metadata": {
    "collapsed": false
   },
   "outputs": [],
   "source": [
    "puzzle = '''Faerun to Norrath = 129\n",
    "Faerun to Tristram = 58\n",
    "Faerun to AlphaCentauri = 13\n",
    "Faerun to Arbre = 24\n",
    "Faerun to Snowdin = 60\n",
    "Faerun to Tambi = 71\n",
    "Faerun to Straylight = 67\n",
    "Norrath to Tristram = 142\n",
    "Norrath to AlphaCentauri = 15\n",
    "Norrath to Arbre = 135\n",
    "Norrath to Snowdin = 75\n",
    "Norrath to Tambi = 82\n",
    "Norrath to Straylight = 54\n",
    "Tristram to AlphaCentauri = 118\n",
    "Tristram to Arbre = 122\n",
    "Tristram to Snowdin = 103\n",
    "Tristram to Tambi = 49\n",
    "Tristram to Straylight = 97\n",
    "AlphaCentauri to Arbre = 116\n",
    "AlphaCentauri to Snowdin = 12\n",
    "AlphaCentauri to Tambi = 18\n",
    "AlphaCentauri to Straylight = 91\n",
    "Arbre to Snowdin = 129\n",
    "Arbre to Tambi = 53\n",
    "Arbre to Straylight = 40\n",
    "Snowdin to Tambi = 15\n",
    "Snowdin to Straylight = 99\n",
    "Tambi to Straylight = 70\n",
    "'''\n",
    "\n",
    "distance = re.compile(r'(?P<a>\\D+?) to (?P<b>\\D+?) = (?P<w>\\d+)')\n",
    "graph = {}\n",
    "for line in  puzzle.splitlines():\n",
    "    values = distance.search(line).groupdict()\n",
    "    a, b, w = values['a'], values['b'], int(values['w'])\n",
    "    graph.setdefault(a, {})[b] = w\n",
    "    graph.setdefault(b, {})[a] = w"
   ]
  },
  {
   "cell_type": "code",
   "execution_count": 27,
   "metadata": {
    "collapsed": true
   },
   "outputs": [],
   "source": [
    "from itertools import permutations, combinations"
   ]
  },
  {
   "cell_type": "code",
   "execution_count": 30,
   "metadata": {
    "collapsed": false
   },
   "outputs": [
    {
     "name": "stdout",
     "output_type": "stream",
     "text": [
      "207\n"
     ]
    }
   ],
   "source": [
    "distances = {}\n",
    "distances[2] = {}\n",
    "for perm in permutations(places, 2):\n",
    "    a,b = perm\n",
    "    distances[2][perm] = graph[a][b]\n",
    "for i in range(3,len(places)+1):\n",
    "    distances[i] = {}\n",
    "    for perm in permutations(places, i):\n",
    "        distances[i][perm] = distances[i-1][perm[:-1]] + distances[2][perm[-2:]]\n",
    "\n",
    "print(min(distances[8].values()))"
   ]
  },
  {
   "cell_type": "code",
   "execution_count": 31,
   "metadata": {
    "collapsed": false
   },
   "outputs": [
    {
     "name": "stdout",
     "output_type": "stream",
     "text": [
      "804\n"
     ]
    }
   ],
   "source": [
    "print(max(distances[8].values()))"
   ]
  }
 ],
 "metadata": {
  "kernelspec": {
   "display_name": "Python 3",
   "language": "python",
   "name": "python3"
  },
  "language_info": {
   "codemirror_mode": {
    "name": "ipython",
    "version": 3
   },
   "file_extension": ".py",
   "mimetype": "text/x-python",
   "name": "python",
   "nbconvert_exporter": "python",
   "pygments_lexer": "ipython3",
   "version": "3.5.0"
  }
 },
 "nbformat": 4,
 "nbformat_minor": 0
}
