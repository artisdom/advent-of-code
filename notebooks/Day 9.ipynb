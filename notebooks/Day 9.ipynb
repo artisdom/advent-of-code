{
 "cells": [
  {
   "cell_type": "code",
   "execution_count": 1,
   "metadata": {
    "collapsed": false
   },
   "outputs": [],
   "source": [
    "{-# LANGUAGE OverloadedStrings #-}\n",
    "\n",
    "import qualified Data.ByteString as B\n",
    "import qualified Data.ByteString.Char8 as B (lines)\n",
    "import qualified Data.Attoparsec.ByteString as A\n",
    "import qualified Data.Attoparsec.ByteString.Char8 as AC\n",
    "\n",
    "input <- head . B.lines <$> B.readFile \"../input/day9.txt\""
   ]
  },
  {
   "cell_type": "code",
   "execution_count": 2,
   "metadata": {
    "collapsed": false
   },
   "outputs": [
    {
     "data": {
      "text/plain": [
       "70186"
      ]
     },
     "metadata": {},
     "output_type": "display_data"
    }
   ],
   "source": [
    "import Data.ByteString.UTF8 (toString)\n",
    "\n",
    "parseMarker = do\n",
    "    AC.char '('\n",
    "    x <- AC.decimal\n",
    "    AC.char 'x'\n",
    "    y <- AC.decimal\n",
    "    AC.char ')'\n",
    "    return (x,y)\n",
    "    \n",
    "\n",
    "interpret = do\n",
    "    (x,y) <- parseMarker\n",
    "    s     <- A.take x\n",
    "    return $ B.concat $ replicate y s\n",
    "\n",
    "parseSingle = do\n",
    "    c <- A.anyWord8\n",
    "    return $ B.pack [c]\n",
    "    \n",
    "parser = A.many1 $ A.choice [interpret, parseSingle]\n",
    "\n",
    "result = B.concat $ either error id $ A.parseOnly parser input\n",
    "\n",
    "B.length result"
   ]
  },
  {
   "cell_type": "code",
   "execution_count": 10,
   "metadata": {
    "collapsed": false
   },
   "outputs": [
    {
     "data": {
      "text/plain": [
       "10915059201"
      ]
     },
     "metadata": {},
     "output_type": "display_data"
    }
   ],
   "source": [
    "parseSingle' = do\n",
    "    c <- A.anyWord8\n",
    "    return 1\n",
    "\n",
    "interpret' = do\n",
    "    (x,y) <- parseMarker\n",
    "    s     <- A.take x\n",
    "    let s' = sum $ either error id $ A.parseOnly parser' s\n",
    "    return $ s' * y\n",
    "\n",
    "parser' = A.many1 $ A.choice [interpret', parseSingle']\n",
    "\n",
    "result' = either error id $ A.parseOnly parser' input\n",
    "sum result'"
   ]
  }
 ],
 "metadata": {
  "kernelspec": {
   "display_name": "Haskell",
   "language": "haskell",
   "name": "haskell"
  },
  "language_info": {
   "codemirror_mode": "ihaskell",
   "file_extension": ".hs",
   "name": "haskell",
   "version": "7.10.3"
  }
 },
 "nbformat": 4,
 "nbformat_minor": 0
}
