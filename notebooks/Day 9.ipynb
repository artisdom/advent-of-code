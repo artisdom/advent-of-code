{
 "cells": [
  {
   "cell_type": "code",
   "execution_count": 1,
   "metadata": {
    "collapsed": false,
    "deletable": true,
    "editable": true
   },
   "outputs": [],
   "source": [
    "{-# LANGUAGE OverloadedStrings #-}\n",
    "\n",
    "import qualified Data.ByteString                  as B\n",
    "import qualified Data.Attoparsec.ByteString       as A\n",
    "import qualified Data.Attoparsec.ByteString.Char8 as AC\n",
    "\n",
    "input <- B.init <$> B.readFile \"../input/day9.txt\""
   ]
  },
  {
   "cell_type": "code",
   "execution_count": 2,
   "metadata": {
    "collapsed": false,
    "deletable": true,
    "editable": true
   },
   "outputs": [
    {
     "data": {
      "text/plain": [
       "70186"
      ]
     },
     "metadata": {},
     "output_type": "display_data"
    }
   ],
   "source": [
    "parseMarker = (,) <$> (AC.char '(' *> AC.decimal) <*> (AC.char 'x' *> AC.decimal <* AC.char ')')\n",
    "\n",
    "interpret = do\n",
    "    (x,y) <- parseMarker\n",
    "    B.concat . replicate y <$> A.take x\n",
    "\n",
    "parseSingle = B.singleton <$> A.anyWord8\n",
    "\n",
    "parser = A.many1 $ A.choice [interpret, parseSingle]\n",
    "\n",
    "result = B.concat $ either error id $ A.parseOnly parser input\n",
    "\n",
    "B.length result"
   ]
  },
  {
   "cell_type": "code",
   "execution_count": 3,
   "metadata": {
    "collapsed": false,
    "deletable": true,
    "editable": true
   },
   "outputs": [
    {
     "data": {
      "text/plain": [
       "10915059201"
      ]
     },
     "metadata": {},
     "output_type": "display_data"
    }
   ],
   "source": [
    "interpret' = do\n",
    "    (x,y) <- parseMarker\n",
    "    (y*) . sum . either error id . A.parseOnly parser' <$> A.take x\n",
    "\n",
    "parseSingle' = const 1 <$> A.anyWord8\n",
    "\n",
    "parser' = A.many1 $ A.choice [interpret', parseSingle']\n",
    "\n",
    "result' = either error id $ A.parseOnly parser' input\n",
    "\n",
    "sum result'"
   ]
  }
 ],
 "metadata": {
  "kernelspec": {
   "display_name": "Haskell",
   "language": "haskell",
   "name": "haskell"
  },
  "language_info": {
   "codemirror_mode": "ihaskell",
   "file_extension": ".hs",
   "name": "haskell",
   "version": "8.0.2"
  }
 },
 "nbformat": 4,
 "nbformat_minor": 0
}
