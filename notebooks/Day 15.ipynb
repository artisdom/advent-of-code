{
 "cells": [
  {
   "cell_type": "code",
   "execution_count": 8,
   "metadata": {
    "collapsed": false
   },
   "outputs": [],
   "source": [
    "{-# LANGUAGE OverloadedStrings #-}\n",
    "\n",
    "import qualified Data.ByteString                  as B\n",
    "import qualified Data.ByteString.Char8            as B (lines)\n",
    "import qualified Data.Attoparsec.ByteString       as A\n",
    "import qualified Data.Attoparsec.ByteString.Char8 as AC\n",
    "\n",
    "input <- B.lines <$> B.readFile \"../input/day15.txt\"\n",
    "\n",
    "parseLine = do\n",
    "    noPos  <- A.string \"Disc #\" *> AC.decimal *> \" has \" *> AC.decimal <* \" positions; \"\n",
    "    curPos <- A.string \"at time=0, it is at position \" *>   AC.decimal <* A.string \".\"\n",
    "    return (noPos, curPos)\n",
    "\n",
    "positions = map (either error id . A.parseOnly parseLine) input"
   ]
  },
  {
   "cell_type": "code",
   "execution_count": 12,
   "metadata": {
    "collapsed": false
   },
   "outputs": [
    {
     "data": {
      "text/plain": [
       "317371"
      ]
     },
     "metadata": {},
     "output_type": "display_data"
    }
   ],
   "source": [
    "calculatePos time (noPos, curPos) = (time + curPos) `mod` noPos\n",
    "\n",
    "earliest positions time = let\n",
    "    times = [time+1..]\n",
    "    ps    = zipWith calculatePos times positions\n",
    "    in if all (==0) ps then time else earliest positions (time+1)\n",
    "\n",
    "earliest positions 0"
   ]
  },
  {
   "cell_type": "code",
   "execution_count": 13,
   "metadata": {
    "collapsed": false
   },
   "outputs": [
    {
     "data": {
      "text/plain": [
       "2080951"
      ]
     },
     "metadata": {},
     "output_type": "display_data"
    }
   ],
   "source": [
    "earliest (positions++[(11,0)]) 0"
   ]
  }
 ],
 "metadata": {
  "kernelspec": {
   "display_name": "Haskell",
   "language": "haskell",
   "name": "haskell"
  },
  "language_info": {
   "codemirror_mode": "ihaskell",
   "file_extension": ".hs",
   "name": "haskell",
   "version": "7.10.3"
  }
 },
 "nbformat": 4,
 "nbformat_minor": 0
}
