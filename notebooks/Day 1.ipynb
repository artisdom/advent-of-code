{
 "cells": [
  {
   "cell_type": "code",
   "execution_count": 1,
   "metadata": {
    "collapsed": false,
    "deletable": true,
    "editable": true
   },
   "outputs": [],
   "source": [
    "input <- readFile \"../input/day1.txt\""
   ]
  },
  {
   "cell_type": "code",
   "execution_count": 2,
   "metadata": {
    "collapsed": false,
    "deletable": true,
    "editable": true
   },
   "outputs": [],
   "source": [
    "import Data.List.Split\n",
    "import Data.List (foldl')\n",
    "\n",
    "formatted = splitOn \", \" input"
   ]
  },
  {
   "cell_type": "code",
   "execution_count": 3,
   "metadata": {
    "collapsed": false,
    "deletable": true,
    "editable": true
   },
   "outputs": [
    {
     "data": {
      "text/plain": [
       "Blocks {north = -159, east = -173}"
      ]
     },
     "metadata": {},
     "output_type": "display_data"
    },
    {
     "data": {
      "text/plain": [
       "332"
      ]
     },
     "metadata": {},
     "output_type": "display_data"
    }
   ],
   "source": [
    "data Direction = N | E | S | W deriving (Show, Eq, Enum)\n",
    "\n",
    "data Blocks = Blocks {north :: Int, east :: Int} deriving (Show, Eq, Ord)\n",
    "\n",
    "data State = State {current :: Direction, blocks :: Blocks} deriving (Show)\n",
    "\n",
    "changeDirection d ('L':_) = case d of\n",
    "    N -> W\n",
    "    E -> N\n",
    "    S -> E\n",
    "    W -> S\n",
    "changeDirection d ('R':_) = case d of\n",
    "    N -> E\n",
    "    E -> S\n",
    "    S -> W\n",
    "    W -> N\n",
    "\n",
    "move state instruction = let\n",
    "    _:n = instruction\n",
    "    i   = read n :: Int\n",
    "    d'  = changeDirection (current state) instruction\n",
    "    b   = blocks state\n",
    "    b'  = case d' of\n",
    "        N -> b {north = (north b) + i}\n",
    "        E -> b {east  = (east b)  + i}\n",
    "        S -> b {north = (north b) - i}\n",
    "        W -> b {east  = (east b)  - i}\n",
    "    in State d' b'\n",
    "\n",
    "emptyState = State N (Blocks 0 0)\n",
    "\n",
    "result = foldl' move emptyState formatted\n",
    "b = blocks result\n",
    "b\n",
    "abs (north b) + abs (east b)"
   ]
  },
  {
   "cell_type": "code",
   "execution_count": 4,
   "metadata": {
    "collapsed": false,
    "deletable": true,
    "editable": true
   },
   "outputs": [
    {
     "data": {
      "text/plain": [
       "Blocks {north = 8, east = -158}"
      ]
     },
     "metadata": {},
     "output_type": "display_data"
    },
    {
     "data": {
      "text/plain": [
       "166"
      ]
     },
     "metadata": {},
     "output_type": "display_data"
    }
   ],
   "source": [
    "import qualified Data.Set as S\n",
    "\n",
    "intermediates b direction i = let\n",
    "    steps = [1..i]\n",
    "    fn    = (\\j -> case direction of\n",
    "        N -> b {north = (north b) + j}\n",
    "        E -> b {east  = (east b)  + j}\n",
    "        S -> b {north = (north b) - j}\n",
    "        W -> b {east  = (east b)  - j})\n",
    "    in map fn steps    \n",
    "\n",
    "move' r@(se, s, Just b) _           = r\n",
    "move'   (set,state,Nothing) instruction = let\n",
    "    st' = move state instruction\n",
    "    _:n = instruction\n",
    "    i   = read n :: Int\n",
    "    is  = S.fromList (intermediates (blocks state) (current st') i)\n",
    "    int = S.intersection is set\n",
    "    d'  = if int /= S.empty then Just (S.elemAt 0 int) else Nothing \n",
    "    s'  = S.union is set\n",
    "    in (s', st', d')\n",
    "\n",
    "result = foldl' move' (S.empty, emptyState, Nothing) formatted\n",
    "(_, _,Just  d) = result\n",
    "d\n",
    "abs (north d) + abs (east d)\n"
   ]
  }
 ],
 "metadata": {
  "kernelspec": {
   "display_name": "Haskell",
   "language": "haskell",
   "name": "haskell"
  },
  "language_info": {
   "codemirror_mode": "ihaskell",
   "file_extension": ".hs",
   "name": "haskell",
   "version": "8.0.2"
  }
 },
 "nbformat": 4,
 "nbformat_minor": 0
}
