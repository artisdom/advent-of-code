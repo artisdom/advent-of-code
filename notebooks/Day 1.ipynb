{
 "cells": [
  {
   "cell_type": "code",
   "execution_count": 1,
   "metadata": {
    "collapsed": true
   },
   "outputs": [],
   "source": [
    "input = \"L4, L3, R1, L4, R2, R2, L1, L2, R1, R1, L3, R5, L2, R5, L4, L3, R2, R2, L5, L1, R4, L1, R3, L3, R5, R2, L5, R2, R1, R1, L5, R1, L3, L2, L5, R4, R4, L2, L1, L1, R1, R1, L185, R4, L1, L1, R5, R1, L1, L3, L2, L1, R2, R2, R2, L1, L1, R4, R5, R53, L1, R1, R78, R3, R4, L1, R5, L1, L4, R3, R3, L3, L3, R191, R4, R1, L4, L1, R3, L1, L2, R3, R2, R4, R5, R5, L3, L5, R2, R3, L1, L1, L3, R1, R4, R1, R3, R4, R4, R4, R5, R2, L5, R1, R2, R5, L3, L4, R1, L5, R1, L4, L3, R5, R5, L3, L4, L4, R2, R2, L5, R3, R1, R2, R5, L5, L3, R4, L5, R5, L3, R1, L1, R4, R4, L3, R2, R5, R1, R2, L1, R4, R1, L3, L3, L5, R2, R5, L1, L4, R3, R3, L3, R2, L5, R1, R3, L3, R2, L1, R4, R3, L4, R5, L2, L2, R5, R1, R2, L4, L4, L5, R3, L4\"\n"
   ]
  },
  {
   "cell_type": "code",
   "execution_count": 2,
   "metadata": {
    "collapsed": false
   },
   "outputs": [
    {
     "data": {
      "text/plain": [
       "[\"L4\",\"L3\",\"R1\",\"L4\",\"R2\",\"R2\",\"L1\",\"L2\",\"R1\",\"R1\",\"L3\",\"R5\",\"L2\",\"R5\",\"L4\",\"L3\",\"R2\",\"R2\",\"L5\",\"L1\",\"R4\",\"L1\",\"R3\",\"L3\",\"R5\",\"R2\",\"L5\",\"R2\",\"R1\",\"R1\",\"L5\",\"R1\",\"L3\",\"L2\",\"L5\",\"R4\",\"R4\",\"L2\",\"L1\",\"L1\",\"R1\",\"R1\",\"L185\",\"R4\",\"L1\",\"L1\",\"R5\",\"R1\",\"L1\",\"L3\",\"L2\",\"L1\",\"R2\",\"R2\",\"R2\",\"L1\",\"L1\",\"R4\",\"R5\",\"R53\",\"L1\",\"R1\",\"R78\",\"R3\",\"R4\",\"L1\",\"R5\",\"L1\",\"L4\",\"R3\",\"R3\",\"L3\",\"L3\",\"R191\",\"R4\",\"R1\",\"L4\",\"L1\",\"R3\",\"L1\",\"L2\",\"R3\",\"R2\",\"R4\",\"R5\",\"R5\",\"L3\",\"L5\",\"R2\",\"R3\",\"L1\",\"L1\",\"L3\",\"R1\",\"R4\",\"R1\",\"R3\",\"R4\",\"R4\",\"R4\",\"R5\",\"R2\",\"L5\",\"R1\",\"R2\",\"R5\",\"L3\",\"L4\",\"R1\",\"L5\",\"R1\",\"L4\",\"L3\",\"R5\",\"R5\",\"L3\",\"L4\",\"L4\",\"R2\",\"R2\",\"L5\",\"R3\",\"R1\",\"R2\",\"R5\",\"L5\",\"L3\",\"R4\",\"L5\",\"R5\",\"L3\",\"R1\",\"L1\",\"R4\",\"R4\",\"L3\",\"R2\",\"R5\",\"R1\",\"R2\",\"L1\",\"R4\",\"R1\",\"L3\",\"L3\",\"L5\",\"R2\",\"R5\",\"L1\",\"L4\",\"R3\",\"R3\",\"L3\",\"R2\",\"L5\",\"R1\",\"R3\",\"L3\",\"R2\",\"L1\",\"R4\",\"R3\",\"L4\",\"R5\",\"L2\",\"L2\",\"R5\",\"R1\",\"R2\",\"L4\",\"L4\",\"L5\",\"R3\",\"L4\"]"
      ]
     },
     "metadata": {},
     "output_type": "display_data"
    }
   ],
   "source": [
    "import Data.List.Split\n",
    "import Data.List (foldl')\n",
    "\n",
    "formatted = splitOn \", \" input\n",
    "\n",
    "formatted"
   ]
  },
  {
   "cell_type": "code",
   "execution_count": 3,
   "metadata": {
    "collapsed": false
   },
   "outputs": [
    {
     "data": {
      "text/plain": [
       "Blocks {north = -159, east = -173}"
      ]
     },
     "metadata": {},
     "output_type": "display_data"
    },
    {
     "data": {
      "text/plain": [
       "332"
      ]
     },
     "metadata": {},
     "output_type": "display_data"
    }
   ],
   "source": [
    "data Direction = N | E | S | W deriving (Show, Eq, Enum)\n",
    "\n",
    "data Blocks = Blocks {north :: Int, east :: Int} deriving (Show, Eq, Ord)\n",
    "\n",
    "data State = State {current :: Direction, blocks :: Blocks} deriving (Show)\n",
    "\n",
    "changeDirection d ('L':_) = case d of\n",
    "    N -> W\n",
    "    E -> N\n",
    "    S -> E\n",
    "    W -> S\n",
    "changeDirection d ('R':_) = case d of\n",
    "    N -> E\n",
    "    E -> S\n",
    "    S -> W\n",
    "    W -> N\n",
    "\n",
    "move state instruction = let\n",
    "    _:n = instruction\n",
    "    i   = read n :: Int\n",
    "    d'  = changeDirection (current state) instruction\n",
    "    b   = blocks state\n",
    "    b'  = case d' of\n",
    "        N -> b {north = (north b) + i}\n",
    "        E -> b {east  = (east b)  + i}\n",
    "        S -> b {north = (north b) - i}\n",
    "        W -> b {east  = (east b)  - i}\n",
    "    in State d' b'\n",
    "\n",
    "emptyState = State N (Blocks 0 0)\n",
    "\n",
    "result = foldl' move emptyState formatted\n",
    "b = blocks result\n",
    "b\n",
    "abs (north b) + abs (east b)"
   ]
  },
  {
   "cell_type": "code",
   "execution_count": 17,
   "metadata": {
    "collapsed": false
   },
   "outputs": [
    {
     "data": {
      "text/plain": [
       "Blocks {north = 8, east = -158}"
      ]
     },
     "metadata": {},
     "output_type": "display_data"
    },
    {
     "data": {
      "text/plain": [
       "166"
      ]
     },
     "metadata": {},
     "output_type": "display_data"
    }
   ],
   "source": [
    "import qualified Data.Set as S\n",
    "\n",
    "intermediates b direction i = let\n",
    "    steps = [1..i]\n",
    "    fn    = (\\j -> case direction of\n",
    "        N -> b {north = (north b) + j}\n",
    "        E -> b {east  = (east b)  + j}\n",
    "        S -> b {north = (north b) - j}\n",
    "        W -> b {east  = (east b)  - j})\n",
    "    in map fn steps    \n",
    "\n",
    "move' r@(se, s, Just b) _           = r\n",
    "move'   (set,state,Nothing) instruction = let\n",
    "    st' = move state instruction\n",
    "    _:n = instruction\n",
    "    i   = read n :: Int\n",
    "    is  = S.fromList (intermediates (blocks state) (current st') i)\n",
    "    int = S.intersection is set\n",
    "    d'  = if int /= S.empty then Just (S.elemAt 0 int) else Nothing \n",
    "    s'  = S.union is set\n",
    "    in (s', st', d')\n",
    "\n",
    "result = foldl' move' (S.empty, emptyState, Nothing) formatted\n",
    "(_, _,Just  d) = result\n",
    "d\n",
    "abs (north d) + abs (east d)\n"
   ]
  }
 ],
 "metadata": {
  "kernelspec": {
   "display_name": "Haskell",
   "language": "haskell",
   "name": "haskell"
  },
  "language_info": {
   "codemirror_mode": "ihaskell",
   "file_extension": ".hs",
   "name": "haskell",
   "version": "7.10.3"
  }
 },
 "nbformat": 4,
 "nbformat_minor": 0
}
