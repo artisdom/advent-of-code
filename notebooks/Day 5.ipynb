{
 "cells": [
  {
   "cell_type": "code",
   "execution_count": 1,
   "metadata": {
    "collapsed": false
   },
   "outputs": [],
   "source": [
    "{-# LANGUAGE OverloadedStrings #-}\n",
    "\n",
    "import Data.ByteArray.Encoding (convertToBase, Base(Base16))\n",
    "import Crypto.Hash (hashWith)\n",
    "import Crypto.Hash.Algorithms (MD5)\n",
    "import qualified Data.ByteString as B\n",
    "import qualified Data.ByteString.UTF8 as BU\n",
    "\n",
    "input <- B.init <$> B.readFile \"../input/day5.txt\""
   ]
  },
  {
   "cell_type": "code",
   "execution_count": 8,
   "metadata": {
    "collapsed": false
   },
   "outputs": [
    {
     "data": {
      "text/plain": [
       "\"801b56a7\""
      ]
     },
     "metadata": {},
     "output_type": "display_data"
    }
   ],
   "source": [
    "n2BS = BU.fromString . show\n",
    "\n",
    "hash :: B.ByteString -> B.ByteString\n",
    "hash input = convertToBase Base16 $ hashWith (undefined :: MD5) $ input\n",
    "\n",
    "solve input counter acc\n",
    "    | B.length acc == 8 = B.reverse acc\n",
    "    | otherwise         = let\n",
    "        input'   = input `B.append` n2BS counter\n",
    "        (c,rest) = B.splitAt 5 $ hash input'\n",
    "        in if c == BU.fromString \"00000\"\n",
    "            then solve input (counter+1) (B.cons (B.head rest) acc)\n",
    "            else solve input (counter+1) acc\n",
    "\n",
    "solve input 0 \"\""
   ]
  },
  {
   "cell_type": "code",
   "execution_count": 7,
   "metadata": {
    "collapsed": false
   },
   "outputs": [
    {
     "data": {
      "text/plain": [
       "\"424a0197\""
      ]
     },
     "metadata": {},
     "output_type": "display_data"
    }
   ],
   "source": [
    "import Data.Maybe (catMaybes)\n",
    "import Data.ByteString.Internal (c2w, w2c)\n",
    "\n",
    "updateFirst list   0 value = case (head list) of\n",
    "    Just _  -> list\n",
    "    Nothing -> (Just value) : tail list\n",
    "updateFirst (x:xs) i value = x : updateFirst xs (i-1) value\n",
    "\n",
    "solve' input counter acc\n",
    "    | length (catMaybes acc) == 8 = catMaybes acc\n",
    "    | otherwise                   = let\n",
    "        input'   = input `B.append` n2BS counter\n",
    "        (c,rest) = B.splitAt 5 $ hash input'\n",
    "        in if c == BU.fromString \"00000\"\n",
    "            then let\n",
    "                pos = w2c $ B.head rest\n",
    "                chr = w2c $ B.head $ B.tail rest\n",
    "                in if (pos `elem`  ['0'..'7'])\n",
    "                    then solve' input (counter+1) (updateFirst acc (read [pos] :: Int) chr)\n",
    "                    else solve' input (counter+1) acc\n",
    "            else solve' input (counter+1) acc\n",
    "\n",
    "solve' input 0 $ replicate 8 Nothing"
   ]
  }
 ],
 "metadata": {
  "kernelspec": {
   "display_name": "Haskell",
   "language": "haskell",
   "name": "haskell"
  },
  "language_info": {
   "codemirror_mode": "ihaskell",
   "file_extension": ".hs",
   "name": "haskell",
   "version": "7.10.3"
  }
 },
 "nbformat": 4,
 "nbformat_minor": 0
}
