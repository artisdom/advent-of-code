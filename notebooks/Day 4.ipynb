{
 "cells": [
  {
   "cell_type": "code",
   "execution_count": 1,
   "metadata": {
    "collapsed": false
   },
   "outputs": [
    {
     "data": {
      "text/plain": [
       "(\"lfdhq\",803,\"wjvzd\")"
      ]
     },
     "metadata": {},
     "output_type": "display_data"
    }
   ],
   "source": [
    "{-# LANGUAGE OverloadedStrings #-}\n",
    "\n",
    "import qualified Data.ByteString                  as B\n",
    "import           Data.ByteString.Internal (c2w, w2c)\n",
    "import qualified Data.Attoparsec.ByteString as A\n",
    "import           Data.Attoparsec.ByteString.Char8\n",
    "import           Prelude hiding (take, takeWhile)\n",
    "import           Data.List (sortBy)\n",
    "import           Data.ByteString.UTF8 (toString, fromString)\n",
    "import qualified Prelude as P\n",
    "\n",
    "countChar bs = (B.length bs, B.head bs)\n",
    "\n",
    "comparing (i, c) (j, d) = if i == j then compare c d else compare j i\n",
    "\n",
    "input <- B.readFile \"../input/day4.txt\"\n",
    "parser = do\n",
    "    chars <- B.pack . map snd . P.take 5 . sortBy comparing . map countChar . B.group . B.sort . B.filter (/=c2w '-') <$> takeWhile (not . isDigit)\n",
    "    num   <- decimal\n",
    "    char '['\n",
    "    freq  <- take 5\n",
    "    char ']'\n",
    "    return (chars, num, freq)\n",
    "\n",
    "parsed = either error id $ parseOnly (many1 (parser <* endOfLine)) input\n",
    "head parsed"
   ]
  },
  {
   "cell_type": "code",
   "execution_count": 2,
   "metadata": {
    "collapsed": false
   },
   "outputs": [
    {
     "data": {
      "text/plain": [
       "173787"
      ]
     },
     "metadata": {},
     "output_type": "display_data"
    }
   ],
   "source": [
    "sum $ map (\\(_,c,_) -> c) $ filter (\\(a,_,b) -> a == b) parsed"
   ]
  },
  {
   "cell_type": "code",
   "execution_count": 70,
   "metadata": {
    "collapsed": false
   },
   "outputs": [],
   "source": [
    "parser' = do\n",
    "    chars <- toString <$> takeWhile (not . isDigit)\n",
    "    num   <- decimal\n",
    "    char '['\n",
    "    freq  <- take 5\n",
    "    char ']'\n",
    "    return (chars, num, freq)\n",
    "\n",
    "whole = zip parsed $ either error id $ parseOnly (many1 (parser' <* endOfLine)) input"
   ]
  },
  {
   "cell_type": "code",
   "execution_count": 77,
   "metadata": {
    "collapsed": true
   },
   "outputs": [],
   "source": [
    "cleaned = map snd $ filter (\\((a,_,b),_) -> a == b) whole"
   ]
  },
  {
   "cell_type": "code",
   "execution_count": null,
   "metadata": {
    "collapsed": false
   },
   "outputs": [],
   "source": [
    "import Data.List (isInfixOf)\n",
    "\n",
    "decipher _     '-' = ' '\n",
    "decipher count ch = let\n",
    "    n  = ((fromEnum ch) - 97 + count) `mod` 26\n",
    "    in toEnum (n + 97)\n",
    "\n",
    "\n",
    "map (decipher 343) \"qzmt-zixmtkozy-ivhz\"\n",
    "filter (\\(name,_,) -> \"north\" `isInfixOf` name) $ map (\\(name,x,y) -> (map (decipher x) name, x)) cleaned"
   ]
  },
  {
   "cell_type": "code",
   "execution_count": null,
   "metadata": {
    "collapsed": true
   },
   "outputs": [],
   "source": []
  }
 ],
 "metadata": {
  "kernelspec": {
   "display_name": "Haskell",
   "language": "haskell",
   "name": "haskell"
  },
  "language_info": {
   "codemirror_mode": "ihaskell",
   "file_extension": ".hs",
   "name": "haskell",
   "version": "7.10.3"
  }
 },
 "nbformat": 4,
 "nbformat_minor": 0
}
