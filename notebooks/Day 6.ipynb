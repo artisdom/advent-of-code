{
 "cells": [
  {
   "cell_type": "code",
   "execution_count": 17,
   "metadata": {
    "collapsed": false
   },
   "outputs": [
    {
     "data": {
      "text/plain": [
       "\"bjosfbce\""
      ]
     },
     "metadata": {},
     "output_type": "display_data"
    }
   ],
   "source": [
    "import Data.List (sortOn, transpose, group, sort)\n",
    "\n",
    "input <- lines <$> readFile \"../input/day6.txt\"\n",
    "\n",
    "withCount ls = (length ls, head ls)\n",
    "\n",
    "formatted = transpose input\n",
    "\n",
    "cleaned = map (sortOn (negate . fst) . map withCount . group . sort) formatted\n",
    "\n",
    "map (snd . head) cleaned"
   ]
  },
  {
   "cell_type": "code",
   "execution_count": 19,
   "metadata": {
    "collapsed": false
   },
   "outputs": [
    {
     "data": {
      "text/plain": [
       "\"veqfxzfx\""
      ]
     },
     "metadata": {},
     "output_type": "display_data"
    }
   ],
   "source": [
    "cleaned' = map (sortOn fst . map withCount . group . sort) formatted\n",
    "map (snd . head) cleaned'"
   ]
  }
 ],
 "metadata": {
  "kernelspec": {
   "display_name": "Haskell",
   "language": "haskell",
   "name": "haskell"
  },
  "language_info": {
   "codemirror_mode": "ihaskell",
   "file_extension": ".hs",
   "name": "haskell",
   "version": "7.10.3"
  }
 },
 "nbformat": 4,
 "nbformat_minor": 0
}
